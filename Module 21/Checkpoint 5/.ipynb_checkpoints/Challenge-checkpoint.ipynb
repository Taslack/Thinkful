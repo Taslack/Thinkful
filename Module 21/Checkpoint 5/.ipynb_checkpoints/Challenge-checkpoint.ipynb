{
 "cells": [
  {
   "cell_type": "code",
   "execution_count": 121,
   "metadata": {
    "run_control": {
     "frozen": false,
     "read_only": false
    }
   },
   "outputs": [],
   "source": [
    "import numpy as np\n",
    "import pandas as pd\n",
    "import scipy\n",
    "import matplotlib.pyplot as plt\n",
    "import seaborn as sns\n",
    "from pandas_profiling.utils.cache import cache_file\n",
    "%matplotlib inline"
   ]
  },
  {
   "cell_type": "code",
   "execution_count": 122,
   "metadata": {
    "run_control": {
     "frozen": false,
     "read_only": false
    }
   },
   "outputs": [],
   "source": [
    "#raw_data = pd.read_csv('https://tf-assets-prod.s3.amazonaws.com/tf-curric/data-science/epi_r.csv')\n",
    "df = pd.read_csv('epi_r.csv')"
   ]
  },
  {
   "cell_type": "code",
   "execution_count": 123,
   "metadata": {},
   "outputs": [],
   "source": [
    "corr = np.abs(df.iloc[:,1:].corr().loc[:,'rating']).sort_values(ascending=False)"
   ]
  },
  {
   "cell_type": "code",
   "execution_count": 124,
   "metadata": {},
   "outputs": [
    {
     "data": {
      "text/plain": [
       "rating            1.000000\n",
       "drink             0.241388\n",
       "alcoholic         0.224767\n",
       "house & garden    0.217911\n",
       "gin               0.191400\n",
       "spirit            0.146625\n",
       "cocktail          0.140723\n",
       "cocktail party    0.140482\n",
       "bitters           0.137368\n",
       "bon appétit       0.124549\n",
       "harpercollins     0.105094\n",
       "peanut free       0.096087\n",
       "soy free          0.092965\n",
       "liqueur           0.090757\n",
       "rum               0.084689\n",
       "tree nut free     0.081347\n",
       "non-alcoholic     0.077476\n",
       "bake              0.076978\n",
       "condiment         0.076295\n",
       "roast             0.073499\n",
       "fall              0.067343\n",
       "sauté             0.066553\n",
       "brandy            0.065481\n",
       "fortified wine    0.063814\n",
       "pernod            0.062768\n",
       "créme de cacao    0.061670\n",
       "dinner            0.060957\n",
       "weelicious        0.060289\n",
       "chartreuse        0.059753\n",
       "kosher            0.059071\n",
       "lime juice        0.055399\n",
       "winter            0.055126\n",
       "pescatarian       0.054034\n",
       "thanksgiving      0.052990\n",
       "scotch            0.052490\n",
       "pickles           0.051942\n",
       "leftovers         0.051770\n",
       "onion             0.049997\n",
       "fruit juice       0.048767\n",
       "grill/barbecue    0.048081\n",
       "Name: rating, dtype: float64"
      ]
     },
     "execution_count": 124,
     "metadata": {},
     "output_type": "execute_result"
    }
   ],
   "source": [
    "corr[0:40]"
   ]
  },
  {
   "cell_type": "markdown",
   "metadata": {},
   "source": [
    "Looks like most a lot of the correlated data to rating are the category columns and not the ingredients columns."
   ]
  },
  {
   "cell_type": "code",
   "execution_count": 130,
   "metadata": {},
   "outputs": [],
   "source": [
    "#Taking all the correlated fields ubove 50%\n",
    "correlated = corr[1:31].index.to_list()"
   ]
  },
  {
   "cell_type": "code",
   "execution_count": 131,
   "metadata": {},
   "outputs": [
    {
     "data": {
      "text/plain": [
       "SVR(C=1.0, cache_size=200, coef0=0.0, degree=3, epsilon=0.1, gamma='scale',\n",
       "    kernel='rbf', max_iter=-1, shrinking=True, tol=0.001, verbose=False)"
      ]
     },
     "execution_count": 131,
     "metadata": {},
     "output_type": "execute_result"
    }
   ],
   "source": [
    "X = df[correlated].sample(frac=0.3, replace=True, random_state=1)\n",
    "Y = df.rating.sample(frac=0.3, replace=True, random_state=1)\n",
    "svr.fit(X,Y)"
   ]
  },
  {
   "cell_type": "code",
   "execution_count": 132,
   "metadata": {},
   "outputs": [
    {
     "data": {
      "image/png": "[encoded data removed]",
      "text/plain": [
       "<Figure size 432x288 with 1 Axes>"
      ]
     },
     "metadata": {
      "needs_background": "light"
     },
     "output_type": "display_data"
    }
   ],
   "source": [
    "plt.scatter(Y, svr.predict(X))\n",
    "plt.show()"
   ]
  },
  {
   "cell_type": "code",
   "execution_count": 133,
   "metadata": {},
   "outputs": [
    {
     "data": {
      "text/plain": [
       "0.10642819372470437"
      ]
     },
     "execution_count": 133,
     "metadata": {},
     "output_type": "execute_result"
    }
   ],
   "source": [
    "svr.score(X, Y)"
   ]
  },
  {
   "cell_type": "markdown",
   "metadata": {},
   "source": []
  },
  {
   "cell_type": "code",
   "execution_count": 134,
   "metadata": {},
   "outputs": [
    {
     "data": {
      "text/plain": [
       "array([0.10751475, 0.03470841, 0.03949991, 0.04343124, 0.04007103])"
      ]
     },
     "execution_count": 134,
     "metadata": {},
     "output_type": "execute_result"
    }
   ],
   "source": [
    "cross_val_score(svr, X, Y, cv=5)"
   ]
  },
  {
   "cell_type": "markdown",
   "metadata": {},
   "source": [
    "This is better, model could be improved with more feature engineering."
   ]
  },
  {
   "cell_type": "code",
   "execution_count": null,
   "metadata": {},
   "outputs": [],
   "source": []
  }
 ],
 "metadata": {
  "hide_input": false,
  "kernelspec": {
   "display_name": "Python 3",
   "language": "python",
   "name": "python3"
  },
  "language_info": {
   "codemirror_mode": {
    "name": "ipython",
    "version": 3
   },
   "file_extension": ".py",
   "mimetype": "text/x-python",
   "name": "python",
   "nbconvert_exporter": "python",
   "pygments_lexer": "ipython3",
   "version": "3.8.2"
  },
  "toc": {
   "colors": {
    "hover_highlight": "#DAA520",
    "running_highlight": "#FF0000",
    "selected_highlight": "#FFD700"
   },
   "moveMenuLeft": true,
   "nav_menu": {
    "height": "12px",
    "width": "252px"
   },
   "navigate_menu": true,
   "number_sections": true,
   "sideBar": true,
   "threshold": 4,
   "toc_cell": false,
   "toc_section_display": "block",
   "toc_window_display": false
  }
 },
 "nbformat": 4,
 "nbformat_minor": 4
}
