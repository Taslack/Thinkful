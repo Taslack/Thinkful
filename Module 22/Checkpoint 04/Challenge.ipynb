{
 "cells": [
  {
   "cell_type": "markdown",
   "metadata": {},
   "source": [
    "1. Predict the running times of prospective Olympic sprinters using data from the last 20 Olympics.\n",
    "- KNN, Run times are very close in values, KNN is good to utilize this feature."
   ]
  },
  {
   "cell_type": "markdown",
   "metadata": {},
   "source": [
    "2. You have more features (columns) than rows in your dataset.\n",
    "- Boosting, with more feauters but less rows modeling it over and over could improve on the accuracy."
   ]
  },
  {
   "cell_type": "markdown",
   "metadata": {},
   "source": [
    "3. Identify the most important characteristic predicting likelihood of being jailed before age 20.\n",
    "- Random Forest, Good at classification and regression problems."
   ]
  },
  {
   "cell_type": "markdown",
   "metadata": {},
   "source": [
    "4. Implement a filter to “highlight” emails that might be important to the recipient.\n",
    "- Naive Bayes, good at handling multiple variables and is fast."
   ]
  },
  {
   "cell_type": "markdown",
   "metadata": {},
   "source": [
    "5. You have 1000+ features.\n",
    "- Support Vector Classification, Its ability to handle multiple dimension of features."
   ]
  },
  {
   "cell_type": "markdown",
   "metadata": {},
   "source": [
    "6. Predict whether someone who adds items to their cart on a website will purchase the items.\n",
    "- Naive Bayes, speed and multiple variables."
   ]
  },
  {
   "cell_type": "markdown",
   "metadata": {},
   "source": [
    "7. Your dataset dimensions are 982400 x 500.\n",
    "- Boosting or SVM.  Handeling all the features with few rows."
   ]
  },
  {
   "cell_type": "markdown",
   "metadata": {},
   "source": [
    "8. Identify faces in an image.\n",
    "- SVM, flexiblity in handling all types of data."
   ]
  },
  {
   "cell_type": "markdown",
   "metadata": {},
   "source": [
    "9. Predict which of three flavors of ice cream will be most popular with boys vs girls.\n",
    "- Decision tree, great to utilize for asking questions."
   ]
  },
  {
   "cell_type": "code",
   "execution_count": null,
   "metadata": {},
   "outputs": [],
   "source": []
  }
 ],
 "metadata": {
  "kernelspec": {
   "display_name": "Python 3",
   "language": "python",
   "name": "python3"
  },
  "language_info": {
   "codemirror_mode": {
    "name": "ipython",
    "version": 3
   },
   "file_extension": ".py",
   "mimetype": "text/x-python",
   "name": "python",
   "nbconvert_exporter": "python",
   "pygments_lexer": "ipython3",
   "version": "3.8.2"
  }
 },
 "nbformat": 4,
 "nbformat_minor": 4
}
