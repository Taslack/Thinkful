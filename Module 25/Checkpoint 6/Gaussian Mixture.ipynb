{
 "cells": [
  {
   "cell_type": "code",
   "execution_count": 30,
   "metadata": {},
   "outputs": [],
   "source": [
    "import numpy as np\n",
    "import pandas as pd\n",
    "import matplotlib.pyplot as plt\n",
    "from scipy.cluster.hierarchy import dendrogram, linkage\n",
    "from sklearn.preprocessing import StandardScaler\n",
    "from sklearn.mixture import GaussianMixture\n",
    "from sklearn import metrics\n",
    "from sqlalchemy import create_engine"
   ]
  },
  {
   "cell_type": "code",
   "execution_count": 31,
   "metadata": {},
   "outputs": [],
   "source": [
    "postgres_user = 'dsbc_student'\n",
    "postgres_pw = '7*.8G9QH21'\n",
    "postgres_host = '142.93.121.174'\n",
    "postgres_port = '5432'\n",
    "postgres_db = 'heartdisease'\n",
    "\n",
    "engine = create_engine('postgresql://{}:{}@{}:{}/{}'.format(\n",
    "    postgres_user, postgres_pw, postgres_host, postgres_port, postgres_db))\n",
    "df = pd.read_sql_query('select * from heartdisease',con=engine)\n",
    "\n",
    "# closing the connection to db\n",
    "engine.dispose()"
   ]
  },
  {
   "cell_type": "code",
   "execution_count": 32,
   "metadata": {},
   "outputs": [],
   "source": [
    "# Define the features and the outcome\n",
    "X = df.iloc[:, :13]\n",
    "y = df.iloc[:, 13]\n",
    "\n",
    "# Replace missing values (marked by ?) with a 0\n",
    "X = X.replace(to_replace='?', value=0)\n",
    "\n",
    "# Binarize y so that 1 means heart disease diagnosis and 0 means no diagnosis.\n",
    "y = np.where(y > 0, 0, 1)\n",
    "\n",
    "# Standardize the data.\n",
    "X_std = StandardScaler().fit_transform(X)"
   ]
  },
  {
   "cell_type": "markdown",
   "metadata": {},
   "source": [
    "1. Apply GMM to the heart disease data by setting n_components=2. Get ARI and silhoutte scores for your solution and compare it with those of the k-means and hierarchical clustering solutions that you implemented in the assignments of the previous checkpoints. Which algorithm does perform better?"
   ]
  },
  {
   "cell_type": "code",
   "execution_count": 33,
   "metadata": {},
   "outputs": [
    {
     "name": "stdout",
     "output_type": "stream",
     "text": [
      "ARI score: 0.18389186035089963\n",
      "Silhouette score: 0.13628813153331445\n"
     ]
    }
   ],
   "source": [
    "gmm_cluster = GaussianMixture(n_components=2, random_state=123)\n",
    "\n",
    "clusters = gmm_cluster.fit_predict(X_std)\n",
    "\n",
    "print('ARI score: {}'.format(\n",
    "    metrics.adjusted_rand_score(y, clusters)))\n",
    "\n",
    "print('Silhouette score: {}'.format(\n",
    "    metrics.silhouette_score(X_std, clusters, metric='euclidean')))"
   ]
  },
  {
   "cell_type": "markdown",
   "metadata": {},
   "source": [
    "The ARI and silhouette scores are lower for GMM then for k-means."
   ]
  },
  {
   "cell_type": "markdown",
   "metadata": {},
   "source": [
    "1. GMM implementation of scikit-learn has a parameter called covariance_type. This parameter determines the type of covariance parameters to use. Specifically, there are four types you can specify:\n",
    "\n",
    "    1. full: This is the default. Each component has its own general covariance matrix.\n",
    "    2. tied: All components share the same general covariance matrix.\n",
    "    3. diag: Each component has its own diagonal covariance matrix.\n",
    "    4. spherical: Each component has its own single variance."
   ]
  },
  {
   "cell_type": "code",
   "execution_count": 34,
   "metadata": {},
   "outputs": [
    {
     "name": "stdout",
     "output_type": "stream",
     "text": [
      "ARI score with covariance_type=full: 0.18389186035089963\n",
      "Silhouette score with covariance_type=full: 0.13628813153331445\n",
      "------------------------------------------------------\n",
      "ARI score with covariance_type=tied: 0.18389186035089963\n",
      "Silhouette score with covariance_type=tied: 0.13628813153331445\n",
      "------------------------------------------------------\n",
      "ARI score with covariance_type=diag: 0.18389186035089963\n",
      "Silhouette score with covariance_type=diag: 0.13628813153331445\n",
      "------------------------------------------------------\n",
      "ARI score with covariance_type=spherical: 0.20765243525722465\n",
      "Silhouette score with covariance_type=spherical: 0.12468753110276873\n",
      "------------------------------------------------------\n"
     ]
    }
   ],
   "source": [
    "# Model for the full parameter.\n",
    "gmm_cluster = GaussianMixture(n_components=2, random_state=123, covariance_type='full')\n",
    "clusters = gmm_cluster.fit_predict(X_std)\n",
    "print('ARI score with covariance_type=full: {}'.format(metrics.adjusted_rand_score(y, clusters)))\n",
    "print('Silhouette score with covariance_type=full: {}'.format(metrics.silhouette_score(X_std, clusters, metric='euclidean')))\n",
    "print('------------------------------------------------------')\n",
    "\n",
    "# Model for the tied parameter.\n",
    "gmm_cluster = GaussianMixture(n_components=2, random_state=123, covariance_type='tied')\n",
    "clusters = gmm_cluster.fit_predict(X_std)\n",
    "print('ARI score with covariance_type=tied: {}'.format(metrics.adjusted_rand_score(y, clusters)))\n",
    "print('Silhouette score with covariance_type=tied: {}'.format(metrics.silhouette_score(X_std, clusters, metric='euclidean')))\n",
    "print('------------------------------------------------------')\n",
    "\n",
    "# Model for the diag parameter.\n",
    "gmm_cluster = GaussianMixture(n_components=2, random_state=123, covariance_type='diag')\n",
    "clusters = gmm_cluster.fit_predict(X_std)\n",
    "print('ARI score with covariance_type=diag: {}'.format(metrics.adjusted_rand_score(y, clusters)))\n",
    "print('Silhouette score with covariance_type=diag: {}'.format(metrics.silhouette_score(X_std, clusters, metric='euclidean')))\n",
    "print('------------------------------------------------------')\n",
    "\n",
    "\n",
    "# Model for the spherical parameter.\n",
    "gmm_cluster = GaussianMixture(n_components=2, random_state=123, covariance_type='spherical')\n",
    "clusters = gmm_cluster.fit_predict(X_std)\n",
    "print('ARI score with covariance_type=spherical: {}'.format( metrics.adjusted_rand_score(y, clusters)))\n",
    "print('Silhouette score with covariance_type=spherical: {}'.format(metrics.silhouette_score(X_std, clusters, metric='euclidean')))\n",
    "print('------------------------------------------------------')"
   ]
  },
  {
   "cell_type": "markdown",
   "metadata": {},
   "source": [
    "All of the models have a similar score except for spherical.  The ARI is higher then the others but the silhouette is lower."
   ]
  },
  {
   "cell_type": "code",
   "execution_count": null,
   "metadata": {},
   "outputs": [],
   "source": []
  }
 ],
 "metadata": {
  "kernelspec": {
   "display_name": "Python 3",
   "language": "python",
   "name": "python3"
  },
  "language_info": {
   "codemirror_mode": {
    "name": "ipython",
    "version": 3
   },
   "file_extension": ".py",
   "mimetype": "text/x-python",
   "name": "python",
   "nbconvert_exporter": "python",
   "pygments_lexer": "ipython3",
   "version": "3.8.2"
  }
 },
 "nbformat": 4,
 "nbformat_minor": 4
}
