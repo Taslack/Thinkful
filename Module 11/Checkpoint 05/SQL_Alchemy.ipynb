{
 "cells": [
  {
   "cell_type": "code",
   "execution_count": 21,
   "metadata": {},
   "outputs": [],
   "source": [
    "# Import the SQL ALchemy engine\n",
    "from sqlalchemy import create_engine"
   ]
  },
  {
   "cell_type": "code",
   "execution_count": 30,
   "metadata": {},
   "outputs": [],
   "source": [
    "# The database credentials\n",
    "postgres_user = 'dsbc_student'\n",
    "postgres_pw = '7*.8G9QH21'\n",
    "postgres_host = '142.93.121.174'\n",
    "postgres_port = '5432'\n",
    "postgres_db = 'dvdrentals'\n",
    "\n",
    "# Start the connection\n",
    "engine = create_engine('postgresql://{}:{}@{}:{}/{}'.format(\n",
    "    postgres_user, postgres_pw, postgres_host, postgres_port, postgres_db))"
   ]
  },
  {
   "cell_type": "markdown",
   "metadata": {},
   "source": [
    "Query to get the data to answer question 1."
   ]
  },
  {
   "cell_type": "code",
   "execution_count": 78,
   "metadata": {},
   "outputs": [],
   "source": [
    "rating_count = engine.execute('SELECT rating, COUNT(title) FROM film GROUP BY rating')\n",
    "engine.dispose()\n",
    "rating_count = rating_count.fetchall()"
   ]
  },
  {
   "cell_type": "markdown",
   "metadata": {},
   "source": [
    "Question 1 answer."
   ]
  },
  {
   "cell_type": "code",
   "execution_count": 82,
   "metadata": {},
   "outputs": [
    {
     "name": "stdout",
     "output_type": "stream",
     "text": [
      "R = 195\n",
      "NC-17 = 210\n",
      "PG = 194\n",
      "PG-13 = 223\n",
      "G = 178\n"
     ]
    }
   ],
   "source": [
    "for count in rating_count:\n",
    "    print(count[0] + ' = ' + str(count[1]))"
   ]
  },
  {
   "cell_type": "markdown",
   "metadata": {},
   "source": [
    "Querying for question 2."
   ]
  },
  {
   "cell_type": "code",
   "execution_count": 75,
   "metadata": {},
   "outputs": [],
   "source": [
    "rental_rating = engine.execute('SELECT rating, ROUND(AVG(rental_duration), 0) FROM film GROUP BY rating')\n",
    "engine.dispose()\n",
    "rental_rating = rental_rating.fetchall()"
   ]
  },
  {
   "cell_type": "markdown",
   "metadata": {},
   "source": [
    "Question 2 answer."
   ]
  },
  {
   "cell_type": "code",
   "execution_count": 77,
   "metadata": {},
   "outputs": [
    {
     "name": "stdout",
     "output_type": "stream",
     "text": [
      "R = 5\n",
      "NC-17 = 5\n",
      "PG = 5\n",
      "PG-13 = 5\n",
      "G = 5\n"
     ]
    }
   ],
   "source": [
    "for avg in rental_rating:\n",
    "    print(avg[0] + ' = ' + str(avg[1]))"
   ]
  },
  {
   "cell_type": "markdown",
   "metadata": {},
   "source": [
    "Setting the query and values for Question 3."
   ]
  },
  {
   "cell_type": "code",
   "execution_count": 114,
   "metadata": {},
   "outputs": [],
   "source": [
    "lengths = engine.execute('SELECT length FROM film')\n",
    "engine.dispose()\n",
    "lengths = lengths.fetchall()\n",
    "\n",
    "# Converting the database query into a list\n",
    "lengths = [l for (l,) in lengths]"
   ]
  },
  {
   "cell_type": "markdown",
   "metadata": {},
   "source": [
    "Answer to Question 3."
   ]
  },
  {
   "cell_type": "code",
   "execution_count": 118,
   "metadata": {},
   "outputs": [
    {
     "name": "stdout",
     "output_type": "stream",
     "text": [
      "The mean of all the movie lengths is 115.272 minutes.\n"
     ]
    }
   ],
   "source": [
    "# Defining the mean function\n",
    "def mean(l): \n",
    "    return sum(l) / len(l)\n",
    "\n",
    "# Determing the mean of all the lengths of movies\n",
    "len_mean = mean(lengths)\n",
    "print('The mean of all the movie lengths is ' + str(length_mean) + ' minutes.')"
   ]
  },
  {
   "cell_type": "markdown",
   "metadata": {},
   "source": [
    "Answer for question 4."
   ]
  },
  {
   "cell_type": "code",
   "execution_count": 124,
   "metadata": {},
   "outputs": [
    {
     "name": "stdout",
     "output_type": "stream",
     "text": [
      "The median of the movie lengths is 114 minutes.\n"
     ]
    }
   ],
   "source": [
    "def median(l):\n",
    "    sorts = sorted(l)\n",
    "    n = len(sorts)\n",
    "    if n == 0:\n",
    "        return None\n",
    "    if n % 2 == 1:\n",
    "        return sorts[n // 2]\n",
    "    else:\n",
    "        i = n // 2\n",
    "        return (sorts[i - 1] + sorts[i]) / 2\n",
    "    \n",
    "len_median = median(lengths)\n",
    "print('The median of the movie lengths is ' + str(int(len_median)) + ' minutes.')"
   ]
  },
  {
   "cell_type": "markdown",
   "metadata": {},
   "source": [
    "The answer to question 5."
   ]
  },
  {
   "cell_type": "code",
   "execution_count": 134,
   "metadata": {},
   "outputs": [
    {
     "name": "stdout",
     "output_type": "stream",
     "text": [
      "The standard deviation of the movie lengths is 40.41 minutes.\n"
     ]
    }
   ],
   "source": [
    "def stand_dev(l):\n",
    "    m = mean(l)\n",
    "    return (sum((x - m)**2 for x in l) / len(l)) ** (1/2)\n",
    "print('The standard deviation of the movie lengths is ' + str(round(stand_dev(lengths), 2)) + ' minutes.')"
   ]
  }
 ],
 "metadata": {
  "kernelspec": {
   "display_name": "Python 3",
   "language": "python",
   "name": "python3"
  },
  "language_info": {
   "codemirror_mode": {
    "name": "ipython",
    "version": 3
   },
   "file_extension": ".py",
   "mimetype": "text/x-python",
   "name": "python",
   "nbconvert_exporter": "python",
   "pygments_lexer": "ipython3",
   "version": "3.7.4"
  }
 },
 "nbformat": 4,
 "nbformat_minor": 4
}
