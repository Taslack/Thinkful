{
 "cells": [
  {
   "cell_type": "markdown",
   "metadata": {},
   "source": [
    "1) Be positive\n",
    "(98% * 0.5%) / ((0.5% * 98%) + (99.5% * 10%)) = 4.69348659004%\n",
    "2) Correctly diagnose a sufferer of Thripshaw's\n",
    "98%\n",
    "3) Correctly identify a non-sufferer of Thripshaw's\n",
    "90%\n",
    "4) Misclassify the person\n",
    "10%"
   ]
  }
 ],
 "metadata": {
  "kernelspec": {
   "display_name": "Python 3",
   "language": "python",
   "name": "python3"
  },
  "language_info": {
   "codemirror_mode": {
    "name": "ipython",
    "version": 3
   },
   "file_extension": ".py",
   "mimetype": "text/x-python",
   "name": "python",
   "nbconvert_exporter": "python",
   "pygments_lexer": "ipython3",
   "version": "3.7.4"
  }
 },
 "nbformat": 4,
 "nbformat_minor": 4
}
