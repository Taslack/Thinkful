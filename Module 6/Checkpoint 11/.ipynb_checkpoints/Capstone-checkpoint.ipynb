{
 "cells": [
  {
   "cell_type": "code",
   "execution_count": 1,
   "metadata": {},
   "outputs": [
    {
     "ename": "FileNotFoundError",
     "evalue": "[WinError 3] The system cannot find the path specified: 'thinkful/Module 6/Checkpoint 11/'",
     "output_type": "error",
     "traceback": [
      "\u001b[1;31m---------------------------------------------------------------------------\u001b[0m",
      "\u001b[1;31mFileNotFoundError\u001b[0m                         Traceback (most recent call last)",
      "\u001b[1;32m<ipython-input-1-43032eb16945>\u001b[0m in \u001b[0;36m<module>\u001b[1;34m\u001b[0m\n\u001b[0;32m      1\u001b[0m \u001b[1;32mimport\u001b[0m \u001b[0mos\u001b[0m\u001b[1;33m\u001b[0m\u001b[1;33m\u001b[0m\u001b[0m\n\u001b[1;32m----> 2\u001b[1;33m \u001b[0mos\u001b[0m\u001b[1;33m.\u001b[0m\u001b[0mchdir\u001b[0m\u001b[1;33m(\u001b[0m\u001b[1;34m'thinkful/Module 6/Checkpoint 11/'\u001b[0m\u001b[1;33m)\u001b[0m\u001b[1;33m\u001b[0m\u001b[1;33m\u001b[0m\u001b[0m\n\u001b[0m\u001b[0;32m      3\u001b[0m \u001b[0mos\u001b[0m\u001b[1;33m.\u001b[0m\u001b[0mgetcwd\u001b[0m\u001b[1;33m(\u001b[0m\u001b[1;33m)\u001b[0m\u001b[1;33m\u001b[0m\u001b[1;33m\u001b[0m\u001b[0m\n",
      "\u001b[1;31mFileNotFoundError\u001b[0m: [WinError 3] The system cannot find the path specified: 'thinkful/Module 6/Checkpoint 11/'"
     ]
    }
   ],
   "source": [
    "import os\n",
    "os.chdir('thinkful/Module 6/Checkpoint 11/')\n",
    "os.getcwd()"
   ]
  },
  {
   "cell_type": "markdown",
   "metadata": {},
   "source": [
    "We are going to look at a dataset that contains production indices of countries and continents.  It contains "
   ]
  },
  {
   "cell_type": "markdown",
   "metadata": {},
   "source": [
    "Summary of columns"
   ]
  },
  {
   "cell_type": "markdown",
   "metadata": {},
   "source": [
    "What I wanna do with the data set."
   ]
  },
  {
   "cell_type": "code",
   "execution_count": 5,
   "metadata": {},
   "outputs": [],
   "source": [
    "import pandas as pd\n",
    "#import numpy as np\n",
    "#import plotly.graph_objects as go\n",
    "#from plotly.offline import init_notebook_mode, iplot, plot\n",
    "import plotly.express as px"
   ]
  },
  {
   "cell_type": "code",
   "execution_count": 8,
   "metadata": {},
   "outputs": [
    {
     "data": {
      "application/vnd.plotly.v1+json": {
       "config": {
        "plotlyServerURL": "https://plot.ly"
       },
       "data": [
        {
         "customdata": [
          [
           1961,
           103
          ],
          [
           1962,
           106
          ],
          [
           1963,
           107
          ],
          [
           1964,
           106
          ],
          [
           1965,
           105
          ],
          [
           1966,
           102
          ],
          [
           1967,
           106
          ],
          [
           1968,
           107
          ],
          [
           1969,
           108
          ],
          [
           1970,
           110
          ],
          [
           1971,
           109
          ],
          [
           1972,
           105
          ],
          [
           1973,
           102
          ],
          [
           1974,
           106
          ],
          [
           1975,
           104
          ],
          [
           1976,
           101
          ],
          [
           1977,
           98
          ],
          [
           1978,
           97
          ],
          [
           1979,
           95
          ],
          [
           1980,
           95
          ],
          [
           1981,
           94
          ],
          [
           1982,
           92
          ],
          [
           1983,
           89
          ],
          [
           1984,
           88
          ],
          [
           1985,
           92
          ],
          [
           1986,
           93
          ],
          [
           1987,
           91
          ],
          [
           1988,
           93
          ],
          [
           1989,
           94
          ],
          [
           1990,
           94
          ],
          [
           1991,
           98
          ],
          [
           1992,
           95
          ],
          [
           1993,
           95
          ],
          [
           1994,
           95
          ],
          [
           1995,
           94
          ],
          [
           1996,
           101
          ],
          [
           1997,
           97
          ],
          [
           1998,
           99
          ],
          [
           1999,
           100
          ],
          [
           2000,
           99
          ],
          [
           2001,
           99
          ],
          [
           2002,
           100
          ],
          [
           2003,
           102
          ],
          [
           2004,
           103
          ],
          [
           2005,
           104
          ],
          [
           2006,
           106
          ],
          [
           2007,
           100
          ]
         ],
         "hoverlabel": {
          "namelength": 0
         },
         "hovertemplate": "<b>%{hovertext}</b><br><br>country_or_area=Africa<br>year=%{customdata[0]}<br>value=%{customdata[1]}",
         "hovertext": [
          "Africa",
          "Africa",
          "Africa",
          "Africa",
          "Africa",
          "Africa",
          "Africa",
          "Africa",
          "Africa",
          "Africa",
          "Africa",
          "Africa",
          "Africa",
          "Africa",
          "Africa",
          "Africa",
          "Africa",
          "Africa",
          "Africa",
          "Africa",
          "Africa",
          "Africa",
          "Africa",
          "Africa",
          "Africa",
          "Africa",
          "Africa",
          "Africa",
          "Africa",
          "Africa",
          "Africa",
          "Africa",
          "Africa",
          "Africa",
          "Africa",
          "Africa",
          "Africa",
          "Africa",
          "Africa",
          "Africa",
          "Africa",
          "Africa",
          "Africa",
          "Africa",
          "Africa",
          "Africa",
          "Africa"
         ],
         "legendgroup": "country_or_area=Africa",
         "line": {
          "color": "#636efa",
          "dash": "solid"
         },
         "mode": "lines",
         "name": "country_or_area=Africa",
         "showlegend": true,
         "type": "scatter",
         "x": [
          1961,
          1962,
          1963,
          1964,
          1965,
          1966,
          1967,
          1968,
          1969,
          1970,
          1971,
          1972,
          1973,
          1974,
          1975,
          1976,
          1977,
          1978,
          1979,
          1980,
          1981,
          1982,
          1983,
          1984,
          1985,
          1986,
          1987,
          1988,
          1989,
          1990,
          1991,
          1992,
          1993,
          1994,
          1995,
          1996,
          1997,
          1998,
          1999,
          2000,
          2001,
          2002,
          2003,
          2004,
          2005,
          2006,
          2007
         ],
         "xaxis": "x",
         "y": [
          103,
          106,
          107,
          106,
          105,
          102,
          106,
          107,
          108,
          110,
          109,
          105,
          102,
          106,
          104,
          101,
          98,
          97,
          95,
          95,
          94,
          92,
          89,
          88,
          92,
          93,
          91,
          93,
          94,
          94,
          98,
          95,
          95,
          95,
          94,
          101,
          97,
          99,
          100,
          99,
          99,
          100,
          102,
          103,
          104,
          106,
          100
         ],
         "yaxis": "y"
        },
        {
         "customdata": [
          [
           1961,
           56
          ],
          [
           1962,
           56
          ],
          [
           1963,
           57
          ],
          [
           1964,
           58
          ],
          [
           1965,
           58
          ],
          [
           1966,
           59
          ],
          [
           1967,
           60
          ],
          [
           1968,
           60
          ],
          [
           1969,
           60
          ],
          [
           1970,
           61
          ],
          [
           1971,
           61
          ],
          [
           1972,
           59
          ],
          [
           1973,
           62
          ],
          [
           1974,
           61
          ],
          [
           1975,
           62
          ],
          [
           1976,
           62
          ],
          [
           1977,
           63
          ],
          [
           1978,
           66
          ],
          [
           1979,
           65
          ],
          [
           1980,
           65
          ],
          [
           1981,
           67
          ],
          [
           1982,
           69
          ],
          [
           1983,
           72
          ],
          [
           1984,
           75
          ],
          [
           1985,
           75
          ],
          [
           1986,
           75
          ],
          [
           1987,
           75
          ],
          [
           1988,
           77
          ],
          [
           1989,
           79
          ],
          [
           1990,
           81
          ],
          [
           1991,
           81
          ],
          [
           1992,
           85
          ],
          [
           1993,
           87
          ],
          [
           1994,
           88
          ],
          [
           1995,
           91
          ],
          [
           1996,
           94
          ],
          [
           1997,
           95
          ],
          [
           1998,
           96
          ],
          [
           1999,
           98
          ],
          [
           2000,
           100
          ],
          [
           2001,
           100
          ],
          [
           2002,
           101
          ],
          [
           2003,
           103
          ],
          [
           2004,
           106
          ],
          [
           2005,
           109
          ],
          [
           2006,
           110
          ],
          [
           2007,
           112
          ]
         ],
         "hoverlabel": {
          "namelength": 0
         },
         "hovertemplate": "<b>%{hovertext}</b><br><br>country_or_area=Asia<br>year=%{customdata[0]}<br>value=%{customdata[1]}",
         "hovertext": [
          "Asia",
          "Asia",
          "Asia",
          "Asia",
          "Asia",
          "Asia",
          "Asia",
          "Asia",
          "Asia",
          "Asia",
          "Asia",
          "Asia",
          "Asia",
          "Asia",
          "Asia",
          "Asia",
          "Asia",
          "Asia",
          "Asia",
          "Asia",
          "Asia",
          "Asia",
          "Asia",
          "Asia",
          "Asia",
          "Asia",
          "Asia",
          "Asia",
          "Asia",
          "Asia",
          "Asia",
          "Asia",
          "Asia",
          "Asia",
          "Asia",
          "Asia",
          "Asia",
          "Asia",
          "Asia",
          "Asia",
          "Asia",
          "Asia",
          "Asia",
          "Asia",
          "Asia",
          "Asia",
          "Asia"
         ],
         "legendgroup": "country_or_area=Asia",
         "line": {
          "color": "#EF553B",
          "dash": "solid"
         },
         "mode": "lines",
         "name": "country_or_area=Asia",
         "showlegend": true,
         "type": "scatter",
         "x": [
          1961,
          1962,
          1963,
          1964,
          1965,
          1966,
          1967,
          1968,
          1969,
          1970,
          1971,
          1972,
          1973,
          1974,
          1975,
          1976,
          1977,
          1978,
          1979,
          1980,
          1981,
          1982,
          1983,
          1984,
          1985,
          1986,
          1987,
          1988,
          1989,
          1990,
          1991,
          1992,
          1993,
          1994,
          1995,
          1996,
          1997,
          1998,
          1999,
          2000,
          2001,
          2002,
          2003,
          2004,
          2005,
          2006,
          2007
         ],
         "xaxis": "x",
         "y": [
          56,
          56,
          57,
          58,
          58,
          59,
          60,
          60,
          60,
          61,
          61,
          59,
          62,
          61,
          62,
          62,
          63,
          66,
          65,
          65,
          67,
          69,
          72,
          75,
          75,
          75,
          75,
          77,
          79,
          81,
          81,
          85,
          87,
          88,
          91,
          94,
          95,
          96,
          98,
          100,
          100,
          101,
          103,
          106,
          109,
          110,
          112
         ],
         "yaxis": "y"
        },
        {
         "customdata": [
          [
           1961,
           89
          ],
          [
           1962,
           91
          ],
          [
           1963,
           90
          ],
          [
           1964,
           94
          ],
          [
           1965,
           93
          ],
          [
           1966,
           98
          ],
          [
           1967,
           101
          ],
          [
           1968,
           103
          ],
          [
           1969,
           100
          ],
          [
           1970,
           103
          ],
          [
           1971,
           103
          ],
          [
           1972,
           102
          ],
          [
           1973,
           110
          ],
          [
           1974,
           109
          ],
          [
           1975,
           105
          ],
          [
           1976,
           108
          ],
          [
           1977,
           108
          ],
          [
           1978,
           113
          ],
          [
           1979,
           113
          ],
          [
           1980,
           111
          ],
          [
           1981,
           108
          ],
          [
           1982,
           113
          ],
          [
           1983,
           113
          ],
          [
           1984,
           117
          ],
          [
           1985,
           114
          ],
          [
           1986,
           117
          ],
          [
           1987,
           116
          ],
          [
           1988,
           114
          ],
          [
           1989,
           116
          ],
          [
           1990,
           115
          ],
          [
           1991,
           110
          ],
          [
           1992,
           107
          ],
          [
           1993,
           106
          ],
          [
           1994,
           99
          ],
          [
           1995,
           99
          ],
          [
           1996,
           101
          ],
          [
           1997,
           101
          ],
          [
           1998,
           98
          ],
          [
           1999,
           99
          ],
          [
           2000,
           99
          ],
          [
           2001,
           100
          ],
          [
           2002,
           101
          ],
          [
           2003,
           97
          ],
          [
           2004,
           104
          ],
          [
           2005,
           101
          ],
          [
           2006,
           99
          ],
          [
           2007,
           98
          ]
         ],
         "hoverlabel": {
          "namelength": 0
         },
         "hovertemplate": "<b>%{hovertext}</b><br><br>country_or_area=Europe<br>year=%{customdata[0]}<br>value=%{customdata[1]}",
         "hovertext": [
          "Europe",
          "Europe",
          "Europe",
          "Europe",
          "Europe",
          "Europe",
          "Europe",
          "Europe",
          "Europe",
          "Europe",
          "Europe",
          "Europe",
          "Europe",
          "Europe",
          "Europe",
          "Europe",
          "Europe",
          "Europe",
          "Europe",
          "Europe",
          "Europe",
          "Europe",
          "Europe",
          "Europe",
          "Europe",
          "Europe",
          "Europe",
          "Europe",
          "Europe",
          "Europe",
          "Europe",
          "Europe",
          "Europe",
          "Europe",
          "Europe",
          "Europe",
          "Europe",
          "Europe",
          "Europe",
          "Europe",
          "Europe",
          "Europe",
          "Europe",
          "Europe",
          "Europe",
          "Europe",
          "Europe"
         ],
         "legendgroup": "country_or_area=Europe",
         "line": {
          "color": "#00cc96",
          "dash": "solid"
         },
         "mode": "lines",
         "name": "country_or_area=Europe",
         "showlegend": true,
         "type": "scatter",
         "x": [
          1961,
          1962,
          1963,
          1964,
          1965,
          1966,
          1967,
          1968,
          1969,
          1970,
          1971,
          1972,
          1973,
          1974,
          1975,
          1976,
          1977,
          1978,
          1979,
          1980,
          1981,
          1982,
          1983,
          1984,
          1985,
          1986,
          1987,
          1988,
          1989,
          1990,
          1991,
          1992,
          1993,
          1994,
          1995,
          1996,
          1997,
          1998,
          1999,
          2000,
          2001,
          2002,
          2003,
          2004,
          2005,
          2006,
          2007
         ],
         "xaxis": "x",
         "y": [
          89,
          91,
          90,
          94,
          93,
          98,
          101,
          103,
          100,
          103,
          103,
          102,
          110,
          109,
          105,
          108,
          108,
          113,
          113,
          111,
          108,
          113,
          113,
          117,
          114,
          117,
          116,
          114,
          116,
          115,
          110,
          107,
          106,
          99,
          99,
          101,
          101,
          98,
          99,
          99,
          100,
          101,
          97,
          104,
          101,
          99,
          98
         ],
         "yaxis": "y"
        },
        {
         "customdata": [
          [
           1961,
           77
          ],
          [
           1962,
           78
          ],
          [
           1963,
           80
          ],
          [
           1964,
           79
          ],
          [
           1965,
           81
          ],
          [
           1966,
           80
          ],
          [
           1967,
           81
          ],
          [
           1968,
           83
          ],
          [
           1969,
           82
          ],
          [
           1970,
           80
          ],
          [
           1971,
           86
          ],
          [
           1972,
           85
          ],
          [
           1973,
           85
          ],
          [
           1974,
           82
          ],
          [
           1975,
           87
          ],
          [
           1976,
           89
          ],
          [
           1977,
           92
          ],
          [
           1978,
           91
          ],
          [
           1979,
           94
          ],
          [
           1980,
           90
          ],
          [
           1981,
           98
          ],
          [
           1982,
           97
          ],
          [
           1983,
           83
          ],
          [
           1984,
           93
          ],
          [
           1985,
           96
          ],
          [
           1986,
           92
          ],
          [
           1987,
           91
          ],
          [
           1988,
           83
          ],
          [
           1989,
           90
          ],
          [
           1990,
           93
          ],
          [
           1991,
           91
          ],
          [
           1992,
           97
          ],
          [
           1993,
           89
          ],
          [
           1994,
           101
          ],
          [
           1995,
           93
          ],
          [
           1996,
           98
          ],
          [
           1997,
           100
          ],
          [
           1998,
           99
          ],
          [
           1999,
           100
          ],
          [
           2000,
           101
          ],
          [
           2001,
           97
          ],
          [
           2002,
           94
          ],
          [
           2003,
           97
          ],
          [
           2004,
           102
          ],
          [
           2005,
           101
          ],
          [
           2006,
           97
          ],
          [
           2007,
           100
          ]
         ],
         "hoverlabel": {
          "namelength": 0
         },
         "hovertemplate": "<b>%{hovertext}</b><br><br>country_or_area=Northern America<br>year=%{customdata[0]}<br>value=%{customdata[1]}",
         "hovertext": [
          "Northern America",
          "Northern America",
          "Northern America",
          "Northern America",
          "Northern America",
          "Northern America",
          "Northern America",
          "Northern America",
          "Northern America",
          "Northern America",
          "Northern America",
          "Northern America",
          "Northern America",
          "Northern America",
          "Northern America",
          "Northern America",
          "Northern America",
          "Northern America",
          "Northern America",
          "Northern America",
          "Northern America",
          "Northern America",
          "Northern America",
          "Northern America",
          "Northern America",
          "Northern America",
          "Northern America",
          "Northern America",
          "Northern America",
          "Northern America",
          "Northern America",
          "Northern America",
          "Northern America",
          "Northern America",
          "Northern America",
          "Northern America",
          "Northern America",
          "Northern America",
          "Northern America",
          "Northern America",
          "Northern America",
          "Northern America",
          "Northern America",
          "Northern America",
          "Northern America",
          "Northern America",
          "Northern America"
         ],
         "legendgroup": "country_or_area=Northern America",
         "line": {
          "color": "#ab63fa",
          "dash": "solid"
         },
         "mode": "lines",
         "name": "country_or_area=Northern America",
         "showlegend": true,
         "type": "scatter",
         "x": [
          1961,
          1962,
          1963,
          1964,
          1965,
          1966,
          1967,
          1968,
          1969,
          1970,
          1971,
          1972,
          1973,
          1974,
          1975,
          1976,
          1977,
          1978,
          1979,
          1980,
          1981,
          1982,
          1983,
          1984,
          1985,
          1986,
          1987,
          1988,
          1989,
          1990,
          1991,
          1992,
          1993,
          1994,
          1995,
          1996,
          1997,
          1998,
          1999,
          2000,
          2001,
          2002,
          2003,
          2004,
          2005,
          2006,
          2007
         ],
         "xaxis": "x",
         "y": [
          77,
          78,
          80,
          79,
          81,
          80,
          81,
          83,
          82,
          80,
          86,
          85,
          85,
          82,
          87,
          89,
          92,
          91,
          94,
          90,
          98,
          97,
          83,
          93,
          96,
          92,
          91,
          83,
          90,
          93,
          91,
          97,
          89,
          101,
          93,
          98,
          100,
          99,
          100,
          101,
          97,
          94,
          97,
          102,
          101,
          97,
          100
         ],
         "yaxis": "y"
        },
        {
         "customdata": [
          [
           1961,
           91
          ],
          [
           1962,
           98
          ],
          [
           1963,
           99
          ],
          [
           1964,
           102
          ],
          [
           1965,
           97
          ],
          [
           1966,
           102
          ],
          [
           1967,
           95
          ],
          [
           1968,
           104
          ],
          [
           1969,
           101
          ],
          [
           1970,
           101
          ],
          [
           1971,
           102
          ],
          [
           1972,
           102
          ],
          [
           1973,
           104
          ],
          [
           1974,
           95
          ],
          [
           1975,
           101
          ],
          [
           1976,
           105
          ],
          [
           1977,
           102
          ],
          [
           1978,
           110
          ],
          [
           1979,
           106
          ],
          [
           1980,
           98
          ],
          [
           1981,
           102
          ],
          [
           1982,
           95
          ],
          [
           1983,
           107
          ],
          [
           1984,
           103
          ],
          [
           1985,
           104
          ],
          [
           1986,
           103
          ],
          [
           1987,
           100
          ],
          [
           1988,
           102
          ],
          [
           1989,
           100
          ],
          [
           1990,
           101
          ],
          [
           1991,
           99
          ],
          [
           1992,
           103
          ],
          [
           1993,
           103
          ],
          [
           1994,
           98
          ],
          [
           1995,
           104
          ],
          [
           1996,
           111
          ],
          [
           1997,
           94
          ],
          [
           1998,
           97
          ],
          [
           1999,
           99
          ],
          [
           2000,
           99
          ],
          [
           2001,
           101
          ],
          [
           2002,
           86
          ],
          [
           2003,
           96
          ],
          [
           2004,
           92
          ],
          [
           2005,
           96
          ],
          [
           2006,
           83
          ],
          [
           2007,
           81
          ]
         ],
         "hoverlabel": {
          "namelength": 0
         },
         "hovertemplate": "<b>%{hovertext}</b><br><br>country_or_area=Oceania<br>year=%{customdata[0]}<br>value=%{customdata[1]}",
         "hovertext": [
          "Oceania",
          "Oceania",
          "Oceania",
          "Oceania",
          "Oceania",
          "Oceania",
          "Oceania",
          "Oceania",
          "Oceania",
          "Oceania",
          "Oceania",
          "Oceania",
          "Oceania",
          "Oceania",
          "Oceania",
          "Oceania",
          "Oceania",
          "Oceania",
          "Oceania",
          "Oceania",
          "Oceania",
          "Oceania",
          "Oceania",
          "Oceania",
          "Oceania",
          "Oceania",
          "Oceania",
          "Oceania",
          "Oceania",
          "Oceania",
          "Oceania",
          "Oceania",
          "Oceania",
          "Oceania",
          "Oceania",
          "Oceania",
          "Oceania",
          "Oceania",
          "Oceania",
          "Oceania",
          "Oceania",
          "Oceania",
          "Oceania",
          "Oceania",
          "Oceania",
          "Oceania",
          "Oceania"
         ],
         "legendgroup": "country_or_area=Oceania",
         "line": {
          "color": "#FFA15A",
          "dash": "solid"
         },
         "mode": "lines",
         "name": "country_or_area=Oceania",
         "showlegend": true,
         "type": "scatter",
         "x": [
          1961,
          1962,
          1963,
          1964,
          1965,
          1966,
          1967,
          1968,
          1969,
          1970,
          1971,
          1972,
          1973,
          1974,
          1975,
          1976,
          1977,
          1978,
          1979,
          1980,
          1981,
          1982,
          1983,
          1984,
          1985,
          1986,
          1987,
          1988,
          1989,
          1990,
          1991,
          1992,
          1993,
          1994,
          1995,
          1996,
          1997,
          1998,
          1999,
          2000,
          2001,
          2002,
          2003,
          2004,
          2005,
          2006,
          2007
         ],
         "xaxis": "x",
         "y": [
          91,
          98,
          99,
          102,
          97,
          102,
          95,
          104,
          101,
          101,
          102,
          102,
          104,
          95,
          101,
          105,
          102,
          110,
          106,
          98,
          102,
          95,
          107,
          103,
          104,
          103,
          100,
          102,
          100,
          101,
          99,
          103,
          103,
          98,
          104,
          111,
          94,
          97,
          99,
          99,
          101,
          86,
          96,
          92,
          96,
          83,
          81
         ],
         "yaxis": "y"
        },
        {
         "customdata": [
          [
           1961,
           71
          ],
          [
           1962,
           72
          ],
          [
           1963,
           73
          ],
          [
           1964,
           71
          ],
          [
           1965,
           73
          ],
          [
           1966,
           72
          ],
          [
           1967,
           74
          ],
          [
           1968,
           73
          ],
          [
           1969,
           74
          ],
          [
           1970,
           74
          ],
          [
           1971,
           72
          ],
          [
           1972,
           72
          ],
          [
           1973,
           71
          ],
          [
           1974,
           74
          ],
          [
           1975,
           75
          ],
          [
           1976,
           77
          ],
          [
           1977,
           78
          ],
          [
           1978,
           77
          ],
          [
           1979,
           78
          ],
          [
           1980,
           79
          ],
          [
           1981,
           81
          ],
          [
           1982,
           81
          ],
          [
           1983,
           78
          ],
          [
           1984,
           80
          ],
          [
           1985,
           82
          ],
          [
           1986,
           80
          ],
          [
           1987,
           82
          ],
          [
           1988,
           84
          ],
          [
           1989,
           84
          ],
          [
           1990,
           83
          ],
          [
           1991,
           85
          ],
          [
           1992,
           86
          ],
          [
           1993,
           85
          ],
          [
           1994,
           89
          ],
          [
           1995,
           93
          ],
          [
           1996,
           92
          ],
          [
           1997,
           94
          ],
          [
           1998,
           94
          ],
          [
           1999,
           98
          ],
          [
           2000,
           99
          ],
          [
           2001,
           101
          ],
          [
           2002,
           104
          ],
          [
           2003,
           108
          ],
          [
           2004,
           111
          ],
          [
           2005,
           114
          ],
          [
           2006,
           111
          ],
          [
           2007,
           116
          ]
         ],
         "hoverlabel": {
          "namelength": 0
         },
         "hovertemplate": "<b>%{hovertext}</b><br><br>country_or_area=South America<br>year=%{customdata[0]}<br>value=%{customdata[1]}",
         "hovertext": [
          "South America",
          "South America",
          "South America",
          "South America",
          "South America",
          "South America",
          "South America",
          "South America",
          "South America",
          "South America",
          "South America",
          "South America",
          "South America",
          "South America",
          "South America",
          "South America",
          "South America",
          "South America",
          "South America",
          "South America",
          "South America",
          "South America",
          "South America",
          "South America",
          "South America",
          "South America",
          "South America",
          "South America",
          "South America",
          "South America",
          "South America",
          "South America",
          "South America",
          "South America",
          "South America",
          "South America",
          "South America",
          "South America",
          "South America",
          "South America",
          "South America",
          "South America",
          "South America",
          "South America",
          "South America",
          "South America",
          "South America"
         ],
         "legendgroup": "country_or_area=South America",
         "line": {
          "color": "#19d3f3",
          "dash": "solid"
         },
         "mode": "lines",
         "name": "country_or_area=South America",
         "showlegend": true,
         "type": "scatter",
         "x": [
          1961,
          1962,
          1963,
          1964,
          1965,
          1966,
          1967,
          1968,
          1969,
          1970,
          1971,
          1972,
          1973,
          1974,
          1975,
          1976,
          1977,
          1978,
          1979,
          1980,
          1981,
          1982,
          1983,
          1984,
          1985,
          1986,
          1987,
          1988,
          1989,
          1990,
          1991,
          1992,
          1993,
          1994,
          1995,
          1996,
          1997,
          1998,
          1999,
          2000,
          2001,
          2002,
          2003,
          2004,
          2005,
          2006,
          2007
         ],
         "xaxis": "x",
         "y": [
          71,
          72,
          73,
          71,
          73,
          72,
          74,
          73,
          74,
          74,
          72,
          72,
          71,
          74,
          75,
          77,
          78,
          77,
          78,
          79,
          81,
          81,
          78,
          80,
          82,
          80,
          82,
          84,
          84,
          83,
          85,
          86,
          85,
          89,
          93,
          92,
          94,
          94,
          98,
          99,
          101,
          104,
          108,
          111,
          114,
          111,
          116
         ],
         "yaxis": "y"
        }
       ],
       "layout": {
        "autosize": true,
        "legend": {
         "tracegroupgap": 0
        },
        "template": {
         "data": {
          "bar": [
           {
            "error_x": {
             "color": "#2a3f5f"
            },
            "error_y": {
             "color": "#2a3f5f"
            },
            "marker": {
             "line": {
              "color": "#E5ECF6",
              "width": 0.5
             }
            },
            "type": "bar"
           }
          ],
          "barpolar": [
           {
            "marker": {
             "line": {
              "color": "#E5ECF6",
              "width": 0.5
             }
            },
            "type": "barpolar"
           }
          ],
          "carpet": [
           {
            "aaxis": {
             "endlinecolor": "#2a3f5f",
             "gridcolor": "white",
             "linecolor": "white",
             "minorgridcolor": "white",
             "startlinecolor": "#2a3f5f"
            },
            "baxis": {
             "endlinecolor": "#2a3f5f",
             "gridcolor": "white",
             "linecolor": "white",
             "minorgridcolor": "white",
             "startlinecolor": "#2a3f5f"
            },
            "type": "carpet"
           }
          ],
          "choropleth": [
           {
            "colorbar": {
             "outlinewidth": 0,
             "ticks": ""
            },
            "type": "choropleth"
           }
          ],
          "contour": [
           {
            "colorbar": {
             "outlinewidth": 0,
             "ticks": ""
            },
            "colorscale": [
             [
              0,
              "#0d0887"
             ],
             [
              0.1111111111111111,
              "#46039f"
             ],
             [
              0.2222222222222222,
              "#7201a8"
             ],
             [
              0.3333333333333333,
              "#9c179e"
             ],
             [
              0.4444444444444444,
              "#bd3786"
             ],
             [
              0.5555555555555556,
              "#d8576b"
             ],
             [
              0.6666666666666666,
              "#ed7953"
             ],
             [
              0.7777777777777778,
              "#fb9f3a"
             ],
             [
              0.8888888888888888,
              "#fdca26"
             ],
             [
              1,
              "#f0f921"
             ]
            ],
            "type": "contour"
           }
          ],
          "contourcarpet": [
           {
            "colorbar": {
             "outlinewidth": 0,
             "ticks": ""
            },
            "type": "contourcarpet"
           }
          ],
          "heatmap": [
           {
            "colorbar": {
             "outlinewidth": 0,
             "ticks": ""
            },
            "colorscale": [
             [
              0,
              "#0d0887"
             ],
             [
              0.1111111111111111,
              "#46039f"
             ],
             [
              0.2222222222222222,
              "#7201a8"
             ],
             [
              0.3333333333333333,
              "#9c179e"
             ],
             [
              0.4444444444444444,
              "#bd3786"
             ],
             [
              0.5555555555555556,
              "#d8576b"
             ],
             [
              0.6666666666666666,
              "#ed7953"
             ],
             [
              0.7777777777777778,
              "#fb9f3a"
             ],
             [
              0.8888888888888888,
              "#fdca26"
             ],
             [
              1,
              "#f0f921"
             ]
            ],
            "type": "heatmap"
           }
          ],
          "heatmapgl": [
           {
            "colorbar": {
             "outlinewidth": 0,
             "ticks": ""
            },
            "colorscale": [
             [
              0,
              "#0d0887"
             ],
             [
              0.1111111111111111,
              "#46039f"
             ],
             [
              0.2222222222222222,
              "#7201a8"
             ],
             [
              0.3333333333333333,
              "#9c179e"
             ],
             [
              0.4444444444444444,
              "#bd3786"
             ],
             [
              0.5555555555555556,
              "#d8576b"
             ],
             [
              0.6666666666666666,
              "#ed7953"
             ],
             [
              0.7777777777777778,
              "#fb9f3a"
             ],
             [
              0.8888888888888888,
              "#fdca26"
             ],
             [
              1,
              "#f0f921"
             ]
            ],
            "type": "heatmapgl"
           }
          ],
          "histogram": [
           {
            "marker": {
             "colorbar": {
              "outlinewidth": 0,
              "ticks": ""
             }
            },
            "type": "histogram"
           }
          ],
          "histogram2d": [
           {
            "colorbar": {
             "outlinewidth": 0,
             "ticks": ""
            },
            "colorscale": [
             [
              0,
              "#0d0887"
             ],
             [
              0.1111111111111111,
              "#46039f"
             ],
             [
              0.2222222222222222,
              "#7201a8"
             ],
             [
              0.3333333333333333,
              "#9c179e"
             ],
             [
              0.4444444444444444,
              "#bd3786"
             ],
             [
              0.5555555555555556,
              "#d8576b"
             ],
             [
              0.6666666666666666,
              "#ed7953"
             ],
             [
              0.7777777777777778,
              "#fb9f3a"
             ],
             [
              0.8888888888888888,
              "#fdca26"
             ],
             [
              1,
              "#f0f921"
             ]
            ],
            "type": "histogram2d"
           }
          ],
          "histogram2dcontour": [
           {
            "colorbar": {
             "outlinewidth": 0,
             "ticks": ""
            },
            "colorscale": [
             [
              0,
              "#0d0887"
             ],
             [
              0.1111111111111111,
              "#46039f"
             ],
             [
              0.2222222222222222,
              "#7201a8"
             ],
             [
              0.3333333333333333,
              "#9c179e"
             ],
             [
              0.4444444444444444,
              "#bd3786"
             ],
             [
              0.5555555555555556,
              "#d8576b"
             ],
             [
              0.6666666666666666,
              "#ed7953"
             ],
             [
              0.7777777777777778,
              "#fb9f3a"
             ],
             [
              0.8888888888888888,
              "#fdca26"
             ],
             [
              1,
              "#f0f921"
             ]
            ],
            "type": "histogram2dcontour"
           }
          ],
          "mesh3d": [
           {
            "colorbar": {
             "outlinewidth": 0,
             "ticks": ""
            },
            "type": "mesh3d"
           }
          ],
          "parcoords": [
           {
            "line": {
             "colorbar": {
              "outlinewidth": 0,
              "ticks": ""
             }
            },
            "type": "parcoords"
           }
          ],
          "scatter": [
           {
            "marker": {
             "colorbar": {
              "outlinewidth": 0,
              "ticks": ""
             }
            },
            "type": "scatter"
           }
          ],
          "scatter3d": [
           {
            "line": {
             "colorbar": {
              "outlinewidth": 0,
              "ticks": ""
             }
            },
            "marker": {
             "colorbar": {
              "outlinewidth": 0,
              "ticks": ""
             }
            },
            "type": "scatter3d"
           }
          ],
          "scattercarpet": [
           {
            "marker": {
             "colorbar": {
              "outlinewidth": 0,
              "ticks": ""
             }
            },
            "type": "scattercarpet"
           }
          ],
          "scattergeo": [
           {
            "marker": {
             "colorbar": {
              "outlinewidth": 0,
              "ticks": ""
             }
            },
            "type": "scattergeo"
           }
          ],
          "scattergl": [
           {
            "marker": {
             "colorbar": {
              "outlinewidth": 0,
              "ticks": ""
             }
            },
            "type": "scattergl"
           }
          ],
          "scattermapbox": [
           {
            "marker": {
             "colorbar": {
              "outlinewidth": 0,
              "ticks": ""
             }
            },
            "type": "scattermapbox"
           }
          ],
          "scatterpolar": [
           {
            "marker": {
             "colorbar": {
              "outlinewidth": 0,
              "ticks": ""
             }
            },
            "type": "scatterpolar"
           }
          ],
          "scatterpolargl": [
           {
            "marker": {
             "colorbar": {
              "outlinewidth": 0,
              "ticks": ""
             }
            },
            "type": "scatterpolargl"
           }
          ],
          "scatterternary": [
           {
            "marker": {
             "colorbar": {
              "outlinewidth": 0,
              "ticks": ""
             }
            },
            "type": "scatterternary"
           }
          ],
          "surface": [
           {
            "colorbar": {
             "outlinewidth": 0,
             "ticks": ""
            },
            "colorscale": [
             [
              0,
              "#0d0887"
             ],
             [
              0.1111111111111111,
              "#46039f"
             ],
             [
              0.2222222222222222,
              "#7201a8"
             ],
             [
              0.3333333333333333,
              "#9c179e"
             ],
             [
              0.4444444444444444,
              "#bd3786"
             ],
             [
              0.5555555555555556,
              "#d8576b"
             ],
             [
              0.6666666666666666,
              "#ed7953"
             ],
             [
              0.7777777777777778,
              "#fb9f3a"
             ],
             [
              0.8888888888888888,
              "#fdca26"
             ],
             [
              1,
              "#f0f921"
             ]
            ],
            "type": "surface"
           }
          ],
          "table": [
           {
            "cells": {
             "fill": {
              "color": "#EBF0F8"
             },
             "line": {
              "color": "white"
             }
            },
            "header": {
             "fill": {
              "color": "#C8D4E3"
             },
             "line": {
              "color": "white"
             }
            },
            "type": "table"
           }
          ]
         },
         "layout": {
          "annotationdefaults": {
           "arrowcolor": "#2a3f5f",
           "arrowhead": 0,
           "arrowwidth": 1
          },
          "colorscale": {
           "diverging": [
            [
             0,
             "#8e0152"
            ],
            [
             0.1,
             "#c51b7d"
            ],
            [
             0.2,
             "#de77ae"
            ],
            [
             0.3,
             "#f1b6da"
            ],
            [
             0.4,
             "#fde0ef"
            ],
            [
             0.5,
             "#f7f7f7"
            ],
            [
             0.6,
             "#e6f5d0"
            ],
            [
             0.7,
             "#b8e186"
            ],
            [
             0.8,
             "#7fbc41"
            ],
            [
             0.9,
             "#4d9221"
            ],
            [
             1,
             "#276419"
            ]
           ],
           "sequential": [
            [
             0,
             "#0d0887"
            ],
            [
             0.1111111111111111,
             "#46039f"
            ],
            [
             0.2222222222222222,
             "#7201a8"
            ],
            [
             0.3333333333333333,
             "#9c179e"
            ],
            [
             0.4444444444444444,
             "#bd3786"
            ],
            [
             0.5555555555555556,
             "#d8576b"
            ],
            [
             0.6666666666666666,
             "#ed7953"
            ],
            [
             0.7777777777777778,
             "#fb9f3a"
            ],
            [
             0.8888888888888888,
             "#fdca26"
            ],
            [
             1,
             "#f0f921"
            ]
           ],
           "sequentialminus": [
            [
             0,
             "#0d0887"
            ],
            [
             0.1111111111111111,
             "#46039f"
            ],
            [
             0.2222222222222222,
             "#7201a8"
            ],
            [
             0.3333333333333333,
             "#9c179e"
            ],
            [
             0.4444444444444444,
             "#bd3786"
            ],
            [
             0.5555555555555556,
             "#d8576b"
            ],
            [
             0.6666666666666666,
             "#ed7953"
            ],
            [
             0.7777777777777778,
             "#fb9f3a"
            ],
            [
             0.8888888888888888,
             "#fdca26"
            ],
            [
             1,
             "#f0f921"
            ]
           ]
          },
          "colorway": [
           "#636efa",
           "#EF553B",
           "#00cc96",
           "#ab63fa",
           "#FFA15A",
           "#19d3f3",
           "#FF6692",
           "#B6E880",
           "#FF97FF",
           "#FECB52"
          ],
          "font": {
           "color": "#2a3f5f"
          },
          "geo": {
           "bgcolor": "white",
           "lakecolor": "white",
           "landcolor": "#E5ECF6",
           "showlakes": true,
           "showland": true,
           "subunitcolor": "white"
          },
          "hoverlabel": {
           "align": "left"
          },
          "hovermode": "closest",
          "mapbox": {
           "style": "light"
          },
          "paper_bgcolor": "white",
          "plot_bgcolor": "#E5ECF6",
          "polar": {
           "angularaxis": {
            "gridcolor": "white",
            "linecolor": "white",
            "ticks": ""
           },
           "bgcolor": "#E5ECF6",
           "radialaxis": {
            "gridcolor": "white",
            "linecolor": "white",
            "ticks": ""
           }
          },
          "scene": {
           "xaxis": {
            "backgroundcolor": "#E5ECF6",
            "gridcolor": "white",
            "gridwidth": 2,
            "linecolor": "white",
            "showbackground": true,
            "ticks": "",
            "zerolinecolor": "white"
           },
           "yaxis": {
            "backgroundcolor": "#E5ECF6",
            "gridcolor": "white",
            "gridwidth": 2,
            "linecolor": "white",
            "showbackground": true,
            "ticks": "",
            "zerolinecolor": "white"
           },
           "zaxis": {
            "backgroundcolor": "#E5ECF6",
            "gridcolor": "white",
            "gridwidth": 2,
            "linecolor": "white",
            "showbackground": true,
            "ticks": "",
            "zerolinecolor": "white"
           }
          },
          "shapedefaults": {
           "line": {
            "color": "#2a3f5f"
           }
          },
          "ternary": {
           "aaxis": {
            "gridcolor": "white",
            "linecolor": "white",
            "ticks": ""
           },
           "baxis": {
            "gridcolor": "white",
            "linecolor": "white",
            "ticks": ""
           },
           "bgcolor": "#E5ECF6",
           "caxis": {
            "gridcolor": "white",
            "linecolor": "white",
            "ticks": ""
           }
          },
          "title": {
           "x": 0.05
          },
          "xaxis": {
           "automargin": true,
           "gridcolor": "white",
           "linecolor": "white",
           "ticks": "",
           "zerolinecolor": "white",
           "zerolinewidth": 2
          },
          "yaxis": {
           "automargin": true,
           "gridcolor": "white",
           "linecolor": "white",
           "ticks": "",
           "zerolinecolor": "white",
           "zerolinewidth": 2
          }
         }
        },
        "title": {
         "text": "Production by Continent"
        },
        "xaxis": {
         "anchor": "y",
         "autorange": true,
         "domain": [
          0,
          0.98
         ],
         "range": [
          1961,
          2007
         ],
         "title": {
          "text": "year"
         },
         "type": "linear"
        },
        "yaxis": {
         "anchor": "x",
         "autorange": true,
         "domain": [
          0,
          1
         ],
         "range": [
          52.611111111111114,
          120.38888888888889
         ],
         "title": {
          "text": "value"
         },
         "type": "linear"
        }
       }
      },
      "image/png": "[encoded data removed]",
      "text/html": [
       "<div>\n",
       "        \n",
       "        \n",
       "            <div id=\"27c74dbc-778b-4e84-a2eb-545ad30e2187\" class=\"plotly-graph-div\" style=\"height:600px; width:100%;\"></div>\n",
       "            <script type=\"text/javascript\">\n",
       "                require([\"plotly\"], function(Plotly) {\n",
       "                    window.PLOTLYENV=window.PLOTLYENV || {};\n",
       "                    \n",
       "                if (document.getElementById(\"27c74dbc-778b-4e84-a2eb-545ad30e2187\")) {\n",
       "                    Plotly.newPlot(\n",
       "                        '27c74dbc-778b-4e84-a2eb-545ad30e2187',\n",
       "                        [{\"customdata\": [[1961.0, 103.0], [1962.0, 106.0], [1963.0, 107.0], [1964.0, 106.0], [1965.0, 105.0], [1966.0, 102.0], [1967.0, 106.0], [1968.0, 107.0], [1969.0, 108.0], [1970.0, 110.0], [1971.0, 109.0], [1972.0, 105.0], [1973.0, 102.0], [1974.0, 106.0], [1975.0, 104.0], [1976.0, 101.0], [1977.0, 98.0], [1978.0, 97.0], [1979.0, 95.0], [1980.0, 95.0], [1981.0, 94.0], [1982.0, 92.0], [1983.0, 89.0], [1984.0, 88.0], [1985.0, 92.0], [1986.0, 93.0], [1987.0, 91.0], [1988.0, 93.0], [1989.0, 94.0], [1990.0, 94.0], [1991.0, 98.0], [1992.0, 95.0], [1993.0, 95.0], [1994.0, 95.0], [1995.0, 94.0], [1996.0, 101.0], [1997.0, 97.0], [1998.0, 99.0], [1999.0, 100.0], [2000.0, 99.0], [2001.0, 99.0], [2002.0, 100.0], [2003.0, 102.0], [2004.0, 103.0], [2005.0, 104.0], [2006.0, 106.0], [2007.0, 100.0]], \"hoverlabel\": {\"namelength\": 0}, \"hovertemplate\": \"<b>%{hovertext}</b><br><br>country_or_area=Africa<br>year=%{customdata[0]}<br>value=%{customdata[1]}\", \"hovertext\": [\"Africa\", \"Africa\", \"Africa\", \"Africa\", \"Africa\", \"Africa\", \"Africa\", \"Africa\", \"Africa\", \"Africa\", \"Africa\", \"Africa\", \"Africa\", \"Africa\", \"Africa\", \"Africa\", \"Africa\", \"Africa\", \"Africa\", \"Africa\", \"Africa\", \"Africa\", \"Africa\", \"Africa\", \"Africa\", \"Africa\", \"Africa\", \"Africa\", \"Africa\", \"Africa\", \"Africa\", \"Africa\", \"Africa\", \"Africa\", \"Africa\", \"Africa\", \"Africa\", \"Africa\", \"Africa\", \"Africa\", \"Africa\", \"Africa\", \"Africa\", \"Africa\", \"Africa\", \"Africa\", \"Africa\"], \"legendgroup\": \"country_or_area=Africa\", \"line\": {\"color\": \"#636efa\", \"dash\": \"solid\"}, \"mode\": \"lines\", \"name\": \"country_or_area=Africa\", \"showlegend\": true, \"type\": \"scatter\", \"x\": [1961.0, 1962.0, 1963.0, 1964.0, 1965.0, 1966.0, 1967.0, 1968.0, 1969.0, 1970.0, 1971.0, 1972.0, 1973.0, 1974.0, 1975.0, 1976.0, 1977.0, 1978.0, 1979.0, 1980.0, 1981.0, 1982.0, 1983.0, 1984.0, 1985.0, 1986.0, 1987.0, 1988.0, 1989.0, 1990.0, 1991.0, 1992.0, 1993.0, 1994.0, 1995.0, 1996.0, 1997.0, 1998.0, 1999.0, 2000.0, 2001.0, 2002.0, 2003.0, 2004.0, 2005.0, 2006.0, 2007.0], \"xaxis\": \"x\", \"y\": [103.0, 106.0, 107.0, 106.0, 105.0, 102.0, 106.0, 107.0, 108.0, 110.0, 109.0, 105.0, 102.0, 106.0, 104.0, 101.0, 98.0, 97.0, 95.0, 95.0, 94.0, 92.0, 89.0, 88.0, 92.0, 93.0, 91.0, 93.0, 94.0, 94.0, 98.0, 95.0, 95.0, 95.0, 94.0, 101.0, 97.0, 99.0, 100.0, 99.0, 99.0, 100.0, 102.0, 103.0, 104.0, 106.0, 100.0], \"yaxis\": \"y\"}, {\"customdata\": [[1961.0, 56.0], [1962.0, 56.0], [1963.0, 57.0], [1964.0, 58.0], [1965.0, 58.0], [1966.0, 59.0], [1967.0, 60.0], [1968.0, 60.0], [1969.0, 60.0], [1970.0, 61.0], [1971.0, 61.0], [1972.0, 59.0], [1973.0, 62.0], [1974.0, 61.0], [1975.0, 62.0], [1976.0, 62.0], [1977.0, 63.0], [1978.0, 66.0], [1979.0, 65.0], [1980.0, 65.0], [1981.0, 67.0], [1982.0, 69.0], [1983.0, 72.0], [1984.0, 75.0], [1985.0, 75.0], [1986.0, 75.0], [1987.0, 75.0], [1988.0, 77.0], [1989.0, 79.0], [1990.0, 81.0], [1991.0, 81.0], [1992.0, 85.0], [1993.0, 87.0], [1994.0, 88.0], [1995.0, 91.0], [1996.0, 94.0], [1997.0, 95.0], [1998.0, 96.0], [1999.0, 98.0], [2000.0, 100.0], [2001.0, 100.0], [2002.0, 101.0], [2003.0, 103.0], [2004.0, 106.0], [2005.0, 109.0], [2006.0, 110.0], [2007.0, 112.0]], \"hoverlabel\": {\"namelength\": 0}, \"hovertemplate\": \"<b>%{hovertext}</b><br><br>country_or_area=Asia<br>year=%{customdata[0]}<br>value=%{customdata[1]}\", \"hovertext\": [\"Asia\", \"Asia\", \"Asia\", \"Asia\", \"Asia\", \"Asia\", \"Asia\", \"Asia\", \"Asia\", \"Asia\", \"Asia\", \"Asia\", \"Asia\", \"Asia\", \"Asia\", \"Asia\", \"Asia\", \"Asia\", \"Asia\", \"Asia\", \"Asia\", \"Asia\", \"Asia\", \"Asia\", \"Asia\", \"Asia\", \"Asia\", \"Asia\", \"Asia\", \"Asia\", \"Asia\", \"Asia\", \"Asia\", \"Asia\", \"Asia\", \"Asia\", \"Asia\", \"Asia\", \"Asia\", \"Asia\", \"Asia\", \"Asia\", \"Asia\", \"Asia\", \"Asia\", \"Asia\", \"Asia\"], \"legendgroup\": \"country_or_area=Asia\", \"line\": {\"color\": \"#EF553B\", \"dash\": \"solid\"}, \"mode\": \"lines\", \"name\": \"country_or_area=Asia\", \"showlegend\": true, \"type\": \"scatter\", \"x\": [1961.0, 1962.0, 1963.0, 1964.0, 1965.0, 1966.0, 1967.0, 1968.0, 1969.0, 1970.0, 1971.0, 1972.0, 1973.0, 1974.0, 1975.0, 1976.0, 1977.0, 1978.0, 1979.0, 1980.0, 1981.0, 1982.0, 1983.0, 1984.0, 1985.0, 1986.0, 1987.0, 1988.0, 1989.0, 1990.0, 1991.0, 1992.0, 1993.0, 1994.0, 1995.0, 1996.0, 1997.0, 1998.0, 1999.0, 2000.0, 2001.0, 2002.0, 2003.0, 2004.0, 2005.0, 2006.0, 2007.0], \"xaxis\": \"x\", \"y\": [56.0, 56.0, 57.0, 58.0, 58.0, 59.0, 60.0, 60.0, 60.0, 61.0, 61.0, 59.0, 62.0, 61.0, 62.0, 62.0, 63.0, 66.0, 65.0, 65.0, 67.0, 69.0, 72.0, 75.0, 75.0, 75.0, 75.0, 77.0, 79.0, 81.0, 81.0, 85.0, 87.0, 88.0, 91.0, 94.0, 95.0, 96.0, 98.0, 100.0, 100.0, 101.0, 103.0, 106.0, 109.0, 110.0, 112.0], \"yaxis\": \"y\"}, {\"customdata\": [[1961.0, 89.0], [1962.0, 91.0], [1963.0, 90.0], [1964.0, 94.0], [1965.0, 93.0], [1966.0, 98.0], [1967.0, 101.0], [1968.0, 103.0], [1969.0, 100.0], [1970.0, 103.0], [1971.0, 103.0], [1972.0, 102.0], [1973.0, 110.0], [1974.0, 109.0], [1975.0, 105.0], [1976.0, 108.0], [1977.0, 108.0], [1978.0, 113.0], [1979.0, 113.0], [1980.0, 111.0], [1981.0, 108.0], [1982.0, 113.0], [1983.0, 113.0], [1984.0, 117.0], [1985.0, 114.0], [1986.0, 117.0], [1987.0, 116.0], [1988.0, 114.0], [1989.0, 116.0], [1990.0, 115.0], [1991.0, 110.0], [1992.0, 107.0], [1993.0, 106.0], [1994.0, 99.0], [1995.0, 99.0], [1996.0, 101.0], [1997.0, 101.0], [1998.0, 98.0], [1999.0, 99.0], [2000.0, 99.0], [2001.0, 100.0], [2002.0, 101.0], [2003.0, 97.0], [2004.0, 104.0], [2005.0, 101.0], [2006.0, 99.0], [2007.0, 98.0]], \"hoverlabel\": {\"namelength\": 0}, \"hovertemplate\": \"<b>%{hovertext}</b><br><br>country_or_area=Europe<br>year=%{customdata[0]}<br>value=%{customdata[1]}\", \"hovertext\": [\"Europe\", \"Europe\", \"Europe\", \"Europe\", \"Europe\", \"Europe\", \"Europe\", \"Europe\", \"Europe\", \"Europe\", \"Europe\", \"Europe\", \"Europe\", \"Europe\", \"Europe\", \"Europe\", \"Europe\", \"Europe\", \"Europe\", \"Europe\", \"Europe\", \"Europe\", \"Europe\", \"Europe\", \"Europe\", \"Europe\", \"Europe\", \"Europe\", \"Europe\", \"Europe\", \"Europe\", \"Europe\", \"Europe\", \"Europe\", \"Europe\", \"Europe\", \"Europe\", \"Europe\", \"Europe\", \"Europe\", \"Europe\", \"Europe\", \"Europe\", \"Europe\", \"Europe\", \"Europe\", \"Europe\"], \"legendgroup\": \"country_or_area=Europe\", \"line\": {\"color\": \"#00cc96\", \"dash\": \"solid\"}, \"mode\": \"lines\", \"name\": \"country_or_area=Europe\", \"showlegend\": true, \"type\": \"scatter\", \"x\": [1961.0, 1962.0, 1963.0, 1964.0, 1965.0, 1966.0, 1967.0, 1968.0, 1969.0, 1970.0, 1971.0, 1972.0, 1973.0, 1974.0, 1975.0, 1976.0, 1977.0, 1978.0, 1979.0, 1980.0, 1981.0, 1982.0, 1983.0, 1984.0, 1985.0, 1986.0, 1987.0, 1988.0, 1989.0, 1990.0, 1991.0, 1992.0, 1993.0, 1994.0, 1995.0, 1996.0, 1997.0, 1998.0, 1999.0, 2000.0, 2001.0, 2002.0, 2003.0, 2004.0, 2005.0, 2006.0, 2007.0], \"xaxis\": \"x\", \"y\": [89.0, 91.0, 90.0, 94.0, 93.0, 98.0, 101.0, 103.0, 100.0, 103.0, 103.0, 102.0, 110.0, 109.0, 105.0, 108.0, 108.0, 113.0, 113.0, 111.0, 108.0, 113.0, 113.0, 117.0, 114.0, 117.0, 116.0, 114.0, 116.0, 115.0, 110.0, 107.0, 106.0, 99.0, 99.0, 101.0, 101.0, 98.0, 99.0, 99.0, 100.0, 101.0, 97.0, 104.0, 101.0, 99.0, 98.0], \"yaxis\": \"y\"}, {\"customdata\": [[1961.0, 77.0], [1962.0, 78.0], [1963.0, 80.0], [1964.0, 79.0], [1965.0, 81.0], [1966.0, 80.0], [1967.0, 81.0], [1968.0, 83.0], [1969.0, 82.0], [1970.0, 80.0], [1971.0, 86.0], [1972.0, 85.0], [1973.0, 85.0], [1974.0, 82.0], [1975.0, 87.0], [1976.0, 89.0], [1977.0, 92.0], [1978.0, 91.0], [1979.0, 94.0], [1980.0, 90.0], [1981.0, 98.0], [1982.0, 97.0], [1983.0, 83.0], [1984.0, 93.0], [1985.0, 96.0], [1986.0, 92.0], [1987.0, 91.0], [1988.0, 83.0], [1989.0, 90.0], [1990.0, 93.0], [1991.0, 91.0], [1992.0, 97.0], [1993.0, 89.0], [1994.0, 101.0], [1995.0, 93.0], [1996.0, 98.0], [1997.0, 100.0], [1998.0, 99.0], [1999.0, 100.0], [2000.0, 101.0], [2001.0, 97.0], [2002.0, 94.0], [2003.0, 97.0], [2004.0, 102.0], [2005.0, 101.0], [2006.0, 97.0], [2007.0, 100.0]], \"hoverlabel\": {\"namelength\": 0}, \"hovertemplate\": \"<b>%{hovertext}</b><br><br>country_or_area=Northern America<br>year=%{customdata[0]}<br>value=%{customdata[1]}\", \"hovertext\": [\"Northern America\", \"Northern America\", \"Northern America\", \"Northern America\", \"Northern America\", \"Northern America\", \"Northern America\", \"Northern America\", \"Northern America\", \"Northern America\", \"Northern America\", \"Northern America\", \"Northern America\", \"Northern America\", \"Northern America\", \"Northern America\", \"Northern America\", \"Northern America\", \"Northern America\", \"Northern America\", \"Northern America\", \"Northern America\", \"Northern America\", \"Northern America\", \"Northern America\", \"Northern America\", \"Northern America\", \"Northern America\", \"Northern America\", \"Northern America\", \"Northern America\", \"Northern America\", \"Northern America\", \"Northern America\", \"Northern America\", \"Northern America\", \"Northern America\", \"Northern America\", \"Northern America\", \"Northern America\", \"Northern America\", \"Northern America\", \"Northern America\", \"Northern America\", \"Northern America\", \"Northern America\", \"Northern America\"], \"legendgroup\": \"country_or_area=Northern America\", \"line\": {\"color\": \"#ab63fa\", \"dash\": \"solid\"}, \"mode\": \"lines\", \"name\": \"country_or_area=Northern America\", \"showlegend\": true, \"type\": \"scatter\", \"x\": [1961.0, 1962.0, 1963.0, 1964.0, 1965.0, 1966.0, 1967.0, 1968.0, 1969.0, 1970.0, 1971.0, 1972.0, 1973.0, 1974.0, 1975.0, 1976.0, 1977.0, 1978.0, 1979.0, 1980.0, 1981.0, 1982.0, 1983.0, 1984.0, 1985.0, 1986.0, 1987.0, 1988.0, 1989.0, 1990.0, 1991.0, 1992.0, 1993.0, 1994.0, 1995.0, 1996.0, 1997.0, 1998.0, 1999.0, 2000.0, 2001.0, 2002.0, 2003.0, 2004.0, 2005.0, 2006.0, 2007.0], \"xaxis\": \"x\", \"y\": [77.0, 78.0, 80.0, 79.0, 81.0, 80.0, 81.0, 83.0, 82.0, 80.0, 86.0, 85.0, 85.0, 82.0, 87.0, 89.0, 92.0, 91.0, 94.0, 90.0, 98.0, 97.0, 83.0, 93.0, 96.0, 92.0, 91.0, 83.0, 90.0, 93.0, 91.0, 97.0, 89.0, 101.0, 93.0, 98.0, 100.0, 99.0, 100.0, 101.0, 97.0, 94.0, 97.0, 102.0, 101.0, 97.0, 100.0], \"yaxis\": \"y\"}, {\"customdata\": [[1961.0, 91.0], [1962.0, 98.0], [1963.0, 99.0], [1964.0, 102.0], [1965.0, 97.0], [1966.0, 102.0], [1967.0, 95.0], [1968.0, 104.0], [1969.0, 101.0], [1970.0, 101.0], [1971.0, 102.0], [1972.0, 102.0], [1973.0, 104.0], [1974.0, 95.0], [1975.0, 101.0], [1976.0, 105.0], [1977.0, 102.0], [1978.0, 110.0], [1979.0, 106.0], [1980.0, 98.0], [1981.0, 102.0], [1982.0, 95.0], [1983.0, 107.0], [1984.0, 103.0], [1985.0, 104.0], [1986.0, 103.0], [1987.0, 100.0], [1988.0, 102.0], [1989.0, 100.0], [1990.0, 101.0], [1991.0, 99.0], [1992.0, 103.0], [1993.0, 103.0], [1994.0, 98.0], [1995.0, 104.0], [1996.0, 111.0], [1997.0, 94.0], [1998.0, 97.0], [1999.0, 99.0], [2000.0, 99.0], [2001.0, 101.0], [2002.0, 86.0], [2003.0, 96.0], [2004.0, 92.0], [2005.0, 96.0], [2006.0, 83.0], [2007.0, 81.0]], \"hoverlabel\": {\"namelength\": 0}, \"hovertemplate\": \"<b>%{hovertext}</b><br><br>country_or_area=Oceania<br>year=%{customdata[0]}<br>value=%{customdata[1]}\", \"hovertext\": [\"Oceania\", \"Oceania\", \"Oceania\", \"Oceania\", \"Oceania\", \"Oceania\", \"Oceania\", \"Oceania\", \"Oceania\", \"Oceania\", \"Oceania\", \"Oceania\", \"Oceania\", \"Oceania\", \"Oceania\", \"Oceania\", \"Oceania\", \"Oceania\", \"Oceania\", \"Oceania\", \"Oceania\", \"Oceania\", \"Oceania\", \"Oceania\", \"Oceania\", \"Oceania\", \"Oceania\", \"Oceania\", \"Oceania\", \"Oceania\", \"Oceania\", \"Oceania\", \"Oceania\", \"Oceania\", \"Oceania\", \"Oceania\", \"Oceania\", \"Oceania\", \"Oceania\", \"Oceania\", \"Oceania\", \"Oceania\", \"Oceania\", \"Oceania\", \"Oceania\", \"Oceania\", \"Oceania\"], \"legendgroup\": \"country_or_area=Oceania\", \"line\": {\"color\": \"#FFA15A\", \"dash\": \"solid\"}, \"mode\": \"lines\", \"name\": \"country_or_area=Oceania\", \"showlegend\": true, \"type\": \"scatter\", \"x\": [1961.0, 1962.0, 1963.0, 1964.0, 1965.0, 1966.0, 1967.0, 1968.0, 1969.0, 1970.0, 1971.0, 1972.0, 1973.0, 1974.0, 1975.0, 1976.0, 1977.0, 1978.0, 1979.0, 1980.0, 1981.0, 1982.0, 1983.0, 1984.0, 1985.0, 1986.0, 1987.0, 1988.0, 1989.0, 1990.0, 1991.0, 1992.0, 1993.0, 1994.0, 1995.0, 1996.0, 1997.0, 1998.0, 1999.0, 2000.0, 2001.0, 2002.0, 2003.0, 2004.0, 2005.0, 2006.0, 2007.0], \"xaxis\": \"x\", \"y\": [91.0, 98.0, 99.0, 102.0, 97.0, 102.0, 95.0, 104.0, 101.0, 101.0, 102.0, 102.0, 104.0, 95.0, 101.0, 105.0, 102.0, 110.0, 106.0, 98.0, 102.0, 95.0, 107.0, 103.0, 104.0, 103.0, 100.0, 102.0, 100.0, 101.0, 99.0, 103.0, 103.0, 98.0, 104.0, 111.0, 94.0, 97.0, 99.0, 99.0, 101.0, 86.0, 96.0, 92.0, 96.0, 83.0, 81.0], \"yaxis\": \"y\"}, {\"customdata\": [[1961.0, 71.0], [1962.0, 72.0], [1963.0, 73.0], [1964.0, 71.0], [1965.0, 73.0], [1966.0, 72.0], [1967.0, 74.0], [1968.0, 73.0], [1969.0, 74.0], [1970.0, 74.0], [1971.0, 72.0], [1972.0, 72.0], [1973.0, 71.0], [1974.0, 74.0], [1975.0, 75.0], [1976.0, 77.0], [1977.0, 78.0], [1978.0, 77.0], [1979.0, 78.0], [1980.0, 79.0], [1981.0, 81.0], [1982.0, 81.0], [1983.0, 78.0], [1984.0, 80.0], [1985.0, 82.0], [1986.0, 80.0], [1987.0, 82.0], [1988.0, 84.0], [1989.0, 84.0], [1990.0, 83.0], [1991.0, 85.0], [1992.0, 86.0], [1993.0, 85.0], [1994.0, 89.0], [1995.0, 93.0], [1996.0, 92.0], [1997.0, 94.0], [1998.0, 94.0], [1999.0, 98.0], [2000.0, 99.0], [2001.0, 101.0], [2002.0, 104.0], [2003.0, 108.0], [2004.0, 111.0], [2005.0, 114.0], [2006.0, 111.0], [2007.0, 116.0]], \"hoverlabel\": {\"namelength\": 0}, \"hovertemplate\": \"<b>%{hovertext}</b><br><br>country_or_area=South America<br>year=%{customdata[0]}<br>value=%{customdata[1]}\", \"hovertext\": [\"South America\", \"South America\", \"South America\", \"South America\", \"South America\", \"South America\", \"South America\", \"South America\", \"South America\", \"South America\", \"South America\", \"South America\", \"South America\", \"South America\", \"South America\", \"South America\", \"South America\", \"South America\", \"South America\", \"South America\", \"South America\", \"South America\", \"South America\", \"South America\", \"South America\", \"South America\", \"South America\", \"South America\", \"South America\", \"South America\", \"South America\", \"South America\", \"South America\", \"South America\", \"South America\", \"South America\", \"South America\", \"South America\", \"South America\", \"South America\", \"South America\", \"South America\", \"South America\", \"South America\", \"South America\", \"South America\", \"South America\"], \"legendgroup\": \"country_or_area=South America\", \"line\": {\"color\": \"#19d3f3\", \"dash\": \"solid\"}, \"mode\": \"lines\", \"name\": \"country_or_area=South America\", \"showlegend\": true, \"type\": \"scatter\", \"x\": [1961.0, 1962.0, 1963.0, 1964.0, 1965.0, 1966.0, 1967.0, 1968.0, 1969.0, 1970.0, 1971.0, 1972.0, 1973.0, 1974.0, 1975.0, 1976.0, 1977.0, 1978.0, 1979.0, 1980.0, 1981.0, 1982.0, 1983.0, 1984.0, 1985.0, 1986.0, 1987.0, 1988.0, 1989.0, 1990.0, 1991.0, 1992.0, 1993.0, 1994.0, 1995.0, 1996.0, 1997.0, 1998.0, 1999.0, 2000.0, 2001.0, 2002.0, 2003.0, 2004.0, 2005.0, 2006.0, 2007.0], \"xaxis\": \"x\", \"y\": [71.0, 72.0, 73.0, 71.0, 73.0, 72.0, 74.0, 73.0, 74.0, 74.0, 72.0, 72.0, 71.0, 74.0, 75.0, 77.0, 78.0, 77.0, 78.0, 79.0, 81.0, 81.0, 78.0, 80.0, 82.0, 80.0, 82.0, 84.0, 84.0, 83.0, 85.0, 86.0, 85.0, 89.0, 93.0, 92.0, 94.0, 94.0, 98.0, 99.0, 101.0, 104.0, 108.0, 111.0, 114.0, 111.0, 116.0], \"yaxis\": \"y\"}],\n",
       "                        {\"height\": 600, \"legend\": {\"tracegroupgap\": 0}, \"template\": {\"data\": {\"bar\": [{\"error_x\": {\"color\": \"#2a3f5f\"}, \"error_y\": {\"color\": \"#2a3f5f\"}, \"marker\": {\"line\": {\"color\": \"#E5ECF6\", \"width\": 0.5}}, \"type\": \"bar\"}], \"barpolar\": [{\"marker\": {\"line\": {\"color\": \"#E5ECF6\", \"width\": 0.5}}, \"type\": \"barpolar\"}], \"carpet\": [{\"aaxis\": {\"endlinecolor\": \"#2a3f5f\", \"gridcolor\": \"white\", \"linecolor\": \"white\", \"minorgridcolor\": \"white\", \"startlinecolor\": \"#2a3f5f\"}, \"baxis\": {\"endlinecolor\": \"#2a3f5f\", \"gridcolor\": \"white\", \"linecolor\": \"white\", \"minorgridcolor\": \"white\", \"startlinecolor\": \"#2a3f5f\"}, \"type\": \"carpet\"}], \"choropleth\": [{\"colorbar\": {\"outlinewidth\": 0, \"ticks\": \"\"}, \"type\": \"choropleth\"}], \"contour\": [{\"colorbar\": {\"outlinewidth\": 0, \"ticks\": \"\"}, \"colorscale\": [[0.0, \"#0d0887\"], [0.1111111111111111, \"#46039f\"], [0.2222222222222222, \"#7201a8\"], [0.3333333333333333, \"#9c179e\"], [0.4444444444444444, \"#bd3786\"], [0.5555555555555556, \"#d8576b\"], [0.6666666666666666, \"#ed7953\"], [0.7777777777777778, \"#fb9f3a\"], [0.8888888888888888, \"#fdca26\"], [1.0, \"#f0f921\"]], \"type\": \"contour\"}], \"contourcarpet\": [{\"colorbar\": {\"outlinewidth\": 0, \"ticks\": \"\"}, \"type\": \"contourcarpet\"}], \"heatmap\": [{\"colorbar\": {\"outlinewidth\": 0, \"ticks\": \"\"}, \"colorscale\": [[0.0, \"#0d0887\"], [0.1111111111111111, \"#46039f\"], [0.2222222222222222, \"#7201a8\"], [0.3333333333333333, \"#9c179e\"], [0.4444444444444444, \"#bd3786\"], [0.5555555555555556, \"#d8576b\"], [0.6666666666666666, \"#ed7953\"], [0.7777777777777778, \"#fb9f3a\"], [0.8888888888888888, \"#fdca26\"], [1.0, \"#f0f921\"]], \"type\": \"heatmap\"}], \"heatmapgl\": [{\"colorbar\": {\"outlinewidth\": 0, \"ticks\": \"\"}, \"colorscale\": [[0.0, \"#0d0887\"], [0.1111111111111111, \"#46039f\"], [0.2222222222222222, \"#7201a8\"], [0.3333333333333333, \"#9c179e\"], [0.4444444444444444, \"#bd3786\"], [0.5555555555555556, \"#d8576b\"], [0.6666666666666666, \"#ed7953\"], [0.7777777777777778, \"#fb9f3a\"], [0.8888888888888888, \"#fdca26\"], [1.0, \"#f0f921\"]], \"type\": \"heatmapgl\"}], \"histogram\": [{\"marker\": {\"colorbar\": {\"outlinewidth\": 0, \"ticks\": \"\"}}, \"type\": \"histogram\"}], \"histogram2d\": [{\"colorbar\": {\"outlinewidth\": 0, \"ticks\": \"\"}, \"colorscale\": [[0.0, \"#0d0887\"], [0.1111111111111111, \"#46039f\"], [0.2222222222222222, \"#7201a8\"], [0.3333333333333333, \"#9c179e\"], [0.4444444444444444, \"#bd3786\"], [0.5555555555555556, \"#d8576b\"], [0.6666666666666666, \"#ed7953\"], [0.7777777777777778, \"#fb9f3a\"], [0.8888888888888888, \"#fdca26\"], [1.0, \"#f0f921\"]], \"type\": \"histogram2d\"}], \"histogram2dcontour\": [{\"colorbar\": {\"outlinewidth\": 0, \"ticks\": \"\"}, \"colorscale\": [[0.0, \"#0d0887\"], [0.1111111111111111, \"#46039f\"], [0.2222222222222222, \"#7201a8\"], [0.3333333333333333, \"#9c179e\"], [0.4444444444444444, \"#bd3786\"], [0.5555555555555556, \"#d8576b\"], [0.6666666666666666, \"#ed7953\"], [0.7777777777777778, \"#fb9f3a\"], [0.8888888888888888, \"#fdca26\"], [1.0, \"#f0f921\"]], \"type\": \"histogram2dcontour\"}], \"mesh3d\": [{\"colorbar\": {\"outlinewidth\": 0, \"ticks\": \"\"}, \"type\": \"mesh3d\"}], \"parcoords\": [{\"line\": {\"colorbar\": {\"outlinewidth\": 0, \"ticks\": \"\"}}, \"type\": \"parcoords\"}], \"scatter\": [{\"marker\": {\"colorbar\": {\"outlinewidth\": 0, \"ticks\": \"\"}}, \"type\": \"scatter\"}], \"scatter3d\": [{\"line\": {\"colorbar\": {\"outlinewidth\": 0, \"ticks\": \"\"}}, \"marker\": {\"colorbar\": {\"outlinewidth\": 0, \"ticks\": \"\"}}, \"type\": \"scatter3d\"}], \"scattercarpet\": [{\"marker\": {\"colorbar\": {\"outlinewidth\": 0, \"ticks\": \"\"}}, \"type\": \"scattercarpet\"}], \"scattergeo\": [{\"marker\": {\"colorbar\": {\"outlinewidth\": 0, \"ticks\": \"\"}}, \"type\": \"scattergeo\"}], \"scattergl\": [{\"marker\": {\"colorbar\": {\"outlinewidth\": 0, \"ticks\": \"\"}}, \"type\": \"scattergl\"}], \"scattermapbox\": [{\"marker\": {\"colorbar\": {\"outlinewidth\": 0, \"ticks\": \"\"}}, \"type\": \"scattermapbox\"}], \"scatterpolar\": [{\"marker\": {\"colorbar\": {\"outlinewidth\": 0, \"ticks\": \"\"}}, \"type\": \"scatterpolar\"}], \"scatterpolargl\": [{\"marker\": {\"colorbar\": {\"outlinewidth\": 0, \"ticks\": \"\"}}, \"type\": \"scatterpolargl\"}], \"scatterternary\": [{\"marker\": {\"colorbar\": {\"outlinewidth\": 0, \"ticks\": \"\"}}, \"type\": \"scatterternary\"}], \"surface\": [{\"colorbar\": {\"outlinewidth\": 0, \"ticks\": \"\"}, \"colorscale\": [[0.0, \"#0d0887\"], [0.1111111111111111, \"#46039f\"], [0.2222222222222222, \"#7201a8\"], [0.3333333333333333, \"#9c179e\"], [0.4444444444444444, \"#bd3786\"], [0.5555555555555556, \"#d8576b\"], [0.6666666666666666, \"#ed7953\"], [0.7777777777777778, \"#fb9f3a\"], [0.8888888888888888, \"#fdca26\"], [1.0, \"#f0f921\"]], \"type\": \"surface\"}], \"table\": [{\"cells\": {\"fill\": {\"color\": \"#EBF0F8\"}, \"line\": {\"color\": \"white\"}}, \"header\": {\"fill\": {\"color\": \"#C8D4E3\"}, \"line\": {\"color\": \"white\"}}, \"type\": \"table\"}]}, \"layout\": {\"annotationdefaults\": {\"arrowcolor\": \"#2a3f5f\", \"arrowhead\": 0, \"arrowwidth\": 1}, \"colorscale\": {\"diverging\": [[0, \"#8e0152\"], [0.1, \"#c51b7d\"], [0.2, \"#de77ae\"], [0.3, \"#f1b6da\"], [0.4, \"#fde0ef\"], [0.5, \"#f7f7f7\"], [0.6, \"#e6f5d0\"], [0.7, \"#b8e186\"], [0.8, \"#7fbc41\"], [0.9, \"#4d9221\"], [1, \"#276419\"]], \"sequential\": [[0.0, \"#0d0887\"], [0.1111111111111111, \"#46039f\"], [0.2222222222222222, \"#7201a8\"], [0.3333333333333333, \"#9c179e\"], [0.4444444444444444, \"#bd3786\"], [0.5555555555555556, \"#d8576b\"], [0.6666666666666666, \"#ed7953\"], [0.7777777777777778, \"#fb9f3a\"], [0.8888888888888888, \"#fdca26\"], [1.0, \"#f0f921\"]], \"sequentialminus\": [[0.0, \"#0d0887\"], [0.1111111111111111, \"#46039f\"], [0.2222222222222222, \"#7201a8\"], [0.3333333333333333, \"#9c179e\"], [0.4444444444444444, \"#bd3786\"], [0.5555555555555556, \"#d8576b\"], [0.6666666666666666, \"#ed7953\"], [0.7777777777777778, \"#fb9f3a\"], [0.8888888888888888, \"#fdca26\"], [1.0, \"#f0f921\"]]}, \"colorway\": [\"#636efa\", \"#EF553B\", \"#00cc96\", \"#ab63fa\", \"#FFA15A\", \"#19d3f3\", \"#FF6692\", \"#B6E880\", \"#FF97FF\", \"#FECB52\"], \"font\": {\"color\": \"#2a3f5f\"}, \"geo\": {\"bgcolor\": \"white\", \"lakecolor\": \"white\", \"landcolor\": \"#E5ECF6\", \"showlakes\": true, \"showland\": true, \"subunitcolor\": \"white\"}, \"hoverlabel\": {\"align\": \"left\"}, \"hovermode\": \"closest\", \"mapbox\": {\"style\": \"light\"}, \"paper_bgcolor\": \"white\", \"plot_bgcolor\": \"#E5ECF6\", \"polar\": {\"angularaxis\": {\"gridcolor\": \"white\", \"linecolor\": \"white\", \"ticks\": \"\"}, \"bgcolor\": \"#E5ECF6\", \"radialaxis\": {\"gridcolor\": \"white\", \"linecolor\": \"white\", \"ticks\": \"\"}}, \"scene\": {\"xaxis\": {\"backgroundcolor\": \"#E5ECF6\", \"gridcolor\": \"white\", \"gridwidth\": 2, \"linecolor\": \"white\", \"showbackground\": true, \"ticks\": \"\", \"zerolinecolor\": \"white\"}, \"yaxis\": {\"backgroundcolor\": \"#E5ECF6\", \"gridcolor\": \"white\", \"gridwidth\": 2, \"linecolor\": \"white\", \"showbackground\": true, \"ticks\": \"\", \"zerolinecolor\": \"white\"}, \"zaxis\": {\"backgroundcolor\": \"#E5ECF6\", \"gridcolor\": \"white\", \"gridwidth\": 2, \"linecolor\": \"white\", \"showbackground\": true, \"ticks\": \"\", \"zerolinecolor\": \"white\"}}, \"shapedefaults\": {\"line\": {\"color\": \"#2a3f5f\"}}, \"ternary\": {\"aaxis\": {\"gridcolor\": \"white\", \"linecolor\": \"white\", \"ticks\": \"\"}, \"baxis\": {\"gridcolor\": \"white\", \"linecolor\": \"white\", \"ticks\": \"\"}, \"bgcolor\": \"#E5ECF6\", \"caxis\": {\"gridcolor\": \"white\", \"linecolor\": \"white\", \"ticks\": \"\"}}, \"title\": {\"x\": 0.05}, \"xaxis\": {\"automargin\": true, \"gridcolor\": \"white\", \"linecolor\": \"white\", \"ticks\": \"\", \"zerolinecolor\": \"white\", \"zerolinewidth\": 2}, \"yaxis\": {\"automargin\": true, \"gridcolor\": \"white\", \"linecolor\": \"white\", \"ticks\": \"\", \"zerolinecolor\": \"white\", \"zerolinewidth\": 2}}}, \"title\": {\"text\": \"Production by Continent\"}, \"xaxis\": {\"anchor\": \"y\", \"domain\": [0.0, 0.98], \"title\": {\"text\": \"year\"}}, \"yaxis\": {\"anchor\": \"x\", \"domain\": [0.0, 1.0], \"title\": {\"text\": \"value\"}}},\n",
       "                        {\"responsive\": true}\n",
       "                    ).then(function(){\n",
       "                            \n",
       "var gd = document.getElementById('27c74dbc-778b-4e84-a2eb-545ad30e2187');\n",
       "var x = new MutationObserver(function (mutations, observer) {{\n",
       "        var display = window.getComputedStyle(gd).display;\n",
       "        if (!display || display === 'none') {{\n",
       "            console.log([gd, 'removed!']);\n",
       "            Plotly.purge(gd);\n",
       "            observer.disconnect();\n",
       "        }}\n",
       "}});\n",
       "\n",
       "// Listen for the removal of the full notebook cells\n",
       "var notebookContainer = gd.closest('#notebook-container');\n",
       "if (notebookContainer) {{\n",
       "    x.observe(notebookContainer, {childList: true});\n",
       "}}\n",
       "\n",
       "// Listen for the clearing of the current output cell\n",
       "var outputEl = gd.closest('.output');\n",
       "if (outputEl) {{\n",
       "    x.observe(outputEl, {childList: true});\n",
       "}}\n",
       "\n",
       "                        })\n",
       "                };\n",
       "                });\n",
       "            </script>\n",
       "        </div>"
      ]
     },
     "metadata": {},
     "output_type": "display_data"
    }
   ],
   "source": [
    "##prod_indic = 'global-food-agriculture-statistics/fao_data_production_indices_data.csv'\n",
    "df = pd.read_csv('fao_data_production_indices_data.csv')\n",
    "\n",
    "# Sorting the values by country and year for clarity\n",
    "df = df.sort_values(by=['country_or_area', 'year'])\n",
    "\n",
    "# Removing the space and plus from the continent regions that are present in the dataset\n",
    "df['country_or_area'] = df['country_or_area'].str.rstrip(' +')\n",
    "\n",
    "# Setting a variable for continents, data contains different regions along with the continents\n",
    "continents = {'Northern America', 'South America', 'Africa', 'Europe', 'Asia', 'Oceania'}\n",
    "\n",
    "# Selecting data based on the continents and the agriculture PIN category\n",
    "continent_category = df[df['element_code'].isin(['434']) & df['country_or_area'].isin(continents) & df['category'].isin(['agriculture_pin'])]\n",
    "\n",
    "fig = px.line(continent_category, x='year', y='value', color='country_or_area', hover_name='country_or_area', hover_data=['year', 'value'], title='Production by Continent')\n",
    "fig.show()"
   ]
  },
  {
   "cell_type": "code",
   "execution_count": null,
   "metadata": {},
   "outputs": [],
   "source": []
  },
  {
   "cell_type": "markdown",
   "metadata": {},
   "source": [
    "fig = px.scatter_geo(\n",
    "    df[df['element_code'].isin(['434']) & ~df['country_or_area'].isin(continents) & df['category'].isin(['agriculture_pin'])],\n",
    "    locationmode=\"country names\",\n",
    "    locations=\"country_or_area\",\n",
    "    hover_name=\"country_or_area\",\n",
    "    size=\"value\",\n",
    "    animation_frame=\"year\",\n",
    "    projection=\"natural earth\"\n",
    ")\n",
    "fig.show()"
   ]
  }
 ],
 "metadata": {
  "file_extension": ".py",
  "kernelspec": {
   "display_name": "Python 3",
   "language": "python",
   "name": "python3"
  },
  "language_info": {
   "codemirror_mode": {
    "name": "ipython",
    "version": 3
   },
   "file_extension": ".py",
   "mimetype": "text/x-python",
   "name": "python",
   "nbconvert_exporter": "python",
   "pygments_lexer": "ipython3",
   "version": "3.7.4"
  },
  "mimetype": "text/x-python",
  "name": "python",
  "npconvert_exporter": "python",
  "pygments_lexer": "ipython3",
  "version": 3
 },
 "nbformat": 4,
 "nbformat_minor": 4
}
