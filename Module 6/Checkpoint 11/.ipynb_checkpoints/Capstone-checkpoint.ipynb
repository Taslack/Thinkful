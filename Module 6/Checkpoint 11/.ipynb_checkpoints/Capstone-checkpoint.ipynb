{
 "cells": [
  {
   "cell_type": "code",
   "execution_count": 159,
   "metadata": {},
   "outputs": [],
   "source": [
    "import pandas as pd\n",
    "import plotly.express as px\n",
    "import plotly.graph_objects as go\n",
    "import numpy as np"
   ]
  },
  {
   "cell_type": "markdown",
   "metadata": {},
   "source": [
    "We are going to look at a dataset that contains production indices (PIN) of countries and continents that is gathered by the UN under the Food and Agriculture Organization (FAO).  The data contains production can be directly associated with how a country is doing on the world stage.  It contains Production Index Numbers which is based on the Geary-Khamis formula.  This formula is a standard used to compare countries to a purchasing power parity and GDP.  All numbers are based on USD 1999-2001.  "
   ]
  },
  {
   "cell_type": "markdown",
   "metadata": {},
   "source": [
    "This data comes from the kaggle https://www.kaggle.com/unitednations/global-food-agriculture-statistics, its is originally pulled from the UNData.  I am focusing mainly on the FAO (Food and Agriculture Organization) production indices numbers(PIN) dataset.  I am looking to see if the value of agricultural goods have a consistent increase over time by continent and country."
   ]
  },
  {
   "cell_type": "markdown",
   "metadata": {},
   "source": [
    "The data I am going to focus on are in the columns of country_or_area, element_code, element, year, value, and category.\n",
    "\n",
    "The country_or_area contains the continents as well, which will give a good starting point to look at different areas of the world.  The value contains the PIN of that category and country.\n",
    "\n",
    "We are going to use element_code to extract out the Grs per capita PIN(base 1999-2001).  This will look at the Gross per capia PIN between the diffent areas of the world and countries.\n",
    "\n",
    "The categories are agricultural PIN, crops PIN, food PIN, livestock PIN, and non food PIN.  I am just going to concentrate on the agricultural PIN."
   ]
  },
  {
   "cell_type": "code",
   "execution_count": 272,
   "metadata": {},
   "outputs": [
    {
     "data": {
      "application/vnd.plotly.v1+json": {
       "config": {
        "plotlyServerURL": "https://plot.ly"
       },
       "data": [
        {
         "hoverlabel": {
          "namelength": 0
         },
         "hovertemplate": "country_or_area=Africa<br>year=%{x}<br>value=%{y}",
         "legendgroup": "country_or_area=Africa",
         "marker": {
          "color": "#636efa",
          "symbol": "circle"
         },
         "mode": "markers",
         "name": "Africa",
         "showlegend": true,
         "type": "scatter",
         "x": [
          1961,
          1962,
          1963,
          1964,
          1965,
          1966,
          1967,
          1968,
          1969,
          1970,
          1971,
          1972,
          1973,
          1974,
          1975,
          1976,
          1977,
          1978,
          1979,
          1980,
          1981,
          1982,
          1983,
          1984,
          1985,
          1986,
          1987,
          1988,
          1989,
          1990,
          1991,
          1992,
          1993,
          1994,
          1995,
          1996,
          1997,
          1998,
          1999,
          2000,
          2001,
          2002,
          2003,
          2004,
          2005,
          2006,
          2007
         ],
         "xaxis": "x",
         "y": [
          103,
          106,
          107,
          106,
          105,
          102,
          106,
          107,
          108,
          110,
          109,
          105,
          102,
          106,
          104,
          101,
          98,
          97,
          95,
          95,
          94,
          92,
          89,
          88,
          92,
          93,
          91,
          93,
          94,
          94,
          98,
          95,
          95,
          95,
          94,
          101,
          97,
          99,
          100,
          99,
          99,
          100,
          102,
          103,
          104,
          106,
          100
         ],
         "yaxis": "y"
        },
        {
         "hoverlabel": {
          "namelength": 0
         },
         "hovertemplate": "country_or_area=Asia<br>year=%{x}<br>value=%{y}",
         "legendgroup": "country_or_area=Asia",
         "marker": {
          "color": "#EF553B",
          "symbol": "circle"
         },
         "mode": "markers",
         "name": "Asia",
         "showlegend": true,
         "type": "scatter",
         "x": [
          1961,
          1962,
          1963,
          1964,
          1965,
          1966,
          1967,
          1968,
          1969,
          1970,
          1971,
          1972,
          1973,
          1974,
          1975,
          1976,
          1977,
          1978,
          1979,
          1980,
          1981,
          1982,
          1983,
          1984,
          1985,
          1986,
          1987,
          1988,
          1989,
          1990,
          1991,
          1992,
          1993,
          1994,
          1995,
          1996,
          1997,
          1998,
          1999,
          2000,
          2001,
          2002,
          2003,
          2004,
          2005,
          2006,
          2007
         ],
         "xaxis": "x",
         "y": [
          56,
          56,
          57,
          58,
          58,
          59,
          60,
          60,
          60,
          61,
          61,
          59,
          62,
          61,
          62,
          62,
          63,
          66,
          65,
          65,
          67,
          69,
          72,
          75,
          75,
          75,
          75,
          77,
          79,
          81,
          81,
          85,
          87,
          88,
          91,
          94,
          95,
          96,
          98,
          100,
          100,
          101,
          103,
          106,
          109,
          110,
          112
         ],
         "yaxis": "y"
        },
        {
         "hoverlabel": {
          "namelength": 0
         },
         "hovertemplate": "country_or_area=Europe<br>year=%{x}<br>value=%{y}",
         "legendgroup": "country_or_area=Europe",
         "marker": {
          "color": "#00cc96",
          "symbol": "circle"
         },
         "mode": "markers",
         "name": "Europe",
         "showlegend": true,
         "type": "scatter",
         "x": [
          1961,
          1962,
          1963,
          1964,
          1965,
          1966,
          1967,
          1968,
          1969,
          1970,
          1971,
          1972,
          1973,
          1974,
          1975,
          1976,
          1977,
          1978,
          1979,
          1980,
          1981,
          1982,
          1983,
          1984,
          1985,
          1986,
          1987,
          1988,
          1989,
          1990,
          1991,
          1992,
          1993,
          1994,
          1995,
          1996,
          1997,
          1998,
          1999,
          2000,
          2001,
          2002,
          2003,
          2004,
          2005,
          2006,
          2007
         ],
         "xaxis": "x",
         "y": [
          89,
          91,
          90,
          94,
          93,
          98,
          101,
          103,
          100,
          103,
          103,
          102,
          110,
          109,
          105,
          108,
          108,
          113,
          113,
          111,
          108,
          113,
          113,
          117,
          114,
          117,
          116,
          114,
          116,
          115,
          110,
          107,
          106,
          99,
          99,
          101,
          101,
          98,
          99,
          99,
          100,
          101,
          97,
          104,
          101,
          99,
          98
         ],
         "yaxis": "y"
        },
        {
         "hoverlabel": {
          "namelength": 0
         },
         "hovertemplate": "country_or_area=Northern America<br>year=%{x}<br>value=%{y}",
         "legendgroup": "country_or_area=Northern America",
         "marker": {
          "color": "#ab63fa",
          "symbol": "circle"
         },
         "mode": "markers",
         "name": "Northern America",
         "showlegend": true,
         "type": "scatter",
         "x": [
          1961,
          1962,
          1963,
          1964,
          1965,
          1966,
          1967,
          1968,
          1969,
          1970,
          1971,
          1972,
          1973,
          1974,
          1975,
          1976,
          1977,
          1978,
          1979,
          1980,
          1981,
          1982,
          1983,
          1984,
          1985,
          1986,
          1987,
          1988,
          1989,
          1990,
          1991,
          1992,
          1993,
          1994,
          1995,
          1996,
          1997,
          1998,
          1999,
          2000,
          2001,
          2002,
          2003,
          2004,
          2005,
          2006,
          2007
         ],
         "xaxis": "x",
         "y": [
          77,
          78,
          80,
          79,
          81,
          80,
          81,
          83,
          82,
          80,
          86,
          85,
          85,
          82,
          87,
          89,
          92,
          91,
          94,
          90,
          98,
          97,
          83,
          93,
          96,
          92,
          91,
          83,
          90,
          93,
          91,
          97,
          89,
          101,
          93,
          98,
          100,
          99,
          100,
          101,
          97,
          94,
          97,
          102,
          101,
          97,
          100
         ],
         "yaxis": "y"
        },
        {
         "hoverlabel": {
          "namelength": 0
         },
         "hovertemplate": "country_or_area=Oceania<br>year=%{x}<br>value=%{y}",
         "legendgroup": "country_or_area=Oceania",
         "marker": {
          "color": "#FFA15A",
          "symbol": "circle"
         },
         "mode": "markers",
         "name": "Oceania",
         "showlegend": true,
         "type": "scatter",
         "x": [
          1961,
          1962,
          1963,
          1964,
          1965,
          1966,
          1967,
          1968,
          1969,
          1970,
          1971,
          1972,
          1973,
          1974,
          1975,
          1976,
          1977,
          1978,
          1979,
          1980,
          1981,
          1982,
          1983,
          1984,
          1985,
          1986,
          1987,
          1988,
          1989,
          1990,
          1991,
          1992,
          1993,
          1994,
          1995,
          1996,
          1997,
          1998,
          1999,
          2000,
          2001,
          2002,
          2003,
          2004,
          2005,
          2006,
          2007
         ],
         "xaxis": "x",
         "y": [
          91,
          98,
          99,
          102,
          97,
          102,
          95,
          104,
          101,
          101,
          102,
          102,
          104,
          95,
          101,
          105,
          102,
          110,
          106,
          98,
          102,
          95,
          107,
          103,
          104,
          103,
          100,
          102,
          100,
          101,
          99,
          103,
          103,
          98,
          104,
          111,
          94,
          97,
          99,
          99,
          101,
          86,
          96,
          92,
          96,
          83,
          81
         ],
         "yaxis": "y"
        },
        {
         "hoverlabel": {
          "namelength": 0
         },
         "hovertemplate": "country_or_area=South America<br>year=%{x}<br>value=%{y}",
         "legendgroup": "country_or_area=South America",
         "marker": {
          "color": "#19d3f3",
          "symbol": "circle"
         },
         "mode": "markers",
         "name": "South America",
         "showlegend": true,
         "type": "scatter",
         "x": [
          1961,
          1962,
          1963,
          1964,
          1965,
          1966,
          1967,
          1968,
          1969,
          1970,
          1971,
          1972,
          1973,
          1974,
          1975,
          1976,
          1977,
          1978,
          1979,
          1980,
          1981,
          1982,
          1983,
          1984,
          1985,
          1986,
          1987,
          1988,
          1989,
          1990,
          1991,
          1992,
          1993,
          1994,
          1995,
          1996,
          1997,
          1998,
          1999,
          2000,
          2001,
          2002,
          2003,
          2004,
          2005,
          2006,
          2007
         ],
         "xaxis": "x",
         "y": [
          71,
          72,
          73,
          71,
          73,
          72,
          74,
          73,
          74,
          74,
          72,
          72,
          71,
          74,
          75,
          77,
          78,
          77,
          78,
          79,
          81,
          81,
          78,
          80,
          82,
          80,
          82,
          84,
          84,
          83,
          85,
          86,
          85,
          89,
          93,
          92,
          94,
          94,
          98,
          99,
          101,
          104,
          108,
          111,
          114,
          111,
          116
         ],
         "yaxis": "y"
        }
       ],
       "layout": {
        "autosize": true,
        "legend": {
         "tracegroupgap": 0
        },
        "margin": {
         "t": 60
        },
        "template": {
         "data": {
          "bar": [
           {
            "error_x": {
             "color": "#2a3f5f"
            },
            "error_y": {
             "color": "#2a3f5f"
            },
            "marker": {
             "line": {
              "color": "#E5ECF6",
              "width": 0.5
             }
            },
            "type": "bar"
           }
          ],
          "barpolar": [
           {
            "marker": {
             "line": {
              "color": "#E5ECF6",
              "width": 0.5
             }
            },
            "type": "barpolar"
           }
          ],
          "carpet": [
           {
            "aaxis": {
             "endlinecolor": "#2a3f5f",
             "gridcolor": "white",
             "linecolor": "white",
             "minorgridcolor": "white",
             "startlinecolor": "#2a3f5f"
            },
            "baxis": {
             "endlinecolor": "#2a3f5f",
             "gridcolor": "white",
             "linecolor": "white",
             "minorgridcolor": "white",
             "startlinecolor": "#2a3f5f"
            },
            "type": "carpet"
           }
          ],
          "choropleth": [
           {
            "colorbar": {
             "outlinewidth": 0,
             "ticks": ""
            },
            "type": "choropleth"
           }
          ],
          "contour": [
           {
            "colorbar": {
             "outlinewidth": 0,
             "ticks": ""
            },
            "colorscale": [
             [
              0,
              "#0d0887"
             ],
             [
              0.1111111111111111,
              "#46039f"
             ],
             [
              0.2222222222222222,
              "#7201a8"
             ],
             [
              0.3333333333333333,
              "#9c179e"
             ],
             [
              0.4444444444444444,
              "#bd3786"
             ],
             [
              0.5555555555555556,
              "#d8576b"
             ],
             [
              0.6666666666666666,
              "#ed7953"
             ],
             [
              0.7777777777777778,
              "#fb9f3a"
             ],
             [
              0.8888888888888888,
              "#fdca26"
             ],
             [
              1,
              "#f0f921"
             ]
            ],
            "type": "contour"
           }
          ],
          "contourcarpet": [
           {
            "colorbar": {
             "outlinewidth": 0,
             "ticks": ""
            },
            "type": "contourcarpet"
           }
          ],
          "heatmap": [
           {
            "colorbar": {
             "outlinewidth": 0,
             "ticks": ""
            },
            "colorscale": [
             [
              0,
              "#0d0887"
             ],
             [
              0.1111111111111111,
              "#46039f"
             ],
             [
              0.2222222222222222,
              "#7201a8"
             ],
             [
              0.3333333333333333,
              "#9c179e"
             ],
             [
              0.4444444444444444,
              "#bd3786"
             ],
             [
              0.5555555555555556,
              "#d8576b"
             ],
             [
              0.6666666666666666,
              "#ed7953"
             ],
             [
              0.7777777777777778,
              "#fb9f3a"
             ],
             [
              0.8888888888888888,
              "#fdca26"
             ],
             [
              1,
              "#f0f921"
             ]
            ],
            "type": "heatmap"
           }
          ],
          "heatmapgl": [
           {
            "colorbar": {
             "outlinewidth": 0,
             "ticks": ""
            },
            "colorscale": [
             [
              0,
              "#0d0887"
             ],
             [
              0.1111111111111111,
              "#46039f"
             ],
             [
              0.2222222222222222,
              "#7201a8"
             ],
             [
              0.3333333333333333,
              "#9c179e"
             ],
             [
              0.4444444444444444,
              "#bd3786"
             ],
             [
              0.5555555555555556,
              "#d8576b"
             ],
             [
              0.6666666666666666,
              "#ed7953"
             ],
             [
              0.7777777777777778,
              "#fb9f3a"
             ],
             [
              0.8888888888888888,
              "#fdca26"
             ],
             [
              1,
              "#f0f921"
             ]
            ],
            "type": "heatmapgl"
           }
          ],
          "histogram": [
           {
            "marker": {
             "colorbar": {
              "outlinewidth": 0,
              "ticks": ""
             }
            },
            "type": "histogram"
           }
          ],
          "histogram2d": [
           {
            "colorbar": {
             "outlinewidth": 0,
             "ticks": ""
            },
            "colorscale": [
             [
              0,
              "#0d0887"
             ],
             [
              0.1111111111111111,
              "#46039f"
             ],
             [
              0.2222222222222222,
              "#7201a8"
             ],
             [
              0.3333333333333333,
              "#9c179e"
             ],
             [
              0.4444444444444444,
              "#bd3786"
             ],
             [
              0.5555555555555556,
              "#d8576b"
             ],
             [
              0.6666666666666666,
              "#ed7953"
             ],
             [
              0.7777777777777778,
              "#fb9f3a"
             ],
             [
              0.8888888888888888,
              "#fdca26"
             ],
             [
              1,
              "#f0f921"
             ]
            ],
            "type": "histogram2d"
           }
          ],
          "histogram2dcontour": [
           {
            "colorbar": {
             "outlinewidth": 0,
             "ticks": ""
            },
            "colorscale": [
             [
              0,
              "#0d0887"
             ],
             [
              0.1111111111111111,
              "#46039f"
             ],
             [
              0.2222222222222222,
              "#7201a8"
             ],
             [
              0.3333333333333333,
              "#9c179e"
             ],
             [
              0.4444444444444444,
              "#bd3786"
             ],
             [
              0.5555555555555556,
              "#d8576b"
             ],
             [
              0.6666666666666666,
              "#ed7953"
             ],
             [
              0.7777777777777778,
              "#fb9f3a"
             ],
             [
              0.8888888888888888,
              "#fdca26"
             ],
             [
              1,
              "#f0f921"
             ]
            ],
            "type": "histogram2dcontour"
           }
          ],
          "mesh3d": [
           {
            "colorbar": {
             "outlinewidth": 0,
             "ticks": ""
            },
            "type": "mesh3d"
           }
          ],
          "parcoords": [
           {
            "line": {
             "colorbar": {
              "outlinewidth": 0,
              "ticks": ""
             }
            },
            "type": "parcoords"
           }
          ],
          "pie": [
           {
            "automargin": true,
            "type": "pie"
           }
          ],
          "scatter": [
           {
            "marker": {
             "colorbar": {
              "outlinewidth": 0,
              "ticks": ""
             }
            },
            "type": "scatter"
           }
          ],
          "scatter3d": [
           {
            "line": {
             "colorbar": {
              "outlinewidth": 0,
              "ticks": ""
             }
            },
            "marker": {
             "colorbar": {
              "outlinewidth": 0,
              "ticks": ""
             }
            },
            "type": "scatter3d"
           }
          ],
          "scattercarpet": [
           {
            "marker": {
             "colorbar": {
              "outlinewidth": 0,
              "ticks": ""
             }
            },
            "type": "scattercarpet"
           }
          ],
          "scattergeo": [
           {
            "marker": {
             "colorbar": {
              "outlinewidth": 0,
              "ticks": ""
             }
            },
            "type": "scattergeo"
           }
          ],
          "scattergl": [
           {
            "marker": {
             "colorbar": {
              "outlinewidth": 0,
              "ticks": ""
             }
            },
            "type": "scattergl"
           }
          ],
          "scattermapbox": [
           {
            "marker": {
             "colorbar": {
              "outlinewidth": 0,
              "ticks": ""
             }
            },
            "type": "scattermapbox"
           }
          ],
          "scatterpolar": [
           {
            "marker": {
             "colorbar": {
              "outlinewidth": 0,
              "ticks": ""
             }
            },
            "type": "scatterpolar"
           }
          ],
          "scatterpolargl": [
           {
            "marker": {
             "colorbar": {
              "outlinewidth": 0,
              "ticks": ""
             }
            },
            "type": "scatterpolargl"
           }
          ],
          "scatterternary": [
           {
            "marker": {
             "colorbar": {
              "outlinewidth": 0,
              "ticks": ""
             }
            },
            "type": "scatterternary"
           }
          ],
          "surface": [
           {
            "colorbar": {
             "outlinewidth": 0,
             "ticks": ""
            },
            "colorscale": [
             [
              0,
              "#0d0887"
             ],
             [
              0.1111111111111111,
              "#46039f"
             ],
             [
              0.2222222222222222,
              "#7201a8"
             ],
             [
              0.3333333333333333,
              "#9c179e"
             ],
             [
              0.4444444444444444,
              "#bd3786"
             ],
             [
              0.5555555555555556,
              "#d8576b"
             ],
             [
              0.6666666666666666,
              "#ed7953"
             ],
             [
              0.7777777777777778,
              "#fb9f3a"
             ],
             [
              0.8888888888888888,
              "#fdca26"
             ],
             [
              1,
              "#f0f921"
             ]
            ],
            "type": "surface"
           }
          ],
          "table": [
           {
            "cells": {
             "fill": {
              "color": "#EBF0F8"
             },
             "line": {
              "color": "white"
             }
            },
            "header": {
             "fill": {
              "color": "#C8D4E3"
             },
             "line": {
              "color": "white"
             }
            },
            "type": "table"
           }
          ]
         },
         "layout": {
          "annotationdefaults": {
           "arrowcolor": "#2a3f5f",
           "arrowhead": 0,
           "arrowwidth": 1
          },
          "coloraxis": {
           "colorbar": {
            "outlinewidth": 0,
            "ticks": ""
           }
          },
          "colorscale": {
           "diverging": [
            [
             0,
             "#8e0152"
            ],
            [
             0.1,
             "#c51b7d"
            ],
            [
             0.2,
             "#de77ae"
            ],
            [
             0.3,
             "#f1b6da"
            ],
            [
             0.4,
             "#fde0ef"
            ],
            [
             0.5,
             "#f7f7f7"
            ],
            [
             0.6,
             "#e6f5d0"
            ],
            [
             0.7,
             "#b8e186"
            ],
            [
             0.8,
             "#7fbc41"
            ],
            [
             0.9,
             "#4d9221"
            ],
            [
             1,
             "#276419"
            ]
           ],
           "sequential": [
            [
             0,
             "#0d0887"
            ],
            [
             0.1111111111111111,
             "#46039f"
            ],
            [
             0.2222222222222222,
             "#7201a8"
            ],
            [
             0.3333333333333333,
             "#9c179e"
            ],
            [
             0.4444444444444444,
             "#bd3786"
            ],
            [
             0.5555555555555556,
             "#d8576b"
            ],
            [
             0.6666666666666666,
             "#ed7953"
            ],
            [
             0.7777777777777778,
             "#fb9f3a"
            ],
            [
             0.8888888888888888,
             "#fdca26"
            ],
            [
             1,
             "#f0f921"
            ]
           ],
           "sequentialminus": [
            [
             0,
             "#0d0887"
            ],
            [
             0.1111111111111111,
             "#46039f"
            ],
            [
             0.2222222222222222,
             "#7201a8"
            ],
            [
             0.3333333333333333,
             "#9c179e"
            ],
            [
             0.4444444444444444,
             "#bd3786"
            ],
            [
             0.5555555555555556,
             "#d8576b"
            ],
            [
             0.6666666666666666,
             "#ed7953"
            ],
            [
             0.7777777777777778,
             "#fb9f3a"
            ],
            [
             0.8888888888888888,
             "#fdca26"
            ],
            [
             1,
             "#f0f921"
            ]
           ]
          },
          "colorway": [
           "#636efa",
           "#EF553B",
           "#00cc96",
           "#ab63fa",
           "#FFA15A",
           "#19d3f3",
           "#FF6692",
           "#B6E880",
           "#FF97FF",
           "#FECB52"
          ],
          "font": {
           "color": "#2a3f5f"
          },
          "geo": {
           "bgcolor": "white",
           "lakecolor": "white",
           "landcolor": "#E5ECF6",
           "showlakes": true,
           "showland": true,
           "subunitcolor": "white"
          },
          "hoverlabel": {
           "align": "left"
          },
          "hovermode": "closest",
          "mapbox": {
           "style": "light"
          },
          "paper_bgcolor": "white",
          "plot_bgcolor": "#E5ECF6",
          "polar": {
           "angularaxis": {
            "gridcolor": "white",
            "linecolor": "white",
            "ticks": ""
           },
           "bgcolor": "#E5ECF6",
           "radialaxis": {
            "gridcolor": "white",
            "linecolor": "white",
            "ticks": ""
           }
          },
          "scene": {
           "xaxis": {
            "backgroundcolor": "#E5ECF6",
            "gridcolor": "white",
            "gridwidth": 2,
            "linecolor": "white",
            "showbackground": true,
            "ticks": "",
            "zerolinecolor": "white"
           },
           "yaxis": {
            "backgroundcolor": "#E5ECF6",
            "gridcolor": "white",
            "gridwidth": 2,
            "linecolor": "white",
            "showbackground": true,
            "ticks": "",
            "zerolinecolor": "white"
           },
           "zaxis": {
            "backgroundcolor": "#E5ECF6",
            "gridcolor": "white",
            "gridwidth": 2,
            "linecolor": "white",
            "showbackground": true,
            "ticks": "",
            "zerolinecolor": "white"
           }
          },
          "shapedefaults": {
           "line": {
            "color": "#2a3f5f"
           }
          },
          "ternary": {
           "aaxis": {
            "gridcolor": "white",
            "linecolor": "white",
            "ticks": ""
           },
           "baxis": {
            "gridcolor": "white",
            "linecolor": "white",
            "ticks": ""
           },
           "bgcolor": "#E5ECF6",
           "caxis": {
            "gridcolor": "white",
            "linecolor": "white",
            "ticks": ""
           }
          },
          "title": {
           "x": 0.05
          },
          "xaxis": {
           "automargin": true,
           "gridcolor": "white",
           "linecolor": "white",
           "ticks": "",
           "title": {
            "standoff": 15
           },
           "zerolinecolor": "white",
           "zerolinewidth": 2
          },
          "yaxis": {
           "automargin": true,
           "gridcolor": "white",
           "linecolor": "white",
           "ticks": "",
           "title": {
            "standoff": 15
           },
           "zerolinecolor": "white",
           "zerolinewidth": 2
          }
         }
        },
        "xaxis": {
         "anchor": "y",
         "autorange": true,
         "domain": [
          0,
          1
         ],
         "range": [
          1958.2791860665632,
          2009.7208139334368
         ],
         "title": {
          "text": "Year"
         },
         "type": "linear"
        },
        "yaxis": {
         "anchor": "x",
         "domain": [
          0,
          1
         ],
         "range": [
          50,
          120
         ],
         "title": {
          "text": "Gross per capita PIN (base 1999-2001) in int. $"
         },
         "type": "linear"
        }
       }
      },
      "image/png": "[encoded data removed]",
      "text/html": [
       "<div>\n",
       "        \n",
       "        \n",
       "            <div id=\"c826a310-800a-4542-a56c-debac20ab3e5\" class=\"plotly-graph-div\" style=\"height:600px; width:100%;\"></div>\n",
       "            <script type=\"text/javascript\">\n",
       "                require([\"plotly\"], function(Plotly) {\n",
       "                    window.PLOTLYENV=window.PLOTLYENV || {};\n",
       "                    \n",
       "                if (document.getElementById(\"c826a310-800a-4542-a56c-debac20ab3e5\")) {\n",
       "                    Plotly.newPlot(\n",
       "                        'c826a310-800a-4542-a56c-debac20ab3e5',\n",
       "                        [{\"hoverlabel\": {\"namelength\": 0}, \"hovertemplate\": \"country_or_area=Africa<br>year=%{x}<br>value=%{y}\", \"legendgroup\": \"country_or_area=Africa\", \"marker\": {\"color\": \"#636efa\", \"symbol\": \"circle\"}, \"mode\": \"markers\", \"name\": \"Africa\", \"showlegend\": true, \"type\": \"scatter\", \"x\": [1961.0, 1962.0, 1963.0, 1964.0, 1965.0, 1966.0, 1967.0, 1968.0, 1969.0, 1970.0, 1971.0, 1972.0, 1973.0, 1974.0, 1975.0, 1976.0, 1977.0, 1978.0, 1979.0, 1980.0, 1981.0, 1982.0, 1983.0, 1984.0, 1985.0, 1986.0, 1987.0, 1988.0, 1989.0, 1990.0, 1991.0, 1992.0, 1993.0, 1994.0, 1995.0, 1996.0, 1997.0, 1998.0, 1999.0, 2000.0, 2001.0, 2002.0, 2003.0, 2004.0, 2005.0, 2006.0, 2007.0], \"xaxis\": \"x\", \"y\": [103.0, 106.0, 107.0, 106.0, 105.0, 102.0, 106.0, 107.0, 108.0, 110.0, 109.0, 105.0, 102.0, 106.0, 104.0, 101.0, 98.0, 97.0, 95.0, 95.0, 94.0, 92.0, 89.0, 88.0, 92.0, 93.0, 91.0, 93.0, 94.0, 94.0, 98.0, 95.0, 95.0, 95.0, 94.0, 101.0, 97.0, 99.0, 100.0, 99.0, 99.0, 100.0, 102.0, 103.0, 104.0, 106.0, 100.0], \"yaxis\": \"y\"}, {\"hoverlabel\": {\"namelength\": 0}, \"hovertemplate\": \"country_or_area=Asia<br>year=%{x}<br>value=%{y}\", \"legendgroup\": \"country_or_area=Asia\", \"marker\": {\"color\": \"#EF553B\", \"symbol\": \"circle\"}, \"mode\": \"markers\", \"name\": \"Asia\", \"showlegend\": true, \"type\": \"scatter\", \"x\": [1961.0, 1962.0, 1963.0, 1964.0, 1965.0, 1966.0, 1967.0, 1968.0, 1969.0, 1970.0, 1971.0, 1972.0, 1973.0, 1974.0, 1975.0, 1976.0, 1977.0, 1978.0, 1979.0, 1980.0, 1981.0, 1982.0, 1983.0, 1984.0, 1985.0, 1986.0, 1987.0, 1988.0, 1989.0, 1990.0, 1991.0, 1992.0, 1993.0, 1994.0, 1995.0, 1996.0, 1997.0, 1998.0, 1999.0, 2000.0, 2001.0, 2002.0, 2003.0, 2004.0, 2005.0, 2006.0, 2007.0], \"xaxis\": \"x\", \"y\": [56.0, 56.0, 57.0, 58.0, 58.0, 59.0, 60.0, 60.0, 60.0, 61.0, 61.0, 59.0, 62.0, 61.0, 62.0, 62.0, 63.0, 66.0, 65.0, 65.0, 67.0, 69.0, 72.0, 75.0, 75.0, 75.0, 75.0, 77.0, 79.0, 81.0, 81.0, 85.0, 87.0, 88.0, 91.0, 94.0, 95.0, 96.0, 98.0, 100.0, 100.0, 101.0, 103.0, 106.0, 109.0, 110.0, 112.0], \"yaxis\": \"y\"}, {\"hoverlabel\": {\"namelength\": 0}, \"hovertemplate\": \"country_or_area=Europe<br>year=%{x}<br>value=%{y}\", \"legendgroup\": \"country_or_area=Europe\", \"marker\": {\"color\": \"#00cc96\", \"symbol\": \"circle\"}, \"mode\": \"markers\", \"name\": \"Europe\", \"showlegend\": true, \"type\": \"scatter\", \"x\": [1961.0, 1962.0, 1963.0, 1964.0, 1965.0, 1966.0, 1967.0, 1968.0, 1969.0, 1970.0, 1971.0, 1972.0, 1973.0, 1974.0, 1975.0, 1976.0, 1977.0, 1978.0, 1979.0, 1980.0, 1981.0, 1982.0, 1983.0, 1984.0, 1985.0, 1986.0, 1987.0, 1988.0, 1989.0, 1990.0, 1991.0, 1992.0, 1993.0, 1994.0, 1995.0, 1996.0, 1997.0, 1998.0, 1999.0, 2000.0, 2001.0, 2002.0, 2003.0, 2004.0, 2005.0, 2006.0, 2007.0], \"xaxis\": \"x\", \"y\": [89.0, 91.0, 90.0, 94.0, 93.0, 98.0, 101.0, 103.0, 100.0, 103.0, 103.0, 102.0, 110.0, 109.0, 105.0, 108.0, 108.0, 113.0, 113.0, 111.0, 108.0, 113.0, 113.0, 117.0, 114.0, 117.0, 116.0, 114.0, 116.0, 115.0, 110.0, 107.0, 106.0, 99.0, 99.0, 101.0, 101.0, 98.0, 99.0, 99.0, 100.0, 101.0, 97.0, 104.0, 101.0, 99.0, 98.0], \"yaxis\": \"y\"}, {\"hoverlabel\": {\"namelength\": 0}, \"hovertemplate\": \"country_or_area=Northern America<br>year=%{x}<br>value=%{y}\", \"legendgroup\": \"country_or_area=Northern America\", \"marker\": {\"color\": \"#ab63fa\", \"symbol\": \"circle\"}, \"mode\": \"markers\", \"name\": \"Northern America\", \"showlegend\": true, \"type\": \"scatter\", \"x\": [1961.0, 1962.0, 1963.0, 1964.0, 1965.0, 1966.0, 1967.0, 1968.0, 1969.0, 1970.0, 1971.0, 1972.0, 1973.0, 1974.0, 1975.0, 1976.0, 1977.0, 1978.0, 1979.0, 1980.0, 1981.0, 1982.0, 1983.0, 1984.0, 1985.0, 1986.0, 1987.0, 1988.0, 1989.0, 1990.0, 1991.0, 1992.0, 1993.0, 1994.0, 1995.0, 1996.0, 1997.0, 1998.0, 1999.0, 2000.0, 2001.0, 2002.0, 2003.0, 2004.0, 2005.0, 2006.0, 2007.0], \"xaxis\": \"x\", \"y\": [77.0, 78.0, 80.0, 79.0, 81.0, 80.0, 81.0, 83.0, 82.0, 80.0, 86.0, 85.0, 85.0, 82.0, 87.0, 89.0, 92.0, 91.0, 94.0, 90.0, 98.0, 97.0, 83.0, 93.0, 96.0, 92.0, 91.0, 83.0, 90.0, 93.0, 91.0, 97.0, 89.0, 101.0, 93.0, 98.0, 100.0, 99.0, 100.0, 101.0, 97.0, 94.0, 97.0, 102.0, 101.0, 97.0, 100.0], \"yaxis\": \"y\"}, {\"hoverlabel\": {\"namelength\": 0}, \"hovertemplate\": \"country_or_area=Oceania<br>year=%{x}<br>value=%{y}\", \"legendgroup\": \"country_or_area=Oceania\", \"marker\": {\"color\": \"#FFA15A\", \"symbol\": \"circle\"}, \"mode\": \"markers\", \"name\": \"Oceania\", \"showlegend\": true, \"type\": \"scatter\", \"x\": [1961.0, 1962.0, 1963.0, 1964.0, 1965.0, 1966.0, 1967.0, 1968.0, 1969.0, 1970.0, 1971.0, 1972.0, 1973.0, 1974.0, 1975.0, 1976.0, 1977.0, 1978.0, 1979.0, 1980.0, 1981.0, 1982.0, 1983.0, 1984.0, 1985.0, 1986.0, 1987.0, 1988.0, 1989.0, 1990.0, 1991.0, 1992.0, 1993.0, 1994.0, 1995.0, 1996.0, 1997.0, 1998.0, 1999.0, 2000.0, 2001.0, 2002.0, 2003.0, 2004.0, 2005.0, 2006.0, 2007.0], \"xaxis\": \"x\", \"y\": [91.0, 98.0, 99.0, 102.0, 97.0, 102.0, 95.0, 104.0, 101.0, 101.0, 102.0, 102.0, 104.0, 95.0, 101.0, 105.0, 102.0, 110.0, 106.0, 98.0, 102.0, 95.0, 107.0, 103.0, 104.0, 103.0, 100.0, 102.0, 100.0, 101.0, 99.0, 103.0, 103.0, 98.0, 104.0, 111.0, 94.0, 97.0, 99.0, 99.0, 101.0, 86.0, 96.0, 92.0, 96.0, 83.0, 81.0], \"yaxis\": \"y\"}, {\"hoverlabel\": {\"namelength\": 0}, \"hovertemplate\": \"country_or_area=South America<br>year=%{x}<br>value=%{y}\", \"legendgroup\": \"country_or_area=South America\", \"marker\": {\"color\": \"#19d3f3\", \"symbol\": \"circle\"}, \"mode\": \"markers\", \"name\": \"South America\", \"showlegend\": true, \"type\": \"scatter\", \"x\": [1961.0, 1962.0, 1963.0, 1964.0, 1965.0, 1966.0, 1967.0, 1968.0, 1969.0, 1970.0, 1971.0, 1972.0, 1973.0, 1974.0, 1975.0, 1976.0, 1977.0, 1978.0, 1979.0, 1980.0, 1981.0, 1982.0, 1983.0, 1984.0, 1985.0, 1986.0, 1987.0, 1988.0, 1989.0, 1990.0, 1991.0, 1992.0, 1993.0, 1994.0, 1995.0, 1996.0, 1997.0, 1998.0, 1999.0, 2000.0, 2001.0, 2002.0, 2003.0, 2004.0, 2005.0, 2006.0, 2007.0], \"xaxis\": \"x\", \"y\": [71.0, 72.0, 73.0, 71.0, 73.0, 72.0, 74.0, 73.0, 74.0, 74.0, 72.0, 72.0, 71.0, 74.0, 75.0, 77.0, 78.0, 77.0, 78.0, 79.0, 81.0, 81.0, 78.0, 80.0, 82.0, 80.0, 82.0, 84.0, 84.0, 83.0, 85.0, 86.0, 85.0, 89.0, 93.0, 92.0, 94.0, 94.0, 98.0, 99.0, 101.0, 104.0, 108.0, 111.0, 114.0, 111.0, 116.0], \"yaxis\": \"y\"}],\n",
       "                        {\"height\": 600, \"legend\": {\"tracegroupgap\": 0}, \"margin\": {\"t\": 60}, \"template\": {\"data\": {\"bar\": [{\"error_x\": {\"color\": \"#2a3f5f\"}, \"error_y\": {\"color\": \"#2a3f5f\"}, \"marker\": {\"line\": {\"color\": \"#E5ECF6\", \"width\": 0.5}}, \"type\": \"bar\"}], \"barpolar\": [{\"marker\": {\"line\": {\"color\": \"#E5ECF6\", \"width\": 0.5}}, \"type\": \"barpolar\"}], \"carpet\": [{\"aaxis\": {\"endlinecolor\": \"#2a3f5f\", \"gridcolor\": \"white\", \"linecolor\": \"white\", \"minorgridcolor\": \"white\", \"startlinecolor\": \"#2a3f5f\"}, \"baxis\": {\"endlinecolor\": \"#2a3f5f\", \"gridcolor\": \"white\", \"linecolor\": \"white\", \"minorgridcolor\": \"white\", \"startlinecolor\": \"#2a3f5f\"}, \"type\": \"carpet\"}], \"choropleth\": [{\"colorbar\": {\"outlinewidth\": 0, \"ticks\": \"\"}, \"type\": \"choropleth\"}], \"contour\": [{\"colorbar\": {\"outlinewidth\": 0, \"ticks\": \"\"}, \"colorscale\": [[0.0, \"#0d0887\"], [0.1111111111111111, \"#46039f\"], [0.2222222222222222, \"#7201a8\"], [0.3333333333333333, \"#9c179e\"], [0.4444444444444444, \"#bd3786\"], [0.5555555555555556, \"#d8576b\"], [0.6666666666666666, \"#ed7953\"], [0.7777777777777778, \"#fb9f3a\"], [0.8888888888888888, \"#fdca26\"], [1.0, \"#f0f921\"]], \"type\": \"contour\"}], \"contourcarpet\": [{\"colorbar\": {\"outlinewidth\": 0, \"ticks\": \"\"}, \"type\": \"contourcarpet\"}], \"heatmap\": [{\"colorbar\": {\"outlinewidth\": 0, \"ticks\": \"\"}, \"colorscale\": [[0.0, \"#0d0887\"], [0.1111111111111111, \"#46039f\"], [0.2222222222222222, \"#7201a8\"], [0.3333333333333333, \"#9c179e\"], [0.4444444444444444, \"#bd3786\"], [0.5555555555555556, \"#d8576b\"], [0.6666666666666666, \"#ed7953\"], [0.7777777777777778, \"#fb9f3a\"], [0.8888888888888888, \"#fdca26\"], [1.0, \"#f0f921\"]], \"type\": \"heatmap\"}], \"heatmapgl\": [{\"colorbar\": {\"outlinewidth\": 0, \"ticks\": \"\"}, \"colorscale\": [[0.0, \"#0d0887\"], [0.1111111111111111, \"#46039f\"], [0.2222222222222222, \"#7201a8\"], [0.3333333333333333, \"#9c179e\"], [0.4444444444444444, \"#bd3786\"], [0.5555555555555556, \"#d8576b\"], [0.6666666666666666, \"#ed7953\"], [0.7777777777777778, \"#fb9f3a\"], [0.8888888888888888, \"#fdca26\"], [1.0, \"#f0f921\"]], \"type\": \"heatmapgl\"}], \"histogram\": [{\"marker\": {\"colorbar\": {\"outlinewidth\": 0, \"ticks\": \"\"}}, \"type\": \"histogram\"}], \"histogram2d\": [{\"colorbar\": {\"outlinewidth\": 0, \"ticks\": \"\"}, \"colorscale\": [[0.0, \"#0d0887\"], [0.1111111111111111, \"#46039f\"], [0.2222222222222222, \"#7201a8\"], [0.3333333333333333, \"#9c179e\"], [0.4444444444444444, \"#bd3786\"], [0.5555555555555556, \"#d8576b\"], [0.6666666666666666, \"#ed7953\"], [0.7777777777777778, \"#fb9f3a\"], [0.8888888888888888, \"#fdca26\"], [1.0, \"#f0f921\"]], \"type\": \"histogram2d\"}], \"histogram2dcontour\": [{\"colorbar\": {\"outlinewidth\": 0, \"ticks\": \"\"}, \"colorscale\": [[0.0, \"#0d0887\"], [0.1111111111111111, \"#46039f\"], [0.2222222222222222, \"#7201a8\"], [0.3333333333333333, \"#9c179e\"], [0.4444444444444444, \"#bd3786\"], [0.5555555555555556, \"#d8576b\"], [0.6666666666666666, \"#ed7953\"], [0.7777777777777778, \"#fb9f3a\"], [0.8888888888888888, \"#fdca26\"], [1.0, \"#f0f921\"]], \"type\": \"histogram2dcontour\"}], \"mesh3d\": [{\"colorbar\": {\"outlinewidth\": 0, \"ticks\": \"\"}, \"type\": \"mesh3d\"}], \"parcoords\": [{\"line\": {\"colorbar\": {\"outlinewidth\": 0, \"ticks\": \"\"}}, \"type\": \"parcoords\"}], \"pie\": [{\"automargin\": true, \"type\": \"pie\"}], \"scatter\": [{\"marker\": {\"colorbar\": {\"outlinewidth\": 0, \"ticks\": \"\"}}, \"type\": \"scatter\"}], \"scatter3d\": [{\"line\": {\"colorbar\": {\"outlinewidth\": 0, \"ticks\": \"\"}}, \"marker\": {\"colorbar\": {\"outlinewidth\": 0, \"ticks\": \"\"}}, \"type\": \"scatter3d\"}], \"scattercarpet\": [{\"marker\": {\"colorbar\": {\"outlinewidth\": 0, \"ticks\": \"\"}}, \"type\": \"scattercarpet\"}], \"scattergeo\": [{\"marker\": {\"colorbar\": {\"outlinewidth\": 0, \"ticks\": \"\"}}, \"type\": \"scattergeo\"}], \"scattergl\": [{\"marker\": {\"colorbar\": {\"outlinewidth\": 0, \"ticks\": \"\"}}, \"type\": \"scattergl\"}], \"scattermapbox\": [{\"marker\": {\"colorbar\": {\"outlinewidth\": 0, \"ticks\": \"\"}}, \"type\": \"scattermapbox\"}], \"scatterpolar\": [{\"marker\": {\"colorbar\": {\"outlinewidth\": 0, \"ticks\": \"\"}}, \"type\": \"scatterpolar\"}], \"scatterpolargl\": [{\"marker\": {\"colorbar\": {\"outlinewidth\": 0, \"ticks\": \"\"}}, \"type\": \"scatterpolargl\"}], \"scatterternary\": [{\"marker\": {\"colorbar\": {\"outlinewidth\": 0, \"ticks\": \"\"}}, \"type\": \"scatterternary\"}], \"surface\": [{\"colorbar\": {\"outlinewidth\": 0, \"ticks\": \"\"}, \"colorscale\": [[0.0, \"#0d0887\"], [0.1111111111111111, \"#46039f\"], [0.2222222222222222, \"#7201a8\"], [0.3333333333333333, \"#9c179e\"], [0.4444444444444444, \"#bd3786\"], [0.5555555555555556, \"#d8576b\"], [0.6666666666666666, \"#ed7953\"], [0.7777777777777778, \"#fb9f3a\"], [0.8888888888888888, \"#fdca26\"], [1.0, \"#f0f921\"]], \"type\": \"surface\"}], \"table\": [{\"cells\": {\"fill\": {\"color\": \"#EBF0F8\"}, \"line\": {\"color\": \"white\"}}, \"header\": {\"fill\": {\"color\": \"#C8D4E3\"}, \"line\": {\"color\": \"white\"}}, \"type\": \"table\"}]}, \"layout\": {\"annotationdefaults\": {\"arrowcolor\": \"#2a3f5f\", \"arrowhead\": 0, \"arrowwidth\": 1}, \"coloraxis\": {\"colorbar\": {\"outlinewidth\": 0, \"ticks\": \"\"}}, \"colorscale\": {\"diverging\": [[0, \"#8e0152\"], [0.1, \"#c51b7d\"], [0.2, \"#de77ae\"], [0.3, \"#f1b6da\"], [0.4, \"#fde0ef\"], [0.5, \"#f7f7f7\"], [0.6, \"#e6f5d0\"], [0.7, \"#b8e186\"], [0.8, \"#7fbc41\"], [0.9, \"#4d9221\"], [1, \"#276419\"]], \"sequential\": [[0.0, \"#0d0887\"], [0.1111111111111111, \"#46039f\"], [0.2222222222222222, \"#7201a8\"], [0.3333333333333333, \"#9c179e\"], [0.4444444444444444, \"#bd3786\"], [0.5555555555555556, \"#d8576b\"], [0.6666666666666666, \"#ed7953\"], [0.7777777777777778, \"#fb9f3a\"], [0.8888888888888888, \"#fdca26\"], [1.0, \"#f0f921\"]], \"sequentialminus\": [[0.0, \"#0d0887\"], [0.1111111111111111, \"#46039f\"], [0.2222222222222222, \"#7201a8\"], [0.3333333333333333, \"#9c179e\"], [0.4444444444444444, \"#bd3786\"], [0.5555555555555556, \"#d8576b\"], [0.6666666666666666, \"#ed7953\"], [0.7777777777777778, \"#fb9f3a\"], [0.8888888888888888, \"#fdca26\"], [1.0, \"#f0f921\"]]}, \"colorway\": [\"#636efa\", \"#EF553B\", \"#00cc96\", \"#ab63fa\", \"#FFA15A\", \"#19d3f3\", \"#FF6692\", \"#B6E880\", \"#FF97FF\", \"#FECB52\"], \"font\": {\"color\": \"#2a3f5f\"}, \"geo\": {\"bgcolor\": \"white\", \"lakecolor\": \"white\", \"landcolor\": \"#E5ECF6\", \"showlakes\": true, \"showland\": true, \"subunitcolor\": \"white\"}, \"hoverlabel\": {\"align\": \"left\"}, \"hovermode\": \"closest\", \"mapbox\": {\"style\": \"light\"}, \"paper_bgcolor\": \"white\", \"plot_bgcolor\": \"#E5ECF6\", \"polar\": {\"angularaxis\": {\"gridcolor\": \"white\", \"linecolor\": \"white\", \"ticks\": \"\"}, \"bgcolor\": \"#E5ECF6\", \"radialaxis\": {\"gridcolor\": \"white\", \"linecolor\": \"white\", \"ticks\": \"\"}}, \"scene\": {\"xaxis\": {\"backgroundcolor\": \"#E5ECF6\", \"gridcolor\": \"white\", \"gridwidth\": 2, \"linecolor\": \"white\", \"showbackground\": true, \"ticks\": \"\", \"zerolinecolor\": \"white\"}, \"yaxis\": {\"backgroundcolor\": \"#E5ECF6\", \"gridcolor\": \"white\", \"gridwidth\": 2, \"linecolor\": \"white\", \"showbackground\": true, \"ticks\": \"\", \"zerolinecolor\": \"white\"}, \"zaxis\": {\"backgroundcolor\": \"#E5ECF6\", \"gridcolor\": \"white\", \"gridwidth\": 2, \"linecolor\": \"white\", \"showbackground\": true, \"ticks\": \"\", \"zerolinecolor\": \"white\"}}, \"shapedefaults\": {\"line\": {\"color\": \"#2a3f5f\"}}, \"ternary\": {\"aaxis\": {\"gridcolor\": \"white\", \"linecolor\": \"white\", \"ticks\": \"\"}, \"baxis\": {\"gridcolor\": \"white\", \"linecolor\": \"white\", \"ticks\": \"\"}, \"bgcolor\": \"#E5ECF6\", \"caxis\": {\"gridcolor\": \"white\", \"linecolor\": \"white\", \"ticks\": \"\"}}, \"title\": {\"x\": 0.05}, \"xaxis\": {\"automargin\": true, \"gridcolor\": \"white\", \"linecolor\": \"white\", \"ticks\": \"\", \"title\": {\"standoff\": 15}, \"zerolinecolor\": \"white\", \"zerolinewidth\": 2}, \"yaxis\": {\"automargin\": true, \"gridcolor\": \"white\", \"linecolor\": \"white\", \"ticks\": \"\", \"title\": {\"standoff\": 15}, \"zerolinecolor\": \"white\", \"zerolinewidth\": 2}}}, \"xaxis\": {\"anchor\": \"y\", \"domain\": [0.0, 1.0], \"title\": {\"text\": \"Year\"}}, \"yaxis\": {\"anchor\": \"x\", \"domain\": [0.0, 1.0], \"range\": [50, 120], \"title\": {\"text\": \"Gross per capita PIN (base 1999-2001) in int. $\"}}},\n",
       "                        {\"responsive\": true}\n",
       "                    ).then(function(){\n",
       "                            \n",
       "var gd = document.getElementById('c826a310-800a-4542-a56c-debac20ab3e5');\n",
       "var x = new MutationObserver(function (mutations, observer) {{\n",
       "        var display = window.getComputedStyle(gd).display;\n",
       "        if (!display || display === 'none') {{\n",
       "            console.log([gd, 'removed!']);\n",
       "            Plotly.purge(gd);\n",
       "            observer.disconnect();\n",
       "        }}\n",
       "}});\n",
       "\n",
       "// Listen for the removal of the full notebook cells\n",
       "var notebookContainer = gd.closest('#notebook-container');\n",
       "if (notebookContainer) {{\n",
       "    x.observe(notebookContainer, {childList: true});\n",
       "}}\n",
       "\n",
       "// Listen for the clearing of the current output cell\n",
       "var outputEl = gd.closest('.output');\n",
       "if (outputEl) {{\n",
       "    x.observe(outputEl, {childList: true});\n",
       "}}\n",
       "\n",
       "                        })\n",
       "                };\n",
       "                });\n",
       "            </script>\n",
       "        </div>"
      ]
     },
     "metadata": {},
     "output_type": "display_data"
    }
   ],
   "source": [
    "##prod_indic = 'global-food-agriculture-statistics/fao_data_production_indices_data.csv'\n",
    "df = pd.read_csv('fao_data_production_indices_data.csv')\n",
    "\n",
    "# Sorting the values by country and year for clarity\n",
    "df = df.sort_values(by=['country_or_area', 'year'])\n",
    "\n",
    "# Removing the space and plus from the continent regions that are present in the dataset\n",
    "df['country_or_area'] = df['country_or_area'].str.rstrip(' +')\n",
    "\n",
    "# Setting a variables for continents, data contains different regions along with the continents and the plot name to input into the plot function\n",
    "continents = {'Northern America', 'South America', 'Africa', 'Europe', 'Asia', 'Oceania'}\n",
    "production = 'Rolling Mean of Production by Continent'\n",
    "\n",
    "# Creating a function for repeated plot generating\n",
    "def extract_data(value_names):\n",
    "    # Selecting data based on the continents and the agriculture PIN category\n",
    "    data = df[df['element_code'].isin(['434']) & df['country_or_area'].isin(value_names) & df['category'].isin(['agriculture_pin'])]\n",
    "    return data\n",
    "\n",
    "def make_plot(data, plot_name):\n",
    "    # Putting the data into a figure, and cleaning up the legend\n",
    "    return px.line(data, x='year', y='value', color='country_or_area', hover_name='country_or_area', hover_data=['year', 'value'], title=plot_name\n",
    "                  ).for_each_trace(lambda t: t.update(name=t.name.replace('country_or_area=','')))\n",
    "\n",
    "# Extracting data to just for the continents\n",
    "world = extract_data(continents)\n",
    "\n",
    "# Scatter plot of the \n",
    "fig = px.scatter(world, x='year', y='value', color='country_or_area').for_each_trace(lambda t: t.update(name=t.name.replace('country_or_area=','')))\n",
    "# Updating the x and y axis titles to reflect the data\n",
    "fig.update_xaxes(title_text='Year')\n",
    "fig.update_yaxes(title_text='Gross per capita PIN (base 1999-2001) in int. $')\n",
    "fig.update_yaxes(range=[50, 120])\n",
    "fig.show()"
   ]
  },
  {
   "cell_type": "markdown",
   "metadata": {},
   "source": [
    "Taking a look a the world Gross per capita PIN we can see that some continents have been uping their production per capita.  This doesnt give use a clear indication of which ones are increasing at a higher rate, lets take a look at some rolling means over a 5 year period."
   ]
  },
  {
   "cell_type": "code",
   "execution_count": 271,
   "metadata": {},
   "outputs": [
    {
     "data": {
      "text/plain": [
       "[Text(0, 0.5, 'Gross per capita PIN (base 1999-2001) in int. $ in int. $'),\n",
       " Text(0.5, 0, 'Year')]"
      ]
     },
     "execution_count": 271,
     "metadata": {},
     "output_type": "execute_result"
    },
    {
     "data": {
      "image/png": "[encoded data removed]",
      "text/plain": [
       "<Figure size 1728x720 with 1 Axes>"
      ]
     },
     "metadata": {
      "needs_background": "light"
     },
     "output_type": "display_data"
    }
   ],
   "source": [
    "# Pivoting data for format of only relevent information\n",
    "world_pivot = world.pivot(index='year', columns='country_or_area', values='value')\n",
    "\n",
    "# Ploting out a rolling mean over 5 years to see any trends\n",
    "world_pivot.rolling(5).mean().plot(xticks=np.arange(min(world_pivot.index)-1, max(world_pivot.index), 5.0), figsize=(24,10), title=production, grid=True\n",
    "                                  ).set(xlabel='Year', ylabel='Gross per capita PIN (base 1999-2001) in int. $ in int. $')\n"
   ]
  },
  {
   "cell_type": "markdown",
   "metadata": {},
   "source": [
    "By looking at a rolling mean of 5 years, we can see that Asia has had a significate increase in Gross per capita PIN."
   ]
  },
  {
   "cell_type": "code",
   "execution_count": 161,
   "metadata": {},
   "outputs": [
    {
     "data": {
      "application/vnd.plotly.v1+json": {
       "config": {
        "plotlyServerURL": "https://plot.ly"
       },
       "data": [
        {
         "customdata": [
          [
           1961,
           0
          ],
          [
           1962,
           0
          ],
          [
           1963,
           0
          ],
          [
           1964,
           0
          ],
          [
           1965,
           0
          ],
          [
           1966,
           0
          ],
          [
           1967,
           0
          ],
          [
           1968,
           0
          ],
          [
           1969,
           0
          ],
          [
           1970,
           0
          ],
          [
           1971,
           0
          ],
          [
           1972,
           0
          ],
          [
           1973,
           0
          ],
          [
           1974,
           0
          ],
          [
           1975,
           0
          ],
          [
           1976,
           0
          ],
          [
           1977,
           0
          ],
          [
           1978,
           0
          ],
          [
           1979,
           0
          ],
          [
           1980,
           0
          ],
          [
           1981,
           0
          ],
          [
           1982,
           0
          ],
          [
           1983,
           0
          ],
          [
           1984,
           0
          ],
          [
           1985,
           0
          ],
          [
           1986,
           0
          ],
          [
           1987,
           0
          ],
          [
           1988,
           0
          ],
          [
           1989,
           0
          ],
          [
           1990,
           0
          ],
          [
           1991,
           0
          ],
          [
           1992,
           134
          ],
          [
           1993,
           123
          ],
          [
           1994,
           113
          ],
          [
           1995,
           102
          ],
          [
           1996,
           91
          ],
          [
           1997,
           92
          ],
          [
           1998,
           86
          ],
          [
           1999,
           97
          ],
          [
           2000,
           96
          ],
          [
           2001,
           106
          ],
          [
           2002,
           107
          ],
          [
           2003,
           109
          ],
          [
           2004,
           113
          ],
          [
           2005,
           118
          ],
          [
           2006,
           121
          ],
          [
           2007,
           125
          ]
         ],
         "hoverlabel": {
          "namelength": 0
         },
         "hovertemplate": "<b>%{hovertext}</b><br><br>country_or_area=Central Asia<br>year=%{customdata[0]}<br>value=%{customdata[1]}",
         "hovertext": [
          "Central Asia",
          "Central Asia",
          "Central Asia",
          "Central Asia",
          "Central Asia",
          "Central Asia",
          "Central Asia",
          "Central Asia",
          "Central Asia",
          "Central Asia",
          "Central Asia",
          "Central Asia",
          "Central Asia",
          "Central Asia",
          "Central Asia",
          "Central Asia",
          "Central Asia",
          "Central Asia",
          "Central Asia",
          "Central Asia",
          "Central Asia",
          "Central Asia",
          "Central Asia",
          "Central Asia",
          "Central Asia",
          "Central Asia",
          "Central Asia",
          "Central Asia",
          "Central Asia",
          "Central Asia",
          "Central Asia",
          "Central Asia",
          "Central Asia",
          "Central Asia",
          "Central Asia",
          "Central Asia",
          "Central Asia",
          "Central Asia",
          "Central Asia",
          "Central Asia",
          "Central Asia",
          "Central Asia",
          "Central Asia",
          "Central Asia",
          "Central Asia",
          "Central Asia",
          "Central Asia"
         ],
         "legendgroup": "country_or_area=Central Asia",
         "line": {
          "color": "#636efa",
          "dash": "solid"
         },
         "mode": "lines",
         "name": "Central Asia",
         "showlegend": true,
         "type": "scatter",
         "x": [
          1961,
          1962,
          1963,
          1964,
          1965,
          1966,
          1967,
          1968,
          1969,
          1970,
          1971,
          1972,
          1973,
          1974,
          1975,
          1976,
          1977,
          1978,
          1979,
          1980,
          1981,
          1982,
          1983,
          1984,
          1985,
          1986,
          1987,
          1988,
          1989,
          1990,
          1991,
          1992,
          1993,
          1994,
          1995,
          1996,
          1997,
          1998,
          1999,
          2000,
          2001,
          2002,
          2003,
          2004,
          2005,
          2006,
          2007
         ],
         "xaxis": "x",
         "y": [
          0,
          0,
          0,
          0,
          0,
          0,
          0,
          0,
          0,
          0,
          0,
          0,
          0,
          0,
          0,
          0,
          0,
          0,
          0,
          0,
          0,
          0,
          0,
          0,
          0,
          0,
          0,
          0,
          0,
          0,
          0,
          134,
          123,
          113,
          102,
          91,
          92,
          86,
          97,
          96,
          106,
          107,
          109,
          113,
          118,
          121,
          125
         ],
         "yaxis": "y"
        },
        {
         "customdata": [
          [
           1961,
           39
          ],
          [
           1962,
           40
          ],
          [
           1963,
           41
          ],
          [
           1964,
           43
          ],
          [
           1965,
           45
          ],
          [
           1966,
           47
          ],
          [
           1967,
           47
          ],
          [
           1968,
           46
          ],
          [
           1969,
           45
          ],
          [
           1970,
           46
          ],
          [
           1971,
           47
          ],
          [
           1972,
           45
          ],
          [
           1973,
           49
          ],
          [
           1974,
           48
          ],
          [
           1975,
           48
          ],
          [
           1976,
           47
          ],
          [
           1977,
           48
          ],
          [
           1978,
           51
          ],
          [
           1979,
           53
          ],
          [
           1980,
           52
          ],
          [
           1981,
           53
          ],
          [
           1982,
           57
          ],
          [
           1983,
           60
          ],
          [
           1984,
           64
          ],
          [
           1985,
           63
          ],
          [
           1986,
           63
          ],
          [
           1987,
           65
          ],
          [
           1988,
           66
          ],
          [
           1989,
           67
          ],
          [
           1990,
           70
          ],
          [
           1991,
           72
          ],
          [
           1992,
           74
          ],
          [
           1993,
           78
          ],
          [
           1994,
           81
          ],
          [
           1995,
           86
          ],
          [
           1996,
           90
          ],
          [
           1997,
           93
          ],
          [
           1998,
           95
          ],
          [
           1999,
           97
          ],
          [
           2000,
           100
          ],
          [
           2001,
           101
          ],
          [
           2002,
           104
          ],
          [
           2003,
           105
          ],
          [
           2004,
           110
          ],
          [
           2005,
           113
          ],
          [
           2006,
           114
          ],
          [
           2007,
           116
          ]
         ],
         "hoverlabel": {
          "namelength": 0
         },
         "hovertemplate": "<b>%{hovertext}</b><br><br>country_or_area=Eastern Asia<br>year=%{customdata[0]}<br>value=%{customdata[1]}",
         "hovertext": [
          "Eastern Asia",
          "Eastern Asia",
          "Eastern Asia",
          "Eastern Asia",
          "Eastern Asia",
          "Eastern Asia",
          "Eastern Asia",
          "Eastern Asia",
          "Eastern Asia",
          "Eastern Asia",
          "Eastern Asia",
          "Eastern Asia",
          "Eastern Asia",
          "Eastern Asia",
          "Eastern Asia",
          "Eastern Asia",
          "Eastern Asia",
          "Eastern Asia",
          "Eastern Asia",
          "Eastern Asia",
          "Eastern Asia",
          "Eastern Asia",
          "Eastern Asia",
          "Eastern Asia",
          "Eastern Asia",
          "Eastern Asia",
          "Eastern Asia",
          "Eastern Asia",
          "Eastern Asia",
          "Eastern Asia",
          "Eastern Asia",
          "Eastern Asia",
          "Eastern Asia",
          "Eastern Asia",
          "Eastern Asia",
          "Eastern Asia",
          "Eastern Asia",
          "Eastern Asia",
          "Eastern Asia",
          "Eastern Asia",
          "Eastern Asia",
          "Eastern Asia",
          "Eastern Asia",
          "Eastern Asia",
          "Eastern Asia",
          "Eastern Asia",
          "Eastern Asia"
         ],
         "legendgroup": "country_or_area=Eastern Asia",
         "line": {
          "color": "#EF553B",
          "dash": "solid"
         },
         "mode": "lines",
         "name": "Eastern Asia",
         "showlegend": true,
         "type": "scatter",
         "x": [
          1961,
          1962,
          1963,
          1964,
          1965,
          1966,
          1967,
          1968,
          1969,
          1970,
          1971,
          1972,
          1973,
          1974,
          1975,
          1976,
          1977,
          1978,
          1979,
          1980,
          1981,
          1982,
          1983,
          1984,
          1985,
          1986,
          1987,
          1988,
          1989,
          1990,
          1991,
          1992,
          1993,
          1994,
          1995,
          1996,
          1997,
          1998,
          1999,
          2000,
          2001,
          2002,
          2003,
          2004,
          2005,
          2006,
          2007
         ],
         "xaxis": "x",
         "y": [
          39,
          40,
          41,
          43,
          45,
          47,
          47,
          46,
          45,
          46,
          47,
          45,
          49,
          48,
          48,
          47,
          48,
          51,
          53,
          52,
          53,
          57,
          60,
          64,
          63,
          63,
          65,
          66,
          67,
          70,
          72,
          74,
          78,
          81,
          86,
          90,
          93,
          95,
          97,
          100,
          101,
          104,
          105,
          110,
          113,
          114,
          116
         ],
         "yaxis": "y"
        },
        {
         "customdata": [
          [
           1961,
           61
          ],
          [
           1962,
           64
          ],
          [
           1963,
           63
          ],
          [
           1964,
           63
          ],
          [
           1965,
           62
          ],
          [
           1966,
           62
          ],
          [
           1967,
           60
          ],
          [
           1968,
           63
          ],
          [
           1969,
           63
          ],
          [
           1970,
           65
          ],
          [
           1971,
           65
          ],
          [
           1972,
           62
          ],
          [
           1973,
           66
          ],
          [
           1974,
           66
          ],
          [
           1975,
           66
          ],
          [
           1976,
           68
          ],
          [
           1977,
           68
          ],
          [
           1978,
           71
          ],
          [
           1979,
           71
          ],
          [
           1980,
           75
          ],
          [
           1981,
           77
          ],
          [
           1982,
           77
          ],
          [
           1983,
           78
          ],
          [
           1984,
           80
          ],
          [
           1985,
           81
          ],
          [
           1986,
           82
          ],
          [
           1987,
           80
          ],
          [
           1988,
           83
          ],
          [
           1989,
           85
          ],
          [
           1990,
           85
          ],
          [
           1991,
           86
          ],
          [
           1992,
           90
          ],
          [
           1993,
           91
          ],
          [
           1994,
           91
          ],
          [
           1995,
           95
          ],
          [
           1996,
           96
          ],
          [
           1997,
           95
          ],
          [
           1998,
           93
          ],
          [
           1999,
           97
          ],
          [
           2000,
           100
          ],
          [
           2001,
           102
          ],
          [
           2002,
           105
          ],
          [
           2003,
           109
          ],
          [
           2004,
           112
          ],
          [
           2005,
           114
          ],
          [
           2006,
           118
          ],
          [
           2007,
           120
          ]
         ],
         "hoverlabel": {
          "namelength": 0
         },
         "hovertemplate": "<b>%{hovertext}</b><br><br>country_or_area=South-Eastern Asia<br>year=%{customdata[0]}<br>value=%{customdata[1]}",
         "hovertext": [
          "South-Eastern Asia",
          "South-Eastern Asia",
          "South-Eastern Asia",
          "South-Eastern Asia",
          "South-Eastern Asia",
          "South-Eastern Asia",
          "South-Eastern Asia",
          "South-Eastern Asia",
          "South-Eastern Asia",
          "South-Eastern Asia",
          "South-Eastern Asia",
          "South-Eastern Asia",
          "South-Eastern Asia",
          "South-Eastern Asia",
          "South-Eastern Asia",
          "South-Eastern Asia",
          "South-Eastern Asia",
          "South-Eastern Asia",
          "South-Eastern Asia",
          "South-Eastern Asia",
          "South-Eastern Asia",
          "South-Eastern Asia",
          "South-Eastern Asia",
          "South-Eastern Asia",
          "South-Eastern Asia",
          "South-Eastern Asia",
          "South-Eastern Asia",
          "South-Eastern Asia",
          "South-Eastern Asia",
          "South-Eastern Asia",
          "South-Eastern Asia",
          "South-Eastern Asia",
          "South-Eastern Asia",
          "South-Eastern Asia",
          "South-Eastern Asia",
          "South-Eastern Asia",
          "South-Eastern Asia",
          "South-Eastern Asia",
          "South-Eastern Asia",
          "South-Eastern Asia",
          "South-Eastern Asia",
          "South-Eastern Asia",
          "South-Eastern Asia",
          "South-Eastern Asia",
          "South-Eastern Asia",
          "South-Eastern Asia",
          "South-Eastern Asia"
         ],
         "legendgroup": "country_or_area=South-Eastern Asia",
         "line": {
          "color": "#00cc96",
          "dash": "solid"
         },
         "mode": "lines",
         "name": "South-Eastern Asia",
         "showlegend": true,
         "type": "scatter",
         "x": [
          1961,
          1962,
          1963,
          1964,
          1965,
          1966,
          1967,
          1968,
          1969,
          1970,
          1971,
          1972,
          1973,
          1974,
          1975,
          1976,
          1977,
          1978,
          1979,
          1980,
          1981,
          1982,
          1983,
          1984,
          1985,
          1986,
          1987,
          1988,
          1989,
          1990,
          1991,
          1992,
          1993,
          1994,
          1995,
          1996,
          1997,
          1998,
          1999,
          2000,
          2001,
          2002,
          2003,
          2004,
          2005,
          2006,
          2007
         ],
         "xaxis": "x",
         "y": [
          61,
          64,
          63,
          63,
          62,
          62,
          60,
          63,
          63,
          65,
          65,
          62,
          66,
          66,
          66,
          68,
          68,
          71,
          71,
          75,
          77,
          77,
          78,
          80,
          81,
          82,
          80,
          83,
          85,
          85,
          86,
          90,
          91,
          91,
          95,
          96,
          95,
          93,
          97,
          100,
          102,
          105,
          109,
          112,
          114,
          118,
          120
         ],
         "yaxis": "y"
        },
        {
         "customdata": [
          [
           1961,
           79
          ],
          [
           1962,
           77
          ],
          [
           1963,
           78
          ],
          [
           1964,
           78
          ],
          [
           1965,
           74
          ],
          [
           1966,
           72
          ],
          [
           1967,
           76
          ],
          [
           1968,
           78
          ],
          [
           1969,
           78
          ],
          [
           1970,
           80
          ],
          [
           1971,
           79
          ],
          [
           1972,
           75
          ],
          [
           1973,
           78
          ],
          [
           1974,
           75
          ],
          [
           1975,
           80
          ],
          [
           1976,
           78
          ],
          [
           1977,
           81
          ],
          [
           1978,
           82
          ],
          [
           1979,
           78
          ],
          [
           1980,
           78
          ],
          [
           1981,
           82
          ],
          [
           1982,
           80
          ],
          [
           1983,
           85
          ],
          [
           1984,
           85
          ],
          [
           1985,
           86
          ],
          [
           1986,
           85
          ],
          [
           1987,
           83
          ],
          [
           1988,
           88
          ],
          [
           1989,
           91
          ],
          [
           1990,
           91
          ],
          [
           1991,
           91
          ],
          [
           1992,
           92
          ],
          [
           1993,
           93
          ],
          [
           1994,
           94
          ],
          [
           1995,
           95
          ],
          [
           1996,
           97
          ],
          [
           1997,
           97
          ],
          [
           1998,
           98
          ],
          [
           1999,
           101
          ],
          [
           2000,
           99
          ],
          [
           2001,
           99
          ],
          [
           2002,
           94
          ],
          [
           2003,
           100
          ],
          [
           2004,
           98
          ],
          [
           2005,
           102
          ],
          [
           2006,
           104
          ],
          [
           2007,
           108
          ]
         ],
         "hoverlabel": {
          "namelength": 0
         },
         "hovertemplate": "<b>%{hovertext}</b><br><br>country_or_area=Southern Asia<br>year=%{customdata[0]}<br>value=%{customdata[1]}",
         "hovertext": [
          "Southern Asia",
          "Southern Asia",
          "Southern Asia",
          "Southern Asia",
          "Southern Asia",
          "Southern Asia",
          "Southern Asia",
          "Southern Asia",
          "Southern Asia",
          "Southern Asia",
          "Southern Asia",
          "Southern Asia",
          "Southern Asia",
          "Southern Asia",
          "Southern Asia",
          "Southern Asia",
          "Southern Asia",
          "Southern Asia",
          "Southern Asia",
          "Southern Asia",
          "Southern Asia",
          "Southern Asia",
          "Southern Asia",
          "Southern Asia",
          "Southern Asia",
          "Southern Asia",
          "Southern Asia",
          "Southern Asia",
          "Southern Asia",
          "Southern Asia",
          "Southern Asia",
          "Southern Asia",
          "Southern Asia",
          "Southern Asia",
          "Southern Asia",
          "Southern Asia",
          "Southern Asia",
          "Southern Asia",
          "Southern Asia",
          "Southern Asia",
          "Southern Asia",
          "Southern Asia",
          "Southern Asia",
          "Southern Asia",
          "Southern Asia",
          "Southern Asia",
          "Southern Asia"
         ],
         "legendgroup": "country_or_area=Southern Asia",
         "line": {
          "color": "#ab63fa",
          "dash": "solid"
         },
         "mode": "lines",
         "name": "Southern Asia",
         "showlegend": true,
         "type": "scatter",
         "x": [
          1961,
          1962,
          1963,
          1964,
          1965,
          1966,
          1967,
          1968,
          1969,
          1970,
          1971,
          1972,
          1973,
          1974,
          1975,
          1976,
          1977,
          1978,
          1979,
          1980,
          1981,
          1982,
          1983,
          1984,
          1985,
          1986,
          1987,
          1988,
          1989,
          1990,
          1991,
          1992,
          1993,
          1994,
          1995,
          1996,
          1997,
          1998,
          1999,
          2000,
          2001,
          2002,
          2003,
          2004,
          2005,
          2006,
          2007
         ],
         "xaxis": "x",
         "y": [
          79,
          77,
          78,
          78,
          74,
          72,
          76,
          78,
          78,
          80,
          79,
          75,
          78,
          75,
          80,
          78,
          81,
          82,
          78,
          78,
          82,
          80,
          85,
          85,
          86,
          85,
          83,
          88,
          91,
          91,
          91,
          92,
          93,
          94,
          95,
          97,
          97,
          98,
          101,
          99,
          99,
          94,
          100,
          98,
          102,
          104,
          108
         ],
         "yaxis": "y"
        },
        {
         "customdata": [
          [
           1961,
           106
          ],
          [
           1962,
           109
          ],
          [
           1963,
           108
          ],
          [
           1964,
           110
          ],
          [
           1965,
           107
          ],
          [
           1966,
           108
          ],
          [
           1967,
           110
          ],
          [
           1968,
           109
          ],
          [
           1969,
           107
          ],
          [
           1970,
           105
          ],
          [
           1971,
           111
          ],
          [
           1972,
           113
          ],
          [
           1973,
           99
          ],
          [
           1974,
           107
          ],
          [
           1975,
           108
          ],
          [
           1976,
           113
          ],
          [
           1977,
           110
          ],
          [
           1978,
           112
          ],
          [
           1979,
           109
          ],
          [
           1980,
           111
          ],
          [
           1981,
           109
          ],
          [
           1982,
           112
          ],
          [
           1983,
           108
          ],
          [
           1984,
           109
          ],
          [
           1985,
           111
          ],
          [
           1986,
           113
          ],
          [
           1987,
           109
          ],
          [
           1988,
           115
          ],
          [
           1989,
           105
          ],
          [
           1990,
           111
          ],
          [
           1991,
           106
          ],
          [
           1992,
           104
          ],
          [
           1993,
           102
          ],
          [
           1994,
           100
          ],
          [
           1995,
           100
          ],
          [
           1996,
           103
          ],
          [
           1997,
           100
          ],
          [
           1998,
           105
          ],
          [
           1999,
           99
          ],
          [
           2000,
           103
          ],
          [
           2001,
           97
          ],
          [
           2002,
           101
          ],
          [
           2003,
           99
          ],
          [
           2004,
           100
          ],
          [
           2005,
           102
          ],
          [
           2006,
           101
          ],
          [
           2007,
           92
          ]
         ],
         "hoverlabel": {
          "namelength": 0
         },
         "hovertemplate": "<b>%{hovertext}</b><br><br>country_or_area=Western Asia<br>year=%{customdata[0]}<br>value=%{customdata[1]}",
         "hovertext": [
          "Western Asia",
          "Western Asia",
          "Western Asia",
          "Western Asia",
          "Western Asia",
          "Western Asia",
          "Western Asia",
          "Western Asia",
          "Western Asia",
          "Western Asia",
          "Western Asia",
          "Western Asia",
          "Western Asia",
          "Western Asia",
          "Western Asia",
          "Western Asia",
          "Western Asia",
          "Western Asia",
          "Western Asia",
          "Western Asia",
          "Western Asia",
          "Western Asia",
          "Western Asia",
          "Western Asia",
          "Western Asia",
          "Western Asia",
          "Western Asia",
          "Western Asia",
          "Western Asia",
          "Western Asia",
          "Western Asia",
          "Western Asia",
          "Western Asia",
          "Western Asia",
          "Western Asia",
          "Western Asia",
          "Western Asia",
          "Western Asia",
          "Western Asia",
          "Western Asia",
          "Western Asia",
          "Western Asia",
          "Western Asia",
          "Western Asia",
          "Western Asia",
          "Western Asia",
          "Western Asia"
         ],
         "legendgroup": "country_or_area=Western Asia",
         "line": {
          "color": "#FFA15A",
          "dash": "solid"
         },
         "mode": "lines",
         "name": "Western Asia",
         "showlegend": true,
         "type": "scatter",
         "x": [
          1961,
          1962,
          1963,
          1964,
          1965,
          1966,
          1967,
          1968,
          1969,
          1970,
          1971,
          1972,
          1973,
          1974,
          1975,
          1976,
          1977,
          1978,
          1979,
          1980,
          1981,
          1982,
          1983,
          1984,
          1985,
          1986,
          1987,
          1988,
          1989,
          1990,
          1991,
          1992,
          1993,
          1994,
          1995,
          1996,
          1997,
          1998,
          1999,
          2000,
          2001,
          2002,
          2003,
          2004,
          2005,
          2006,
          2007
         ],
         "xaxis": "x",
         "y": [
          106,
          109,
          108,
          110,
          107,
          108,
          110,
          109,
          107,
          105,
          111,
          113,
          99,
          107,
          108,
          113,
          110,
          112,
          109,
          111,
          109,
          112,
          108,
          109,
          111,
          113,
          109,
          115,
          105,
          111,
          106,
          104,
          102,
          100,
          100,
          103,
          100,
          105,
          99,
          103,
          97,
          101,
          99,
          100,
          102,
          101,
          92
         ],
         "yaxis": "y"
        }
       ],
       "layout": {
        "annotations": [
         {
          "arrowhead": 5,
          "ax": -30,
          "ay": -20,
          "showarrow": true,
          "text": "1991",
          "x": 1991,
          "y": 50
         }
        ],
        "autosize": true,
        "legend": {
         "tracegroupgap": 0
        },
        "shapes": [
         {
          "line": {
           "width": 3
          },
          "type": "line",
          "x0": 1991,
          "x1": 1991,
          "y0": 0,
          "y1": 150
         }
        ],
        "template": {
         "data": {
          "bar": [
           {
            "error_x": {
             "color": "#2a3f5f"
            },
            "error_y": {
             "color": "#2a3f5f"
            },
            "marker": {
             "line": {
              "color": "#E5ECF6",
              "width": 0.5
             }
            },
            "type": "bar"
           }
          ],
          "barpolar": [
           {
            "marker": {
             "line": {
              "color": "#E5ECF6",
              "width": 0.5
             }
            },
            "type": "barpolar"
           }
          ],
          "carpet": [
           {
            "aaxis": {
             "endlinecolor": "#2a3f5f",
             "gridcolor": "white",
             "linecolor": "white",
             "minorgridcolor": "white",
             "startlinecolor": "#2a3f5f"
            },
            "baxis": {
             "endlinecolor": "#2a3f5f",
             "gridcolor": "white",
             "linecolor": "white",
             "minorgridcolor": "white",
             "startlinecolor": "#2a3f5f"
            },
            "type": "carpet"
           }
          ],
          "choropleth": [
           {
            "colorbar": {
             "outlinewidth": 0,
             "ticks": ""
            },
            "type": "choropleth"
           }
          ],
          "contour": [
           {
            "colorbar": {
             "outlinewidth": 0,
             "ticks": ""
            },
            "colorscale": [
             [
              0,
              "#0d0887"
             ],
             [
              0.1111111111111111,
              "#46039f"
             ],
             [
              0.2222222222222222,
              "#7201a8"
             ],
             [
              0.3333333333333333,
              "#9c179e"
             ],
             [
              0.4444444444444444,
              "#bd3786"
             ],
             [
              0.5555555555555556,
              "#d8576b"
             ],
             [
              0.6666666666666666,
              "#ed7953"
             ],
             [
              0.7777777777777778,
              "#fb9f3a"
             ],
             [
              0.8888888888888888,
              "#fdca26"
             ],
             [
              1,
              "#f0f921"
             ]
            ],
            "type": "contour"
           }
          ],
          "contourcarpet": [
           {
            "colorbar": {
             "outlinewidth": 0,
             "ticks": ""
            },
            "type": "contourcarpet"
           }
          ],
          "heatmap": [
           {
            "colorbar": {
             "outlinewidth": 0,
             "ticks": ""
            },
            "colorscale": [
             [
              0,
              "#0d0887"
             ],
             [
              0.1111111111111111,
              "#46039f"
             ],
             [
              0.2222222222222222,
              "#7201a8"
             ],
             [
              0.3333333333333333,
              "#9c179e"
             ],
             [
              0.4444444444444444,
              "#bd3786"
             ],
             [
              0.5555555555555556,
              "#d8576b"
             ],
             [
              0.6666666666666666,
              "#ed7953"
             ],
             [
              0.7777777777777778,
              "#fb9f3a"
             ],
             [
              0.8888888888888888,
              "#fdca26"
             ],
             [
              1,
              "#f0f921"
             ]
            ],
            "type": "heatmap"
           }
          ],
          "heatmapgl": [
           {
            "colorbar": {
             "outlinewidth": 0,
             "ticks": ""
            },
            "colorscale": [
             [
              0,
              "#0d0887"
             ],
             [
              0.1111111111111111,
              "#46039f"
             ],
             [
              0.2222222222222222,
              "#7201a8"
             ],
             [
              0.3333333333333333,
              "#9c179e"
             ],
             [
              0.4444444444444444,
              "#bd3786"
             ],
             [
              0.5555555555555556,
              "#d8576b"
             ],
             [
              0.6666666666666666,
              "#ed7953"
             ],
             [
              0.7777777777777778,
              "#fb9f3a"
             ],
             [
              0.8888888888888888,
              "#fdca26"
             ],
             [
              1,
              "#f0f921"
             ]
            ],
            "type": "heatmapgl"
           }
          ],
          "histogram": [
           {
            "marker": {
             "colorbar": {
              "outlinewidth": 0,
              "ticks": ""
             }
            },
            "type": "histogram"
           }
          ],
          "histogram2d": [
           {
            "colorbar": {
             "outlinewidth": 0,
             "ticks": ""
            },
            "colorscale": [
             [
              0,
              "#0d0887"
             ],
             [
              0.1111111111111111,
              "#46039f"
             ],
             [
              0.2222222222222222,
              "#7201a8"
             ],
             [
              0.3333333333333333,
              "#9c179e"
             ],
             [
              0.4444444444444444,
              "#bd3786"
             ],
             [
              0.5555555555555556,
              "#d8576b"
             ],
             [
              0.6666666666666666,
              "#ed7953"
             ],
             [
              0.7777777777777778,
              "#fb9f3a"
             ],
             [
              0.8888888888888888,
              "#fdca26"
             ],
             [
              1,
              "#f0f921"
             ]
            ],
            "type": "histogram2d"
           }
          ],
          "histogram2dcontour": [
           {
            "colorbar": {
             "outlinewidth": 0,
             "ticks": ""
            },
            "colorscale": [
             [
              0,
              "#0d0887"
             ],
             [
              0.1111111111111111,
              "#46039f"
             ],
             [
              0.2222222222222222,
              "#7201a8"
             ],
             [
              0.3333333333333333,
              "#9c179e"
             ],
             [
              0.4444444444444444,
              "#bd3786"
             ],
             [
              0.5555555555555556,
              "#d8576b"
             ],
             [
              0.6666666666666666,
              "#ed7953"
             ],
             [
              0.7777777777777778,
              "#fb9f3a"
             ],
             [
              0.8888888888888888,
              "#fdca26"
             ],
             [
              1,
              "#f0f921"
             ]
            ],
            "type": "histogram2dcontour"
           }
          ],
          "mesh3d": [
           {
            "colorbar": {
             "outlinewidth": 0,
             "ticks": ""
            },
            "type": "mesh3d"
           }
          ],
          "parcoords": [
           {
            "line": {
             "colorbar": {
              "outlinewidth": 0,
              "ticks": ""
             }
            },
            "type": "parcoords"
           }
          ],
          "pie": [
           {
            "automargin": true,
            "type": "pie"
           }
          ],
          "scatter": [
           {
            "marker": {
             "colorbar": {
              "outlinewidth": 0,
              "ticks": ""
             }
            },
            "type": "scatter"
           }
          ],
          "scatter3d": [
           {
            "line": {
             "colorbar": {
              "outlinewidth": 0,
              "ticks": ""
             }
            },
            "marker": {
             "colorbar": {
              "outlinewidth": 0,
              "ticks": ""
             }
            },
            "type": "scatter3d"
           }
          ],
          "scattercarpet": [
           {
            "marker": {
             "colorbar": {
              "outlinewidth": 0,
              "ticks": ""
             }
            },
            "type": "scattercarpet"
           }
          ],
          "scattergeo": [
           {
            "marker": {
             "colorbar": {
              "outlinewidth": 0,
              "ticks": ""
             }
            },
            "type": "scattergeo"
           }
          ],
          "scattergl": [
           {
            "marker": {
             "colorbar": {
              "outlinewidth": 0,
              "ticks": ""
             }
            },
            "type": "scattergl"
           }
          ],
          "scattermapbox": [
           {
            "marker": {
             "colorbar": {
              "outlinewidth": 0,
              "ticks": ""
             }
            },
            "type": "scattermapbox"
           }
          ],
          "scatterpolar": [
           {
            "marker": {
             "colorbar": {
              "outlinewidth": 0,
              "ticks": ""
             }
            },
            "type": "scatterpolar"
           }
          ],
          "scatterpolargl": [
           {
            "marker": {
             "colorbar": {
              "outlinewidth": 0,
              "ticks": ""
             }
            },
            "type": "scatterpolargl"
           }
          ],
          "scatterternary": [
           {
            "marker": {
             "colorbar": {
              "outlinewidth": 0,
              "ticks": ""
             }
            },
            "type": "scatterternary"
           }
          ],
          "surface": [
           {
            "colorbar": {
             "outlinewidth": 0,
             "ticks": ""
            },
            "colorscale": [
             [
              0,
              "#0d0887"
             ],
             [
              0.1111111111111111,
              "#46039f"
             ],
             [
              0.2222222222222222,
              "#7201a8"
             ],
             [
              0.3333333333333333,
              "#9c179e"
             ],
             [
              0.4444444444444444,
              "#bd3786"
             ],
             [
              0.5555555555555556,
              "#d8576b"
             ],
             [
              0.6666666666666666,
              "#ed7953"
             ],
             [
              0.7777777777777778,
              "#fb9f3a"
             ],
             [
              0.8888888888888888,
              "#fdca26"
             ],
             [
              1,
              "#f0f921"
             ]
            ],
            "type": "surface"
           }
          ],
          "table": [
           {
            "cells": {
             "fill": {
              "color": "#EBF0F8"
             },
             "line": {
              "color": "white"
             }
            },
            "header": {
             "fill": {
              "color": "#C8D4E3"
             },
             "line": {
              "color": "white"
             }
            },
            "type": "table"
           }
          ]
         },
         "layout": {
          "annotationdefaults": {
           "arrowcolor": "#2a3f5f",
           "arrowhead": 0,
           "arrowwidth": 1
          },
          "coloraxis": {
           "colorbar": {
            "outlinewidth": 0,
            "ticks": ""
           }
          },
          "colorscale": {
           "diverging": [
            [
             0,
             "#8e0152"
            ],
            [
             0.1,
             "#c51b7d"
            ],
            [
             0.2,
             "#de77ae"
            ],
            [
             0.3,
             "#f1b6da"
            ],
            [
             0.4,
             "#fde0ef"
            ],
            [
             0.5,
             "#f7f7f7"
            ],
            [
             0.6,
             "#e6f5d0"
            ],
            [
             0.7,
             "#b8e186"
            ],
            [
             0.8,
             "#7fbc41"
            ],
            [
             0.9,
             "#4d9221"
            ],
            [
             1,
             "#276419"
            ]
           ],
           "sequential": [
            [
             0,
             "#0d0887"
            ],
            [
             0.1111111111111111,
             "#46039f"
            ],
            [
             0.2222222222222222,
             "#7201a8"
            ],
            [
             0.3333333333333333,
             "#9c179e"
            ],
            [
             0.4444444444444444,
             "#bd3786"
            ],
            [
             0.5555555555555556,
             "#d8576b"
            ],
            [
             0.6666666666666666,
             "#ed7953"
            ],
            [
             0.7777777777777778,
             "#fb9f3a"
            ],
            [
             0.8888888888888888,
             "#fdca26"
            ],
            [
             1,
             "#f0f921"
            ]
           ],
           "sequentialminus": [
            [
             0,
             "#0d0887"
            ],
            [
             0.1111111111111111,
             "#46039f"
            ],
            [
             0.2222222222222222,
             "#7201a8"
            ],
            [
             0.3333333333333333,
             "#9c179e"
            ],
            [
             0.4444444444444444,
             "#bd3786"
            ],
            [
             0.5555555555555556,
             "#d8576b"
            ],
            [
             0.6666666666666666,
             "#ed7953"
            ],
            [
             0.7777777777777778,
             "#fb9f3a"
            ],
            [
             0.8888888888888888,
             "#fdca26"
            ],
            [
             1,
             "#f0f921"
            ]
           ]
          },
          "colorway": [
           "#636efa",
           "#EF553B",
           "#00cc96",
           "#ab63fa",
           "#FFA15A",
           "#19d3f3",
           "#FF6692",
           "#B6E880",
           "#FF97FF",
           "#FECB52"
          ],
          "font": {
           "color": "#2a3f5f"
          },
          "geo": {
           "bgcolor": "white",
           "lakecolor": "white",
           "landcolor": "#E5ECF6",
           "showlakes": true,
           "showland": true,
           "subunitcolor": "white"
          },
          "hoverlabel": {
           "align": "left"
          },
          "hovermode": "closest",
          "mapbox": {
           "style": "light"
          },
          "paper_bgcolor": "white",
          "plot_bgcolor": "#E5ECF6",
          "polar": {
           "angularaxis": {
            "gridcolor": "white",
            "linecolor": "white",
            "ticks": ""
           },
           "bgcolor": "#E5ECF6",
           "radialaxis": {
            "gridcolor": "white",
            "linecolor": "white",
            "ticks": ""
           }
          },
          "scene": {
           "xaxis": {
            "backgroundcolor": "#E5ECF6",
            "gridcolor": "white",
            "gridwidth": 2,
            "linecolor": "white",
            "showbackground": true,
            "ticks": "",
            "zerolinecolor": "white"
           },
           "yaxis": {
            "backgroundcolor": "#E5ECF6",
            "gridcolor": "white",
            "gridwidth": 2,
            "linecolor": "white",
            "showbackground": true,
            "ticks": "",
            "zerolinecolor": "white"
           },
           "zaxis": {
            "backgroundcolor": "#E5ECF6",
            "gridcolor": "white",
            "gridwidth": 2,
            "linecolor": "white",
            "showbackground": true,
            "ticks": "",
            "zerolinecolor": "white"
           }
          },
          "shapedefaults": {
           "line": {
            "color": "#2a3f5f"
           }
          },
          "ternary": {
           "aaxis": {
            "gridcolor": "white",
            "linecolor": "white",
            "ticks": ""
           },
           "baxis": {
            "gridcolor": "white",
            "linecolor": "white",
            "ticks": ""
           },
           "bgcolor": "#E5ECF6",
           "caxis": {
            "gridcolor": "white",
            "linecolor": "white",
            "ticks": ""
           }
          },
          "title": {
           "x": 0.05
          },
          "xaxis": {
           "automargin": true,
           "gridcolor": "white",
           "linecolor": "white",
           "ticks": "",
           "title": {
            "standoff": 15
           },
           "zerolinecolor": "white",
           "zerolinewidth": 2
          },
          "yaxis": {
           "automargin": true,
           "gridcolor": "white",
           "linecolor": "white",
           "ticks": "",
           "title": {
            "standoff": 15
           },
           "zerolinecolor": "white",
           "zerolinewidth": 2
          }
         }
        },
        "title": {
         "text": "Continent of Asia"
        },
        "xaxis": {
         "anchor": "y",
         "autorange": true,
         "domain": [
          0,
          1
         ],
         "range": [
          1961,
          2007
         ],
         "title": {
          "text": "Year"
         },
         "type": "linear"
        },
        "yaxis": {
         "anchor": "x",
         "domain": [
          0,
          1
         ],
         "range": [
          30,
          150
         ],
         "title": {
          "text": "Gross per capita PIN (base 1999-2001) in int. $ in int. $"
         },
         "type": "linear"
        }
       }
      },
      "image/png": "[encoded data removed]",
      "text/html": [
       "<div>\n",
       "        \n",
       "        \n",
       "            <div id=\"b849c13f-0f64-4037-8259-e8f48604c05f\" class=\"plotly-graph-div\" style=\"height:600px; width:100%;\"></div>\n",
       "            <script type=\"text/javascript\">\n",
       "                require([\"plotly\"], function(Plotly) {\n",
       "                    window.PLOTLYENV=window.PLOTLYENV || {};\n",
       "                    \n",
       "                if (document.getElementById(\"b849c13f-0f64-4037-8259-e8f48604c05f\")) {\n",
       "                    Plotly.newPlot(\n",
       "                        'b849c13f-0f64-4037-8259-e8f48604c05f',\n",
       "                        [{\"customdata\": [[1961.0, 0.0], [1962.0, 0.0], [1963.0, 0.0], [1964.0, 0.0], [1965.0, 0.0], [1966.0, 0.0], [1967.0, 0.0], [1968.0, 0.0], [1969.0, 0.0], [1970.0, 0.0], [1971.0, 0.0], [1972.0, 0.0], [1973.0, 0.0], [1974.0, 0.0], [1975.0, 0.0], [1976.0, 0.0], [1977.0, 0.0], [1978.0, 0.0], [1979.0, 0.0], [1980.0, 0.0], [1981.0, 0.0], [1982.0, 0.0], [1983.0, 0.0], [1984.0, 0.0], [1985.0, 0.0], [1986.0, 0.0], [1987.0, 0.0], [1988.0, 0.0], [1989.0, 0.0], [1990.0, 0.0], [1991.0, 0.0], [1992.0, 134.0], [1993.0, 123.0], [1994.0, 113.0], [1995.0, 102.0], [1996.0, 91.0], [1997.0, 92.0], [1998.0, 86.0], [1999.0, 97.0], [2000.0, 96.0], [2001.0, 106.0], [2002.0, 107.0], [2003.0, 109.0], [2004.0, 113.0], [2005.0, 118.0], [2006.0, 121.0], [2007.0, 125.0]], \"hoverlabel\": {\"namelength\": 0}, \"hovertemplate\": \"<b>%{hovertext}</b><br><br>country_or_area=Central Asia<br>year=%{customdata[0]}<br>value=%{customdata[1]}\", \"hovertext\": [\"Central Asia\", \"Central Asia\", \"Central Asia\", \"Central Asia\", \"Central Asia\", \"Central Asia\", \"Central Asia\", \"Central Asia\", \"Central Asia\", \"Central Asia\", \"Central Asia\", \"Central Asia\", \"Central Asia\", \"Central Asia\", \"Central Asia\", \"Central Asia\", \"Central Asia\", \"Central Asia\", \"Central Asia\", \"Central Asia\", \"Central Asia\", \"Central Asia\", \"Central Asia\", \"Central Asia\", \"Central Asia\", \"Central Asia\", \"Central Asia\", \"Central Asia\", \"Central Asia\", \"Central Asia\", \"Central Asia\", \"Central Asia\", \"Central Asia\", \"Central Asia\", \"Central Asia\", \"Central Asia\", \"Central Asia\", \"Central Asia\", \"Central Asia\", \"Central Asia\", \"Central Asia\", \"Central Asia\", \"Central Asia\", \"Central Asia\", \"Central Asia\", \"Central Asia\", \"Central Asia\"], \"legendgroup\": \"country_or_area=Central Asia\", \"line\": {\"color\": \"#636efa\", \"dash\": \"solid\"}, \"mode\": \"lines\", \"name\": \"Central Asia\", \"showlegend\": true, \"type\": \"scatter\", \"x\": [1961.0, 1962.0, 1963.0, 1964.0, 1965.0, 1966.0, 1967.0, 1968.0, 1969.0, 1970.0, 1971.0, 1972.0, 1973.0, 1974.0, 1975.0, 1976.0, 1977.0, 1978.0, 1979.0, 1980.0, 1981.0, 1982.0, 1983.0, 1984.0, 1985.0, 1986.0, 1987.0, 1988.0, 1989.0, 1990.0, 1991.0, 1992.0, 1993.0, 1994.0, 1995.0, 1996.0, 1997.0, 1998.0, 1999.0, 2000.0, 2001.0, 2002.0, 2003.0, 2004.0, 2005.0, 2006.0, 2007.0], \"xaxis\": \"x\", \"y\": [0.0, 0.0, 0.0, 0.0, 0.0, 0.0, 0.0, 0.0, 0.0, 0.0, 0.0, 0.0, 0.0, 0.0, 0.0, 0.0, 0.0, 0.0, 0.0, 0.0, 0.0, 0.0, 0.0, 0.0, 0.0, 0.0, 0.0, 0.0, 0.0, 0.0, 0.0, 134.0, 123.0, 113.0, 102.0, 91.0, 92.0, 86.0, 97.0, 96.0, 106.0, 107.0, 109.0, 113.0, 118.0, 121.0, 125.0], \"yaxis\": \"y\"}, {\"customdata\": [[1961.0, 39.0], [1962.0, 40.0], [1963.0, 41.0], [1964.0, 43.0], [1965.0, 45.0], [1966.0, 47.0], [1967.0, 47.0], [1968.0, 46.0], [1969.0, 45.0], [1970.0, 46.0], [1971.0, 47.0], [1972.0, 45.0], [1973.0, 49.0], [1974.0, 48.0], [1975.0, 48.0], [1976.0, 47.0], [1977.0, 48.0], [1978.0, 51.0], [1979.0, 53.0], [1980.0, 52.0], [1981.0, 53.0], [1982.0, 57.0], [1983.0, 60.0], [1984.0, 64.0], [1985.0, 63.0], [1986.0, 63.0], [1987.0, 65.0], [1988.0, 66.0], [1989.0, 67.0], [1990.0, 70.0], [1991.0, 72.0], [1992.0, 74.0], [1993.0, 78.0], [1994.0, 81.0], [1995.0, 86.0], [1996.0, 90.0], [1997.0, 93.0], [1998.0, 95.0], [1999.0, 97.0], [2000.0, 100.0], [2001.0, 101.0], [2002.0, 104.0], [2003.0, 105.0], [2004.0, 110.0], [2005.0, 113.0], [2006.0, 114.0], [2007.0, 116.0]], \"hoverlabel\": {\"namelength\": 0}, \"hovertemplate\": \"<b>%{hovertext}</b><br><br>country_or_area=Eastern Asia<br>year=%{customdata[0]}<br>value=%{customdata[1]}\", \"hovertext\": [\"Eastern Asia\", \"Eastern Asia\", \"Eastern Asia\", \"Eastern Asia\", \"Eastern Asia\", \"Eastern Asia\", \"Eastern Asia\", \"Eastern Asia\", \"Eastern Asia\", \"Eastern Asia\", \"Eastern Asia\", \"Eastern Asia\", \"Eastern Asia\", \"Eastern Asia\", \"Eastern Asia\", \"Eastern Asia\", \"Eastern Asia\", \"Eastern Asia\", \"Eastern Asia\", \"Eastern Asia\", \"Eastern Asia\", \"Eastern Asia\", \"Eastern Asia\", \"Eastern Asia\", \"Eastern Asia\", \"Eastern Asia\", \"Eastern Asia\", \"Eastern Asia\", \"Eastern Asia\", \"Eastern Asia\", \"Eastern Asia\", \"Eastern Asia\", \"Eastern Asia\", \"Eastern Asia\", \"Eastern Asia\", \"Eastern Asia\", \"Eastern Asia\", \"Eastern Asia\", \"Eastern Asia\", \"Eastern Asia\", \"Eastern Asia\", \"Eastern Asia\", \"Eastern Asia\", \"Eastern Asia\", \"Eastern Asia\", \"Eastern Asia\", \"Eastern Asia\"], \"legendgroup\": \"country_or_area=Eastern Asia\", \"line\": {\"color\": \"#EF553B\", \"dash\": \"solid\"}, \"mode\": \"lines\", \"name\": \"Eastern Asia\", \"showlegend\": true, \"type\": \"scatter\", \"x\": [1961.0, 1962.0, 1963.0, 1964.0, 1965.0, 1966.0, 1967.0, 1968.0, 1969.0, 1970.0, 1971.0, 1972.0, 1973.0, 1974.0, 1975.0, 1976.0, 1977.0, 1978.0, 1979.0, 1980.0, 1981.0, 1982.0, 1983.0, 1984.0, 1985.0, 1986.0, 1987.0, 1988.0, 1989.0, 1990.0, 1991.0, 1992.0, 1993.0, 1994.0, 1995.0, 1996.0, 1997.0, 1998.0, 1999.0, 2000.0, 2001.0, 2002.0, 2003.0, 2004.0, 2005.0, 2006.0, 2007.0], \"xaxis\": \"x\", \"y\": [39.0, 40.0, 41.0, 43.0, 45.0, 47.0, 47.0, 46.0, 45.0, 46.0, 47.0, 45.0, 49.0, 48.0, 48.0, 47.0, 48.0, 51.0, 53.0, 52.0, 53.0, 57.0, 60.0, 64.0, 63.0, 63.0, 65.0, 66.0, 67.0, 70.0, 72.0, 74.0, 78.0, 81.0, 86.0, 90.0, 93.0, 95.0, 97.0, 100.0, 101.0, 104.0, 105.0, 110.0, 113.0, 114.0, 116.0], \"yaxis\": \"y\"}, {\"customdata\": [[1961.0, 61.0], [1962.0, 64.0], [1963.0, 63.0], [1964.0, 63.0], [1965.0, 62.0], [1966.0, 62.0], [1967.0, 60.0], [1968.0, 63.0], [1969.0, 63.0], [1970.0, 65.0], [1971.0, 65.0], [1972.0, 62.0], [1973.0, 66.0], [1974.0, 66.0], [1975.0, 66.0], [1976.0, 68.0], [1977.0, 68.0], [1978.0, 71.0], [1979.0, 71.0], [1980.0, 75.0], [1981.0, 77.0], [1982.0, 77.0], [1983.0, 78.0], [1984.0, 80.0], [1985.0, 81.0], [1986.0, 82.0], [1987.0, 80.0], [1988.0, 83.0], [1989.0, 85.0], [1990.0, 85.0], [1991.0, 86.0], [1992.0, 90.0], [1993.0, 91.0], [1994.0, 91.0], [1995.0, 95.0], [1996.0, 96.0], [1997.0, 95.0], [1998.0, 93.0], [1999.0, 97.0], [2000.0, 100.0], [2001.0, 102.0], [2002.0, 105.0], [2003.0, 109.0], [2004.0, 112.0], [2005.0, 114.0], [2006.0, 118.0], [2007.0, 120.0]], \"hoverlabel\": {\"namelength\": 0}, \"hovertemplate\": \"<b>%{hovertext}</b><br><br>country_or_area=South-Eastern Asia<br>year=%{customdata[0]}<br>value=%{customdata[1]}\", \"hovertext\": [\"South-Eastern Asia\", \"South-Eastern Asia\", \"South-Eastern Asia\", \"South-Eastern Asia\", \"South-Eastern Asia\", \"South-Eastern Asia\", \"South-Eastern Asia\", \"South-Eastern Asia\", \"South-Eastern Asia\", \"South-Eastern Asia\", \"South-Eastern Asia\", \"South-Eastern Asia\", \"South-Eastern Asia\", \"South-Eastern Asia\", \"South-Eastern Asia\", \"South-Eastern Asia\", \"South-Eastern Asia\", \"South-Eastern Asia\", \"South-Eastern Asia\", \"South-Eastern Asia\", \"South-Eastern Asia\", \"South-Eastern Asia\", \"South-Eastern Asia\", \"South-Eastern Asia\", \"South-Eastern Asia\", \"South-Eastern Asia\", \"South-Eastern Asia\", \"South-Eastern Asia\", \"South-Eastern Asia\", \"South-Eastern Asia\", \"South-Eastern Asia\", \"South-Eastern Asia\", \"South-Eastern Asia\", \"South-Eastern Asia\", \"South-Eastern Asia\", \"South-Eastern Asia\", \"South-Eastern Asia\", \"South-Eastern Asia\", \"South-Eastern Asia\", \"South-Eastern Asia\", \"South-Eastern Asia\", \"South-Eastern Asia\", \"South-Eastern Asia\", \"South-Eastern Asia\", \"South-Eastern Asia\", \"South-Eastern Asia\", \"South-Eastern Asia\"], \"legendgroup\": \"country_or_area=South-Eastern Asia\", \"line\": {\"color\": \"#00cc96\", \"dash\": \"solid\"}, \"mode\": \"lines\", \"name\": \"South-Eastern Asia\", \"showlegend\": true, \"type\": \"scatter\", \"x\": [1961.0, 1962.0, 1963.0, 1964.0, 1965.0, 1966.0, 1967.0, 1968.0, 1969.0, 1970.0, 1971.0, 1972.0, 1973.0, 1974.0, 1975.0, 1976.0, 1977.0, 1978.0, 1979.0, 1980.0, 1981.0, 1982.0, 1983.0, 1984.0, 1985.0, 1986.0, 1987.0, 1988.0, 1989.0, 1990.0, 1991.0, 1992.0, 1993.0, 1994.0, 1995.0, 1996.0, 1997.0, 1998.0, 1999.0, 2000.0, 2001.0, 2002.0, 2003.0, 2004.0, 2005.0, 2006.0, 2007.0], \"xaxis\": \"x\", \"y\": [61.0, 64.0, 63.0, 63.0, 62.0, 62.0, 60.0, 63.0, 63.0, 65.0, 65.0, 62.0, 66.0, 66.0, 66.0, 68.0, 68.0, 71.0, 71.0, 75.0, 77.0, 77.0, 78.0, 80.0, 81.0, 82.0, 80.0, 83.0, 85.0, 85.0, 86.0, 90.0, 91.0, 91.0, 95.0, 96.0, 95.0, 93.0, 97.0, 100.0, 102.0, 105.0, 109.0, 112.0, 114.0, 118.0, 120.0], \"yaxis\": \"y\"}, {\"customdata\": [[1961.0, 79.0], [1962.0, 77.0], [1963.0, 78.0], [1964.0, 78.0], [1965.0, 74.0], [1966.0, 72.0], [1967.0, 76.0], [1968.0, 78.0], [1969.0, 78.0], [1970.0, 80.0], [1971.0, 79.0], [1972.0, 75.0], [1973.0, 78.0], [1974.0, 75.0], [1975.0, 80.0], [1976.0, 78.0], [1977.0, 81.0], [1978.0, 82.0], [1979.0, 78.0], [1980.0, 78.0], [1981.0, 82.0], [1982.0, 80.0], [1983.0, 85.0], [1984.0, 85.0], [1985.0, 86.0], [1986.0, 85.0], [1987.0, 83.0], [1988.0, 88.0], [1989.0, 91.0], [1990.0, 91.0], [1991.0, 91.0], [1992.0, 92.0], [1993.0, 93.0], [1994.0, 94.0], [1995.0, 95.0], [1996.0, 97.0], [1997.0, 97.0], [1998.0, 98.0], [1999.0, 101.0], [2000.0, 99.0], [2001.0, 99.0], [2002.0, 94.0], [2003.0, 100.0], [2004.0, 98.0], [2005.0, 102.0], [2006.0, 104.0], [2007.0, 108.0]], \"hoverlabel\": {\"namelength\": 0}, \"hovertemplate\": \"<b>%{hovertext}</b><br><br>country_or_area=Southern Asia<br>year=%{customdata[0]}<br>value=%{customdata[1]}\", \"hovertext\": [\"Southern Asia\", \"Southern Asia\", \"Southern Asia\", \"Southern Asia\", \"Southern Asia\", \"Southern Asia\", \"Southern Asia\", \"Southern Asia\", \"Southern Asia\", \"Southern Asia\", \"Southern Asia\", \"Southern Asia\", \"Southern Asia\", \"Southern Asia\", \"Southern Asia\", \"Southern Asia\", \"Southern Asia\", \"Southern Asia\", \"Southern Asia\", \"Southern Asia\", \"Southern Asia\", \"Southern Asia\", \"Southern Asia\", \"Southern Asia\", \"Southern Asia\", \"Southern Asia\", \"Southern Asia\", \"Southern Asia\", \"Southern Asia\", \"Southern Asia\", \"Southern Asia\", \"Southern Asia\", \"Southern Asia\", \"Southern Asia\", \"Southern Asia\", \"Southern Asia\", \"Southern Asia\", \"Southern Asia\", \"Southern Asia\", \"Southern Asia\", \"Southern Asia\", \"Southern Asia\", \"Southern Asia\", \"Southern Asia\", \"Southern Asia\", \"Southern Asia\", \"Southern Asia\"], \"legendgroup\": \"country_or_area=Southern Asia\", \"line\": {\"color\": \"#ab63fa\", \"dash\": \"solid\"}, \"mode\": \"lines\", \"name\": \"Southern Asia\", \"showlegend\": true, \"type\": \"scatter\", \"x\": [1961.0, 1962.0, 1963.0, 1964.0, 1965.0, 1966.0, 1967.0, 1968.0, 1969.0, 1970.0, 1971.0, 1972.0, 1973.0, 1974.0, 1975.0, 1976.0, 1977.0, 1978.0, 1979.0, 1980.0, 1981.0, 1982.0, 1983.0, 1984.0, 1985.0, 1986.0, 1987.0, 1988.0, 1989.0, 1990.0, 1991.0, 1992.0, 1993.0, 1994.0, 1995.0, 1996.0, 1997.0, 1998.0, 1999.0, 2000.0, 2001.0, 2002.0, 2003.0, 2004.0, 2005.0, 2006.0, 2007.0], \"xaxis\": \"x\", \"y\": [79.0, 77.0, 78.0, 78.0, 74.0, 72.0, 76.0, 78.0, 78.0, 80.0, 79.0, 75.0, 78.0, 75.0, 80.0, 78.0, 81.0, 82.0, 78.0, 78.0, 82.0, 80.0, 85.0, 85.0, 86.0, 85.0, 83.0, 88.0, 91.0, 91.0, 91.0, 92.0, 93.0, 94.0, 95.0, 97.0, 97.0, 98.0, 101.0, 99.0, 99.0, 94.0, 100.0, 98.0, 102.0, 104.0, 108.0], \"yaxis\": \"y\"}, {\"customdata\": [[1961.0, 106.0], [1962.0, 109.0], [1963.0, 108.0], [1964.0, 110.0], [1965.0, 107.0], [1966.0, 108.0], [1967.0, 110.0], [1968.0, 109.0], [1969.0, 107.0], [1970.0, 105.0], [1971.0, 111.0], [1972.0, 113.0], [1973.0, 99.0], [1974.0, 107.0], [1975.0, 108.0], [1976.0, 113.0], [1977.0, 110.0], [1978.0, 112.0], [1979.0, 109.0], [1980.0, 111.0], [1981.0, 109.0], [1982.0, 112.0], [1983.0, 108.0], [1984.0, 109.0], [1985.0, 111.0], [1986.0, 113.0], [1987.0, 109.0], [1988.0, 115.0], [1989.0, 105.0], [1990.0, 111.0], [1991.0, 106.0], [1992.0, 104.0], [1993.0, 102.0], [1994.0, 100.0], [1995.0, 100.0], [1996.0, 103.0], [1997.0, 100.0], [1998.0, 105.0], [1999.0, 99.0], [2000.0, 103.0], [2001.0, 97.0], [2002.0, 101.0], [2003.0, 99.0], [2004.0, 100.0], [2005.0, 102.0], [2006.0, 101.0], [2007.0, 92.0]], \"hoverlabel\": {\"namelength\": 0}, \"hovertemplate\": \"<b>%{hovertext}</b><br><br>country_or_area=Western Asia<br>year=%{customdata[0]}<br>value=%{customdata[1]}\", \"hovertext\": [\"Western Asia\", \"Western Asia\", \"Western Asia\", \"Western Asia\", \"Western Asia\", \"Western Asia\", \"Western Asia\", \"Western Asia\", \"Western Asia\", \"Western Asia\", \"Western Asia\", \"Western Asia\", \"Western Asia\", \"Western Asia\", \"Western Asia\", \"Western Asia\", \"Western Asia\", \"Western Asia\", \"Western Asia\", \"Western Asia\", \"Western Asia\", \"Western Asia\", \"Western Asia\", \"Western Asia\", \"Western Asia\", \"Western Asia\", \"Western Asia\", \"Western Asia\", \"Western Asia\", \"Western Asia\", \"Western Asia\", \"Western Asia\", \"Western Asia\", \"Western Asia\", \"Western Asia\", \"Western Asia\", \"Western Asia\", \"Western Asia\", \"Western Asia\", \"Western Asia\", \"Western Asia\", \"Western Asia\", \"Western Asia\", \"Western Asia\", \"Western Asia\", \"Western Asia\", \"Western Asia\"], \"legendgroup\": \"country_or_area=Western Asia\", \"line\": {\"color\": \"#FFA15A\", \"dash\": \"solid\"}, \"mode\": \"lines\", \"name\": \"Western Asia\", \"showlegend\": true, \"type\": \"scatter\", \"x\": [1961.0, 1962.0, 1963.0, 1964.0, 1965.0, 1966.0, 1967.0, 1968.0, 1969.0, 1970.0, 1971.0, 1972.0, 1973.0, 1974.0, 1975.0, 1976.0, 1977.0, 1978.0, 1979.0, 1980.0, 1981.0, 1982.0, 1983.0, 1984.0, 1985.0, 1986.0, 1987.0, 1988.0, 1989.0, 1990.0, 1991.0, 1992.0, 1993.0, 1994.0, 1995.0, 1996.0, 1997.0, 1998.0, 1999.0, 2000.0, 2001.0, 2002.0, 2003.0, 2004.0, 2005.0, 2006.0, 2007.0], \"xaxis\": \"x\", \"y\": [106.0, 109.0, 108.0, 110.0, 107.0, 108.0, 110.0, 109.0, 107.0, 105.0, 111.0, 113.0, 99.0, 107.0, 108.0, 113.0, 110.0, 112.0, 109.0, 111.0, 109.0, 112.0, 108.0, 109.0, 111.0, 113.0, 109.0, 115.0, 105.0, 111.0, 106.0, 104.0, 102.0, 100.0, 100.0, 103.0, 100.0, 105.0, 99.0, 103.0, 97.0, 101.0, 99.0, 100.0, 102.0, 101.0, 92.0], \"yaxis\": \"y\"}],\n",
       "                        {\"annotations\": [{\"arrowhead\": 5, \"ax\": -30, \"ay\": -20, \"showarrow\": true, \"text\": \"1991\", \"x\": 1991, \"y\": 50}], \"height\": 600, \"legend\": {\"tracegroupgap\": 0}, \"shapes\": [{\"line\": {\"width\": 3}, \"type\": \"line\", \"x0\": 1991, \"x1\": 1991, \"y0\": 0, \"y1\": 150}], \"template\": {\"data\": {\"bar\": [{\"error_x\": {\"color\": \"#2a3f5f\"}, \"error_y\": {\"color\": \"#2a3f5f\"}, \"marker\": {\"line\": {\"color\": \"#E5ECF6\", \"width\": 0.5}}, \"type\": \"bar\"}], \"barpolar\": [{\"marker\": {\"line\": {\"color\": \"#E5ECF6\", \"width\": 0.5}}, \"type\": \"barpolar\"}], \"carpet\": [{\"aaxis\": {\"endlinecolor\": \"#2a3f5f\", \"gridcolor\": \"white\", \"linecolor\": \"white\", \"minorgridcolor\": \"white\", \"startlinecolor\": \"#2a3f5f\"}, \"baxis\": {\"endlinecolor\": \"#2a3f5f\", \"gridcolor\": \"white\", \"linecolor\": \"white\", \"minorgridcolor\": \"white\", \"startlinecolor\": \"#2a3f5f\"}, \"type\": \"carpet\"}], \"choropleth\": [{\"colorbar\": {\"outlinewidth\": 0, \"ticks\": \"\"}, \"type\": \"choropleth\"}], \"contour\": [{\"colorbar\": {\"outlinewidth\": 0, \"ticks\": \"\"}, \"colorscale\": [[0.0, \"#0d0887\"], [0.1111111111111111, \"#46039f\"], [0.2222222222222222, \"#7201a8\"], [0.3333333333333333, \"#9c179e\"], [0.4444444444444444, \"#bd3786\"], [0.5555555555555556, \"#d8576b\"], [0.6666666666666666, \"#ed7953\"], [0.7777777777777778, \"#fb9f3a\"], [0.8888888888888888, \"#fdca26\"], [1.0, \"#f0f921\"]], \"type\": \"contour\"}], \"contourcarpet\": [{\"colorbar\": {\"outlinewidth\": 0, \"ticks\": \"\"}, \"type\": \"contourcarpet\"}], \"heatmap\": [{\"colorbar\": {\"outlinewidth\": 0, \"ticks\": \"\"}, \"colorscale\": [[0.0, \"#0d0887\"], [0.1111111111111111, \"#46039f\"], [0.2222222222222222, \"#7201a8\"], [0.3333333333333333, \"#9c179e\"], [0.4444444444444444, \"#bd3786\"], [0.5555555555555556, \"#d8576b\"], [0.6666666666666666, \"#ed7953\"], [0.7777777777777778, \"#fb9f3a\"], [0.8888888888888888, \"#fdca26\"], [1.0, \"#f0f921\"]], \"type\": \"heatmap\"}], \"heatmapgl\": [{\"colorbar\": {\"outlinewidth\": 0, \"ticks\": \"\"}, \"colorscale\": [[0.0, \"#0d0887\"], [0.1111111111111111, \"#46039f\"], [0.2222222222222222, \"#7201a8\"], [0.3333333333333333, \"#9c179e\"], [0.4444444444444444, \"#bd3786\"], [0.5555555555555556, \"#d8576b\"], [0.6666666666666666, \"#ed7953\"], [0.7777777777777778, \"#fb9f3a\"], [0.8888888888888888, \"#fdca26\"], [1.0, \"#f0f921\"]], \"type\": \"heatmapgl\"}], \"histogram\": [{\"marker\": {\"colorbar\": {\"outlinewidth\": 0, \"ticks\": \"\"}}, \"type\": \"histogram\"}], \"histogram2d\": [{\"colorbar\": {\"outlinewidth\": 0, \"ticks\": \"\"}, \"colorscale\": [[0.0, \"#0d0887\"], [0.1111111111111111, \"#46039f\"], [0.2222222222222222, \"#7201a8\"], [0.3333333333333333, \"#9c179e\"], [0.4444444444444444, \"#bd3786\"], [0.5555555555555556, \"#d8576b\"], [0.6666666666666666, \"#ed7953\"], [0.7777777777777778, \"#fb9f3a\"], [0.8888888888888888, \"#fdca26\"], [1.0, \"#f0f921\"]], \"type\": \"histogram2d\"}], \"histogram2dcontour\": [{\"colorbar\": {\"outlinewidth\": 0, \"ticks\": \"\"}, \"colorscale\": [[0.0, \"#0d0887\"], [0.1111111111111111, \"#46039f\"], [0.2222222222222222, \"#7201a8\"], [0.3333333333333333, \"#9c179e\"], [0.4444444444444444, \"#bd3786\"], [0.5555555555555556, \"#d8576b\"], [0.6666666666666666, \"#ed7953\"], [0.7777777777777778, \"#fb9f3a\"], [0.8888888888888888, \"#fdca26\"], [1.0, \"#f0f921\"]], \"type\": \"histogram2dcontour\"}], \"mesh3d\": [{\"colorbar\": {\"outlinewidth\": 0, \"ticks\": \"\"}, \"type\": \"mesh3d\"}], \"parcoords\": [{\"line\": {\"colorbar\": {\"outlinewidth\": 0, \"ticks\": \"\"}}, \"type\": \"parcoords\"}], \"pie\": [{\"automargin\": true, \"type\": \"pie\"}], \"scatter\": [{\"marker\": {\"colorbar\": {\"outlinewidth\": 0, \"ticks\": \"\"}}, \"type\": \"scatter\"}], \"scatter3d\": [{\"line\": {\"colorbar\": {\"outlinewidth\": 0, \"ticks\": \"\"}}, \"marker\": {\"colorbar\": {\"outlinewidth\": 0, \"ticks\": \"\"}}, \"type\": \"scatter3d\"}], \"scattercarpet\": [{\"marker\": {\"colorbar\": {\"outlinewidth\": 0, \"ticks\": \"\"}}, \"type\": \"scattercarpet\"}], \"scattergeo\": [{\"marker\": {\"colorbar\": {\"outlinewidth\": 0, \"ticks\": \"\"}}, \"type\": \"scattergeo\"}], \"scattergl\": [{\"marker\": {\"colorbar\": {\"outlinewidth\": 0, \"ticks\": \"\"}}, \"type\": \"scattergl\"}], \"scattermapbox\": [{\"marker\": {\"colorbar\": {\"outlinewidth\": 0, \"ticks\": \"\"}}, \"type\": \"scattermapbox\"}], \"scatterpolar\": [{\"marker\": {\"colorbar\": {\"outlinewidth\": 0, \"ticks\": \"\"}}, \"type\": \"scatterpolar\"}], \"scatterpolargl\": [{\"marker\": {\"colorbar\": {\"outlinewidth\": 0, \"ticks\": \"\"}}, \"type\": \"scatterpolargl\"}], \"scatterternary\": [{\"marker\": {\"colorbar\": {\"outlinewidth\": 0, \"ticks\": \"\"}}, \"type\": \"scatterternary\"}], \"surface\": [{\"colorbar\": {\"outlinewidth\": 0, \"ticks\": \"\"}, \"colorscale\": [[0.0, \"#0d0887\"], [0.1111111111111111, \"#46039f\"], [0.2222222222222222, \"#7201a8\"], [0.3333333333333333, \"#9c179e\"], [0.4444444444444444, \"#bd3786\"], [0.5555555555555556, \"#d8576b\"], [0.6666666666666666, \"#ed7953\"], [0.7777777777777778, \"#fb9f3a\"], [0.8888888888888888, \"#fdca26\"], [1.0, \"#f0f921\"]], \"type\": \"surface\"}], \"table\": [{\"cells\": {\"fill\": {\"color\": \"#EBF0F8\"}, \"line\": {\"color\": \"white\"}}, \"header\": {\"fill\": {\"color\": \"#C8D4E3\"}, \"line\": {\"color\": \"white\"}}, \"type\": \"table\"}]}, \"layout\": {\"annotationdefaults\": {\"arrowcolor\": \"#2a3f5f\", \"arrowhead\": 0, \"arrowwidth\": 1}, \"coloraxis\": {\"colorbar\": {\"outlinewidth\": 0, \"ticks\": \"\"}}, \"colorscale\": {\"diverging\": [[0, \"#8e0152\"], [0.1, \"#c51b7d\"], [0.2, \"#de77ae\"], [0.3, \"#f1b6da\"], [0.4, \"#fde0ef\"], [0.5, \"#f7f7f7\"], [0.6, \"#e6f5d0\"], [0.7, \"#b8e186\"], [0.8, \"#7fbc41\"], [0.9, \"#4d9221\"], [1, \"#276419\"]], \"sequential\": [[0.0, \"#0d0887\"], [0.1111111111111111, \"#46039f\"], [0.2222222222222222, \"#7201a8\"], [0.3333333333333333, \"#9c179e\"], [0.4444444444444444, \"#bd3786\"], [0.5555555555555556, \"#d8576b\"], [0.6666666666666666, \"#ed7953\"], [0.7777777777777778, \"#fb9f3a\"], [0.8888888888888888, \"#fdca26\"], [1.0, \"#f0f921\"]], \"sequentialminus\": [[0.0, \"#0d0887\"], [0.1111111111111111, \"#46039f\"], [0.2222222222222222, \"#7201a8\"], [0.3333333333333333, \"#9c179e\"], [0.4444444444444444, \"#bd3786\"], [0.5555555555555556, \"#d8576b\"], [0.6666666666666666, \"#ed7953\"], [0.7777777777777778, \"#fb9f3a\"], [0.8888888888888888, \"#fdca26\"], [1.0, \"#f0f921\"]]}, \"colorway\": [\"#636efa\", \"#EF553B\", \"#00cc96\", \"#ab63fa\", \"#FFA15A\", \"#19d3f3\", \"#FF6692\", \"#B6E880\", \"#FF97FF\", \"#FECB52\"], \"font\": {\"color\": \"#2a3f5f\"}, \"geo\": {\"bgcolor\": \"white\", \"lakecolor\": \"white\", \"landcolor\": \"#E5ECF6\", \"showlakes\": true, \"showland\": true, \"subunitcolor\": \"white\"}, \"hoverlabel\": {\"align\": \"left\"}, \"hovermode\": \"closest\", \"mapbox\": {\"style\": \"light\"}, \"paper_bgcolor\": \"white\", \"plot_bgcolor\": \"#E5ECF6\", \"polar\": {\"angularaxis\": {\"gridcolor\": \"white\", \"linecolor\": \"white\", \"ticks\": \"\"}, \"bgcolor\": \"#E5ECF6\", \"radialaxis\": {\"gridcolor\": \"white\", \"linecolor\": \"white\", \"ticks\": \"\"}}, \"scene\": {\"xaxis\": {\"backgroundcolor\": \"#E5ECF6\", \"gridcolor\": \"white\", \"gridwidth\": 2, \"linecolor\": \"white\", \"showbackground\": true, \"ticks\": \"\", \"zerolinecolor\": \"white\"}, \"yaxis\": {\"backgroundcolor\": \"#E5ECF6\", \"gridcolor\": \"white\", \"gridwidth\": 2, \"linecolor\": \"white\", \"showbackground\": true, \"ticks\": \"\", \"zerolinecolor\": \"white\"}, \"zaxis\": {\"backgroundcolor\": \"#E5ECF6\", \"gridcolor\": \"white\", \"gridwidth\": 2, \"linecolor\": \"white\", \"showbackground\": true, \"ticks\": \"\", \"zerolinecolor\": \"white\"}}, \"shapedefaults\": {\"line\": {\"color\": \"#2a3f5f\"}}, \"ternary\": {\"aaxis\": {\"gridcolor\": \"white\", \"linecolor\": \"white\", \"ticks\": \"\"}, \"baxis\": {\"gridcolor\": \"white\", \"linecolor\": \"white\", \"ticks\": \"\"}, \"bgcolor\": \"#E5ECF6\", \"caxis\": {\"gridcolor\": \"white\", \"linecolor\": \"white\", \"ticks\": \"\"}}, \"title\": {\"x\": 0.05}, \"xaxis\": {\"automargin\": true, \"gridcolor\": \"white\", \"linecolor\": \"white\", \"ticks\": \"\", \"title\": {\"standoff\": 15}, \"zerolinecolor\": \"white\", \"zerolinewidth\": 2}, \"yaxis\": {\"automargin\": true, \"gridcolor\": \"white\", \"linecolor\": \"white\", \"ticks\": \"\", \"title\": {\"standoff\": 15}, \"zerolinecolor\": \"white\", \"zerolinewidth\": 2}}}, \"title\": {\"text\": \"Continent of Asia\"}, \"xaxis\": {\"anchor\": \"y\", \"domain\": [0.0, 1.0], \"title\": {\"text\": \"Year\"}}, \"yaxis\": {\"anchor\": \"x\", \"domain\": [0.0, 1.0], \"range\": [30, 150], \"title\": {\"text\": \"Gross per capita PIN (base 1999-2001) in int. $ in int. $\"}}},\n",
       "                        {\"responsive\": true}\n",
       "                    ).then(function(){\n",
       "                            \n",
       "var gd = document.getElementById('b849c13f-0f64-4037-8259-e8f48604c05f');\n",
       "var x = new MutationObserver(function (mutations, observer) {{\n",
       "        var display = window.getComputedStyle(gd).display;\n",
       "        if (!display || display === 'none') {{\n",
       "            console.log([gd, 'removed!']);\n",
       "            Plotly.purge(gd);\n",
       "            observer.disconnect();\n",
       "        }}\n",
       "}});\n",
       "\n",
       "// Listen for the removal of the full notebook cells\n",
       "var notebookContainer = gd.closest('#notebook-container');\n",
       "if (notebookContainer) {{\n",
       "    x.observe(notebookContainer, {childList: true});\n",
       "}}\n",
       "\n",
       "// Listen for the clearing of the current output cell\n",
       "var outputEl = gd.closest('.output');\n",
       "if (outputEl) {{\n",
       "    x.observe(outputEl, {childList: true});\n",
       "}}\n",
       "\n",
       "                        })\n",
       "                };\n",
       "                });\n",
       "            </script>\n",
       "        </div>"
      ]
     },
     "metadata": {},
     "output_type": "display_data"
    }
   ],
   "source": [
    "# Selecting only the countries on the continent of Asia\n",
    "asia_areas = {'South-Eastern Asia', 'Eastern Asia', 'Central Asia', 'Southern Asia', 'Western Asia'}\n",
    "asia_name = 'Continent of Asia'\n",
    "\n",
    "# Generating the plot\n",
    "fig = px.line(extract_data(asia_areas), x='year', y='value', color='country_or_area', hover_name='country_or_area', hover_data=['year', 'value'], title=asia_name\n",
    "             ).for_each_trace(lambda t: t.update(name=t.name.replace('country_or_area=','')))\n",
    "\n",
    "# Updating the x and y axis titles to reflect the data\n",
    "fig.update_xaxes(title_text='Year')\n",
    "fig.update_yaxes(title_text='Gross per capita PIN (base 1999-2001) in int. $ in int. $')\n",
    "fig.update_yaxes(range=[30, 150])\n",
    "\n",
    "# Adding a line and annotation to the year 1991 to represent the collapse of the USSR\n",
    "fig.add_shape(go.layout.Shape(type=\"line\", x0=1991, y0=0, x1=1991, y1=150, line=dict(width=3)))\n",
    "fig.update_layout(annotations=[go.layout.Annotation(x=1991, y=50, text='1991', showarrow=True, arrowhead=5, ax=-30, ay=-20)])\n",
    "\n",
    "fig.show()"
   ]
  },
  {
   "cell_type": "markdown",
   "metadata": {},
   "source": [
    "Here we can see where the U.S.S.R collapsed and the FAO data from the UN start to seperate out into Central Asia in 1992.  Lets now zoom down into Eastern Asia and see whats going on there."
   ]
  },
  {
   "cell_type": "code",
   "execution_count": 162,
   "metadata": {},
   "outputs": [
    {
     "data": {
      "application/vnd.plotly.v1+json": {
       "config": {
        "plotlyServerURL": "https://plot.ly"
       },
       "data": [
        {
         "customdata": [
          [
           1961,
           35
          ],
          [
           1962,
           35
          ],
          [
           1963,
           37
          ],
          [
           1964,
           38
          ],
          [
           1965,
           41
          ],
          [
           1966,
           43
          ],
          [
           1967,
           43
          ],
          [
           1968,
           41
          ],
          [
           1969,
           41
          ],
          [
           1970,
           42
          ],
          [
           1971,
           42
          ],
          [
           1972,
           41
          ],
          [
           1973,
           44
          ],
          [
           1974,
           43
          ],
          [
           1975,
           43
          ],
          [
           1976,
           42
          ],
          [
           1977,
           43
          ],
          [
           1978,
           46
          ],
          [
           1979,
           47
          ],
          [
           1980,
           47
          ],
          [
           1981,
           49
          ],
          [
           1982,
           53
          ],
          [
           1983,
           56
          ],
          [
           1984,
           60
          ],
          [
           1985,
           59
          ],
          [
           1986,
           59
          ],
          [
           1987,
           62
          ],
          [
           1988,
           63
          ],
          [
           1989,
           63
          ],
          [
           1990,
           67
          ],
          [
           1991,
           69
          ],
          [
           1992,
           71
          ],
          [
           1993,
           76
          ],
          [
           1994,
           79
          ],
          [
           1995,
           84
          ],
          [
           1996,
           89
          ],
          [
           1997,
           92
          ],
          [
           1998,
           95
          ],
          [
           1999,
           97
          ],
          [
           2000,
           100
          ],
          [
           2001,
           101
          ],
          [
           2002,
           105
          ],
          [
           2003,
           106
          ],
          [
           2004,
           111
          ],
          [
           2005,
           114
          ],
          [
           2006,
           116
          ],
          [
           2007,
           117
          ]
         ],
         "hoverlabel": {
          "namelength": 0
         },
         "hovertemplate": "<b>%{hovertext}</b><br><br>country_or_area=China<br>year=%{customdata[0]}<br>value=%{customdata[1]}",
         "hovertext": [
          "China",
          "China",
          "China",
          "China",
          "China",
          "China",
          "China",
          "China",
          "China",
          "China",
          "China",
          "China",
          "China",
          "China",
          "China",
          "China",
          "China",
          "China",
          "China",
          "China",
          "China",
          "China",
          "China",
          "China",
          "China",
          "China",
          "China",
          "China",
          "China",
          "China",
          "China",
          "China",
          "China",
          "China",
          "China",
          "China",
          "China",
          "China",
          "China",
          "China",
          "China",
          "China",
          "China",
          "China",
          "China",
          "China",
          "China"
         ],
         "legendgroup": "country_or_area=China",
         "line": {
          "color": "#636efa",
          "dash": "solid"
         },
         "mode": "lines",
         "name": "China",
         "showlegend": true,
         "type": "scatter",
         "x": [
          1961,
          1962,
          1963,
          1964,
          1965,
          1966,
          1967,
          1968,
          1969,
          1970,
          1971,
          1972,
          1973,
          1974,
          1975,
          1976,
          1977,
          1978,
          1979,
          1980,
          1981,
          1982,
          1983,
          1984,
          1985,
          1986,
          1987,
          1988,
          1989,
          1990,
          1991,
          1992,
          1993,
          1994,
          1995,
          1996,
          1997,
          1998,
          1999,
          2000,
          2001,
          2002,
          2003,
          2004,
          2005,
          2006,
          2007
         ],
         "xaxis": "x",
         "y": [
          35,
          35,
          37,
          38,
          41,
          43,
          43,
          41,
          41,
          42,
          42,
          41,
          44,
          43,
          43,
          42,
          43,
          46,
          47,
          47,
          49,
          53,
          56,
          60,
          59,
          59,
          62,
          63,
          63,
          67,
          69,
          71,
          76,
          79,
          84,
          89,
          92,
          95,
          97,
          100,
          101,
          105,
          106,
          111,
          114,
          116,
          117
         ],
         "yaxis": "y"
        },
        {
         "customdata": [
          [
           1961,
           96
          ],
          [
           1962,
           100
          ],
          [
           1963,
           102
          ],
          [
           1964,
           104
          ],
          [
           1965,
           105
          ],
          [
           1966,
           106
          ],
          [
           1967,
           112
          ],
          [
           1968,
           116
          ],
          [
           1969,
           114
          ],
          [
           1970,
           113
          ],
          [
           1971,
           109
          ],
          [
           1972,
           114
          ],
          [
           1973,
           112
          ],
          [
           1974,
           111
          ],
          [
           1975,
           113
          ],
          [
           1976,
           109
          ],
          [
           1977,
           116
          ],
          [
           1978,
           116
          ],
          [
           1979,
           118
          ],
          [
           1980,
           112
          ],
          [
           1981,
           112
          ],
          [
           1982,
           115
          ],
          [
           1983,
           114
          ],
          [
           1984,
           116
          ],
          [
           1985,
           118
          ],
          [
           1986,
           119
          ],
          [
           1987,
           118
          ],
          [
           1988,
           115
          ],
          [
           1989,
           115
          ],
          [
           1990,
           114
          ],
          [
           1991,
           110
          ],
          [
           1992,
           113
          ],
          [
           1993,
           105
          ],
          [
           1994,
           110
          ],
          [
           1995,
           107
          ],
          [
           1996,
           105
          ],
          [
           1997,
           105
          ],
          [
           1998,
           100
          ],
          [
           1999,
           101
          ],
          [
           2000,
           100
          ],
          [
           2001,
           98
          ],
          [
           2002,
           99
          ],
          [
           2003,
           95
          ],
          [
           2004,
           96
          ],
          [
           2005,
           97
          ],
          [
           2006,
           95
          ],
          [
           2007,
           97
          ]
         ],
         "hoverlabel": {
          "namelength": 0
         },
         "hovertemplate": "<b>%{hovertext}</b><br><br>country_or_area=Japan<br>year=%{customdata[0]}<br>value=%{customdata[1]}",
         "hovertext": [
          "Japan",
          "Japan",
          "Japan",
          "Japan",
          "Japan",
          "Japan",
          "Japan",
          "Japan",
          "Japan",
          "Japan",
          "Japan",
          "Japan",
          "Japan",
          "Japan",
          "Japan",
          "Japan",
          "Japan",
          "Japan",
          "Japan",
          "Japan",
          "Japan",
          "Japan",
          "Japan",
          "Japan",
          "Japan",
          "Japan",
          "Japan",
          "Japan",
          "Japan",
          "Japan",
          "Japan",
          "Japan",
          "Japan",
          "Japan",
          "Japan",
          "Japan",
          "Japan",
          "Japan",
          "Japan",
          "Japan",
          "Japan",
          "Japan",
          "Japan",
          "Japan",
          "Japan",
          "Japan",
          "Japan"
         ],
         "legendgroup": "country_or_area=Japan",
         "line": {
          "color": "#EF553B",
          "dash": "solid"
         },
         "mode": "lines",
         "name": "Japan",
         "showlegend": true,
         "type": "scatter",
         "x": [
          1961,
          1962,
          1963,
          1964,
          1965,
          1966,
          1967,
          1968,
          1969,
          1970,
          1971,
          1972,
          1973,
          1974,
          1975,
          1976,
          1977,
          1978,
          1979,
          1980,
          1981,
          1982,
          1983,
          1984,
          1985,
          1986,
          1987,
          1988,
          1989,
          1990,
          1991,
          1992,
          1993,
          1994,
          1995,
          1996,
          1997,
          1998,
          1999,
          2000,
          2001,
          2002,
          2003,
          2004,
          2005,
          2006,
          2007
         ],
         "xaxis": "x",
         "y": [
          96,
          100,
          102,
          104,
          105,
          106,
          112,
          116,
          114,
          113,
          109,
          114,
          112,
          111,
          113,
          109,
          116,
          116,
          118,
          112,
          112,
          115,
          114,
          116,
          118,
          119,
          118,
          115,
          115,
          114,
          110,
          113,
          105,
          110,
          107,
          105,
          105,
          100,
          101,
          100,
          98,
          99,
          95,
          96,
          97,
          95,
          97
         ],
         "yaxis": "y"
        },
        {
         "customdata": [
          [
           1961,
           93
          ],
          [
           1962,
           94
          ],
          [
           1963,
           97
          ],
          [
           1964,
           99
          ],
          [
           1965,
           92
          ],
          [
           1966,
           94
          ],
          [
           1967,
           89
          ],
          [
           1968,
           87
          ],
          [
           1969,
           93
          ],
          [
           1970,
           92
          ],
          [
           1971,
           95
          ],
          [
           1972,
           94
          ],
          [
           1973,
           99
          ],
          [
           1974,
           102
          ],
          [
           1975,
           107
          ],
          [
           1976,
           110
          ],
          [
           1977,
           114
          ],
          [
           1978,
           116
          ],
          [
           1979,
           118
          ],
          [
           1980,
           116
          ],
          [
           1981,
           122
          ],
          [
           1982,
           112
          ],
          [
           1983,
           115
          ],
          [
           1984,
           120
          ],
          [
           1985,
           122
          ],
          [
           1986,
           127
          ],
          [
           1987,
           127
          ],
          [
           1988,
           127
          ],
          [
           1989,
           129
          ],
          [
           1990,
           129
          ],
          [
           1991,
           148
          ],
          [
           1992,
           140
          ],
          [
           1993,
           131
          ],
          [
           1994,
           117
          ],
          [
           1995,
           88
          ],
          [
           1996,
           80
          ],
          [
           1997,
           81
          ],
          [
           1998,
           96
          ],
          [
           1999,
           96
          ],
          [
           2000,
           96
          ],
          [
           2001,
           106
          ],
          [
           2002,
           107
          ],
          [
           2003,
           109
          ],
          [
           2004,
           110
          ],
          [
           2005,
           112
          ],
          [
           2006,
           110
          ],
          [
           2007,
           106
          ]
         ],
         "hoverlabel": {
          "namelength": 0
         },
         "hovertemplate": "<b>%{hovertext}</b><br><br>country_or_area=Korea, Democratic People's Republic of<br>year=%{customdata[0]}<br>value=%{customdata[1]}",
         "hovertext": [
          "Korea, Democratic People's Republic of",
          "Korea, Democratic People's Republic of",
          "Korea, Democratic People's Republic of",
          "Korea, Democratic People's Republic of",
          "Korea, Democratic People's Republic of",
          "Korea, Democratic People's Republic of",
          "Korea, Democratic People's Republic of",
          "Korea, Democratic People's Republic of",
          "Korea, Democratic People's Republic of",
          "Korea, Democratic People's Republic of",
          "Korea, Democratic People's Republic of",
          "Korea, Democratic People's Republic of",
          "Korea, Democratic People's Republic of",
          "Korea, Democratic People's Republic of",
          "Korea, Democratic People's Republic of",
          "Korea, Democratic People's Republic of",
          "Korea, Democratic People's Republic of",
          "Korea, Democratic People's Republic of",
          "Korea, Democratic People's Republic of",
          "Korea, Democratic People's Republic of",
          "Korea, Democratic People's Republic of",
          "Korea, Democratic People's Republic of",
          "Korea, Democratic People's Republic of",
          "Korea, Democratic People's Republic of",
          "Korea, Democratic People's Republic of",
          "Korea, Democratic People's Republic of",
          "Korea, Democratic People's Republic of",
          "Korea, Democratic People's Republic of",
          "Korea, Democratic People's Republic of",
          "Korea, Democratic People's Republic of",
          "Korea, Democratic People's Republic of",
          "Korea, Democratic People's Republic of",
          "Korea, Democratic People's Republic of",
          "Korea, Democratic People's Republic of",
          "Korea, Democratic People's Republic of",
          "Korea, Democratic People's Republic of",
          "Korea, Democratic People's Republic of",
          "Korea, Democratic People's Republic of",
          "Korea, Democratic People's Republic of",
          "Korea, Democratic People's Republic of",
          "Korea, Democratic People's Republic of",
          "Korea, Democratic People's Republic of",
          "Korea, Democratic People's Republic of",
          "Korea, Democratic People's Republic of",
          "Korea, Democratic People's Republic of",
          "Korea, Democratic People's Republic of",
          "Korea, Democratic People's Republic of"
         ],
         "legendgroup": "country_or_area=Korea, Democratic People's Republic of",
         "line": {
          "color": "#00cc96",
          "dash": "solid"
         },
         "mode": "lines",
         "name": "Korea, Democratic People's Republic of",
         "showlegend": true,
         "type": "scatter",
         "x": [
          1961,
          1962,
          1963,
          1964,
          1965,
          1966,
          1967,
          1968,
          1969,
          1970,
          1971,
          1972,
          1973,
          1974,
          1975,
          1976,
          1977,
          1978,
          1979,
          1980,
          1981,
          1982,
          1983,
          1984,
          1985,
          1986,
          1987,
          1988,
          1989,
          1990,
          1991,
          1992,
          1993,
          1994,
          1995,
          1996,
          1997,
          1998,
          1999,
          2000,
          2001,
          2002,
          2003,
          2004,
          2005,
          2006,
          2007
         ],
         "xaxis": "x",
         "y": [
          93,
          94,
          97,
          99,
          92,
          94,
          89,
          87,
          93,
          92,
          95,
          94,
          99,
          102,
          107,
          110,
          114,
          116,
          118,
          116,
          122,
          112,
          115,
          120,
          122,
          127,
          127,
          127,
          129,
          129,
          148,
          140,
          131,
          117,
          88,
          80,
          81,
          96,
          96,
          96,
          106,
          107,
          109,
          110,
          112,
          110,
          106
         ],
         "yaxis": "y"
        },
        {
         "customdata": [
          [
           1961,
           45
          ],
          [
           1962,
           42
          ],
          [
           1963,
           45
          ],
          [
           1964,
           52
          ],
          [
           1965,
           52
          ],
          [
           1966,
           55
          ],
          [
           1967,
           50
          ],
          [
           1968,
           50
          ],
          [
           1969,
           56
          ],
          [
           1970,
           55
          ],
          [
           1971,
           55
          ],
          [
           1972,
           56
          ],
          [
           1973,
           56
          ],
          [
           1974,
           58
          ],
          [
           1975,
           66
          ],
          [
           1976,
           72
          ],
          [
           1977,
           76
          ],
          [
           1978,
           81
          ],
          [
           1979,
           83
          ],
          [
           1980,
           70
          ],
          [
           1981,
           74
          ],
          [
           1982,
           76
          ],
          [
           1983,
           77
          ],
          [
           1984,
           78
          ],
          [
           1985,
           79
          ],
          [
           1986,
           83
          ],
          [
           1987,
           82
          ],
          [
           1988,
           86
          ],
          [
           1989,
           87
          ],
          [
           1990,
           86
          ],
          [
           1991,
           84
          ],
          [
           1992,
           91
          ],
          [
           1993,
           91
          ],
          [
           1994,
           90
          ],
          [
           1995,
           94
          ],
          [
           1996,
           97
          ],
          [
           1997,
           97
          ],
          [
           1998,
           95
          ],
          [
           1999,
           99
          ],
          [
           2000,
           100
          ],
          [
           2001,
           99
          ],
          [
           2002,
           95
          ],
          [
           2003,
           92
          ],
          [
           2004,
           93
          ],
          [
           2005,
           93
          ],
          [
           2006,
           93
          ],
          [
           2007,
           94
          ]
         ],
         "hoverlabel": {
          "namelength": 0
         },
         "hovertemplate": "<b>%{hovertext}</b><br><br>country_or_area=Korea, Republic of<br>year=%{customdata[0]}<br>value=%{customdata[1]}",
         "hovertext": [
          "Korea, Republic of",
          "Korea, Republic of",
          "Korea, Republic of",
          "Korea, Republic of",
          "Korea, Republic of",
          "Korea, Republic of",
          "Korea, Republic of",
          "Korea, Republic of",
          "Korea, Republic of",
          "Korea, Republic of",
          "Korea, Republic of",
          "Korea, Republic of",
          "Korea, Republic of",
          "Korea, Republic of",
          "Korea, Republic of",
          "Korea, Republic of",
          "Korea, Republic of",
          "Korea, Republic of",
          "Korea, Republic of",
          "Korea, Republic of",
          "Korea, Republic of",
          "Korea, Republic of",
          "Korea, Republic of",
          "Korea, Republic of",
          "Korea, Republic of",
          "Korea, Republic of",
          "Korea, Republic of",
          "Korea, Republic of",
          "Korea, Republic of",
          "Korea, Republic of",
          "Korea, Republic of",
          "Korea, Republic of",
          "Korea, Republic of",
          "Korea, Republic of",
          "Korea, Republic of",
          "Korea, Republic of",
          "Korea, Republic of",
          "Korea, Republic of",
          "Korea, Republic of",
          "Korea, Republic of",
          "Korea, Republic of",
          "Korea, Republic of",
          "Korea, Republic of",
          "Korea, Republic of",
          "Korea, Republic of",
          "Korea, Republic of",
          "Korea, Republic of"
         ],
         "legendgroup": "country_or_area=Korea, Republic of",
         "line": {
          "color": "#ab63fa",
          "dash": "solid"
         },
         "mode": "lines",
         "name": "Korea, Republic of",
         "showlegend": true,
         "type": "scatter",
         "x": [
          1961,
          1962,
          1963,
          1964,
          1965,
          1966,
          1967,
          1968,
          1969,
          1970,
          1971,
          1972,
          1973,
          1974,
          1975,
          1976,
          1977,
          1978,
          1979,
          1980,
          1981,
          1982,
          1983,
          1984,
          1985,
          1986,
          1987,
          1988,
          1989,
          1990,
          1991,
          1992,
          1993,
          1994,
          1995,
          1996,
          1997,
          1998,
          1999,
          2000,
          2001,
          2002,
          2003,
          2004,
          2005,
          2006,
          2007
         ],
         "xaxis": "x",
         "y": [
          45,
          42,
          45,
          52,
          52,
          55,
          50,
          50,
          56,
          55,
          55,
          56,
          56,
          58,
          66,
          72,
          76,
          81,
          83,
          70,
          74,
          76,
          77,
          78,
          79,
          83,
          82,
          86,
          87,
          86,
          84,
          91,
          91,
          90,
          94,
          97,
          97,
          95,
          99,
          100,
          99,
          95,
          92,
          93,
          93,
          93,
          94
         ],
         "yaxis": "y"
        },
        {
         "customdata": [
          [
           1961,
           190
          ],
          [
           1962,
           180
          ],
          [
           1963,
           161
          ],
          [
           1964,
           161
          ],
          [
           1965,
           166
          ],
          [
           1966,
           169
          ],
          [
           1967,
           171
          ],
          [
           1968,
           152
          ],
          [
           1969,
           146
          ],
          [
           1970,
           150
          ],
          [
           1971,
           147
          ],
          [
           1972,
           147
          ],
          [
           1973,
           149
          ],
          [
           1974,
           153
          ],
          [
           1975,
           166
          ],
          [
           1976,
           152
          ],
          [
           1977,
           140
          ],
          [
           1978,
           149
          ],
          [
           1979,
           144
          ],
          [
           1980,
           133
          ],
          [
           1981,
           133
          ],
          [
           1982,
           137
          ],
          [
           1983,
           141
          ],
          [
           1984,
           133
          ],
          [
           1985,
           133
          ],
          [
           1986,
           138
          ],
          [
           1987,
           128
          ],
          [
           1988,
           121
          ],
          [
           1989,
           125
          ],
          [
           1990,
           119
          ],
          [
           1991,
           121
          ],
          [
           1992,
           104
          ],
          [
           1993,
           92
          ],
          [
           1994,
           85
          ],
          [
           1995,
           89
          ],
          [
           1996,
           97
          ],
          [
           1997,
           93
          ],
          [
           1998,
           101
          ],
          [
           1999,
           110
          ],
          [
           2000,
           106
          ],
          [
           2001,
           82
          ],
          [
           2002,
           76
          ],
          [
           2003,
           65
          ],
          [
           2004,
           75
          ],
          [
           2005,
           71
          ],
          [
           2006,
           74
          ],
          [
           2007,
           74
          ]
         ],
         "hoverlabel": {
          "namelength": 0
         },
         "hovertemplate": "<b>%{hovertext}</b><br><br>country_or_area=Mongolia<br>year=%{customdata[0]}<br>value=%{customdata[1]}",
         "hovertext": [
          "Mongolia",
          "Mongolia",
          "Mongolia",
          "Mongolia",
          "Mongolia",
          "Mongolia",
          "Mongolia",
          "Mongolia",
          "Mongolia",
          "Mongolia",
          "Mongolia",
          "Mongolia",
          "Mongolia",
          "Mongolia",
          "Mongolia",
          "Mongolia",
          "Mongolia",
          "Mongolia",
          "Mongolia",
          "Mongolia",
          "Mongolia",
          "Mongolia",
          "Mongolia",
          "Mongolia",
          "Mongolia",
          "Mongolia",
          "Mongolia",
          "Mongolia",
          "Mongolia",
          "Mongolia",
          "Mongolia",
          "Mongolia",
          "Mongolia",
          "Mongolia",
          "Mongolia",
          "Mongolia",
          "Mongolia",
          "Mongolia",
          "Mongolia",
          "Mongolia",
          "Mongolia",
          "Mongolia",
          "Mongolia",
          "Mongolia",
          "Mongolia",
          "Mongolia",
          "Mongolia"
         ],
         "legendgroup": "country_or_area=Mongolia",
         "line": {
          "color": "#FFA15A",
          "dash": "solid"
         },
         "mode": "lines",
         "name": "Mongolia",
         "showlegend": true,
         "type": "scatter",
         "x": [
          1961,
          1962,
          1963,
          1964,
          1965,
          1966,
          1967,
          1968,
          1969,
          1970,
          1971,
          1972,
          1973,
          1974,
          1975,
          1976,
          1977,
          1978,
          1979,
          1980,
          1981,
          1982,
          1983,
          1984,
          1985,
          1986,
          1987,
          1988,
          1989,
          1990,
          1991,
          1992,
          1993,
          1994,
          1995,
          1996,
          1997,
          1998,
          1999,
          2000,
          2001,
          2002,
          2003,
          2004,
          2005,
          2006,
          2007
         ],
         "xaxis": "x",
         "y": [
          190,
          180,
          161,
          161,
          166,
          169,
          171,
          152,
          146,
          150,
          147,
          147,
          149,
          153,
          166,
          152,
          140,
          149,
          144,
          133,
          133,
          137,
          141,
          133,
          133,
          138,
          128,
          121,
          125,
          119,
          121,
          104,
          92,
          85,
          89,
          97,
          93,
          101,
          110,
          106,
          82,
          76,
          65,
          75,
          71,
          74,
          74
         ],
         "yaxis": "y"
        }
       ],
       "layout": {
        "annotations": [
         {
          "arrowhead": 4,
          "ax": -30,
          "ay": -20,
          "showarrow": true,
          "text": "1991",
          "x": 1991,
          "xref": "x",
          "y": 50,
          "yref": "y"
         },
         {
          "arrowhead": 4,
          "ax": -30,
          "ay": -20,
          "showarrow": true,
          "text": "2001",
          "x": 2001,
          "xref": "x",
          "y": 50,
          "yref": "y"
         }
        ],
        "autosize": true,
        "legend": {
         "tracegroupgap": 0
        },
        "shapes": [
         {
          "line": {
           "width": 3
          },
          "type": "line",
          "x0": 1991,
          "x1": 1991,
          "y0": 0,
          "y1": 300
         },
         {
          "line": {
           "width": 3
          },
          "type": "line",
          "x0": 2001,
          "x1": 2001,
          "y0": 0,
          "y1": 300
         }
        ],
        "template": {
         "data": {
          "bar": [
           {
            "error_x": {
             "color": "#2a3f5f"
            },
            "error_y": {
             "color": "#2a3f5f"
            },
            "marker": {
             "line": {
              "color": "#E5ECF6",
              "width": 0.5
             }
            },
            "type": "bar"
           }
          ],
          "barpolar": [
           {
            "marker": {
             "line": {
              "color": "#E5ECF6",
              "width": 0.5
             }
            },
            "type": "barpolar"
           }
          ],
          "carpet": [
           {
            "aaxis": {
             "endlinecolor": "#2a3f5f",
             "gridcolor": "white",
             "linecolor": "white",
             "minorgridcolor": "white",
             "startlinecolor": "#2a3f5f"
            },
            "baxis": {
             "endlinecolor": "#2a3f5f",
             "gridcolor": "white",
             "linecolor": "white",
             "minorgridcolor": "white",
             "startlinecolor": "#2a3f5f"
            },
            "type": "carpet"
           }
          ],
          "choropleth": [
           {
            "colorbar": {
             "outlinewidth": 0,
             "ticks": ""
            },
            "type": "choropleth"
           }
          ],
          "contour": [
           {
            "colorbar": {
             "outlinewidth": 0,
             "ticks": ""
            },
            "colorscale": [
             [
              0,
              "#0d0887"
             ],
             [
              0.1111111111111111,
              "#46039f"
             ],
             [
              0.2222222222222222,
              "#7201a8"
             ],
             [
              0.3333333333333333,
              "#9c179e"
             ],
             [
              0.4444444444444444,
              "#bd3786"
             ],
             [
              0.5555555555555556,
              "#d8576b"
             ],
             [
              0.6666666666666666,
              "#ed7953"
             ],
             [
              0.7777777777777778,
              "#fb9f3a"
             ],
             [
              0.8888888888888888,
              "#fdca26"
             ],
             [
              1,
              "#f0f921"
             ]
            ],
            "type": "contour"
           }
          ],
          "contourcarpet": [
           {
            "colorbar": {
             "outlinewidth": 0,
             "ticks": ""
            },
            "type": "contourcarpet"
           }
          ],
          "heatmap": [
           {
            "colorbar": {
             "outlinewidth": 0,
             "ticks": ""
            },
            "colorscale": [
             [
              0,
              "#0d0887"
             ],
             [
              0.1111111111111111,
              "#46039f"
             ],
             [
              0.2222222222222222,
              "#7201a8"
             ],
             [
              0.3333333333333333,
              "#9c179e"
             ],
             [
              0.4444444444444444,
              "#bd3786"
             ],
             [
              0.5555555555555556,
              "#d8576b"
             ],
             [
              0.6666666666666666,
              "#ed7953"
             ],
             [
              0.7777777777777778,
              "#fb9f3a"
             ],
             [
              0.8888888888888888,
              "#fdca26"
             ],
             [
              1,
              "#f0f921"
             ]
            ],
            "type": "heatmap"
           }
          ],
          "heatmapgl": [
           {
            "colorbar": {
             "outlinewidth": 0,
             "ticks": ""
            },
            "colorscale": [
             [
              0,
              "#0d0887"
             ],
             [
              0.1111111111111111,
              "#46039f"
             ],
             [
              0.2222222222222222,
              "#7201a8"
             ],
             [
              0.3333333333333333,
              "#9c179e"
             ],
             [
              0.4444444444444444,
              "#bd3786"
             ],
             [
              0.5555555555555556,
              "#d8576b"
             ],
             [
              0.6666666666666666,
              "#ed7953"
             ],
             [
              0.7777777777777778,
              "#fb9f3a"
             ],
             [
              0.8888888888888888,
              "#fdca26"
             ],
             [
              1,
              "#f0f921"
             ]
            ],
            "type": "heatmapgl"
           }
          ],
          "histogram": [
           {
            "marker": {
             "colorbar": {
              "outlinewidth": 0,
              "ticks": ""
             }
            },
            "type": "histogram"
           }
          ],
          "histogram2d": [
           {
            "colorbar": {
             "outlinewidth": 0,
             "ticks": ""
            },
            "colorscale": [
             [
              0,
              "#0d0887"
             ],
             [
              0.1111111111111111,
              "#46039f"
             ],
             [
              0.2222222222222222,
              "#7201a8"
             ],
             [
              0.3333333333333333,
              "#9c179e"
             ],
             [
              0.4444444444444444,
              "#bd3786"
             ],
             [
              0.5555555555555556,
              "#d8576b"
             ],
             [
              0.6666666666666666,
              "#ed7953"
             ],
             [
              0.7777777777777778,
              "#fb9f3a"
             ],
             [
              0.8888888888888888,
              "#fdca26"
             ],
             [
              1,
              "#f0f921"
             ]
            ],
            "type": "histogram2d"
           }
          ],
          "histogram2dcontour": [
           {
            "colorbar": {
             "outlinewidth": 0,
             "ticks": ""
            },
            "colorscale": [
             [
              0,
              "#0d0887"
             ],
             [
              0.1111111111111111,
              "#46039f"
             ],
             [
              0.2222222222222222,
              "#7201a8"
             ],
             [
              0.3333333333333333,
              "#9c179e"
             ],
             [
              0.4444444444444444,
              "#bd3786"
             ],
             [
              0.5555555555555556,
              "#d8576b"
             ],
             [
              0.6666666666666666,
              "#ed7953"
             ],
             [
              0.7777777777777778,
              "#fb9f3a"
             ],
             [
              0.8888888888888888,
              "#fdca26"
             ],
             [
              1,
              "#f0f921"
             ]
            ],
            "type": "histogram2dcontour"
           }
          ],
          "mesh3d": [
           {
            "colorbar": {
             "outlinewidth": 0,
             "ticks": ""
            },
            "type": "mesh3d"
           }
          ],
          "parcoords": [
           {
            "line": {
             "colorbar": {
              "outlinewidth": 0,
              "ticks": ""
             }
            },
            "type": "parcoords"
           }
          ],
          "pie": [
           {
            "automargin": true,
            "type": "pie"
           }
          ],
          "scatter": [
           {
            "marker": {
             "colorbar": {
              "outlinewidth": 0,
              "ticks": ""
             }
            },
            "type": "scatter"
           }
          ],
          "scatter3d": [
           {
            "line": {
             "colorbar": {
              "outlinewidth": 0,
              "ticks": ""
             }
            },
            "marker": {
             "colorbar": {
              "outlinewidth": 0,
              "ticks": ""
             }
            },
            "type": "scatter3d"
           }
          ],
          "scattercarpet": [
           {
            "marker": {
             "colorbar": {
              "outlinewidth": 0,
              "ticks": ""
             }
            },
            "type": "scattercarpet"
           }
          ],
          "scattergeo": [
           {
            "marker": {
             "colorbar": {
              "outlinewidth": 0,
              "ticks": ""
             }
            },
            "type": "scattergeo"
           }
          ],
          "scattergl": [
           {
            "marker": {
             "colorbar": {
              "outlinewidth": 0,
              "ticks": ""
             }
            },
            "type": "scattergl"
           }
          ],
          "scattermapbox": [
           {
            "marker": {
             "colorbar": {
              "outlinewidth": 0,
              "ticks": ""
             }
            },
            "type": "scattermapbox"
           }
          ],
          "scatterpolar": [
           {
            "marker": {
             "colorbar": {
              "outlinewidth": 0,
              "ticks": ""
             }
            },
            "type": "scatterpolar"
           }
          ],
          "scatterpolargl": [
           {
            "marker": {
             "colorbar": {
              "outlinewidth": 0,
              "ticks": ""
             }
            },
            "type": "scatterpolargl"
           }
          ],
          "scatterternary": [
           {
            "marker": {
             "colorbar": {
              "outlinewidth": 0,
              "ticks": ""
             }
            },
            "type": "scatterternary"
           }
          ],
          "surface": [
           {
            "colorbar": {
             "outlinewidth": 0,
             "ticks": ""
            },
            "colorscale": [
             [
              0,
              "#0d0887"
             ],
             [
              0.1111111111111111,
              "#46039f"
             ],
             [
              0.2222222222222222,
              "#7201a8"
             ],
             [
              0.3333333333333333,
              "#9c179e"
             ],
             [
              0.4444444444444444,
              "#bd3786"
             ],
             [
              0.5555555555555556,
              "#d8576b"
             ],
             [
              0.6666666666666666,
              "#ed7953"
             ],
             [
              0.7777777777777778,
              "#fb9f3a"
             ],
             [
              0.8888888888888888,
              "#fdca26"
             ],
             [
              1,
              "#f0f921"
             ]
            ],
            "type": "surface"
           }
          ],
          "table": [
           {
            "cells": {
             "fill": {
              "color": "#EBF0F8"
             },
             "line": {
              "color": "white"
             }
            },
            "header": {
             "fill": {
              "color": "#C8D4E3"
             },
             "line": {
              "color": "white"
             }
            },
            "type": "table"
           }
          ]
         },
         "layout": {
          "annotationdefaults": {
           "arrowcolor": "#2a3f5f",
           "arrowhead": 0,
           "arrowwidth": 1
          },
          "coloraxis": {
           "colorbar": {
            "outlinewidth": 0,
            "ticks": ""
           }
          },
          "colorscale": {
           "diverging": [
            [
             0,
             "#8e0152"
            ],
            [
             0.1,
             "#c51b7d"
            ],
            [
             0.2,
             "#de77ae"
            ],
            [
             0.3,
             "#f1b6da"
            ],
            [
             0.4,
             "#fde0ef"
            ],
            [
             0.5,
             "#f7f7f7"
            ],
            [
             0.6,
             "#e6f5d0"
            ],
            [
             0.7,
             "#b8e186"
            ],
            [
             0.8,
             "#7fbc41"
            ],
            [
             0.9,
             "#4d9221"
            ],
            [
             1,
             "#276419"
            ]
           ],
           "sequential": [
            [
             0,
             "#0d0887"
            ],
            [
             0.1111111111111111,
             "#46039f"
            ],
            [
             0.2222222222222222,
             "#7201a8"
            ],
            [
             0.3333333333333333,
             "#9c179e"
            ],
            [
             0.4444444444444444,
             "#bd3786"
            ],
            [
             0.5555555555555556,
             "#d8576b"
            ],
            [
             0.6666666666666666,
             "#ed7953"
            ],
            [
             0.7777777777777778,
             "#fb9f3a"
            ],
            [
             0.8888888888888888,
             "#fdca26"
            ],
            [
             1,
             "#f0f921"
            ]
           ],
           "sequentialminus": [
            [
             0,
             "#0d0887"
            ],
            [
             0.1111111111111111,
             "#46039f"
            ],
            [
             0.2222222222222222,
             "#7201a8"
            ],
            [
             0.3333333333333333,
             "#9c179e"
            ],
            [
             0.4444444444444444,
             "#bd3786"
            ],
            [
             0.5555555555555556,
             "#d8576b"
            ],
            [
             0.6666666666666666,
             "#ed7953"
            ],
            [
             0.7777777777777778,
             "#fb9f3a"
            ],
            [
             0.8888888888888888,
             "#fdca26"
            ],
            [
             1,
             "#f0f921"
            ]
           ]
          },
          "colorway": [
           "#636efa",
           "#EF553B",
           "#00cc96",
           "#ab63fa",
           "#FFA15A",
           "#19d3f3",
           "#FF6692",
           "#B6E880",
           "#FF97FF",
           "#FECB52"
          ],
          "font": {
           "color": "#2a3f5f"
          },
          "geo": {
           "bgcolor": "white",
           "lakecolor": "white",
           "landcolor": "#E5ECF6",
           "showlakes": true,
           "showland": true,
           "subunitcolor": "white"
          },
          "hoverlabel": {
           "align": "left"
          },
          "hovermode": "closest",
          "mapbox": {
           "style": "light"
          },
          "paper_bgcolor": "white",
          "plot_bgcolor": "#E5ECF6",
          "polar": {
           "angularaxis": {
            "gridcolor": "white",
            "linecolor": "white",
            "ticks": ""
           },
           "bgcolor": "#E5ECF6",
           "radialaxis": {
            "gridcolor": "white",
            "linecolor": "white",
            "ticks": ""
           }
          },
          "scene": {
           "xaxis": {
            "backgroundcolor": "#E5ECF6",
            "gridcolor": "white",
            "gridwidth": 2,
            "linecolor": "white",
            "showbackground": true,
            "ticks": "",
            "zerolinecolor": "white"
           },
           "yaxis": {
            "backgroundcolor": "#E5ECF6",
            "gridcolor": "white",
            "gridwidth": 2,
            "linecolor": "white",
            "showbackground": true,
            "ticks": "",
            "zerolinecolor": "white"
           },
           "zaxis": {
            "backgroundcolor": "#E5ECF6",
            "gridcolor": "white",
            "gridwidth": 2,
            "linecolor": "white",
            "showbackground": true,
            "ticks": "",
            "zerolinecolor": "white"
           }
          },
          "shapedefaults": {
           "line": {
            "color": "#2a3f5f"
           }
          },
          "ternary": {
           "aaxis": {
            "gridcolor": "white",
            "linecolor": "white",
            "ticks": ""
           },
           "baxis": {
            "gridcolor": "white",
            "linecolor": "white",
            "ticks": ""
           },
           "bgcolor": "#E5ECF6",
           "caxis": {
            "gridcolor": "white",
            "linecolor": "white",
            "ticks": ""
           }
          },
          "title": {
           "x": 0.05
          },
          "xaxis": {
           "automargin": true,
           "gridcolor": "white",
           "linecolor": "white",
           "ticks": "",
           "title": {
            "standoff": 15
           },
           "zerolinecolor": "white",
           "zerolinewidth": 2
          },
          "yaxis": {
           "automargin": true,
           "gridcolor": "white",
           "linecolor": "white",
           "ticks": "",
           "title": {
            "standoff": 15
           },
           "zerolinecolor": "white",
           "zerolinewidth": 2
          }
         }
        },
        "title": {
         "text": "Area of Eastern Asia"
        },
        "xaxis": {
         "anchor": "y",
         "autorange": true,
         "domain": [
          0,
          1
         ],
         "range": [
          1961,
          2007
         ],
         "title": {
          "text": "Year"
         },
         "type": "linear"
        },
        "yaxis": {
         "anchor": "x",
         "domain": [
          0,
          1
         ],
         "range": [
          30,
          200
         ],
         "title": {
          "text": "Gross per capita PIN (base 1999-2001) in int. $"
         },
         "type": "linear"
        }
       }
      },
      "image/png": "[encoded data removed]",
      "text/html": [
       "<div>\n",
       "        \n",
       "        \n",
       "            <div id=\"490e4108-a596-4bb3-a474-83a928d7aa7f\" class=\"plotly-graph-div\" style=\"height:600px; width:100%;\"></div>\n",
       "            <script type=\"text/javascript\">\n",
       "                require([\"plotly\"], function(Plotly) {\n",
       "                    window.PLOTLYENV=window.PLOTLYENV || {};\n",
       "                    \n",
       "                if (document.getElementById(\"490e4108-a596-4bb3-a474-83a928d7aa7f\")) {\n",
       "                    Plotly.newPlot(\n",
       "                        '490e4108-a596-4bb3-a474-83a928d7aa7f',\n",
       "                        [{\"customdata\": [[1961.0, 35.0], [1962.0, 35.0], [1963.0, 37.0], [1964.0, 38.0], [1965.0, 41.0], [1966.0, 43.0], [1967.0, 43.0], [1968.0, 41.0], [1969.0, 41.0], [1970.0, 42.0], [1971.0, 42.0], [1972.0, 41.0], [1973.0, 44.0], [1974.0, 43.0], [1975.0, 43.0], [1976.0, 42.0], [1977.0, 43.0], [1978.0, 46.0], [1979.0, 47.0], [1980.0, 47.0], [1981.0, 49.0], [1982.0, 53.0], [1983.0, 56.0], [1984.0, 60.0], [1985.0, 59.0], [1986.0, 59.0], [1987.0, 62.0], [1988.0, 63.0], [1989.0, 63.0], [1990.0, 67.0], [1991.0, 69.0], [1992.0, 71.0], [1993.0, 76.0], [1994.0, 79.0], [1995.0, 84.0], [1996.0, 89.0], [1997.0, 92.0], [1998.0, 95.0], [1999.0, 97.0], [2000.0, 100.0], [2001.0, 101.0], [2002.0, 105.0], [2003.0, 106.0], [2004.0, 111.0], [2005.0, 114.0], [2006.0, 116.0], [2007.0, 117.0]], \"hoverlabel\": {\"namelength\": 0}, \"hovertemplate\": \"<b>%{hovertext}</b><br><br>country_or_area=China<br>year=%{customdata[0]}<br>value=%{customdata[1]}\", \"hovertext\": [\"China\", \"China\", \"China\", \"China\", \"China\", \"China\", \"China\", \"China\", \"China\", \"China\", \"China\", \"China\", \"China\", \"China\", \"China\", \"China\", \"China\", \"China\", \"China\", \"China\", \"China\", \"China\", \"China\", \"China\", \"China\", \"China\", \"China\", \"China\", \"China\", \"China\", \"China\", \"China\", \"China\", \"China\", \"China\", \"China\", \"China\", \"China\", \"China\", \"China\", \"China\", \"China\", \"China\", \"China\", \"China\", \"China\", \"China\"], \"legendgroup\": \"country_or_area=China\", \"line\": {\"color\": \"#636efa\", \"dash\": \"solid\"}, \"mode\": \"lines\", \"name\": \"China\", \"showlegend\": true, \"type\": \"scatter\", \"x\": [1961.0, 1962.0, 1963.0, 1964.0, 1965.0, 1966.0, 1967.0, 1968.0, 1969.0, 1970.0, 1971.0, 1972.0, 1973.0, 1974.0, 1975.0, 1976.0, 1977.0, 1978.0, 1979.0, 1980.0, 1981.0, 1982.0, 1983.0, 1984.0, 1985.0, 1986.0, 1987.0, 1988.0, 1989.0, 1990.0, 1991.0, 1992.0, 1993.0, 1994.0, 1995.0, 1996.0, 1997.0, 1998.0, 1999.0, 2000.0, 2001.0, 2002.0, 2003.0, 2004.0, 2005.0, 2006.0, 2007.0], \"xaxis\": \"x\", \"y\": [35.0, 35.0, 37.0, 38.0, 41.0, 43.0, 43.0, 41.0, 41.0, 42.0, 42.0, 41.0, 44.0, 43.0, 43.0, 42.0, 43.0, 46.0, 47.0, 47.0, 49.0, 53.0, 56.0, 60.0, 59.0, 59.0, 62.0, 63.0, 63.0, 67.0, 69.0, 71.0, 76.0, 79.0, 84.0, 89.0, 92.0, 95.0, 97.0, 100.0, 101.0, 105.0, 106.0, 111.0, 114.0, 116.0, 117.0], \"yaxis\": \"y\"}, {\"customdata\": [[1961.0, 96.0], [1962.0, 100.0], [1963.0, 102.0], [1964.0, 104.0], [1965.0, 105.0], [1966.0, 106.0], [1967.0, 112.0], [1968.0, 116.0], [1969.0, 114.0], [1970.0, 113.0], [1971.0, 109.0], [1972.0, 114.0], [1973.0, 112.0], [1974.0, 111.0], [1975.0, 113.0], [1976.0, 109.0], [1977.0, 116.0], [1978.0, 116.0], [1979.0, 118.0], [1980.0, 112.0], [1981.0, 112.0], [1982.0, 115.0], [1983.0, 114.0], [1984.0, 116.0], [1985.0, 118.0], [1986.0, 119.0], [1987.0, 118.0], [1988.0, 115.0], [1989.0, 115.0], [1990.0, 114.0], [1991.0, 110.0], [1992.0, 113.0], [1993.0, 105.0], [1994.0, 110.0], [1995.0, 107.0], [1996.0, 105.0], [1997.0, 105.0], [1998.0, 100.0], [1999.0, 101.0], [2000.0, 100.0], [2001.0, 98.0], [2002.0, 99.0], [2003.0, 95.0], [2004.0, 96.0], [2005.0, 97.0], [2006.0, 95.0], [2007.0, 97.0]], \"hoverlabel\": {\"namelength\": 0}, \"hovertemplate\": \"<b>%{hovertext}</b><br><br>country_or_area=Japan<br>year=%{customdata[0]}<br>value=%{customdata[1]}\", \"hovertext\": [\"Japan\", \"Japan\", \"Japan\", \"Japan\", \"Japan\", \"Japan\", \"Japan\", \"Japan\", \"Japan\", \"Japan\", \"Japan\", \"Japan\", \"Japan\", \"Japan\", \"Japan\", \"Japan\", \"Japan\", \"Japan\", \"Japan\", \"Japan\", \"Japan\", \"Japan\", \"Japan\", \"Japan\", \"Japan\", \"Japan\", \"Japan\", \"Japan\", \"Japan\", \"Japan\", \"Japan\", \"Japan\", \"Japan\", \"Japan\", \"Japan\", \"Japan\", \"Japan\", \"Japan\", \"Japan\", \"Japan\", \"Japan\", \"Japan\", \"Japan\", \"Japan\", \"Japan\", \"Japan\", \"Japan\"], \"legendgroup\": \"country_or_area=Japan\", \"line\": {\"color\": \"#EF553B\", \"dash\": \"solid\"}, \"mode\": \"lines\", \"name\": \"Japan\", \"showlegend\": true, \"type\": \"scatter\", \"x\": [1961.0, 1962.0, 1963.0, 1964.0, 1965.0, 1966.0, 1967.0, 1968.0, 1969.0, 1970.0, 1971.0, 1972.0, 1973.0, 1974.0, 1975.0, 1976.0, 1977.0, 1978.0, 1979.0, 1980.0, 1981.0, 1982.0, 1983.0, 1984.0, 1985.0, 1986.0, 1987.0, 1988.0, 1989.0, 1990.0, 1991.0, 1992.0, 1993.0, 1994.0, 1995.0, 1996.0, 1997.0, 1998.0, 1999.0, 2000.0, 2001.0, 2002.0, 2003.0, 2004.0, 2005.0, 2006.0, 2007.0], \"xaxis\": \"x\", \"y\": [96.0, 100.0, 102.0, 104.0, 105.0, 106.0, 112.0, 116.0, 114.0, 113.0, 109.0, 114.0, 112.0, 111.0, 113.0, 109.0, 116.0, 116.0, 118.0, 112.0, 112.0, 115.0, 114.0, 116.0, 118.0, 119.0, 118.0, 115.0, 115.0, 114.0, 110.0, 113.0, 105.0, 110.0, 107.0, 105.0, 105.0, 100.0, 101.0, 100.0, 98.0, 99.0, 95.0, 96.0, 97.0, 95.0, 97.0], \"yaxis\": \"y\"}, {\"customdata\": [[1961.0, 93.0], [1962.0, 94.0], [1963.0, 97.0], [1964.0, 99.0], [1965.0, 92.0], [1966.0, 94.0], [1967.0, 89.0], [1968.0, 87.0], [1969.0, 93.0], [1970.0, 92.0], [1971.0, 95.0], [1972.0, 94.0], [1973.0, 99.0], [1974.0, 102.0], [1975.0, 107.0], [1976.0, 110.0], [1977.0, 114.0], [1978.0, 116.0], [1979.0, 118.0], [1980.0, 116.0], [1981.0, 122.0], [1982.0, 112.0], [1983.0, 115.0], [1984.0, 120.0], [1985.0, 122.0], [1986.0, 127.0], [1987.0, 127.0], [1988.0, 127.0], [1989.0, 129.0], [1990.0, 129.0], [1991.0, 148.0], [1992.0, 140.0], [1993.0, 131.0], [1994.0, 117.0], [1995.0, 88.0], [1996.0, 80.0], [1997.0, 81.0], [1998.0, 96.0], [1999.0, 96.0], [2000.0, 96.0], [2001.0, 106.0], [2002.0, 107.0], [2003.0, 109.0], [2004.0, 110.0], [2005.0, 112.0], [2006.0, 110.0], [2007.0, 106.0]], \"hoverlabel\": {\"namelength\": 0}, \"hovertemplate\": \"<b>%{hovertext}</b><br><br>country_or_area=Korea, Democratic People's Republic of<br>year=%{customdata[0]}<br>value=%{customdata[1]}\", \"hovertext\": [\"Korea, Democratic People's Republic of\", \"Korea, Democratic People's Republic of\", \"Korea, Democratic People's Republic of\", \"Korea, Democratic People's Republic of\", \"Korea, Democratic People's Republic of\", \"Korea, Democratic People's Republic of\", \"Korea, Democratic People's Republic of\", \"Korea, Democratic People's Republic of\", \"Korea, Democratic People's Republic of\", \"Korea, Democratic People's Republic of\", \"Korea, Democratic People's Republic of\", \"Korea, Democratic People's Republic of\", \"Korea, Democratic People's Republic of\", \"Korea, Democratic People's Republic of\", \"Korea, Democratic People's Republic of\", \"Korea, Democratic People's Republic of\", \"Korea, Democratic People's Republic of\", \"Korea, Democratic People's Republic of\", \"Korea, Democratic People's Republic of\", \"Korea, Democratic People's Republic of\", \"Korea, Democratic People's Republic of\", \"Korea, Democratic People's Republic of\", \"Korea, Democratic People's Republic of\", \"Korea, Democratic People's Republic of\", \"Korea, Democratic People's Republic of\", \"Korea, Democratic People's Republic of\", \"Korea, Democratic People's Republic of\", \"Korea, Democratic People's Republic of\", \"Korea, Democratic People's Republic of\", \"Korea, Democratic People's Republic of\", \"Korea, Democratic People's Republic of\", \"Korea, Democratic People's Republic of\", \"Korea, Democratic People's Republic of\", \"Korea, Democratic People's Republic of\", \"Korea, Democratic People's Republic of\", \"Korea, Democratic People's Republic of\", \"Korea, Democratic People's Republic of\", \"Korea, Democratic People's Republic of\", \"Korea, Democratic People's Republic of\", \"Korea, Democratic People's Republic of\", \"Korea, Democratic People's Republic of\", \"Korea, Democratic People's Republic of\", \"Korea, Democratic People's Republic of\", \"Korea, Democratic People's Republic of\", \"Korea, Democratic People's Republic of\", \"Korea, Democratic People's Republic of\", \"Korea, Democratic People's Republic of\"], \"legendgroup\": \"country_or_area=Korea, Democratic People's Republic of\", \"line\": {\"color\": \"#00cc96\", \"dash\": \"solid\"}, \"mode\": \"lines\", \"name\": \"Korea, Democratic People's Republic of\", \"showlegend\": true, \"type\": \"scatter\", \"x\": [1961.0, 1962.0, 1963.0, 1964.0, 1965.0, 1966.0, 1967.0, 1968.0, 1969.0, 1970.0, 1971.0, 1972.0, 1973.0, 1974.0, 1975.0, 1976.0, 1977.0, 1978.0, 1979.0, 1980.0, 1981.0, 1982.0, 1983.0, 1984.0, 1985.0, 1986.0, 1987.0, 1988.0, 1989.0, 1990.0, 1991.0, 1992.0, 1993.0, 1994.0, 1995.0, 1996.0, 1997.0, 1998.0, 1999.0, 2000.0, 2001.0, 2002.0, 2003.0, 2004.0, 2005.0, 2006.0, 2007.0], \"xaxis\": \"x\", \"y\": [93.0, 94.0, 97.0, 99.0, 92.0, 94.0, 89.0, 87.0, 93.0, 92.0, 95.0, 94.0, 99.0, 102.0, 107.0, 110.0, 114.0, 116.0, 118.0, 116.0, 122.0, 112.0, 115.0, 120.0, 122.0, 127.0, 127.0, 127.0, 129.0, 129.0, 148.0, 140.0, 131.0, 117.0, 88.0, 80.0, 81.0, 96.0, 96.0, 96.0, 106.0, 107.0, 109.0, 110.0, 112.0, 110.0, 106.0], \"yaxis\": \"y\"}, {\"customdata\": [[1961.0, 45.0], [1962.0, 42.0], [1963.0, 45.0], [1964.0, 52.0], [1965.0, 52.0], [1966.0, 55.0], [1967.0, 50.0], [1968.0, 50.0], [1969.0, 56.0], [1970.0, 55.0], [1971.0, 55.0], [1972.0, 56.0], [1973.0, 56.0], [1974.0, 58.0], [1975.0, 66.0], [1976.0, 72.0], [1977.0, 76.0], [1978.0, 81.0], [1979.0, 83.0], [1980.0, 70.0], [1981.0, 74.0], [1982.0, 76.0], [1983.0, 77.0], [1984.0, 78.0], [1985.0, 79.0], [1986.0, 83.0], [1987.0, 82.0], [1988.0, 86.0], [1989.0, 87.0], [1990.0, 86.0], [1991.0, 84.0], [1992.0, 91.0], [1993.0, 91.0], [1994.0, 90.0], [1995.0, 94.0], [1996.0, 97.0], [1997.0, 97.0], [1998.0, 95.0], [1999.0, 99.0], [2000.0, 100.0], [2001.0, 99.0], [2002.0, 95.0], [2003.0, 92.0], [2004.0, 93.0], [2005.0, 93.0], [2006.0, 93.0], [2007.0, 94.0]], \"hoverlabel\": {\"namelength\": 0}, \"hovertemplate\": \"<b>%{hovertext}</b><br><br>country_or_area=Korea, Republic of<br>year=%{customdata[0]}<br>value=%{customdata[1]}\", \"hovertext\": [\"Korea, Republic of\", \"Korea, Republic of\", \"Korea, Republic of\", \"Korea, Republic of\", \"Korea, Republic of\", \"Korea, Republic of\", \"Korea, Republic of\", \"Korea, Republic of\", \"Korea, Republic of\", \"Korea, Republic of\", \"Korea, Republic of\", \"Korea, Republic of\", \"Korea, Republic of\", \"Korea, Republic of\", \"Korea, Republic of\", \"Korea, Republic of\", \"Korea, Republic of\", \"Korea, Republic of\", \"Korea, Republic of\", \"Korea, Republic of\", \"Korea, Republic of\", \"Korea, Republic of\", \"Korea, Republic of\", \"Korea, Republic of\", \"Korea, Republic of\", \"Korea, Republic of\", \"Korea, Republic of\", \"Korea, Republic of\", \"Korea, Republic of\", \"Korea, Republic of\", \"Korea, Republic of\", \"Korea, Republic of\", \"Korea, Republic of\", \"Korea, Republic of\", \"Korea, Republic of\", \"Korea, Republic of\", \"Korea, Republic of\", \"Korea, Republic of\", \"Korea, Republic of\", \"Korea, Republic of\", \"Korea, Republic of\", \"Korea, Republic of\", \"Korea, Republic of\", \"Korea, Republic of\", \"Korea, Republic of\", \"Korea, Republic of\", \"Korea, Republic of\"], \"legendgroup\": \"country_or_area=Korea, Republic of\", \"line\": {\"color\": \"#ab63fa\", \"dash\": \"solid\"}, \"mode\": \"lines\", \"name\": \"Korea, Republic of\", \"showlegend\": true, \"type\": \"scatter\", \"x\": [1961.0, 1962.0, 1963.0, 1964.0, 1965.0, 1966.0, 1967.0, 1968.0, 1969.0, 1970.0, 1971.0, 1972.0, 1973.0, 1974.0, 1975.0, 1976.0, 1977.0, 1978.0, 1979.0, 1980.0, 1981.0, 1982.0, 1983.0, 1984.0, 1985.0, 1986.0, 1987.0, 1988.0, 1989.0, 1990.0, 1991.0, 1992.0, 1993.0, 1994.0, 1995.0, 1996.0, 1997.0, 1998.0, 1999.0, 2000.0, 2001.0, 2002.0, 2003.0, 2004.0, 2005.0, 2006.0, 2007.0], \"xaxis\": \"x\", \"y\": [45.0, 42.0, 45.0, 52.0, 52.0, 55.0, 50.0, 50.0, 56.0, 55.0, 55.0, 56.0, 56.0, 58.0, 66.0, 72.0, 76.0, 81.0, 83.0, 70.0, 74.0, 76.0, 77.0, 78.0, 79.0, 83.0, 82.0, 86.0, 87.0, 86.0, 84.0, 91.0, 91.0, 90.0, 94.0, 97.0, 97.0, 95.0, 99.0, 100.0, 99.0, 95.0, 92.0, 93.0, 93.0, 93.0, 94.0], \"yaxis\": \"y\"}, {\"customdata\": [[1961.0, 190.0], [1962.0, 180.0], [1963.0, 161.0], [1964.0, 161.0], [1965.0, 166.0], [1966.0, 169.0], [1967.0, 171.0], [1968.0, 152.0], [1969.0, 146.0], [1970.0, 150.0], [1971.0, 147.0], [1972.0, 147.0], [1973.0, 149.0], [1974.0, 153.0], [1975.0, 166.0], [1976.0, 152.0], [1977.0, 140.0], [1978.0, 149.0], [1979.0, 144.0], [1980.0, 133.0], [1981.0, 133.0], [1982.0, 137.0], [1983.0, 141.0], [1984.0, 133.0], [1985.0, 133.0], [1986.0, 138.0], [1987.0, 128.0], [1988.0, 121.0], [1989.0, 125.0], [1990.0, 119.0], [1991.0, 121.0], [1992.0, 104.0], [1993.0, 92.0], [1994.0, 85.0], [1995.0, 89.0], [1996.0, 97.0], [1997.0, 93.0], [1998.0, 101.0], [1999.0, 110.0], [2000.0, 106.0], [2001.0, 82.0], [2002.0, 76.0], [2003.0, 65.0], [2004.0, 75.0], [2005.0, 71.0], [2006.0, 74.0], [2007.0, 74.0]], \"hoverlabel\": {\"namelength\": 0}, \"hovertemplate\": \"<b>%{hovertext}</b><br><br>country_or_area=Mongolia<br>year=%{customdata[0]}<br>value=%{customdata[1]}\", \"hovertext\": [\"Mongolia\", \"Mongolia\", \"Mongolia\", \"Mongolia\", \"Mongolia\", \"Mongolia\", \"Mongolia\", \"Mongolia\", \"Mongolia\", \"Mongolia\", \"Mongolia\", \"Mongolia\", \"Mongolia\", \"Mongolia\", \"Mongolia\", \"Mongolia\", \"Mongolia\", \"Mongolia\", \"Mongolia\", \"Mongolia\", \"Mongolia\", \"Mongolia\", \"Mongolia\", \"Mongolia\", \"Mongolia\", \"Mongolia\", \"Mongolia\", \"Mongolia\", \"Mongolia\", \"Mongolia\", \"Mongolia\", \"Mongolia\", \"Mongolia\", \"Mongolia\", \"Mongolia\", \"Mongolia\", \"Mongolia\", \"Mongolia\", \"Mongolia\", \"Mongolia\", \"Mongolia\", \"Mongolia\", \"Mongolia\", \"Mongolia\", \"Mongolia\", \"Mongolia\", \"Mongolia\"], \"legendgroup\": \"country_or_area=Mongolia\", \"line\": {\"color\": \"#FFA15A\", \"dash\": \"solid\"}, \"mode\": \"lines\", \"name\": \"Mongolia\", \"showlegend\": true, \"type\": \"scatter\", \"x\": [1961.0, 1962.0, 1963.0, 1964.0, 1965.0, 1966.0, 1967.0, 1968.0, 1969.0, 1970.0, 1971.0, 1972.0, 1973.0, 1974.0, 1975.0, 1976.0, 1977.0, 1978.0, 1979.0, 1980.0, 1981.0, 1982.0, 1983.0, 1984.0, 1985.0, 1986.0, 1987.0, 1988.0, 1989.0, 1990.0, 1991.0, 1992.0, 1993.0, 1994.0, 1995.0, 1996.0, 1997.0, 1998.0, 1999.0, 2000.0, 2001.0, 2002.0, 2003.0, 2004.0, 2005.0, 2006.0, 2007.0], \"xaxis\": \"x\", \"y\": [190.0, 180.0, 161.0, 161.0, 166.0, 169.0, 171.0, 152.0, 146.0, 150.0, 147.0, 147.0, 149.0, 153.0, 166.0, 152.0, 140.0, 149.0, 144.0, 133.0, 133.0, 137.0, 141.0, 133.0, 133.0, 138.0, 128.0, 121.0, 125.0, 119.0, 121.0, 104.0, 92.0, 85.0, 89.0, 97.0, 93.0, 101.0, 110.0, 106.0, 82.0, 76.0, 65.0, 75.0, 71.0, 74.0, 74.0], \"yaxis\": \"y\"}],\n",
       "                        {\"annotations\": [{\"arrowhead\": 4, \"ax\": -30, \"ay\": -20, \"showarrow\": true, \"text\": \"1991\", \"x\": 1991, \"xref\": \"x\", \"y\": 50, \"yref\": \"y\"}, {\"arrowhead\": 4, \"ax\": -30, \"ay\": -20, \"showarrow\": true, \"text\": \"2001\", \"x\": 2001, \"xref\": \"x\", \"y\": 50, \"yref\": \"y\"}], \"height\": 600, \"legend\": {\"tracegroupgap\": 0}, \"shapes\": [{\"line\": {\"width\": 3}, \"type\": \"line\", \"x0\": 1991, \"x1\": 1991, \"y0\": 0, \"y1\": 300}, {\"line\": {\"width\": 3}, \"type\": \"line\", \"x0\": 2001, \"x1\": 2001, \"y0\": 0, \"y1\": 300}], \"template\": {\"data\": {\"bar\": [{\"error_x\": {\"color\": \"#2a3f5f\"}, \"error_y\": {\"color\": \"#2a3f5f\"}, \"marker\": {\"line\": {\"color\": \"#E5ECF6\", \"width\": 0.5}}, \"type\": \"bar\"}], \"barpolar\": [{\"marker\": {\"line\": {\"color\": \"#E5ECF6\", \"width\": 0.5}}, \"type\": \"barpolar\"}], \"carpet\": [{\"aaxis\": {\"endlinecolor\": \"#2a3f5f\", \"gridcolor\": \"white\", \"linecolor\": \"white\", \"minorgridcolor\": \"white\", \"startlinecolor\": \"#2a3f5f\"}, \"baxis\": {\"endlinecolor\": \"#2a3f5f\", \"gridcolor\": \"white\", \"linecolor\": \"white\", \"minorgridcolor\": \"white\", \"startlinecolor\": \"#2a3f5f\"}, \"type\": \"carpet\"}], \"choropleth\": [{\"colorbar\": {\"outlinewidth\": 0, \"ticks\": \"\"}, \"type\": \"choropleth\"}], \"contour\": [{\"colorbar\": {\"outlinewidth\": 0, \"ticks\": \"\"}, \"colorscale\": [[0.0, \"#0d0887\"], [0.1111111111111111, \"#46039f\"], [0.2222222222222222, \"#7201a8\"], [0.3333333333333333, \"#9c179e\"], [0.4444444444444444, \"#bd3786\"], [0.5555555555555556, \"#d8576b\"], [0.6666666666666666, \"#ed7953\"], [0.7777777777777778, \"#fb9f3a\"], [0.8888888888888888, \"#fdca26\"], [1.0, \"#f0f921\"]], \"type\": \"contour\"}], \"contourcarpet\": [{\"colorbar\": {\"outlinewidth\": 0, \"ticks\": \"\"}, \"type\": \"contourcarpet\"}], \"heatmap\": [{\"colorbar\": {\"outlinewidth\": 0, \"ticks\": \"\"}, \"colorscale\": [[0.0, \"#0d0887\"], [0.1111111111111111, \"#46039f\"], [0.2222222222222222, \"#7201a8\"], [0.3333333333333333, \"#9c179e\"], [0.4444444444444444, \"#bd3786\"], [0.5555555555555556, \"#d8576b\"], [0.6666666666666666, \"#ed7953\"], [0.7777777777777778, \"#fb9f3a\"], [0.8888888888888888, \"#fdca26\"], [1.0, \"#f0f921\"]], \"type\": \"heatmap\"}], \"heatmapgl\": [{\"colorbar\": {\"outlinewidth\": 0, \"ticks\": \"\"}, \"colorscale\": [[0.0, \"#0d0887\"], [0.1111111111111111, \"#46039f\"], [0.2222222222222222, \"#7201a8\"], [0.3333333333333333, \"#9c179e\"], [0.4444444444444444, \"#bd3786\"], [0.5555555555555556, \"#d8576b\"], [0.6666666666666666, \"#ed7953\"], [0.7777777777777778, \"#fb9f3a\"], [0.8888888888888888, \"#fdca26\"], [1.0, \"#f0f921\"]], \"type\": \"heatmapgl\"}], \"histogram\": [{\"marker\": {\"colorbar\": {\"outlinewidth\": 0, \"ticks\": \"\"}}, \"type\": \"histogram\"}], \"histogram2d\": [{\"colorbar\": {\"outlinewidth\": 0, \"ticks\": \"\"}, \"colorscale\": [[0.0, \"#0d0887\"], [0.1111111111111111, \"#46039f\"], [0.2222222222222222, \"#7201a8\"], [0.3333333333333333, \"#9c179e\"], [0.4444444444444444, \"#bd3786\"], [0.5555555555555556, \"#d8576b\"], [0.6666666666666666, \"#ed7953\"], [0.7777777777777778, \"#fb9f3a\"], [0.8888888888888888, \"#fdca26\"], [1.0, \"#f0f921\"]], \"type\": \"histogram2d\"}], \"histogram2dcontour\": [{\"colorbar\": {\"outlinewidth\": 0, \"ticks\": \"\"}, \"colorscale\": [[0.0, \"#0d0887\"], [0.1111111111111111, \"#46039f\"], [0.2222222222222222, \"#7201a8\"], [0.3333333333333333, \"#9c179e\"], [0.4444444444444444, \"#bd3786\"], [0.5555555555555556, \"#d8576b\"], [0.6666666666666666, \"#ed7953\"], [0.7777777777777778, \"#fb9f3a\"], [0.8888888888888888, \"#fdca26\"], [1.0, \"#f0f921\"]], \"type\": \"histogram2dcontour\"}], \"mesh3d\": [{\"colorbar\": {\"outlinewidth\": 0, \"ticks\": \"\"}, \"type\": \"mesh3d\"}], \"parcoords\": [{\"line\": {\"colorbar\": {\"outlinewidth\": 0, \"ticks\": \"\"}}, \"type\": \"parcoords\"}], \"pie\": [{\"automargin\": true, \"type\": \"pie\"}], \"scatter\": [{\"marker\": {\"colorbar\": {\"outlinewidth\": 0, \"ticks\": \"\"}}, \"type\": \"scatter\"}], \"scatter3d\": [{\"line\": {\"colorbar\": {\"outlinewidth\": 0, \"ticks\": \"\"}}, \"marker\": {\"colorbar\": {\"outlinewidth\": 0, \"ticks\": \"\"}}, \"type\": \"scatter3d\"}], \"scattercarpet\": [{\"marker\": {\"colorbar\": {\"outlinewidth\": 0, \"ticks\": \"\"}}, \"type\": \"scattercarpet\"}], \"scattergeo\": [{\"marker\": {\"colorbar\": {\"outlinewidth\": 0, \"ticks\": \"\"}}, \"type\": \"scattergeo\"}], \"scattergl\": [{\"marker\": {\"colorbar\": {\"outlinewidth\": 0, \"ticks\": \"\"}}, \"type\": \"scattergl\"}], \"scattermapbox\": [{\"marker\": {\"colorbar\": {\"outlinewidth\": 0, \"ticks\": \"\"}}, \"type\": \"scattermapbox\"}], \"scatterpolar\": [{\"marker\": {\"colorbar\": {\"outlinewidth\": 0, \"ticks\": \"\"}}, \"type\": \"scatterpolar\"}], \"scatterpolargl\": [{\"marker\": {\"colorbar\": {\"outlinewidth\": 0, \"ticks\": \"\"}}, \"type\": \"scatterpolargl\"}], \"scatterternary\": [{\"marker\": {\"colorbar\": {\"outlinewidth\": 0, \"ticks\": \"\"}}, \"type\": \"scatterternary\"}], \"surface\": [{\"colorbar\": {\"outlinewidth\": 0, \"ticks\": \"\"}, \"colorscale\": [[0.0, \"#0d0887\"], [0.1111111111111111, \"#46039f\"], [0.2222222222222222, \"#7201a8\"], [0.3333333333333333, \"#9c179e\"], [0.4444444444444444, \"#bd3786\"], [0.5555555555555556, \"#d8576b\"], [0.6666666666666666, \"#ed7953\"], [0.7777777777777778, \"#fb9f3a\"], [0.8888888888888888, \"#fdca26\"], [1.0, \"#f0f921\"]], \"type\": \"surface\"}], \"table\": [{\"cells\": {\"fill\": {\"color\": \"#EBF0F8\"}, \"line\": {\"color\": \"white\"}}, \"header\": {\"fill\": {\"color\": \"#C8D4E3\"}, \"line\": {\"color\": \"white\"}}, \"type\": \"table\"}]}, \"layout\": {\"annotationdefaults\": {\"arrowcolor\": \"#2a3f5f\", \"arrowhead\": 0, \"arrowwidth\": 1}, \"coloraxis\": {\"colorbar\": {\"outlinewidth\": 0, \"ticks\": \"\"}}, \"colorscale\": {\"diverging\": [[0, \"#8e0152\"], [0.1, \"#c51b7d\"], [0.2, \"#de77ae\"], [0.3, \"#f1b6da\"], [0.4, \"#fde0ef\"], [0.5, \"#f7f7f7\"], [0.6, \"#e6f5d0\"], [0.7, \"#b8e186\"], [0.8, \"#7fbc41\"], [0.9, \"#4d9221\"], [1, \"#276419\"]], \"sequential\": [[0.0, \"#0d0887\"], [0.1111111111111111, \"#46039f\"], [0.2222222222222222, \"#7201a8\"], [0.3333333333333333, \"#9c179e\"], [0.4444444444444444, \"#bd3786\"], [0.5555555555555556, \"#d8576b\"], [0.6666666666666666, \"#ed7953\"], [0.7777777777777778, \"#fb9f3a\"], [0.8888888888888888, \"#fdca26\"], [1.0, \"#f0f921\"]], \"sequentialminus\": [[0.0, \"#0d0887\"], [0.1111111111111111, \"#46039f\"], [0.2222222222222222, \"#7201a8\"], [0.3333333333333333, \"#9c179e\"], [0.4444444444444444, \"#bd3786\"], [0.5555555555555556, \"#d8576b\"], [0.6666666666666666, \"#ed7953\"], [0.7777777777777778, \"#fb9f3a\"], [0.8888888888888888, \"#fdca26\"], [1.0, \"#f0f921\"]]}, \"colorway\": [\"#636efa\", \"#EF553B\", \"#00cc96\", \"#ab63fa\", \"#FFA15A\", \"#19d3f3\", \"#FF6692\", \"#B6E880\", \"#FF97FF\", \"#FECB52\"], \"font\": {\"color\": \"#2a3f5f\"}, \"geo\": {\"bgcolor\": \"white\", \"lakecolor\": \"white\", \"landcolor\": \"#E5ECF6\", \"showlakes\": true, \"showland\": true, \"subunitcolor\": \"white\"}, \"hoverlabel\": {\"align\": \"left\"}, \"hovermode\": \"closest\", \"mapbox\": {\"style\": \"light\"}, \"paper_bgcolor\": \"white\", \"plot_bgcolor\": \"#E5ECF6\", \"polar\": {\"angularaxis\": {\"gridcolor\": \"white\", \"linecolor\": \"white\", \"ticks\": \"\"}, \"bgcolor\": \"#E5ECF6\", \"radialaxis\": {\"gridcolor\": \"white\", \"linecolor\": \"white\", \"ticks\": \"\"}}, \"scene\": {\"xaxis\": {\"backgroundcolor\": \"#E5ECF6\", \"gridcolor\": \"white\", \"gridwidth\": 2, \"linecolor\": \"white\", \"showbackground\": true, \"ticks\": \"\", \"zerolinecolor\": \"white\"}, \"yaxis\": {\"backgroundcolor\": \"#E5ECF6\", \"gridcolor\": \"white\", \"gridwidth\": 2, \"linecolor\": \"white\", \"showbackground\": true, \"ticks\": \"\", \"zerolinecolor\": \"white\"}, \"zaxis\": {\"backgroundcolor\": \"#E5ECF6\", \"gridcolor\": \"white\", \"gridwidth\": 2, \"linecolor\": \"white\", \"showbackground\": true, \"ticks\": \"\", \"zerolinecolor\": \"white\"}}, \"shapedefaults\": {\"line\": {\"color\": \"#2a3f5f\"}}, \"ternary\": {\"aaxis\": {\"gridcolor\": \"white\", \"linecolor\": \"white\", \"ticks\": \"\"}, \"baxis\": {\"gridcolor\": \"white\", \"linecolor\": \"white\", \"ticks\": \"\"}, \"bgcolor\": \"#E5ECF6\", \"caxis\": {\"gridcolor\": \"white\", \"linecolor\": \"white\", \"ticks\": \"\"}}, \"title\": {\"x\": 0.05}, \"xaxis\": {\"automargin\": true, \"gridcolor\": \"white\", \"linecolor\": \"white\", \"ticks\": \"\", \"title\": {\"standoff\": 15}, \"zerolinecolor\": \"white\", \"zerolinewidth\": 2}, \"yaxis\": {\"automargin\": true, \"gridcolor\": \"white\", \"linecolor\": \"white\", \"ticks\": \"\", \"title\": {\"standoff\": 15}, \"zerolinecolor\": \"white\", \"zerolinewidth\": 2}}}, \"title\": {\"text\": \"Area of Eastern Asia\"}, \"xaxis\": {\"anchor\": \"y\", \"domain\": [0.0, 1.0], \"title\": {\"text\": \"Year\"}}, \"yaxis\": {\"anchor\": \"x\", \"domain\": [0.0, 1.0], \"range\": [30, 200], \"title\": {\"text\": \"Gross per capita PIN (base 1999-2001) in int. $\"}}},\n",
       "                        {\"responsive\": true}\n",
       "                    ).then(function(){\n",
       "                            \n",
       "var gd = document.getElementById('490e4108-a596-4bb3-a474-83a928d7aa7f');\n",
       "var x = new MutationObserver(function (mutations, observer) {{\n",
       "        var display = window.getComputedStyle(gd).display;\n",
       "        if (!display || display === 'none') {{\n",
       "            console.log([gd, 'removed!']);\n",
       "            Plotly.purge(gd);\n",
       "            observer.disconnect();\n",
       "        }}\n",
       "}});\n",
       "\n",
       "// Listen for the removal of the full notebook cells\n",
       "var notebookContainer = gd.closest('#notebook-container');\n",
       "if (notebookContainer) {{\n",
       "    x.observe(notebookContainer, {childList: true});\n",
       "}}\n",
       "\n",
       "// Listen for the clearing of the current output cell\n",
       "var outputEl = gd.closest('.output');\n",
       "if (outputEl) {{\n",
       "    x.observe(outputEl, {childList: true});\n",
       "}}\n",
       "\n",
       "                        })\n",
       "                };\n",
       "                });\n",
       "            </script>\n",
       "        </div>"
      ]
     },
     "metadata": {},
     "output_type": "display_data"
    }
   ],
   "source": [
    "# Selecting only the countries on the continent of Asia\n",
    "eastern_asia = {'China', 'Japan', 'Korea, Republic of', 'Korea, Democratic People\\'s Republic of', 'Mongolia'}\n",
    "eastern_name = 'Area of Eastern Asia'\n",
    "\n",
    "# Creating value to use acrost multiple chart types\n",
    "eastern_asia_data = extract_data(eastern_asia)\n",
    "\n",
    "# Generating the plot\n",
    "fig = px.line(eastern_asia_data, x='year', y='value', color='country_or_area', hover_name='country_or_area', hover_data=['year', 'value'], title=eastern_name\n",
    "             ).for_each_trace(lambda t: t.update(name=t.name.replace('country_or_area=','')))\n",
    "\n",
    "# Updating the x and y axis titles to reflect the data\n",
    "fig.update_xaxes(title_text='Year')\n",
    "fig.update_yaxes(title_text='Gross per capita PIN (base 1999-2001) in int. $')\n",
    "fig.update_yaxes(range=[30, 200])\n",
    "\n",
    "# Adding a line and annotation to the year 1991 to represent the collapse of the USSR\n",
    "fig.add_shape(go.layout.Shape(type=\"line\", x0=1991, y0=0, x1=1991, y1=300, line=dict(width=3)))\n",
    "fig.add_annotation(go.layout.Annotation(x=1991, y=50, text='1991'))\n",
    "\n",
    "# Adding a line and annotation to the year 2001 to represent the tech stock collapse\n",
    "fig.add_shape(go.layout.Shape(type=\"line\", x0=2001, y0=0, x1=2001, y1=300, line=dict(width=3)))\n",
    "fig.add_annotation(go.layout.Annotation(x=2001, y=50, text='2001'))\n",
    "fig.update_annotations(dict(xref='x', yref=\"y\", showarrow=True, arrowhead=4, ax=-30, ay=-20))\n",
    "fig.show()"
   ]
  },
  {
   "cell_type": "markdown",
   "metadata": {},
   "source": [
    "You can also see here you can see how the collapse of the U.S.S.R. had an effect on Mongolia and the Democratic people's Republic of Korea (DPRK).  It looks like Mongolia was starting to have a strong recovery until the collapse of the tech industry in the year 2001, but it does not look like the DPRK has the same issue during the 2001 time period.\n",
    "\n",
    "China and the Republic of Korea look to be making up for the difference in the areas production due all the other countries decrease in Gross per capita PIN."
   ]
  },
  {
   "cell_type": "markdown",
   "metadata": {},
   "source": [
    "Throw in a line for 1991 to annotated the collapse of the USSR"
   ]
  },
  {
   "cell_type": "code",
   "execution_count": 163,
   "metadata": {},
   "outputs": [
    {
     "data": {
      "application/vnd.plotly.v1+json": {
       "config": {
        "plotlyServerURL": "https://plot.ly"
       },
       "data": [
        {
         "alignmentgroup": "True",
         "hoverlabel": {
          "namelength": 0
         },
         "hovertemplate": "country_or_area=China<br>value=%{y}",
         "legendgroup": "country_or_area=China",
         "marker": {
          "color": "#636efa"
         },
         "name": "China",
         "notched": false,
         "offsetgroup": "country_or_area=China",
         "orientation": "v",
         "showlegend": true,
         "type": "box",
         "x0": " ",
         "xaxis": "x",
         "y": [
          35,
          35,
          37,
          38,
          41,
          43,
          43,
          41,
          41,
          42,
          42,
          41,
          44,
          43,
          43,
          42,
          43,
          46,
          47,
          47,
          49,
          53,
          56,
          60,
          59,
          59,
          62,
          63,
          63,
          67,
          69,
          71,
          76,
          79,
          84,
          89,
          92,
          95,
          97,
          100,
          101,
          105,
          106,
          111,
          114,
          116,
          117
         ],
         "y0": " ",
         "yaxis": "y"
        },
        {
         "alignmentgroup": "True",
         "hoverlabel": {
          "namelength": 0
         },
         "hovertemplate": "country_or_area=Japan<br>value=%{y}",
         "legendgroup": "country_or_area=Japan",
         "marker": {
          "color": "#EF553B"
         },
         "name": "Japan",
         "notched": false,
         "offsetgroup": "country_or_area=Japan",
         "orientation": "v",
         "showlegend": true,
         "type": "box",
         "x0": " ",
         "xaxis": "x",
         "y": [
          96,
          100,
          102,
          104,
          105,
          106,
          112,
          116,
          114,
          113,
          109,
          114,
          112,
          111,
          113,
          109,
          116,
          116,
          118,
          112,
          112,
          115,
          114,
          116,
          118,
          119,
          118,
          115,
          115,
          114,
          110,
          113,
          105,
          110,
          107,
          105,
          105,
          100,
          101,
          100,
          98,
          99,
          95,
          96,
          97,
          95,
          97
         ],
         "y0": " ",
         "yaxis": "y"
        },
        {
         "alignmentgroup": "True",
         "hoverlabel": {
          "namelength": 0
         },
         "hovertemplate": "country_or_area=Korea, Democratic People's Republic of<br>value=%{y}",
         "legendgroup": "country_or_area=Korea, Democratic People's Republic of",
         "marker": {
          "color": "#00cc96"
         },
         "name": "Korea, Democratic People's Republic of",
         "notched": false,
         "offsetgroup": "country_or_area=Korea, Democratic People's Republic of",
         "orientation": "v",
         "showlegend": true,
         "type": "box",
         "x0": " ",
         "xaxis": "x",
         "y": [
          93,
          94,
          97,
          99,
          92,
          94,
          89,
          87,
          93,
          92,
          95,
          94,
          99,
          102,
          107,
          110,
          114,
          116,
          118,
          116,
          122,
          112,
          115,
          120,
          122,
          127,
          127,
          127,
          129,
          129,
          148,
          140,
          131,
          117,
          88,
          80,
          81,
          96,
          96,
          96,
          106,
          107,
          109,
          110,
          112,
          110,
          106
         ],
         "y0": " ",
         "yaxis": "y"
        },
        {
         "alignmentgroup": "True",
         "hoverlabel": {
          "namelength": 0
         },
         "hovertemplate": "country_or_area=Korea, Republic of<br>value=%{y}",
         "legendgroup": "country_or_area=Korea, Republic of",
         "marker": {
          "color": "#ab63fa"
         },
         "name": "Korea, Republic of",
         "notched": false,
         "offsetgroup": "country_or_area=Korea, Republic of",
         "orientation": "v",
         "showlegend": true,
         "type": "box",
         "x0": " ",
         "xaxis": "x",
         "y": [
          45,
          42,
          45,
          52,
          52,
          55,
          50,
          50,
          56,
          55,
          55,
          56,
          56,
          58,
          66,
          72,
          76,
          81,
          83,
          70,
          74,
          76,
          77,
          78,
          79,
          83,
          82,
          86,
          87,
          86,
          84,
          91,
          91,
          90,
          94,
          97,
          97,
          95,
          99,
          100,
          99,
          95,
          92,
          93,
          93,
          93,
          94
         ],
         "y0": " ",
         "yaxis": "y"
        },
        {
         "alignmentgroup": "True",
         "hoverlabel": {
          "namelength": 0
         },
         "hovertemplate": "country_or_area=Mongolia<br>value=%{y}",
         "legendgroup": "country_or_area=Mongolia",
         "marker": {
          "color": "#FFA15A"
         },
         "name": "Mongolia",
         "notched": false,
         "offsetgroup": "country_or_area=Mongolia",
         "orientation": "v",
         "showlegend": true,
         "type": "box",
         "x0": " ",
         "xaxis": "x",
         "y": [
          190,
          180,
          161,
          161,
          166,
          169,
          171,
          152,
          146,
          150,
          147,
          147,
          149,
          153,
          166,
          152,
          140,
          149,
          144,
          133,
          133,
          137,
          141,
          133,
          133,
          138,
          128,
          121,
          125,
          119,
          121,
          104,
          92,
          85,
          89,
          97,
          93,
          101,
          110,
          106,
          82,
          76,
          65,
          75,
          71,
          74,
          74
         ],
         "y0": " ",
         "yaxis": "y"
        }
       ],
       "layout": {
        "autosize": true,
        "boxmode": "group",
        "legend": {
         "tracegroupgap": 0
        },
        "margin": {
         "t": 60
        },
        "template": {
         "data": {
          "bar": [
           {
            "error_x": {
             "color": "#2a3f5f"
            },
            "error_y": {
             "color": "#2a3f5f"
            },
            "marker": {
             "line": {
              "color": "#E5ECF6",
              "width": 0.5
             }
            },
            "type": "bar"
           }
          ],
          "barpolar": [
           {
            "marker": {
             "line": {
              "color": "#E5ECF6",
              "width": 0.5
             }
            },
            "type": "barpolar"
           }
          ],
          "carpet": [
           {
            "aaxis": {
             "endlinecolor": "#2a3f5f",
             "gridcolor": "white",
             "linecolor": "white",
             "minorgridcolor": "white",
             "startlinecolor": "#2a3f5f"
            },
            "baxis": {
             "endlinecolor": "#2a3f5f",
             "gridcolor": "white",
             "linecolor": "white",
             "minorgridcolor": "white",
             "startlinecolor": "#2a3f5f"
            },
            "type": "carpet"
           }
          ],
          "choropleth": [
           {
            "colorbar": {
             "outlinewidth": 0,
             "ticks": ""
            },
            "type": "choropleth"
           }
          ],
          "contour": [
           {
            "colorbar": {
             "outlinewidth": 0,
             "ticks": ""
            },
            "colorscale": [
             [
              0,
              "#0d0887"
             ],
             [
              0.1111111111111111,
              "#46039f"
             ],
             [
              0.2222222222222222,
              "#7201a8"
             ],
             [
              0.3333333333333333,
              "#9c179e"
             ],
             [
              0.4444444444444444,
              "#bd3786"
             ],
             [
              0.5555555555555556,
              "#d8576b"
             ],
             [
              0.6666666666666666,
              "#ed7953"
             ],
             [
              0.7777777777777778,
              "#fb9f3a"
             ],
             [
              0.8888888888888888,
              "#fdca26"
             ],
             [
              1,
              "#f0f921"
             ]
            ],
            "type": "contour"
           }
          ],
          "contourcarpet": [
           {
            "colorbar": {
             "outlinewidth": 0,
             "ticks": ""
            },
            "type": "contourcarpet"
           }
          ],
          "heatmap": [
           {
            "colorbar": {
             "outlinewidth": 0,
             "ticks": ""
            },
            "colorscale": [
             [
              0,
              "#0d0887"
             ],
             [
              0.1111111111111111,
              "#46039f"
             ],
             [
              0.2222222222222222,
              "#7201a8"
             ],
             [
              0.3333333333333333,
              "#9c179e"
             ],
             [
              0.4444444444444444,
              "#bd3786"
             ],
             [
              0.5555555555555556,
              "#d8576b"
             ],
             [
              0.6666666666666666,
              "#ed7953"
             ],
             [
              0.7777777777777778,
              "#fb9f3a"
             ],
             [
              0.8888888888888888,
              "#fdca26"
             ],
             [
              1,
              "#f0f921"
             ]
            ],
            "type": "heatmap"
           }
          ],
          "heatmapgl": [
           {
            "colorbar": {
             "outlinewidth": 0,
             "ticks": ""
            },
            "colorscale": [
             [
              0,
              "#0d0887"
             ],
             [
              0.1111111111111111,
              "#46039f"
             ],
             [
              0.2222222222222222,
              "#7201a8"
             ],
             [
              0.3333333333333333,
              "#9c179e"
             ],
             [
              0.4444444444444444,
              "#bd3786"
             ],
             [
              0.5555555555555556,
              "#d8576b"
             ],
             [
              0.6666666666666666,
              "#ed7953"
             ],
             [
              0.7777777777777778,
              "#fb9f3a"
             ],
             [
              0.8888888888888888,
              "#fdca26"
             ],
             [
              1,
              "#f0f921"
             ]
            ],
            "type": "heatmapgl"
           }
          ],
          "histogram": [
           {
            "marker": {
             "colorbar": {
              "outlinewidth": 0,
              "ticks": ""
             }
            },
            "type": "histogram"
           }
          ],
          "histogram2d": [
           {
            "colorbar": {
             "outlinewidth": 0,
             "ticks": ""
            },
            "colorscale": [
             [
              0,
              "#0d0887"
             ],
             [
              0.1111111111111111,
              "#46039f"
             ],
             [
              0.2222222222222222,
              "#7201a8"
             ],
             [
              0.3333333333333333,
              "#9c179e"
             ],
             [
              0.4444444444444444,
              "#bd3786"
             ],
             [
              0.5555555555555556,
              "#d8576b"
             ],
             [
              0.6666666666666666,
              "#ed7953"
             ],
             [
              0.7777777777777778,
              "#fb9f3a"
             ],
             [
              0.8888888888888888,
              "#fdca26"
             ],
             [
              1,
              "#f0f921"
             ]
            ],
            "type": "histogram2d"
           }
          ],
          "histogram2dcontour": [
           {
            "colorbar": {
             "outlinewidth": 0,
             "ticks": ""
            },
            "colorscale": [
             [
              0,
              "#0d0887"
             ],
             [
              0.1111111111111111,
              "#46039f"
             ],
             [
              0.2222222222222222,
              "#7201a8"
             ],
             [
              0.3333333333333333,
              "#9c179e"
             ],
             [
              0.4444444444444444,
              "#bd3786"
             ],
             [
              0.5555555555555556,
              "#d8576b"
             ],
             [
              0.6666666666666666,
              "#ed7953"
             ],
             [
              0.7777777777777778,
              "#fb9f3a"
             ],
             [
              0.8888888888888888,
              "#fdca26"
             ],
             [
              1,
              "#f0f921"
             ]
            ],
            "type": "histogram2dcontour"
           }
          ],
          "mesh3d": [
           {
            "colorbar": {
             "outlinewidth": 0,
             "ticks": ""
            },
            "type": "mesh3d"
           }
          ],
          "parcoords": [
           {
            "line": {
             "colorbar": {
              "outlinewidth": 0,
              "ticks": ""
             }
            },
            "type": "parcoords"
           }
          ],
          "pie": [
           {
            "automargin": true,
            "type": "pie"
           }
          ],
          "scatter": [
           {
            "marker": {
             "colorbar": {
              "outlinewidth": 0,
              "ticks": ""
             }
            },
            "type": "scatter"
           }
          ],
          "scatter3d": [
           {
            "line": {
             "colorbar": {
              "outlinewidth": 0,
              "ticks": ""
             }
            },
            "marker": {
             "colorbar": {
              "outlinewidth": 0,
              "ticks": ""
             }
            },
            "type": "scatter3d"
           }
          ],
          "scattercarpet": [
           {
            "marker": {
             "colorbar": {
              "outlinewidth": 0,
              "ticks": ""
             }
            },
            "type": "scattercarpet"
           }
          ],
          "scattergeo": [
           {
            "marker": {
             "colorbar": {
              "outlinewidth": 0,
              "ticks": ""
             }
            },
            "type": "scattergeo"
           }
          ],
          "scattergl": [
           {
            "marker": {
             "colorbar": {
              "outlinewidth": 0,
              "ticks": ""
             }
            },
            "type": "scattergl"
           }
          ],
          "scattermapbox": [
           {
            "marker": {
             "colorbar": {
              "outlinewidth": 0,
              "ticks": ""
             }
            },
            "type": "scattermapbox"
           }
          ],
          "scatterpolar": [
           {
            "marker": {
             "colorbar": {
              "outlinewidth": 0,
              "ticks": ""
             }
            },
            "type": "scatterpolar"
           }
          ],
          "scatterpolargl": [
           {
            "marker": {
             "colorbar": {
              "outlinewidth": 0,
              "ticks": ""
             }
            },
            "type": "scatterpolargl"
           }
          ],
          "scatterternary": [
           {
            "marker": {
             "colorbar": {
              "outlinewidth": 0,
              "ticks": ""
             }
            },
            "type": "scatterternary"
           }
          ],
          "surface": [
           {
            "colorbar": {
             "outlinewidth": 0,
             "ticks": ""
            },
            "colorscale": [
             [
              0,
              "#0d0887"
             ],
             [
              0.1111111111111111,
              "#46039f"
             ],
             [
              0.2222222222222222,
              "#7201a8"
             ],
             [
              0.3333333333333333,
              "#9c179e"
             ],
             [
              0.4444444444444444,
              "#bd3786"
             ],
             [
              0.5555555555555556,
              "#d8576b"
             ],
             [
              0.6666666666666666,
              "#ed7953"
             ],
             [
              0.7777777777777778,
              "#fb9f3a"
             ],
             [
              0.8888888888888888,
              "#fdca26"
             ],
             [
              1,
              "#f0f921"
             ]
            ],
            "type": "surface"
           }
          ],
          "table": [
           {
            "cells": {
             "fill": {
              "color": "#EBF0F8"
             },
             "line": {
              "color": "white"
             }
            },
            "header": {
             "fill": {
              "color": "#C8D4E3"
             },
             "line": {
              "color": "white"
             }
            },
            "type": "table"
           }
          ]
         },
         "layout": {
          "annotationdefaults": {
           "arrowcolor": "#2a3f5f",
           "arrowhead": 0,
           "arrowwidth": 1
          },
          "coloraxis": {
           "colorbar": {
            "outlinewidth": 0,
            "ticks": ""
           }
          },
          "colorscale": {
           "diverging": [
            [
             0,
             "#8e0152"
            ],
            [
             0.1,
             "#c51b7d"
            ],
            [
             0.2,
             "#de77ae"
            ],
            [
             0.3,
             "#f1b6da"
            ],
            [
             0.4,
             "#fde0ef"
            ],
            [
             0.5,
             "#f7f7f7"
            ],
            [
             0.6,
             "#e6f5d0"
            ],
            [
             0.7,
             "#b8e186"
            ],
            [
             0.8,
             "#7fbc41"
            ],
            [
             0.9,
             "#4d9221"
            ],
            [
             1,
             "#276419"
            ]
           ],
           "sequential": [
            [
             0,
             "#0d0887"
            ],
            [
             0.1111111111111111,
             "#46039f"
            ],
            [
             0.2222222222222222,
             "#7201a8"
            ],
            [
             0.3333333333333333,
             "#9c179e"
            ],
            [
             0.4444444444444444,
             "#bd3786"
            ],
            [
             0.5555555555555556,
             "#d8576b"
            ],
            [
             0.6666666666666666,
             "#ed7953"
            ],
            [
             0.7777777777777778,
             "#fb9f3a"
            ],
            [
             0.8888888888888888,
             "#fdca26"
            ],
            [
             1,
             "#f0f921"
            ]
           ],
           "sequentialminus": [
            [
             0,
             "#0d0887"
            ],
            [
             0.1111111111111111,
             "#46039f"
            ],
            [
             0.2222222222222222,
             "#7201a8"
            ],
            [
             0.3333333333333333,
             "#9c179e"
            ],
            [
             0.4444444444444444,
             "#bd3786"
            ],
            [
             0.5555555555555556,
             "#d8576b"
            ],
            [
             0.6666666666666666,
             "#ed7953"
            ],
            [
             0.7777777777777778,
             "#fb9f3a"
            ],
            [
             0.8888888888888888,
             "#fdca26"
            ],
            [
             1,
             "#f0f921"
            ]
           ]
          },
          "colorway": [
           "#636efa",
           "#EF553B",
           "#00cc96",
           "#ab63fa",
           "#FFA15A",
           "#19d3f3",
           "#FF6692",
           "#B6E880",
           "#FF97FF",
           "#FECB52"
          ],
          "font": {
           "color": "#2a3f5f"
          },
          "geo": {
           "bgcolor": "white",
           "lakecolor": "white",
           "landcolor": "#E5ECF6",
           "showlakes": true,
           "showland": true,
           "subunitcolor": "white"
          },
          "hoverlabel": {
           "align": "left"
          },
          "hovermode": "closest",
          "mapbox": {
           "style": "light"
          },
          "paper_bgcolor": "white",
          "plot_bgcolor": "#E5ECF6",
          "polar": {
           "angularaxis": {
            "gridcolor": "white",
            "linecolor": "white",
            "ticks": ""
           },
           "bgcolor": "#E5ECF6",
           "radialaxis": {
            "gridcolor": "white",
            "linecolor": "white",
            "ticks": ""
           }
          },
          "scene": {
           "xaxis": {
            "backgroundcolor": "#E5ECF6",
            "gridcolor": "white",
            "gridwidth": 2,
            "linecolor": "white",
            "showbackground": true,
            "ticks": "",
            "zerolinecolor": "white"
           },
           "yaxis": {
            "backgroundcolor": "#E5ECF6",
            "gridcolor": "white",
            "gridwidth": 2,
            "linecolor": "white",
            "showbackground": true,
            "ticks": "",
            "zerolinecolor": "white"
           },
           "zaxis": {
            "backgroundcolor": "#E5ECF6",
            "gridcolor": "white",
            "gridwidth": 2,
            "linecolor": "white",
            "showbackground": true,
            "ticks": "",
            "zerolinecolor": "white"
           }
          },
          "shapedefaults": {
           "line": {
            "color": "#2a3f5f"
           }
          },
          "ternary": {
           "aaxis": {
            "gridcolor": "white",
            "linecolor": "white",
            "ticks": ""
           },
           "baxis": {
            "gridcolor": "white",
            "linecolor": "white",
            "ticks": ""
           },
           "bgcolor": "#E5ECF6",
           "caxis": {
            "gridcolor": "white",
            "linecolor": "white",
            "ticks": ""
           }
          },
          "title": {
           "x": 0.05
          },
          "xaxis": {
           "automargin": true,
           "gridcolor": "white",
           "linecolor": "white",
           "ticks": "",
           "title": {
            "standoff": 15
           },
           "zerolinecolor": "white",
           "zerolinewidth": 2
          },
          "yaxis": {
           "automargin": true,
           "gridcolor": "white",
           "linecolor": "white",
           "ticks": "",
           "title": {
            "standoff": 15
           },
           "zerolinecolor": "white",
           "zerolinewidth": 2
          }
         }
        },
        "xaxis": {
         "anchor": "y",
         "autorange": true,
         "domain": [
          0,
          1
         ],
         "range": [
          -0.5,
          0.5
         ],
         "type": "category"
        },
        "yaxis": {
         "anchor": "x",
         "autorange": true,
         "domain": [
          0,
          1
         ],
         "range": [
          26.38888888888889,
          198.61111111111111
         ],
         "title": {
          "text": "Gross per capita PIN (base 1999-2001) in int. $"
         },
         "type": "linear"
        }
       }
      },
      "image/png": "[encoded data removed]",
      "text/html": [
       "<div>\n",
       "        \n",
       "        \n",
       "            <div id=\"31d8d2b9-16fa-4e79-9bde-0f420fa87eb5\" class=\"plotly-graph-div\" style=\"height:600px; width:100%;\"></div>\n",
       "            <script type=\"text/javascript\">\n",
       "                require([\"plotly\"], function(Plotly) {\n",
       "                    window.PLOTLYENV=window.PLOTLYENV || {};\n",
       "                    \n",
       "                if (document.getElementById(\"31d8d2b9-16fa-4e79-9bde-0f420fa87eb5\")) {\n",
       "                    Plotly.newPlot(\n",
       "                        '31d8d2b9-16fa-4e79-9bde-0f420fa87eb5',\n",
       "                        [{\"alignmentgroup\": \"True\", \"hoverlabel\": {\"namelength\": 0}, \"hovertemplate\": \"country_or_area=China<br>value=%{y}\", \"legendgroup\": \"country_or_area=China\", \"marker\": {\"color\": \"#636efa\"}, \"name\": \"China\", \"notched\": false, \"offsetgroup\": \"country_or_area=China\", \"orientation\": \"v\", \"showlegend\": true, \"type\": \"box\", \"x0\": \" \", \"xaxis\": \"x\", \"y\": [35.0, 35.0, 37.0, 38.0, 41.0, 43.0, 43.0, 41.0, 41.0, 42.0, 42.0, 41.0, 44.0, 43.0, 43.0, 42.0, 43.0, 46.0, 47.0, 47.0, 49.0, 53.0, 56.0, 60.0, 59.0, 59.0, 62.0, 63.0, 63.0, 67.0, 69.0, 71.0, 76.0, 79.0, 84.0, 89.0, 92.0, 95.0, 97.0, 100.0, 101.0, 105.0, 106.0, 111.0, 114.0, 116.0, 117.0], \"y0\": \" \", \"yaxis\": \"y\"}, {\"alignmentgroup\": \"True\", \"hoverlabel\": {\"namelength\": 0}, \"hovertemplate\": \"country_or_area=Japan<br>value=%{y}\", \"legendgroup\": \"country_or_area=Japan\", \"marker\": {\"color\": \"#EF553B\"}, \"name\": \"Japan\", \"notched\": false, \"offsetgroup\": \"country_or_area=Japan\", \"orientation\": \"v\", \"showlegend\": true, \"type\": \"box\", \"x0\": \" \", \"xaxis\": \"x\", \"y\": [96.0, 100.0, 102.0, 104.0, 105.0, 106.0, 112.0, 116.0, 114.0, 113.0, 109.0, 114.0, 112.0, 111.0, 113.0, 109.0, 116.0, 116.0, 118.0, 112.0, 112.0, 115.0, 114.0, 116.0, 118.0, 119.0, 118.0, 115.0, 115.0, 114.0, 110.0, 113.0, 105.0, 110.0, 107.0, 105.0, 105.0, 100.0, 101.0, 100.0, 98.0, 99.0, 95.0, 96.0, 97.0, 95.0, 97.0], \"y0\": \" \", \"yaxis\": \"y\"}, {\"alignmentgroup\": \"True\", \"hoverlabel\": {\"namelength\": 0}, \"hovertemplate\": \"country_or_area=Korea, Democratic People's Republic of<br>value=%{y}\", \"legendgroup\": \"country_or_area=Korea, Democratic People's Republic of\", \"marker\": {\"color\": \"#00cc96\"}, \"name\": \"Korea, Democratic People's Republic of\", \"notched\": false, \"offsetgroup\": \"country_or_area=Korea, Democratic People's Republic of\", \"orientation\": \"v\", \"showlegend\": true, \"type\": \"box\", \"x0\": \" \", \"xaxis\": \"x\", \"y\": [93.0, 94.0, 97.0, 99.0, 92.0, 94.0, 89.0, 87.0, 93.0, 92.0, 95.0, 94.0, 99.0, 102.0, 107.0, 110.0, 114.0, 116.0, 118.0, 116.0, 122.0, 112.0, 115.0, 120.0, 122.0, 127.0, 127.0, 127.0, 129.0, 129.0, 148.0, 140.0, 131.0, 117.0, 88.0, 80.0, 81.0, 96.0, 96.0, 96.0, 106.0, 107.0, 109.0, 110.0, 112.0, 110.0, 106.0], \"y0\": \" \", \"yaxis\": \"y\"}, {\"alignmentgroup\": \"True\", \"hoverlabel\": {\"namelength\": 0}, \"hovertemplate\": \"country_or_area=Korea, Republic of<br>value=%{y}\", \"legendgroup\": \"country_or_area=Korea, Republic of\", \"marker\": {\"color\": \"#ab63fa\"}, \"name\": \"Korea, Republic of\", \"notched\": false, \"offsetgroup\": \"country_or_area=Korea, Republic of\", \"orientation\": \"v\", \"showlegend\": true, \"type\": \"box\", \"x0\": \" \", \"xaxis\": \"x\", \"y\": [45.0, 42.0, 45.0, 52.0, 52.0, 55.0, 50.0, 50.0, 56.0, 55.0, 55.0, 56.0, 56.0, 58.0, 66.0, 72.0, 76.0, 81.0, 83.0, 70.0, 74.0, 76.0, 77.0, 78.0, 79.0, 83.0, 82.0, 86.0, 87.0, 86.0, 84.0, 91.0, 91.0, 90.0, 94.0, 97.0, 97.0, 95.0, 99.0, 100.0, 99.0, 95.0, 92.0, 93.0, 93.0, 93.0, 94.0], \"y0\": \" \", \"yaxis\": \"y\"}, {\"alignmentgroup\": \"True\", \"hoverlabel\": {\"namelength\": 0}, \"hovertemplate\": \"country_or_area=Mongolia<br>value=%{y}\", \"legendgroup\": \"country_or_area=Mongolia\", \"marker\": {\"color\": \"#FFA15A\"}, \"name\": \"Mongolia\", \"notched\": false, \"offsetgroup\": \"country_or_area=Mongolia\", \"orientation\": \"v\", \"showlegend\": true, \"type\": \"box\", \"x0\": \" \", \"xaxis\": \"x\", \"y\": [190.0, 180.0, 161.0, 161.0, 166.0, 169.0, 171.0, 152.0, 146.0, 150.0, 147.0, 147.0, 149.0, 153.0, 166.0, 152.0, 140.0, 149.0, 144.0, 133.0, 133.0, 137.0, 141.0, 133.0, 133.0, 138.0, 128.0, 121.0, 125.0, 119.0, 121.0, 104.0, 92.0, 85.0, 89.0, 97.0, 93.0, 101.0, 110.0, 106.0, 82.0, 76.0, 65.0, 75.0, 71.0, 74.0, 74.0], \"y0\": \" \", \"yaxis\": \"y\"}],\n",
       "                        {\"boxmode\": \"group\", \"height\": 600, \"legend\": {\"tracegroupgap\": 0}, \"margin\": {\"t\": 60}, \"template\": {\"data\": {\"bar\": [{\"error_x\": {\"color\": \"#2a3f5f\"}, \"error_y\": {\"color\": \"#2a3f5f\"}, \"marker\": {\"line\": {\"color\": \"#E5ECF6\", \"width\": 0.5}}, \"type\": \"bar\"}], \"barpolar\": [{\"marker\": {\"line\": {\"color\": \"#E5ECF6\", \"width\": 0.5}}, \"type\": \"barpolar\"}], \"carpet\": [{\"aaxis\": {\"endlinecolor\": \"#2a3f5f\", \"gridcolor\": \"white\", \"linecolor\": \"white\", \"minorgridcolor\": \"white\", \"startlinecolor\": \"#2a3f5f\"}, \"baxis\": {\"endlinecolor\": \"#2a3f5f\", \"gridcolor\": \"white\", \"linecolor\": \"white\", \"minorgridcolor\": \"white\", \"startlinecolor\": \"#2a3f5f\"}, \"type\": \"carpet\"}], \"choropleth\": [{\"colorbar\": {\"outlinewidth\": 0, \"ticks\": \"\"}, \"type\": \"choropleth\"}], \"contour\": [{\"colorbar\": {\"outlinewidth\": 0, \"ticks\": \"\"}, \"colorscale\": [[0.0, \"#0d0887\"], [0.1111111111111111, \"#46039f\"], [0.2222222222222222, \"#7201a8\"], [0.3333333333333333, \"#9c179e\"], [0.4444444444444444, \"#bd3786\"], [0.5555555555555556, \"#d8576b\"], [0.6666666666666666, \"#ed7953\"], [0.7777777777777778, \"#fb9f3a\"], [0.8888888888888888, \"#fdca26\"], [1.0, \"#f0f921\"]], \"type\": \"contour\"}], \"contourcarpet\": [{\"colorbar\": {\"outlinewidth\": 0, \"ticks\": \"\"}, \"type\": \"contourcarpet\"}], \"heatmap\": [{\"colorbar\": {\"outlinewidth\": 0, \"ticks\": \"\"}, \"colorscale\": [[0.0, \"#0d0887\"], [0.1111111111111111, \"#46039f\"], [0.2222222222222222, \"#7201a8\"], [0.3333333333333333, \"#9c179e\"], [0.4444444444444444, \"#bd3786\"], [0.5555555555555556, \"#d8576b\"], [0.6666666666666666, \"#ed7953\"], [0.7777777777777778, \"#fb9f3a\"], [0.8888888888888888, \"#fdca26\"], [1.0, \"#f0f921\"]], \"type\": \"heatmap\"}], \"heatmapgl\": [{\"colorbar\": {\"outlinewidth\": 0, \"ticks\": \"\"}, \"colorscale\": [[0.0, \"#0d0887\"], [0.1111111111111111, \"#46039f\"], [0.2222222222222222, \"#7201a8\"], [0.3333333333333333, \"#9c179e\"], [0.4444444444444444, \"#bd3786\"], [0.5555555555555556, \"#d8576b\"], [0.6666666666666666, \"#ed7953\"], [0.7777777777777778, \"#fb9f3a\"], [0.8888888888888888, \"#fdca26\"], [1.0, \"#f0f921\"]], \"type\": \"heatmapgl\"}], \"histogram\": [{\"marker\": {\"colorbar\": {\"outlinewidth\": 0, \"ticks\": \"\"}}, \"type\": \"histogram\"}], \"histogram2d\": [{\"colorbar\": {\"outlinewidth\": 0, \"ticks\": \"\"}, \"colorscale\": [[0.0, \"#0d0887\"], [0.1111111111111111, \"#46039f\"], [0.2222222222222222, \"#7201a8\"], [0.3333333333333333, \"#9c179e\"], [0.4444444444444444, \"#bd3786\"], [0.5555555555555556, \"#d8576b\"], [0.6666666666666666, \"#ed7953\"], [0.7777777777777778, \"#fb9f3a\"], [0.8888888888888888, \"#fdca26\"], [1.0, \"#f0f921\"]], \"type\": \"histogram2d\"}], \"histogram2dcontour\": [{\"colorbar\": {\"outlinewidth\": 0, \"ticks\": \"\"}, \"colorscale\": [[0.0, \"#0d0887\"], [0.1111111111111111, \"#46039f\"], [0.2222222222222222, \"#7201a8\"], [0.3333333333333333, \"#9c179e\"], [0.4444444444444444, \"#bd3786\"], [0.5555555555555556, \"#d8576b\"], [0.6666666666666666, \"#ed7953\"], [0.7777777777777778, \"#fb9f3a\"], [0.8888888888888888, \"#fdca26\"], [1.0, \"#f0f921\"]], \"type\": \"histogram2dcontour\"}], \"mesh3d\": [{\"colorbar\": {\"outlinewidth\": 0, \"ticks\": \"\"}, \"type\": \"mesh3d\"}], \"parcoords\": [{\"line\": {\"colorbar\": {\"outlinewidth\": 0, \"ticks\": \"\"}}, \"type\": \"parcoords\"}], \"pie\": [{\"automargin\": true, \"type\": \"pie\"}], \"scatter\": [{\"marker\": {\"colorbar\": {\"outlinewidth\": 0, \"ticks\": \"\"}}, \"type\": \"scatter\"}], \"scatter3d\": [{\"line\": {\"colorbar\": {\"outlinewidth\": 0, \"ticks\": \"\"}}, \"marker\": {\"colorbar\": {\"outlinewidth\": 0, \"ticks\": \"\"}}, \"type\": \"scatter3d\"}], \"scattercarpet\": [{\"marker\": {\"colorbar\": {\"outlinewidth\": 0, \"ticks\": \"\"}}, \"type\": \"scattercarpet\"}], \"scattergeo\": [{\"marker\": {\"colorbar\": {\"outlinewidth\": 0, \"ticks\": \"\"}}, \"type\": \"scattergeo\"}], \"scattergl\": [{\"marker\": {\"colorbar\": {\"outlinewidth\": 0, \"ticks\": \"\"}}, \"type\": \"scattergl\"}], \"scattermapbox\": [{\"marker\": {\"colorbar\": {\"outlinewidth\": 0, \"ticks\": \"\"}}, \"type\": \"scattermapbox\"}], \"scatterpolar\": [{\"marker\": {\"colorbar\": {\"outlinewidth\": 0, \"ticks\": \"\"}}, \"type\": \"scatterpolar\"}], \"scatterpolargl\": [{\"marker\": {\"colorbar\": {\"outlinewidth\": 0, \"ticks\": \"\"}}, \"type\": \"scatterpolargl\"}], \"scatterternary\": [{\"marker\": {\"colorbar\": {\"outlinewidth\": 0, \"ticks\": \"\"}}, \"type\": \"scatterternary\"}], \"surface\": [{\"colorbar\": {\"outlinewidth\": 0, \"ticks\": \"\"}, \"colorscale\": [[0.0, \"#0d0887\"], [0.1111111111111111, \"#46039f\"], [0.2222222222222222, \"#7201a8\"], [0.3333333333333333, \"#9c179e\"], [0.4444444444444444, \"#bd3786\"], [0.5555555555555556, \"#d8576b\"], [0.6666666666666666, \"#ed7953\"], [0.7777777777777778, \"#fb9f3a\"], [0.8888888888888888, \"#fdca26\"], [1.0, \"#f0f921\"]], \"type\": \"surface\"}], \"table\": [{\"cells\": {\"fill\": {\"color\": \"#EBF0F8\"}, \"line\": {\"color\": \"white\"}}, \"header\": {\"fill\": {\"color\": \"#C8D4E3\"}, \"line\": {\"color\": \"white\"}}, \"type\": \"table\"}]}, \"layout\": {\"annotationdefaults\": {\"arrowcolor\": \"#2a3f5f\", \"arrowhead\": 0, \"arrowwidth\": 1}, \"coloraxis\": {\"colorbar\": {\"outlinewidth\": 0, \"ticks\": \"\"}}, \"colorscale\": {\"diverging\": [[0, \"#8e0152\"], [0.1, \"#c51b7d\"], [0.2, \"#de77ae\"], [0.3, \"#f1b6da\"], [0.4, \"#fde0ef\"], [0.5, \"#f7f7f7\"], [0.6, \"#e6f5d0\"], [0.7, \"#b8e186\"], [0.8, \"#7fbc41\"], [0.9, \"#4d9221\"], [1, \"#276419\"]], \"sequential\": [[0.0, \"#0d0887\"], [0.1111111111111111, \"#46039f\"], [0.2222222222222222, \"#7201a8\"], [0.3333333333333333, \"#9c179e\"], [0.4444444444444444, \"#bd3786\"], [0.5555555555555556, \"#d8576b\"], [0.6666666666666666, \"#ed7953\"], [0.7777777777777778, \"#fb9f3a\"], [0.8888888888888888, \"#fdca26\"], [1.0, \"#f0f921\"]], \"sequentialminus\": [[0.0, \"#0d0887\"], [0.1111111111111111, \"#46039f\"], [0.2222222222222222, \"#7201a8\"], [0.3333333333333333, \"#9c179e\"], [0.4444444444444444, \"#bd3786\"], [0.5555555555555556, \"#d8576b\"], [0.6666666666666666, \"#ed7953\"], [0.7777777777777778, \"#fb9f3a\"], [0.8888888888888888, \"#fdca26\"], [1.0, \"#f0f921\"]]}, \"colorway\": [\"#636efa\", \"#EF553B\", \"#00cc96\", \"#ab63fa\", \"#FFA15A\", \"#19d3f3\", \"#FF6692\", \"#B6E880\", \"#FF97FF\", \"#FECB52\"], \"font\": {\"color\": \"#2a3f5f\"}, \"geo\": {\"bgcolor\": \"white\", \"lakecolor\": \"white\", \"landcolor\": \"#E5ECF6\", \"showlakes\": true, \"showland\": true, \"subunitcolor\": \"white\"}, \"hoverlabel\": {\"align\": \"left\"}, \"hovermode\": \"closest\", \"mapbox\": {\"style\": \"light\"}, \"paper_bgcolor\": \"white\", \"plot_bgcolor\": \"#E5ECF6\", \"polar\": {\"angularaxis\": {\"gridcolor\": \"white\", \"linecolor\": \"white\", \"ticks\": \"\"}, \"bgcolor\": \"#E5ECF6\", \"radialaxis\": {\"gridcolor\": \"white\", \"linecolor\": \"white\", \"ticks\": \"\"}}, \"scene\": {\"xaxis\": {\"backgroundcolor\": \"#E5ECF6\", \"gridcolor\": \"white\", \"gridwidth\": 2, \"linecolor\": \"white\", \"showbackground\": true, \"ticks\": \"\", \"zerolinecolor\": \"white\"}, \"yaxis\": {\"backgroundcolor\": \"#E5ECF6\", \"gridcolor\": \"white\", \"gridwidth\": 2, \"linecolor\": \"white\", \"showbackground\": true, \"ticks\": \"\", \"zerolinecolor\": \"white\"}, \"zaxis\": {\"backgroundcolor\": \"#E5ECF6\", \"gridcolor\": \"white\", \"gridwidth\": 2, \"linecolor\": \"white\", \"showbackground\": true, \"ticks\": \"\", \"zerolinecolor\": \"white\"}}, \"shapedefaults\": {\"line\": {\"color\": \"#2a3f5f\"}}, \"ternary\": {\"aaxis\": {\"gridcolor\": \"white\", \"linecolor\": \"white\", \"ticks\": \"\"}, \"baxis\": {\"gridcolor\": \"white\", \"linecolor\": \"white\", \"ticks\": \"\"}, \"bgcolor\": \"#E5ECF6\", \"caxis\": {\"gridcolor\": \"white\", \"linecolor\": \"white\", \"ticks\": \"\"}}, \"title\": {\"x\": 0.05}, \"xaxis\": {\"automargin\": true, \"gridcolor\": \"white\", \"linecolor\": \"white\", \"ticks\": \"\", \"title\": {\"standoff\": 15}, \"zerolinecolor\": \"white\", \"zerolinewidth\": 2}, \"yaxis\": {\"automargin\": true, \"gridcolor\": \"white\", \"linecolor\": \"white\", \"ticks\": \"\", \"title\": {\"standoff\": 15}, \"zerolinecolor\": \"white\", \"zerolinewidth\": 2}}}, \"xaxis\": {\"anchor\": \"y\", \"domain\": [0.0, 1.0]}, \"yaxis\": {\"anchor\": \"x\", \"domain\": [0.0, 1.0], \"title\": {\"text\": \"Gross per capita PIN (base 1999-2001) in int. $\"}}},\n",
       "                        {\"responsive\": true}\n",
       "                    ).then(function(){\n",
       "                            \n",
       "var gd = document.getElementById('31d8d2b9-16fa-4e79-9bde-0f420fa87eb5');\n",
       "var x = new MutationObserver(function (mutations, observer) {{\n",
       "        var display = window.getComputedStyle(gd).display;\n",
       "        if (!display || display === 'none') {{\n",
       "            console.log([gd, 'removed!']);\n",
       "            Plotly.purge(gd);\n",
       "            observer.disconnect();\n",
       "        }}\n",
       "}});\n",
       "\n",
       "// Listen for the removal of the full notebook cells\n",
       "var notebookContainer = gd.closest('#notebook-container');\n",
       "if (notebookContainer) {{\n",
       "    x.observe(notebookContainer, {childList: true});\n",
       "}}\n",
       "\n",
       "// Listen for the clearing of the current output cell\n",
       "var outputEl = gd.closest('.output');\n",
       "if (outputEl) {{\n",
       "    x.observe(outputEl, {childList: true});\n",
       "}}\n",
       "\n",
       "                        })\n",
       "                };\n",
       "                });\n",
       "            </script>\n",
       "        </div>"
      ]
     },
     "metadata": {},
     "output_type": "display_data"
    }
   ],
   "source": [
    "fig = px.box(eastern_asia_data, y='value', color='country_or_area').for_each_trace(lambda t: t.update(name=t.name.replace('country_or_area=','')))\n",
    "fig.update_yaxes(title_text='Gross per capita PIN (base 1999-2001) in int. $')\n",
    "fig.show()"
   ]
  },
  {
   "cell_type": "markdown",
   "metadata": {},
   "source": [
    "Here we can see just how much Mongolia and DPRK has changed with a decrease in their PIN, and how China has increased their PIN.  It is hard to tell in "
   ]
  },
  {
   "cell_type": "code",
   "execution_count": 164,
   "metadata": {},
   "outputs": [
    {
     "data": {
      "application/vnd.plotly.v1+json": {
       "config": {
        "plotlyServerURL": "https://plot.ly"
       },
       "data": [
        {
         "alignmentgroup": "True",
         "customdata": [
          [
           1961,
           35
          ],
          [
           1962,
           35
          ],
          [
           1963,
           37
          ],
          [
           1964,
           38
          ],
          [
           1965,
           41
          ],
          [
           1966,
           43
          ],
          [
           1967,
           43
          ],
          [
           1968,
           41
          ],
          [
           1969,
           41
          ],
          [
           1970,
           42
          ],
          [
           1971,
           42
          ],
          [
           1972,
           41
          ],
          [
           1973,
           44
          ],
          [
           1974,
           43
          ],
          [
           1975,
           43
          ],
          [
           1976,
           42
          ],
          [
           1977,
           43
          ],
          [
           1978,
           46
          ],
          [
           1979,
           47
          ],
          [
           1980,
           47
          ],
          [
           1981,
           49
          ],
          [
           1982,
           53
          ],
          [
           1983,
           56
          ],
          [
           1984,
           60
          ],
          [
           1985,
           59
          ],
          [
           1986,
           59
          ],
          [
           1987,
           62
          ],
          [
           1988,
           63
          ],
          [
           1989,
           63
          ],
          [
           1990,
           67
          ],
          [
           1991,
           69
          ],
          [
           1992,
           71
          ],
          [
           1993,
           76
          ],
          [
           1994,
           79
          ],
          [
           1995,
           84
          ],
          [
           1996,
           89
          ],
          [
           1997,
           92
          ],
          [
           1998,
           95
          ],
          [
           1999,
           97
          ],
          [
           2000,
           100
          ],
          [
           2001,
           101
          ],
          [
           2002,
           105
          ],
          [
           2003,
           106
          ],
          [
           2004,
           111
          ],
          [
           2005,
           114
          ],
          [
           2006,
           116
          ],
          [
           2007,
           117
          ]
         ],
         "hoverlabel": {
          "namelength": 0
         },
         "hovertemplate": "country_or_area=China<br>value=%{customdata[1]}<br>year=%{customdata[0]}",
         "legendgroup": "country_or_area=China",
         "marker": {
          "color": "#636efa"
         },
         "name": "China",
         "offsetgroup": "country_or_area=China",
         "orientation": "h",
         "showlegend": true,
         "textposition": "auto",
         "type": "bar",
         "x": [
          35,
          35,
          37,
          38,
          41,
          43,
          43,
          41,
          41,
          42,
          42,
          41,
          44,
          43,
          43,
          42,
          43,
          46,
          47,
          47,
          49,
          53,
          56,
          60,
          59,
          59,
          62,
          63,
          63,
          67,
          69,
          71,
          76,
          79,
          84,
          89,
          92,
          95,
          97,
          100,
          101,
          105,
          106,
          111,
          114,
          116,
          117
         ],
         "xaxis": "x",
         "y": [
          1961,
          1962,
          1963,
          1964,
          1965,
          1966,
          1967,
          1968,
          1969,
          1970,
          1971,
          1972,
          1973,
          1974,
          1975,
          1976,
          1977,
          1978,
          1979,
          1980,
          1981,
          1982,
          1983,
          1984,
          1985,
          1986,
          1987,
          1988,
          1989,
          1990,
          1991,
          1992,
          1993,
          1994,
          1995,
          1996,
          1997,
          1998,
          1999,
          2000,
          2001,
          2002,
          2003,
          2004,
          2005,
          2006,
          2007
         ],
         "yaxis": "y"
        },
        {
         "alignmentgroup": "True",
         "customdata": [
          [
           1961,
           96
          ],
          [
           1962,
           100
          ],
          [
           1963,
           102
          ],
          [
           1964,
           104
          ],
          [
           1965,
           105
          ],
          [
           1966,
           106
          ],
          [
           1967,
           112
          ],
          [
           1968,
           116
          ],
          [
           1969,
           114
          ],
          [
           1970,
           113
          ],
          [
           1971,
           109
          ],
          [
           1972,
           114
          ],
          [
           1973,
           112
          ],
          [
           1974,
           111
          ],
          [
           1975,
           113
          ],
          [
           1976,
           109
          ],
          [
           1977,
           116
          ],
          [
           1978,
           116
          ],
          [
           1979,
           118
          ],
          [
           1980,
           112
          ],
          [
           1981,
           112
          ],
          [
           1982,
           115
          ],
          [
           1983,
           114
          ],
          [
           1984,
           116
          ],
          [
           1985,
           118
          ],
          [
           1986,
           119
          ],
          [
           1987,
           118
          ],
          [
           1988,
           115
          ],
          [
           1989,
           115
          ],
          [
           1990,
           114
          ],
          [
           1991,
           110
          ],
          [
           1992,
           113
          ],
          [
           1993,
           105
          ],
          [
           1994,
           110
          ],
          [
           1995,
           107
          ],
          [
           1996,
           105
          ],
          [
           1997,
           105
          ],
          [
           1998,
           100
          ],
          [
           1999,
           101
          ],
          [
           2000,
           100
          ],
          [
           2001,
           98
          ],
          [
           2002,
           99
          ],
          [
           2003,
           95
          ],
          [
           2004,
           96
          ],
          [
           2005,
           97
          ],
          [
           2006,
           95
          ],
          [
           2007,
           97
          ]
         ],
         "hoverlabel": {
          "namelength": 0
         },
         "hovertemplate": "country_or_area=Japan<br>value=%{customdata[1]}<br>year=%{customdata[0]}",
         "legendgroup": "country_or_area=Japan",
         "marker": {
          "color": "#EF553B"
         },
         "name": "Japan",
         "offsetgroup": "country_or_area=Japan",
         "orientation": "h",
         "showlegend": true,
         "textposition": "auto",
         "type": "bar",
         "x": [
          96,
          100,
          102,
          104,
          105,
          106,
          112,
          116,
          114,
          113,
          109,
          114,
          112,
          111,
          113,
          109,
          116,
          116,
          118,
          112,
          112,
          115,
          114,
          116,
          118,
          119,
          118,
          115,
          115,
          114,
          110,
          113,
          105,
          110,
          107,
          105,
          105,
          100,
          101,
          100,
          98,
          99,
          95,
          96,
          97,
          95,
          97
         ],
         "xaxis": "x",
         "y": [
          1961,
          1962,
          1963,
          1964,
          1965,
          1966,
          1967,
          1968,
          1969,
          1970,
          1971,
          1972,
          1973,
          1974,
          1975,
          1976,
          1977,
          1978,
          1979,
          1980,
          1981,
          1982,
          1983,
          1984,
          1985,
          1986,
          1987,
          1988,
          1989,
          1990,
          1991,
          1992,
          1993,
          1994,
          1995,
          1996,
          1997,
          1998,
          1999,
          2000,
          2001,
          2002,
          2003,
          2004,
          2005,
          2006,
          2007
         ],
         "yaxis": "y"
        },
        {
         "alignmentgroup": "True",
         "customdata": [
          [
           1961,
           93
          ],
          [
           1962,
           94
          ],
          [
           1963,
           97
          ],
          [
           1964,
           99
          ],
          [
           1965,
           92
          ],
          [
           1966,
           94
          ],
          [
           1967,
           89
          ],
          [
           1968,
           87
          ],
          [
           1969,
           93
          ],
          [
           1970,
           92
          ],
          [
           1971,
           95
          ],
          [
           1972,
           94
          ],
          [
           1973,
           99
          ],
          [
           1974,
           102
          ],
          [
           1975,
           107
          ],
          [
           1976,
           110
          ],
          [
           1977,
           114
          ],
          [
           1978,
           116
          ],
          [
           1979,
           118
          ],
          [
           1980,
           116
          ],
          [
           1981,
           122
          ],
          [
           1982,
           112
          ],
          [
           1983,
           115
          ],
          [
           1984,
           120
          ],
          [
           1985,
           122
          ],
          [
           1986,
           127
          ],
          [
           1987,
           127
          ],
          [
           1988,
           127
          ],
          [
           1989,
           129
          ],
          [
           1990,
           129
          ],
          [
           1991,
           148
          ],
          [
           1992,
           140
          ],
          [
           1993,
           131
          ],
          [
           1994,
           117
          ],
          [
           1995,
           88
          ],
          [
           1996,
           80
          ],
          [
           1997,
           81
          ],
          [
           1998,
           96
          ],
          [
           1999,
           96
          ],
          [
           2000,
           96
          ],
          [
           2001,
           106
          ],
          [
           2002,
           107
          ],
          [
           2003,
           109
          ],
          [
           2004,
           110
          ],
          [
           2005,
           112
          ],
          [
           2006,
           110
          ],
          [
           2007,
           106
          ]
         ],
         "hoverlabel": {
          "namelength": 0
         },
         "hovertemplate": "country_or_area=Korea, Democratic People's Republic of<br>value=%{customdata[1]}<br>year=%{customdata[0]}",
         "legendgroup": "country_or_area=Korea, Democratic People's Republic of",
         "marker": {
          "color": "#00cc96"
         },
         "name": "Korea, Democratic People's Republic of",
         "offsetgroup": "country_or_area=Korea, Democratic People's Republic of",
         "orientation": "h",
         "showlegend": true,
         "textposition": "auto",
         "type": "bar",
         "x": [
          93,
          94,
          97,
          99,
          92,
          94,
          89,
          87,
          93,
          92,
          95,
          94,
          99,
          102,
          107,
          110,
          114,
          116,
          118,
          116,
          122,
          112,
          115,
          120,
          122,
          127,
          127,
          127,
          129,
          129,
          148,
          140,
          131,
          117,
          88,
          80,
          81,
          96,
          96,
          96,
          106,
          107,
          109,
          110,
          112,
          110,
          106
         ],
         "xaxis": "x",
         "y": [
          1961,
          1962,
          1963,
          1964,
          1965,
          1966,
          1967,
          1968,
          1969,
          1970,
          1971,
          1972,
          1973,
          1974,
          1975,
          1976,
          1977,
          1978,
          1979,
          1980,
          1981,
          1982,
          1983,
          1984,
          1985,
          1986,
          1987,
          1988,
          1989,
          1990,
          1991,
          1992,
          1993,
          1994,
          1995,
          1996,
          1997,
          1998,
          1999,
          2000,
          2001,
          2002,
          2003,
          2004,
          2005,
          2006,
          2007
         ],
         "yaxis": "y"
        },
        {
         "alignmentgroup": "True",
         "customdata": [
          [
           1961,
           45
          ],
          [
           1962,
           42
          ],
          [
           1963,
           45
          ],
          [
           1964,
           52
          ],
          [
           1965,
           52
          ],
          [
           1966,
           55
          ],
          [
           1967,
           50
          ],
          [
           1968,
           50
          ],
          [
           1969,
           56
          ],
          [
           1970,
           55
          ],
          [
           1971,
           55
          ],
          [
           1972,
           56
          ],
          [
           1973,
           56
          ],
          [
           1974,
           58
          ],
          [
           1975,
           66
          ],
          [
           1976,
           72
          ],
          [
           1977,
           76
          ],
          [
           1978,
           81
          ],
          [
           1979,
           83
          ],
          [
           1980,
           70
          ],
          [
           1981,
           74
          ],
          [
           1982,
           76
          ],
          [
           1983,
           77
          ],
          [
           1984,
           78
          ],
          [
           1985,
           79
          ],
          [
           1986,
           83
          ],
          [
           1987,
           82
          ],
          [
           1988,
           86
          ],
          [
           1989,
           87
          ],
          [
           1990,
           86
          ],
          [
           1991,
           84
          ],
          [
           1992,
           91
          ],
          [
           1993,
           91
          ],
          [
           1994,
           90
          ],
          [
           1995,
           94
          ],
          [
           1996,
           97
          ],
          [
           1997,
           97
          ],
          [
           1998,
           95
          ],
          [
           1999,
           99
          ],
          [
           2000,
           100
          ],
          [
           2001,
           99
          ],
          [
           2002,
           95
          ],
          [
           2003,
           92
          ],
          [
           2004,
           93
          ],
          [
           2005,
           93
          ],
          [
           2006,
           93
          ],
          [
           2007,
           94
          ]
         ],
         "hoverlabel": {
          "namelength": 0
         },
         "hovertemplate": "country_or_area=Korea, Republic of<br>value=%{customdata[1]}<br>year=%{customdata[0]}",
         "legendgroup": "country_or_area=Korea, Republic of",
         "marker": {
          "color": "#ab63fa"
         },
         "name": "Korea, Republic of",
         "offsetgroup": "country_or_area=Korea, Republic of",
         "orientation": "h",
         "showlegend": true,
         "textposition": "auto",
         "type": "bar",
         "x": [
          45,
          42,
          45,
          52,
          52,
          55,
          50,
          50,
          56,
          55,
          55,
          56,
          56,
          58,
          66,
          72,
          76,
          81,
          83,
          70,
          74,
          76,
          77,
          78,
          79,
          83,
          82,
          86,
          87,
          86,
          84,
          91,
          91,
          90,
          94,
          97,
          97,
          95,
          99,
          100,
          99,
          95,
          92,
          93,
          93,
          93,
          94
         ],
         "xaxis": "x",
         "y": [
          1961,
          1962,
          1963,
          1964,
          1965,
          1966,
          1967,
          1968,
          1969,
          1970,
          1971,
          1972,
          1973,
          1974,
          1975,
          1976,
          1977,
          1978,
          1979,
          1980,
          1981,
          1982,
          1983,
          1984,
          1985,
          1986,
          1987,
          1988,
          1989,
          1990,
          1991,
          1992,
          1993,
          1994,
          1995,
          1996,
          1997,
          1998,
          1999,
          2000,
          2001,
          2002,
          2003,
          2004,
          2005,
          2006,
          2007
         ],
         "yaxis": "y"
        },
        {
         "alignmentgroup": "True",
         "customdata": [
          [
           1961,
           190
          ],
          [
           1962,
           180
          ],
          [
           1963,
           161
          ],
          [
           1964,
           161
          ],
          [
           1965,
           166
          ],
          [
           1966,
           169
          ],
          [
           1967,
           171
          ],
          [
           1968,
           152
          ],
          [
           1969,
           146
          ],
          [
           1970,
           150
          ],
          [
           1971,
           147
          ],
          [
           1972,
           147
          ],
          [
           1973,
           149
          ],
          [
           1974,
           153
          ],
          [
           1975,
           166
          ],
          [
           1976,
           152
          ],
          [
           1977,
           140
          ],
          [
           1978,
           149
          ],
          [
           1979,
           144
          ],
          [
           1980,
           133
          ],
          [
           1981,
           133
          ],
          [
           1982,
           137
          ],
          [
           1983,
           141
          ],
          [
           1984,
           133
          ],
          [
           1985,
           133
          ],
          [
           1986,
           138
          ],
          [
           1987,
           128
          ],
          [
           1988,
           121
          ],
          [
           1989,
           125
          ],
          [
           1990,
           119
          ],
          [
           1991,
           121
          ],
          [
           1992,
           104
          ],
          [
           1993,
           92
          ],
          [
           1994,
           85
          ],
          [
           1995,
           89
          ],
          [
           1996,
           97
          ],
          [
           1997,
           93
          ],
          [
           1998,
           101
          ],
          [
           1999,
           110
          ],
          [
           2000,
           106
          ],
          [
           2001,
           82
          ],
          [
           2002,
           76
          ],
          [
           2003,
           65
          ],
          [
           2004,
           75
          ],
          [
           2005,
           71
          ],
          [
           2006,
           74
          ],
          [
           2007,
           74
          ]
         ],
         "hoverlabel": {
          "namelength": 0
         },
         "hovertemplate": "country_or_area=Mongolia<br>value=%{customdata[1]}<br>year=%{customdata[0]}",
         "legendgroup": "country_or_area=Mongolia",
         "marker": {
          "color": "#FFA15A"
         },
         "name": "Mongolia",
         "offsetgroup": "country_or_area=Mongolia",
         "orientation": "h",
         "showlegend": true,
         "textposition": "auto",
         "type": "bar",
         "x": [
          190,
          180,
          161,
          161,
          166,
          169,
          171,
          152,
          146,
          150,
          147,
          147,
          149,
          153,
          166,
          152,
          140,
          149,
          144,
          133,
          133,
          137,
          141,
          133,
          133,
          138,
          128,
          121,
          125,
          119,
          121,
          104,
          92,
          85,
          89,
          97,
          93,
          101,
          110,
          106,
          82,
          76,
          65,
          75,
          71,
          74,
          74
         ],
         "xaxis": "x",
         "y": [
          1961,
          1962,
          1963,
          1964,
          1965,
          1966,
          1967,
          1968,
          1969,
          1970,
          1971,
          1972,
          1973,
          1974,
          1975,
          1976,
          1977,
          1978,
          1979,
          1980,
          1981,
          1982,
          1983,
          1984,
          1985,
          1986,
          1987,
          1988,
          1989,
          1990,
          1991,
          1992,
          1993,
          1994,
          1995,
          1996,
          1997,
          1998,
          1999,
          2000,
          2001,
          2002,
          2003,
          2004,
          2005,
          2006,
          2007
         ],
         "yaxis": "y"
        }
       ],
       "layout": {
        "autosize": true,
        "barmode": "relative",
        "legend": {
         "tracegroupgap": 0
        },
        "template": {
         "data": {
          "bar": [
           {
            "error_x": {
             "color": "#2a3f5f"
            },
            "error_y": {
             "color": "#2a3f5f"
            },
            "marker": {
             "line": {
              "color": "#E5ECF6",
              "width": 0.5
             }
            },
            "type": "bar"
           }
          ],
          "barpolar": [
           {
            "marker": {
             "line": {
              "color": "#E5ECF6",
              "width": 0.5
             }
            },
            "type": "barpolar"
           }
          ],
          "carpet": [
           {
            "aaxis": {
             "endlinecolor": "#2a3f5f",
             "gridcolor": "white",
             "linecolor": "white",
             "minorgridcolor": "white",
             "startlinecolor": "#2a3f5f"
            },
            "baxis": {
             "endlinecolor": "#2a3f5f",
             "gridcolor": "white",
             "linecolor": "white",
             "minorgridcolor": "white",
             "startlinecolor": "#2a3f5f"
            },
            "type": "carpet"
           }
          ],
          "choropleth": [
           {
            "colorbar": {
             "outlinewidth": 0,
             "ticks": ""
            },
            "type": "choropleth"
           }
          ],
          "contour": [
           {
            "colorbar": {
             "outlinewidth": 0,
             "ticks": ""
            },
            "colorscale": [
             [
              0,
              "#0d0887"
             ],
             [
              0.1111111111111111,
              "#46039f"
             ],
             [
              0.2222222222222222,
              "#7201a8"
             ],
             [
              0.3333333333333333,
              "#9c179e"
             ],
             [
              0.4444444444444444,
              "#bd3786"
             ],
             [
              0.5555555555555556,
              "#d8576b"
             ],
             [
              0.6666666666666666,
              "#ed7953"
             ],
             [
              0.7777777777777778,
              "#fb9f3a"
             ],
             [
              0.8888888888888888,
              "#fdca26"
             ],
             [
              1,
              "#f0f921"
             ]
            ],
            "type": "contour"
           }
          ],
          "contourcarpet": [
           {
            "colorbar": {
             "outlinewidth": 0,
             "ticks": ""
            },
            "type": "contourcarpet"
           }
          ],
          "heatmap": [
           {
            "colorbar": {
             "outlinewidth": 0,
             "ticks": ""
            },
            "colorscale": [
             [
              0,
              "#0d0887"
             ],
             [
              0.1111111111111111,
              "#46039f"
             ],
             [
              0.2222222222222222,
              "#7201a8"
             ],
             [
              0.3333333333333333,
              "#9c179e"
             ],
             [
              0.4444444444444444,
              "#bd3786"
             ],
             [
              0.5555555555555556,
              "#d8576b"
             ],
             [
              0.6666666666666666,
              "#ed7953"
             ],
             [
              0.7777777777777778,
              "#fb9f3a"
             ],
             [
              0.8888888888888888,
              "#fdca26"
             ],
             [
              1,
              "#f0f921"
             ]
            ],
            "type": "heatmap"
           }
          ],
          "heatmapgl": [
           {
            "colorbar": {
             "outlinewidth": 0,
             "ticks": ""
            },
            "colorscale": [
             [
              0,
              "#0d0887"
             ],
             [
              0.1111111111111111,
              "#46039f"
             ],
             [
              0.2222222222222222,
              "#7201a8"
             ],
             [
              0.3333333333333333,
              "#9c179e"
             ],
             [
              0.4444444444444444,
              "#bd3786"
             ],
             [
              0.5555555555555556,
              "#d8576b"
             ],
             [
              0.6666666666666666,
              "#ed7953"
             ],
             [
              0.7777777777777778,
              "#fb9f3a"
             ],
             [
              0.8888888888888888,
              "#fdca26"
             ],
             [
              1,
              "#f0f921"
             ]
            ],
            "type": "heatmapgl"
           }
          ],
          "histogram": [
           {
            "marker": {
             "colorbar": {
              "outlinewidth": 0,
              "ticks": ""
             }
            },
            "type": "histogram"
           }
          ],
          "histogram2d": [
           {
            "colorbar": {
             "outlinewidth": 0,
             "ticks": ""
            },
            "colorscale": [
             [
              0,
              "#0d0887"
             ],
             [
              0.1111111111111111,
              "#46039f"
             ],
             [
              0.2222222222222222,
              "#7201a8"
             ],
             [
              0.3333333333333333,
              "#9c179e"
             ],
             [
              0.4444444444444444,
              "#bd3786"
             ],
             [
              0.5555555555555556,
              "#d8576b"
             ],
             [
              0.6666666666666666,
              "#ed7953"
             ],
             [
              0.7777777777777778,
              "#fb9f3a"
             ],
             [
              0.8888888888888888,
              "#fdca26"
             ],
             [
              1,
              "#f0f921"
             ]
            ],
            "type": "histogram2d"
           }
          ],
          "histogram2dcontour": [
           {
            "colorbar": {
             "outlinewidth": 0,
             "ticks": ""
            },
            "colorscale": [
             [
              0,
              "#0d0887"
             ],
             [
              0.1111111111111111,
              "#46039f"
             ],
             [
              0.2222222222222222,
              "#7201a8"
             ],
             [
              0.3333333333333333,
              "#9c179e"
             ],
             [
              0.4444444444444444,
              "#bd3786"
             ],
             [
              0.5555555555555556,
              "#d8576b"
             ],
             [
              0.6666666666666666,
              "#ed7953"
             ],
             [
              0.7777777777777778,
              "#fb9f3a"
             ],
             [
              0.8888888888888888,
              "#fdca26"
             ],
             [
              1,
              "#f0f921"
             ]
            ],
            "type": "histogram2dcontour"
           }
          ],
          "mesh3d": [
           {
            "colorbar": {
             "outlinewidth": 0,
             "ticks": ""
            },
            "type": "mesh3d"
           }
          ],
          "parcoords": [
           {
            "line": {
             "colorbar": {
              "outlinewidth": 0,
              "ticks": ""
             }
            },
            "type": "parcoords"
           }
          ],
          "pie": [
           {
            "automargin": true,
            "type": "pie"
           }
          ],
          "scatter": [
           {
            "marker": {
             "colorbar": {
              "outlinewidth": 0,
              "ticks": ""
             }
            },
            "type": "scatter"
           }
          ],
          "scatter3d": [
           {
            "line": {
             "colorbar": {
              "outlinewidth": 0,
              "ticks": ""
             }
            },
            "marker": {
             "colorbar": {
              "outlinewidth": 0,
              "ticks": ""
             }
            },
            "type": "scatter3d"
           }
          ],
          "scattercarpet": [
           {
            "marker": {
             "colorbar": {
              "outlinewidth": 0,
              "ticks": ""
             }
            },
            "type": "scattercarpet"
           }
          ],
          "scattergeo": [
           {
            "marker": {
             "colorbar": {
              "outlinewidth": 0,
              "ticks": ""
             }
            },
            "type": "scattergeo"
           }
          ],
          "scattergl": [
           {
            "marker": {
             "colorbar": {
              "outlinewidth": 0,
              "ticks": ""
             }
            },
            "type": "scattergl"
           }
          ],
          "scattermapbox": [
           {
            "marker": {
             "colorbar": {
              "outlinewidth": 0,
              "ticks": ""
             }
            },
            "type": "scattermapbox"
           }
          ],
          "scatterpolar": [
           {
            "marker": {
             "colorbar": {
              "outlinewidth": 0,
              "ticks": ""
             }
            },
            "type": "scatterpolar"
           }
          ],
          "scatterpolargl": [
           {
            "marker": {
             "colorbar": {
              "outlinewidth": 0,
              "ticks": ""
             }
            },
            "type": "scatterpolargl"
           }
          ],
          "scatterternary": [
           {
            "marker": {
             "colorbar": {
              "outlinewidth": 0,
              "ticks": ""
             }
            },
            "type": "scatterternary"
           }
          ],
          "surface": [
           {
            "colorbar": {
             "outlinewidth": 0,
             "ticks": ""
            },
            "colorscale": [
             [
              0,
              "#0d0887"
             ],
             [
              0.1111111111111111,
              "#46039f"
             ],
             [
              0.2222222222222222,
              "#7201a8"
             ],
             [
              0.3333333333333333,
              "#9c179e"
             ],
             [
              0.4444444444444444,
              "#bd3786"
             ],
             [
              0.5555555555555556,
              "#d8576b"
             ],
             [
              0.6666666666666666,
              "#ed7953"
             ],
             [
              0.7777777777777778,
              "#fb9f3a"
             ],
             [
              0.8888888888888888,
              "#fdca26"
             ],
             [
              1,
              "#f0f921"
             ]
            ],
            "type": "surface"
           }
          ],
          "table": [
           {
            "cells": {
             "fill": {
              "color": "#EBF0F8"
             },
             "line": {
              "color": "white"
             }
            },
            "header": {
             "fill": {
              "color": "#C8D4E3"
             },
             "line": {
              "color": "white"
             }
            },
            "type": "table"
           }
          ]
         },
         "layout": {
          "annotationdefaults": {
           "arrowcolor": "#2a3f5f",
           "arrowhead": 0,
           "arrowwidth": 1
          },
          "coloraxis": {
           "colorbar": {
            "outlinewidth": 0,
            "ticks": ""
           }
          },
          "colorscale": {
           "diverging": [
            [
             0,
             "#8e0152"
            ],
            [
             0.1,
             "#c51b7d"
            ],
            [
             0.2,
             "#de77ae"
            ],
            [
             0.3,
             "#f1b6da"
            ],
            [
             0.4,
             "#fde0ef"
            ],
            [
             0.5,
             "#f7f7f7"
            ],
            [
             0.6,
             "#e6f5d0"
            ],
            [
             0.7,
             "#b8e186"
            ],
            [
             0.8,
             "#7fbc41"
            ],
            [
             0.9,
             "#4d9221"
            ],
            [
             1,
             "#276419"
            ]
           ],
           "sequential": [
            [
             0,
             "#0d0887"
            ],
            [
             0.1111111111111111,
             "#46039f"
            ],
            [
             0.2222222222222222,
             "#7201a8"
            ],
            [
             0.3333333333333333,
             "#9c179e"
            ],
            [
             0.4444444444444444,
             "#bd3786"
            ],
            [
             0.5555555555555556,
             "#d8576b"
            ],
            [
             0.6666666666666666,
             "#ed7953"
            ],
            [
             0.7777777777777778,
             "#fb9f3a"
            ],
            [
             0.8888888888888888,
             "#fdca26"
            ],
            [
             1,
             "#f0f921"
            ]
           ],
           "sequentialminus": [
            [
             0,
             "#0d0887"
            ],
            [
             0.1111111111111111,
             "#46039f"
            ],
            [
             0.2222222222222222,
             "#7201a8"
            ],
            [
             0.3333333333333333,
             "#9c179e"
            ],
            [
             0.4444444444444444,
             "#bd3786"
            ],
            [
             0.5555555555555556,
             "#d8576b"
            ],
            [
             0.6666666666666666,
             "#ed7953"
            ],
            [
             0.7777777777777778,
             "#fb9f3a"
            ],
            [
             0.8888888888888888,
             "#fdca26"
            ],
            [
             1,
             "#f0f921"
            ]
           ]
          },
          "colorway": [
           "#636efa",
           "#EF553B",
           "#00cc96",
           "#ab63fa",
           "#FFA15A",
           "#19d3f3",
           "#FF6692",
           "#B6E880",
           "#FF97FF",
           "#FECB52"
          ],
          "font": {
           "color": "#2a3f5f"
          },
          "geo": {
           "bgcolor": "white",
           "lakecolor": "white",
           "landcolor": "#E5ECF6",
           "showlakes": true,
           "showland": true,
           "subunitcolor": "white"
          },
          "hoverlabel": {
           "align": "left"
          },
          "hovermode": "closest",
          "mapbox": {
           "style": "light"
          },
          "paper_bgcolor": "white",
          "plot_bgcolor": "#E5ECF6",
          "polar": {
           "angularaxis": {
            "gridcolor": "white",
            "linecolor": "white",
            "ticks": ""
           },
           "bgcolor": "#E5ECF6",
           "radialaxis": {
            "gridcolor": "white",
            "linecolor": "white",
            "ticks": ""
           }
          },
          "scene": {
           "xaxis": {
            "backgroundcolor": "#E5ECF6",
            "gridcolor": "white",
            "gridwidth": 2,
            "linecolor": "white",
            "showbackground": true,
            "ticks": "",
            "zerolinecolor": "white"
           },
           "yaxis": {
            "backgroundcolor": "#E5ECF6",
            "gridcolor": "white",
            "gridwidth": 2,
            "linecolor": "white",
            "showbackground": true,
            "ticks": "",
            "zerolinecolor": "white"
           },
           "zaxis": {
            "backgroundcolor": "#E5ECF6",
            "gridcolor": "white",
            "gridwidth": 2,
            "linecolor": "white",
            "showbackground": true,
            "ticks": "",
            "zerolinecolor": "white"
           }
          },
          "shapedefaults": {
           "line": {
            "color": "#2a3f5f"
           }
          },
          "ternary": {
           "aaxis": {
            "gridcolor": "white",
            "linecolor": "white",
            "ticks": ""
           },
           "baxis": {
            "gridcolor": "white",
            "linecolor": "white",
            "ticks": ""
           },
           "bgcolor": "#E5ECF6",
           "caxis": {
            "gridcolor": "white",
            "linecolor": "white",
            "ticks": ""
           }
          },
          "title": {
           "x": 0.05
          },
          "xaxis": {
           "automargin": true,
           "gridcolor": "white",
           "linecolor": "white",
           "ticks": "",
           "title": {
            "standoff": 15
           },
           "zerolinecolor": "white",
           "zerolinewidth": 2
          },
          "yaxis": {
           "automargin": true,
           "gridcolor": "white",
           "linecolor": "white",
           "ticks": "",
           "title": {
            "standoff": 15
           },
           "zerolinecolor": "white",
           "zerolinewidth": 2
          }
         }
        },
        "title": {
         "text": "Eastern Asia"
        },
        "xaxis": {
         "anchor": "y",
         "autorange": true,
         "domain": [
          0,
          1
         ],
         "range": [
          0,
          560
         ],
         "title": {
          "text": "Total Gross per capita PIN (base 1999-2001) in int. $ for year"
         },
         "type": "linear"
        },
        "yaxis": {
         "anchor": "x",
         "autorange": true,
         "domain": [
          0,
          1
         ],
         "range": [
          1960.5,
          2007.5
         ],
         "title": {
          "text": "Year"
         },
         "type": "linear"
        }
       }
      },
      "image/png": "[encoded data removed]",
      "text/html": [
       "<div>\n",
       "        \n",
       "        \n",
       "            <div id=\"1db15683-f2ca-4376-b6c4-59198d11192b\" class=\"plotly-graph-div\" style=\"height:600px; width:100%;\"></div>\n",
       "            <script type=\"text/javascript\">\n",
       "                require([\"plotly\"], function(Plotly) {\n",
       "                    window.PLOTLYENV=window.PLOTLYENV || {};\n",
       "                    \n",
       "                if (document.getElementById(\"1db15683-f2ca-4376-b6c4-59198d11192b\")) {\n",
       "                    Plotly.newPlot(\n",
       "                        '1db15683-f2ca-4376-b6c4-59198d11192b',\n",
       "                        [{\"alignmentgroup\": \"True\", \"customdata\": [[1961.0, 35.0], [1962.0, 35.0], [1963.0, 37.0], [1964.0, 38.0], [1965.0, 41.0], [1966.0, 43.0], [1967.0, 43.0], [1968.0, 41.0], [1969.0, 41.0], [1970.0, 42.0], [1971.0, 42.0], [1972.0, 41.0], [1973.0, 44.0], [1974.0, 43.0], [1975.0, 43.0], [1976.0, 42.0], [1977.0, 43.0], [1978.0, 46.0], [1979.0, 47.0], [1980.0, 47.0], [1981.0, 49.0], [1982.0, 53.0], [1983.0, 56.0], [1984.0, 60.0], [1985.0, 59.0], [1986.0, 59.0], [1987.0, 62.0], [1988.0, 63.0], [1989.0, 63.0], [1990.0, 67.0], [1991.0, 69.0], [1992.0, 71.0], [1993.0, 76.0], [1994.0, 79.0], [1995.0, 84.0], [1996.0, 89.0], [1997.0, 92.0], [1998.0, 95.0], [1999.0, 97.0], [2000.0, 100.0], [2001.0, 101.0], [2002.0, 105.0], [2003.0, 106.0], [2004.0, 111.0], [2005.0, 114.0], [2006.0, 116.0], [2007.0, 117.0]], \"hoverlabel\": {\"namelength\": 0}, \"hovertemplate\": \"country_or_area=China<br>value=%{customdata[1]}<br>year=%{customdata[0]}\", \"legendgroup\": \"country_or_area=China\", \"marker\": {\"color\": \"#636efa\"}, \"name\": \"China\", \"offsetgroup\": \"country_or_area=China\", \"orientation\": \"h\", \"showlegend\": true, \"textposition\": \"auto\", \"type\": \"bar\", \"x\": [35.0, 35.0, 37.0, 38.0, 41.0, 43.0, 43.0, 41.0, 41.0, 42.0, 42.0, 41.0, 44.0, 43.0, 43.0, 42.0, 43.0, 46.0, 47.0, 47.0, 49.0, 53.0, 56.0, 60.0, 59.0, 59.0, 62.0, 63.0, 63.0, 67.0, 69.0, 71.0, 76.0, 79.0, 84.0, 89.0, 92.0, 95.0, 97.0, 100.0, 101.0, 105.0, 106.0, 111.0, 114.0, 116.0, 117.0], \"xaxis\": \"x\", \"y\": [1961.0, 1962.0, 1963.0, 1964.0, 1965.0, 1966.0, 1967.0, 1968.0, 1969.0, 1970.0, 1971.0, 1972.0, 1973.0, 1974.0, 1975.0, 1976.0, 1977.0, 1978.0, 1979.0, 1980.0, 1981.0, 1982.0, 1983.0, 1984.0, 1985.0, 1986.0, 1987.0, 1988.0, 1989.0, 1990.0, 1991.0, 1992.0, 1993.0, 1994.0, 1995.0, 1996.0, 1997.0, 1998.0, 1999.0, 2000.0, 2001.0, 2002.0, 2003.0, 2004.0, 2005.0, 2006.0, 2007.0], \"yaxis\": \"y\"}, {\"alignmentgroup\": \"True\", \"customdata\": [[1961.0, 96.0], [1962.0, 100.0], [1963.0, 102.0], [1964.0, 104.0], [1965.0, 105.0], [1966.0, 106.0], [1967.0, 112.0], [1968.0, 116.0], [1969.0, 114.0], [1970.0, 113.0], [1971.0, 109.0], [1972.0, 114.0], [1973.0, 112.0], [1974.0, 111.0], [1975.0, 113.0], [1976.0, 109.0], [1977.0, 116.0], [1978.0, 116.0], [1979.0, 118.0], [1980.0, 112.0], [1981.0, 112.0], [1982.0, 115.0], [1983.0, 114.0], [1984.0, 116.0], [1985.0, 118.0], [1986.0, 119.0], [1987.0, 118.0], [1988.0, 115.0], [1989.0, 115.0], [1990.0, 114.0], [1991.0, 110.0], [1992.0, 113.0], [1993.0, 105.0], [1994.0, 110.0], [1995.0, 107.0], [1996.0, 105.0], [1997.0, 105.0], [1998.0, 100.0], [1999.0, 101.0], [2000.0, 100.0], [2001.0, 98.0], [2002.0, 99.0], [2003.0, 95.0], [2004.0, 96.0], [2005.0, 97.0], [2006.0, 95.0], [2007.0, 97.0]], \"hoverlabel\": {\"namelength\": 0}, \"hovertemplate\": \"country_or_area=Japan<br>value=%{customdata[1]}<br>year=%{customdata[0]}\", \"legendgroup\": \"country_or_area=Japan\", \"marker\": {\"color\": \"#EF553B\"}, \"name\": \"Japan\", \"offsetgroup\": \"country_or_area=Japan\", \"orientation\": \"h\", \"showlegend\": true, \"textposition\": \"auto\", \"type\": \"bar\", \"x\": [96.0, 100.0, 102.0, 104.0, 105.0, 106.0, 112.0, 116.0, 114.0, 113.0, 109.0, 114.0, 112.0, 111.0, 113.0, 109.0, 116.0, 116.0, 118.0, 112.0, 112.0, 115.0, 114.0, 116.0, 118.0, 119.0, 118.0, 115.0, 115.0, 114.0, 110.0, 113.0, 105.0, 110.0, 107.0, 105.0, 105.0, 100.0, 101.0, 100.0, 98.0, 99.0, 95.0, 96.0, 97.0, 95.0, 97.0], \"xaxis\": \"x\", \"y\": [1961.0, 1962.0, 1963.0, 1964.0, 1965.0, 1966.0, 1967.0, 1968.0, 1969.0, 1970.0, 1971.0, 1972.0, 1973.0, 1974.0, 1975.0, 1976.0, 1977.0, 1978.0, 1979.0, 1980.0, 1981.0, 1982.0, 1983.0, 1984.0, 1985.0, 1986.0, 1987.0, 1988.0, 1989.0, 1990.0, 1991.0, 1992.0, 1993.0, 1994.0, 1995.0, 1996.0, 1997.0, 1998.0, 1999.0, 2000.0, 2001.0, 2002.0, 2003.0, 2004.0, 2005.0, 2006.0, 2007.0], \"yaxis\": \"y\"}, {\"alignmentgroup\": \"True\", \"customdata\": [[1961.0, 93.0], [1962.0, 94.0], [1963.0, 97.0], [1964.0, 99.0], [1965.0, 92.0], [1966.0, 94.0], [1967.0, 89.0], [1968.0, 87.0], [1969.0, 93.0], [1970.0, 92.0], [1971.0, 95.0], [1972.0, 94.0], [1973.0, 99.0], [1974.0, 102.0], [1975.0, 107.0], [1976.0, 110.0], [1977.0, 114.0], [1978.0, 116.0], [1979.0, 118.0], [1980.0, 116.0], [1981.0, 122.0], [1982.0, 112.0], [1983.0, 115.0], [1984.0, 120.0], [1985.0, 122.0], [1986.0, 127.0], [1987.0, 127.0], [1988.0, 127.0], [1989.0, 129.0], [1990.0, 129.0], [1991.0, 148.0], [1992.0, 140.0], [1993.0, 131.0], [1994.0, 117.0], [1995.0, 88.0], [1996.0, 80.0], [1997.0, 81.0], [1998.0, 96.0], [1999.0, 96.0], [2000.0, 96.0], [2001.0, 106.0], [2002.0, 107.0], [2003.0, 109.0], [2004.0, 110.0], [2005.0, 112.0], [2006.0, 110.0], [2007.0, 106.0]], \"hoverlabel\": {\"namelength\": 0}, \"hovertemplate\": \"country_or_area=Korea, Democratic People's Republic of<br>value=%{customdata[1]}<br>year=%{customdata[0]}\", \"legendgroup\": \"country_or_area=Korea, Democratic People's Republic of\", \"marker\": {\"color\": \"#00cc96\"}, \"name\": \"Korea, Democratic People's Republic of\", \"offsetgroup\": \"country_or_area=Korea, Democratic People's Republic of\", \"orientation\": \"h\", \"showlegend\": true, \"textposition\": \"auto\", \"type\": \"bar\", \"x\": [93.0, 94.0, 97.0, 99.0, 92.0, 94.0, 89.0, 87.0, 93.0, 92.0, 95.0, 94.0, 99.0, 102.0, 107.0, 110.0, 114.0, 116.0, 118.0, 116.0, 122.0, 112.0, 115.0, 120.0, 122.0, 127.0, 127.0, 127.0, 129.0, 129.0, 148.0, 140.0, 131.0, 117.0, 88.0, 80.0, 81.0, 96.0, 96.0, 96.0, 106.0, 107.0, 109.0, 110.0, 112.0, 110.0, 106.0], \"xaxis\": \"x\", \"y\": [1961.0, 1962.0, 1963.0, 1964.0, 1965.0, 1966.0, 1967.0, 1968.0, 1969.0, 1970.0, 1971.0, 1972.0, 1973.0, 1974.0, 1975.0, 1976.0, 1977.0, 1978.0, 1979.0, 1980.0, 1981.0, 1982.0, 1983.0, 1984.0, 1985.0, 1986.0, 1987.0, 1988.0, 1989.0, 1990.0, 1991.0, 1992.0, 1993.0, 1994.0, 1995.0, 1996.0, 1997.0, 1998.0, 1999.0, 2000.0, 2001.0, 2002.0, 2003.0, 2004.0, 2005.0, 2006.0, 2007.0], \"yaxis\": \"y\"}, {\"alignmentgroup\": \"True\", \"customdata\": [[1961.0, 45.0], [1962.0, 42.0], [1963.0, 45.0], [1964.0, 52.0], [1965.0, 52.0], [1966.0, 55.0], [1967.0, 50.0], [1968.0, 50.0], [1969.0, 56.0], [1970.0, 55.0], [1971.0, 55.0], [1972.0, 56.0], [1973.0, 56.0], [1974.0, 58.0], [1975.0, 66.0], [1976.0, 72.0], [1977.0, 76.0], [1978.0, 81.0], [1979.0, 83.0], [1980.0, 70.0], [1981.0, 74.0], [1982.0, 76.0], [1983.0, 77.0], [1984.0, 78.0], [1985.0, 79.0], [1986.0, 83.0], [1987.0, 82.0], [1988.0, 86.0], [1989.0, 87.0], [1990.0, 86.0], [1991.0, 84.0], [1992.0, 91.0], [1993.0, 91.0], [1994.0, 90.0], [1995.0, 94.0], [1996.0, 97.0], [1997.0, 97.0], [1998.0, 95.0], [1999.0, 99.0], [2000.0, 100.0], [2001.0, 99.0], [2002.0, 95.0], [2003.0, 92.0], [2004.0, 93.0], [2005.0, 93.0], [2006.0, 93.0], [2007.0, 94.0]], \"hoverlabel\": {\"namelength\": 0}, \"hovertemplate\": \"country_or_area=Korea, Republic of<br>value=%{customdata[1]}<br>year=%{customdata[0]}\", \"legendgroup\": \"country_or_area=Korea, Republic of\", \"marker\": {\"color\": \"#ab63fa\"}, \"name\": \"Korea, Republic of\", \"offsetgroup\": \"country_or_area=Korea, Republic of\", \"orientation\": \"h\", \"showlegend\": true, \"textposition\": \"auto\", \"type\": \"bar\", \"x\": [45.0, 42.0, 45.0, 52.0, 52.0, 55.0, 50.0, 50.0, 56.0, 55.0, 55.0, 56.0, 56.0, 58.0, 66.0, 72.0, 76.0, 81.0, 83.0, 70.0, 74.0, 76.0, 77.0, 78.0, 79.0, 83.0, 82.0, 86.0, 87.0, 86.0, 84.0, 91.0, 91.0, 90.0, 94.0, 97.0, 97.0, 95.0, 99.0, 100.0, 99.0, 95.0, 92.0, 93.0, 93.0, 93.0, 94.0], \"xaxis\": \"x\", \"y\": [1961.0, 1962.0, 1963.0, 1964.0, 1965.0, 1966.0, 1967.0, 1968.0, 1969.0, 1970.0, 1971.0, 1972.0, 1973.0, 1974.0, 1975.0, 1976.0, 1977.0, 1978.0, 1979.0, 1980.0, 1981.0, 1982.0, 1983.0, 1984.0, 1985.0, 1986.0, 1987.0, 1988.0, 1989.0, 1990.0, 1991.0, 1992.0, 1993.0, 1994.0, 1995.0, 1996.0, 1997.0, 1998.0, 1999.0, 2000.0, 2001.0, 2002.0, 2003.0, 2004.0, 2005.0, 2006.0, 2007.0], \"yaxis\": \"y\"}, {\"alignmentgroup\": \"True\", \"customdata\": [[1961.0, 190.0], [1962.0, 180.0], [1963.0, 161.0], [1964.0, 161.0], [1965.0, 166.0], [1966.0, 169.0], [1967.0, 171.0], [1968.0, 152.0], [1969.0, 146.0], [1970.0, 150.0], [1971.0, 147.0], [1972.0, 147.0], [1973.0, 149.0], [1974.0, 153.0], [1975.0, 166.0], [1976.0, 152.0], [1977.0, 140.0], [1978.0, 149.0], [1979.0, 144.0], [1980.0, 133.0], [1981.0, 133.0], [1982.0, 137.0], [1983.0, 141.0], [1984.0, 133.0], [1985.0, 133.0], [1986.0, 138.0], [1987.0, 128.0], [1988.0, 121.0], [1989.0, 125.0], [1990.0, 119.0], [1991.0, 121.0], [1992.0, 104.0], [1993.0, 92.0], [1994.0, 85.0], [1995.0, 89.0], [1996.0, 97.0], [1997.0, 93.0], [1998.0, 101.0], [1999.0, 110.0], [2000.0, 106.0], [2001.0, 82.0], [2002.0, 76.0], [2003.0, 65.0], [2004.0, 75.0], [2005.0, 71.0], [2006.0, 74.0], [2007.0, 74.0]], \"hoverlabel\": {\"namelength\": 0}, \"hovertemplate\": \"country_or_area=Mongolia<br>value=%{customdata[1]}<br>year=%{customdata[0]}\", \"legendgroup\": \"country_or_area=Mongolia\", \"marker\": {\"color\": \"#FFA15A\"}, \"name\": \"Mongolia\", \"offsetgroup\": \"country_or_area=Mongolia\", \"orientation\": \"h\", \"showlegend\": true, \"textposition\": \"auto\", \"type\": \"bar\", \"x\": [190.0, 180.0, 161.0, 161.0, 166.0, 169.0, 171.0, 152.0, 146.0, 150.0, 147.0, 147.0, 149.0, 153.0, 166.0, 152.0, 140.0, 149.0, 144.0, 133.0, 133.0, 137.0, 141.0, 133.0, 133.0, 138.0, 128.0, 121.0, 125.0, 119.0, 121.0, 104.0, 92.0, 85.0, 89.0, 97.0, 93.0, 101.0, 110.0, 106.0, 82.0, 76.0, 65.0, 75.0, 71.0, 74.0, 74.0], \"xaxis\": \"x\", \"y\": [1961.0, 1962.0, 1963.0, 1964.0, 1965.0, 1966.0, 1967.0, 1968.0, 1969.0, 1970.0, 1971.0, 1972.0, 1973.0, 1974.0, 1975.0, 1976.0, 1977.0, 1978.0, 1979.0, 1980.0, 1981.0, 1982.0, 1983.0, 1984.0, 1985.0, 1986.0, 1987.0, 1988.0, 1989.0, 1990.0, 1991.0, 1992.0, 1993.0, 1994.0, 1995.0, 1996.0, 1997.0, 1998.0, 1999.0, 2000.0, 2001.0, 2002.0, 2003.0, 2004.0, 2005.0, 2006.0, 2007.0], \"yaxis\": \"y\"}],\n",
       "                        {\"barmode\": \"relative\", \"height\": 600, \"legend\": {\"tracegroupgap\": 0}, \"template\": {\"data\": {\"bar\": [{\"error_x\": {\"color\": \"#2a3f5f\"}, \"error_y\": {\"color\": \"#2a3f5f\"}, \"marker\": {\"line\": {\"color\": \"#E5ECF6\", \"width\": 0.5}}, \"type\": \"bar\"}], \"barpolar\": [{\"marker\": {\"line\": {\"color\": \"#E5ECF6\", \"width\": 0.5}}, \"type\": \"barpolar\"}], \"carpet\": [{\"aaxis\": {\"endlinecolor\": \"#2a3f5f\", \"gridcolor\": \"white\", \"linecolor\": \"white\", \"minorgridcolor\": \"white\", \"startlinecolor\": \"#2a3f5f\"}, \"baxis\": {\"endlinecolor\": \"#2a3f5f\", \"gridcolor\": \"white\", \"linecolor\": \"white\", \"minorgridcolor\": \"white\", \"startlinecolor\": \"#2a3f5f\"}, \"type\": \"carpet\"}], \"choropleth\": [{\"colorbar\": {\"outlinewidth\": 0, \"ticks\": \"\"}, \"type\": \"choropleth\"}], \"contour\": [{\"colorbar\": {\"outlinewidth\": 0, \"ticks\": \"\"}, \"colorscale\": [[0.0, \"#0d0887\"], [0.1111111111111111, \"#46039f\"], [0.2222222222222222, \"#7201a8\"], [0.3333333333333333, \"#9c179e\"], [0.4444444444444444, \"#bd3786\"], [0.5555555555555556, \"#d8576b\"], [0.6666666666666666, \"#ed7953\"], [0.7777777777777778, \"#fb9f3a\"], [0.8888888888888888, \"#fdca26\"], [1.0, \"#f0f921\"]], \"type\": \"contour\"}], \"contourcarpet\": [{\"colorbar\": {\"outlinewidth\": 0, \"ticks\": \"\"}, \"type\": \"contourcarpet\"}], \"heatmap\": [{\"colorbar\": {\"outlinewidth\": 0, \"ticks\": \"\"}, \"colorscale\": [[0.0, \"#0d0887\"], [0.1111111111111111, \"#46039f\"], [0.2222222222222222, \"#7201a8\"], [0.3333333333333333, \"#9c179e\"], [0.4444444444444444, \"#bd3786\"], [0.5555555555555556, \"#d8576b\"], [0.6666666666666666, \"#ed7953\"], [0.7777777777777778, \"#fb9f3a\"], [0.8888888888888888, \"#fdca26\"], [1.0, \"#f0f921\"]], \"type\": \"heatmap\"}], \"heatmapgl\": [{\"colorbar\": {\"outlinewidth\": 0, \"ticks\": \"\"}, \"colorscale\": [[0.0, \"#0d0887\"], [0.1111111111111111, \"#46039f\"], [0.2222222222222222, \"#7201a8\"], [0.3333333333333333, \"#9c179e\"], [0.4444444444444444, \"#bd3786\"], [0.5555555555555556, \"#d8576b\"], [0.6666666666666666, \"#ed7953\"], [0.7777777777777778, \"#fb9f3a\"], [0.8888888888888888, \"#fdca26\"], [1.0, \"#f0f921\"]], \"type\": \"heatmapgl\"}], \"histogram\": [{\"marker\": {\"colorbar\": {\"outlinewidth\": 0, \"ticks\": \"\"}}, \"type\": \"histogram\"}], \"histogram2d\": [{\"colorbar\": {\"outlinewidth\": 0, \"ticks\": \"\"}, \"colorscale\": [[0.0, \"#0d0887\"], [0.1111111111111111, \"#46039f\"], [0.2222222222222222, \"#7201a8\"], [0.3333333333333333, \"#9c179e\"], [0.4444444444444444, \"#bd3786\"], [0.5555555555555556, \"#d8576b\"], [0.6666666666666666, \"#ed7953\"], [0.7777777777777778, \"#fb9f3a\"], [0.8888888888888888, \"#fdca26\"], [1.0, \"#f0f921\"]], \"type\": \"histogram2d\"}], \"histogram2dcontour\": [{\"colorbar\": {\"outlinewidth\": 0, \"ticks\": \"\"}, \"colorscale\": [[0.0, \"#0d0887\"], [0.1111111111111111, \"#46039f\"], [0.2222222222222222, \"#7201a8\"], [0.3333333333333333, \"#9c179e\"], [0.4444444444444444, \"#bd3786\"], [0.5555555555555556, \"#d8576b\"], [0.6666666666666666, \"#ed7953\"], [0.7777777777777778, \"#fb9f3a\"], [0.8888888888888888, \"#fdca26\"], [1.0, \"#f0f921\"]], \"type\": \"histogram2dcontour\"}], \"mesh3d\": [{\"colorbar\": {\"outlinewidth\": 0, \"ticks\": \"\"}, \"type\": \"mesh3d\"}], \"parcoords\": [{\"line\": {\"colorbar\": {\"outlinewidth\": 0, \"ticks\": \"\"}}, \"type\": \"parcoords\"}], \"pie\": [{\"automargin\": true, \"type\": \"pie\"}], \"scatter\": [{\"marker\": {\"colorbar\": {\"outlinewidth\": 0, \"ticks\": \"\"}}, \"type\": \"scatter\"}], \"scatter3d\": [{\"line\": {\"colorbar\": {\"outlinewidth\": 0, \"ticks\": \"\"}}, \"marker\": {\"colorbar\": {\"outlinewidth\": 0, \"ticks\": \"\"}}, \"type\": \"scatter3d\"}], \"scattercarpet\": [{\"marker\": {\"colorbar\": {\"outlinewidth\": 0, \"ticks\": \"\"}}, \"type\": \"scattercarpet\"}], \"scattergeo\": [{\"marker\": {\"colorbar\": {\"outlinewidth\": 0, \"ticks\": \"\"}}, \"type\": \"scattergeo\"}], \"scattergl\": [{\"marker\": {\"colorbar\": {\"outlinewidth\": 0, \"ticks\": \"\"}}, \"type\": \"scattergl\"}], \"scattermapbox\": [{\"marker\": {\"colorbar\": {\"outlinewidth\": 0, \"ticks\": \"\"}}, \"type\": \"scattermapbox\"}], \"scatterpolar\": [{\"marker\": {\"colorbar\": {\"outlinewidth\": 0, \"ticks\": \"\"}}, \"type\": \"scatterpolar\"}], \"scatterpolargl\": [{\"marker\": {\"colorbar\": {\"outlinewidth\": 0, \"ticks\": \"\"}}, \"type\": \"scatterpolargl\"}], \"scatterternary\": [{\"marker\": {\"colorbar\": {\"outlinewidth\": 0, \"ticks\": \"\"}}, \"type\": \"scatterternary\"}], \"surface\": [{\"colorbar\": {\"outlinewidth\": 0, \"ticks\": \"\"}, \"colorscale\": [[0.0, \"#0d0887\"], [0.1111111111111111, \"#46039f\"], [0.2222222222222222, \"#7201a8\"], [0.3333333333333333, \"#9c179e\"], [0.4444444444444444, \"#bd3786\"], [0.5555555555555556, \"#d8576b\"], [0.6666666666666666, \"#ed7953\"], [0.7777777777777778, \"#fb9f3a\"], [0.8888888888888888, \"#fdca26\"], [1.0, \"#f0f921\"]], \"type\": \"surface\"}], \"table\": [{\"cells\": {\"fill\": {\"color\": \"#EBF0F8\"}, \"line\": {\"color\": \"white\"}}, \"header\": {\"fill\": {\"color\": \"#C8D4E3\"}, \"line\": {\"color\": \"white\"}}, \"type\": \"table\"}]}, \"layout\": {\"annotationdefaults\": {\"arrowcolor\": \"#2a3f5f\", \"arrowhead\": 0, \"arrowwidth\": 1}, \"coloraxis\": {\"colorbar\": {\"outlinewidth\": 0, \"ticks\": \"\"}}, \"colorscale\": {\"diverging\": [[0, \"#8e0152\"], [0.1, \"#c51b7d\"], [0.2, \"#de77ae\"], [0.3, \"#f1b6da\"], [0.4, \"#fde0ef\"], [0.5, \"#f7f7f7\"], [0.6, \"#e6f5d0\"], [0.7, \"#b8e186\"], [0.8, \"#7fbc41\"], [0.9, \"#4d9221\"], [1, \"#276419\"]], \"sequential\": [[0.0, \"#0d0887\"], [0.1111111111111111, \"#46039f\"], [0.2222222222222222, \"#7201a8\"], [0.3333333333333333, \"#9c179e\"], [0.4444444444444444, \"#bd3786\"], [0.5555555555555556, \"#d8576b\"], [0.6666666666666666, \"#ed7953\"], [0.7777777777777778, \"#fb9f3a\"], [0.8888888888888888, \"#fdca26\"], [1.0, \"#f0f921\"]], \"sequentialminus\": [[0.0, \"#0d0887\"], [0.1111111111111111, \"#46039f\"], [0.2222222222222222, \"#7201a8\"], [0.3333333333333333, \"#9c179e\"], [0.4444444444444444, \"#bd3786\"], [0.5555555555555556, \"#d8576b\"], [0.6666666666666666, \"#ed7953\"], [0.7777777777777778, \"#fb9f3a\"], [0.8888888888888888, \"#fdca26\"], [1.0, \"#f0f921\"]]}, \"colorway\": [\"#636efa\", \"#EF553B\", \"#00cc96\", \"#ab63fa\", \"#FFA15A\", \"#19d3f3\", \"#FF6692\", \"#B6E880\", \"#FF97FF\", \"#FECB52\"], \"font\": {\"color\": \"#2a3f5f\"}, \"geo\": {\"bgcolor\": \"white\", \"lakecolor\": \"white\", \"landcolor\": \"#E5ECF6\", \"showlakes\": true, \"showland\": true, \"subunitcolor\": \"white\"}, \"hoverlabel\": {\"align\": \"left\"}, \"hovermode\": \"closest\", \"mapbox\": {\"style\": \"light\"}, \"paper_bgcolor\": \"white\", \"plot_bgcolor\": \"#E5ECF6\", \"polar\": {\"angularaxis\": {\"gridcolor\": \"white\", \"linecolor\": \"white\", \"ticks\": \"\"}, \"bgcolor\": \"#E5ECF6\", \"radialaxis\": {\"gridcolor\": \"white\", \"linecolor\": \"white\", \"ticks\": \"\"}}, \"scene\": {\"xaxis\": {\"backgroundcolor\": \"#E5ECF6\", \"gridcolor\": \"white\", \"gridwidth\": 2, \"linecolor\": \"white\", \"showbackground\": true, \"ticks\": \"\", \"zerolinecolor\": \"white\"}, \"yaxis\": {\"backgroundcolor\": \"#E5ECF6\", \"gridcolor\": \"white\", \"gridwidth\": 2, \"linecolor\": \"white\", \"showbackground\": true, \"ticks\": \"\", \"zerolinecolor\": \"white\"}, \"zaxis\": {\"backgroundcolor\": \"#E5ECF6\", \"gridcolor\": \"white\", \"gridwidth\": 2, \"linecolor\": \"white\", \"showbackground\": true, \"ticks\": \"\", \"zerolinecolor\": \"white\"}}, \"shapedefaults\": {\"line\": {\"color\": \"#2a3f5f\"}}, \"ternary\": {\"aaxis\": {\"gridcolor\": \"white\", \"linecolor\": \"white\", \"ticks\": \"\"}, \"baxis\": {\"gridcolor\": \"white\", \"linecolor\": \"white\", \"ticks\": \"\"}, \"bgcolor\": \"#E5ECF6\", \"caxis\": {\"gridcolor\": \"white\", \"linecolor\": \"white\", \"ticks\": \"\"}}, \"title\": {\"x\": 0.05}, \"xaxis\": {\"automargin\": true, \"gridcolor\": \"white\", \"linecolor\": \"white\", \"ticks\": \"\", \"title\": {\"standoff\": 15}, \"zerolinecolor\": \"white\", \"zerolinewidth\": 2}, \"yaxis\": {\"automargin\": true, \"gridcolor\": \"white\", \"linecolor\": \"white\", \"ticks\": \"\", \"title\": {\"standoff\": 15}, \"zerolinecolor\": \"white\", \"zerolinewidth\": 2}}}, \"title\": {\"text\": \"Eastern Asia\"}, \"xaxis\": {\"anchor\": \"y\", \"domain\": [0.0, 1.0], \"title\": {\"text\": \"Total Gross per capita PIN (base 1999-2001) in int. $ for year\"}}, \"yaxis\": {\"anchor\": \"x\", \"domain\": [0.0, 1.0], \"title\": {\"text\": \"Year\"}}},\n",
       "                        {\"responsive\": true}\n",
       "                    ).then(function(){\n",
       "                            \n",
       "var gd = document.getElementById('1db15683-f2ca-4376-b6c4-59198d11192b');\n",
       "var x = new MutationObserver(function (mutations, observer) {{\n",
       "        var display = window.getComputedStyle(gd).display;\n",
       "        if (!display || display === 'none') {{\n",
       "            console.log([gd, 'removed!']);\n",
       "            Plotly.purge(gd);\n",
       "            observer.disconnect();\n",
       "        }}\n",
       "}});\n",
       "\n",
       "// Listen for the removal of the full notebook cells\n",
       "var notebookContainer = gd.closest('#notebook-container');\n",
       "if (notebookContainer) {{\n",
       "    x.observe(notebookContainer, {childList: true});\n",
       "}}\n",
       "\n",
       "// Listen for the clearing of the current output cell\n",
       "var outputEl = gd.closest('.output');\n",
       "if (outputEl) {{\n",
       "    x.observe(outputEl, {childList: true});\n",
       "}}\n",
       "\n",
       "                        })\n",
       "                };\n",
       "                });\n",
       "            </script>\n",
       "        </div>"
      ]
     },
     "metadata": {},
     "output_type": "display_data"
    }
   ],
   "source": [
    "#fig = px.bar(eastern_asia_category, x='value', y='year', orientation='h')\n",
    "fig = px.bar(eastern_asia_data, x='value', y='year', color='country_or_area', orientation='h', hover_data=['year', 'value'], title='Eastern Asia'\n",
    "            ).for_each_trace(lambda t: t.update(name=t.name.replace('country_or_area=','')))\n",
    "fig.update_xaxes(title_text='Total Gross per capita PIN (base 1999-2001) in int. $ for year')\n",
    "fig.update_yaxes(title_text='Year')\n",
    "fig.show()"
   ]
  },
  {
   "cell_type": "markdown",
   "metadata": {},
   "source": [
    "You can see how the total production for the area is similar, but which country is producing the most is changing."
   ]
  },
  {
   "cell_type": "markdown",
   "metadata": {},
   "source": [
    "I would be good to compair this data directly with populations of each area.  And to take a look at how which countries production is tied directly to major historical events and which ones were able to be unaffected by those same events.  This could be done by using matching population data and historical markers."
   ]
  },
  {
   "cell_type": "code",
   "execution_count": null,
   "metadata": {},
   "outputs": [],
   "source": []
  }
 ],
 "metadata": {
  "file_extension": ".py",
  "kernelspec": {
   "display_name": "Python 3",
   "language": "python",
   "name": "python3"
  },
  "language_info": {
   "codemirror_mode": {
    "name": "ipython",
    "version": 3
   },
   "file_extension": ".py",
   "mimetype": "text/x-python",
   "name": "python",
   "nbconvert_exporter": "python",
   "pygments_lexer": "ipython3",
   "version": "3.7.4"
  },
  "mimetype": "text/x-python",
  "name": "python",
  "npconvert_exporter": "python",
  "pygments_lexer": "ipython3",
  "version": 3
 },
 "nbformat": 4,
 "nbformat_minor": 4
}
