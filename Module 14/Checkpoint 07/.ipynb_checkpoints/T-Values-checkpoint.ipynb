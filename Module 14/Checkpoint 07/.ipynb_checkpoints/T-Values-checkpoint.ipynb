{
 "cells": [
  {
   "cell_type": "code",
   "execution_count": 1,
   "metadata": {},
   "outputs": [],
   "source": [
    "import numpy as np"
   ]
  },
  {
   "cell_type": "code",
   "execution_count": 6,
   "metadata": {},
   "outputs": [
    {
     "name": "stdout",
     "output_type": "stream",
     "text": [
      "-28.60387767736777\n"
     ]
    }
   ],
   "source": [
    "y1=5\n",
    "y2=8\n",
    "s1=1\n",
    "s2=3\n",
    "n1=200\n",
    "n2=500\n",
    "\n",
    "t = ((y1 - y2)/np.sqrt((s1/n1)+(s2/n2)))\n",
    "print(t)"
   ]
  },
  {
   "cell_type": "code",
   "execution_count": 7,
   "metadata": {},
   "outputs": [
    {
     "name": "stdout",
     "output_type": "stream",
     "text": [
      "105.46910136757391\n"
     ]
    }
   ],
   "source": [
    "y1=1090\n",
    "y2=999\n",
    "s1=400\n",
    "s2=30\n",
    "n1=900\n",
    "n2=100\n",
    "\n",
    "t = ((y1 - y2)/np.sqrt((s1/n1)+(s2/n2)))\n",
    "print(t)"
   ]
  },
  {
   "cell_type": "code",
   "execution_count": 8,
   "metadata": {},
   "outputs": [
    {
     "name": "stdout",
     "output_type": "stream",
     "text": [
      "24.2535625036333\n"
     ]
    }
   ],
   "source": [
    "y1=45\n",
    "y2=40\n",
    "s1=45\n",
    "s2=40\n",
    "n1=2000\n",
    "n2=2000\n",
    "\n",
    "t = ((y1 - y2)/np.sqrt((s1/n1)+(s2/n2)))\n",
    "print(t)"
   ]
  },
  {
   "cell_type": "code",
   "execution_count": null,
   "metadata": {},
   "outputs": [],
   "source": []
  }
 ],
 "metadata": {
  "kernelspec": {
   "display_name": "Python 3",
   "language": "python",
   "name": "python3"
  },
  "language_info": {
   "codemirror_mode": {
    "name": "ipython",
    "version": 3
   },
   "file_extension": ".py",
   "mimetype": "text/x-python",
   "name": "python",
   "nbconvert_exporter": "python",
   "pygments_lexer": "ipython3",
   "version": "3.7.6"
  }
 },
 "nbformat": 4,
 "nbformat_minor": 4
}
