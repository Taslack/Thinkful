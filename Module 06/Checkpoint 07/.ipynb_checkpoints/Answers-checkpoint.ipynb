{
 "cells": [
  {
   "cell_type": "markdown",
   "metadata": {},
   "source": [
    "Theoretical Data Source: Amsterdam availability data scraped from AirBnB on December 24th."
   ]
  },
  {
   "cell_type": "markdown",
   "metadata": {},
   "source": [
    "Question: What are the popular neighborhoods in Amsterdam?"
   ]
  },
  {
   "cell_type": "markdown",
   "metadata": {},
   "source": [
    "This data is skewed toward the buisiest holiday.  It is not going to give you an accurate representation of the popular neighborhoods as every AirBnB is going to be full.  Change the date of the scraped data in order to get a better answer to the question."
   ]
  },
  {
   "cell_type": "markdown",
   "metadata": {},
   "source": [
    "Theoretical Data Source: Mental health services use on September 12, 2001 in San Francisco, CA and New York City, NY."
   ]
  },
  {
   "cell_type": "markdown",
   "metadata": {},
   "source": [
    "Question: How do patterns of mental health service use vary between cities?"
   ]
  },
  {
   "cell_type": "raw",
   "metadata": {},
   "source": [
    "The day after a major disaster would not give you an good answer.  Change the question to how do patterns of mental health service use vary between cities after a major disaster?"
   ]
  },
  {
   "cell_type": "markdown",
   "metadata": {},
   "source": [
    "Question: What are the most common reasons Armenians visit local pubs?"
   ]
  },
  {
   "cell_type": "markdown",
   "metadata": {},
   "source": [
    "Practically all the data is from students.  Change the question to Armenian students reasons to visit a pub?"
   ]
  }
 ],
 "metadata": {
  "kernelspec": {
   "display_name": "Python 3",
   "language": "python",
   "name": "python3"
  },
  "language_info": {
   "codemirror_mode": {
    "name": "ipython",
    "version": 3
   },
   "file_extension": ".py",
   "mimetype": "text/x-python",
   "name": "python",
   "nbconvert_exporter": "python",
   "pygments_lexer": "ipython3",
   "version": "3.7.4"
  }
 },
 "nbformat": 4,
 "nbformat_minor": 4
}
