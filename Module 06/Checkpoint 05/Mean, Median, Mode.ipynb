{
 "cells": [
  {
   "cell_type": "code",
   "execution_count": 25,
   "metadata": {},
   "outputs": [
    {
     "data": {
      "text/html": [
       "<style  type=\"text/css\" >\n",
       "</style><table id=\"T_f93f1ac6_e99a_11e9_9ee3_907841441faa\" ><thead>    <tr>        <th class=\"col_heading level0 col0\" ></th>        <th class=\"col_heading level0 col1\" >Values</th>    </tr></thead><tbody>\n",
       "                <tr>\n",
       "                                <td id=\"T_f93f1ac6_e99a_11e9_9ee3_907841441faarow0_col0\" class=\"data row0 col0\" >Mean</td>\n",
       "                        <td id=\"T_f93f1ac6_e99a_11e9_9ee3_907841441faarow0_col1\" class=\"data row0 col1\" >9.85714</td>\n",
       "            </tr>\n",
       "            <tr>\n",
       "                                <td id=\"T_f93f1ac6_e99a_11e9_9ee3_907841441faarow1_col0\" class=\"data row1 col0\" >Median</td>\n",
       "                        <td id=\"T_f93f1ac6_e99a_11e9_9ee3_907841441faarow1_col1\" class=\"data row1 col1\" >10</td>\n",
       "            </tr>\n",
       "            <tr>\n",
       "                                <td id=\"T_f93f1ac6_e99a_11e9_9ee3_907841441faarow2_col0\" class=\"data row2 col0\" >Mode</td>\n",
       "                        <td id=\"T_f93f1ac6_e99a_11e9_9ee3_907841441faarow2_col1\" class=\"data row2 col1\" >8</td>\n",
       "            </tr>\n",
       "            <tr>\n",
       "                                <td id=\"T_f93f1ac6_e99a_11e9_9ee3_907841441faarow3_col0\" class=\"data row3 col0\" >Variance</td>\n",
       "                        <td id=\"T_f93f1ac6_e99a_11e9_9ee3_907841441faarow3_col1\" class=\"data row3 col1\" >7.47619</td>\n",
       "            </tr>\n",
       "            <tr>\n",
       "                                <td id=\"T_f93f1ac6_e99a_11e9_9ee3_907841441faarow4_col0\" class=\"data row4 col0\" >Standard Deviation</td>\n",
       "                        <td id=\"T_f93f1ac6_e99a_11e9_9ee3_907841441faarow4_col1\" class=\"data row4 col1\" >2.73426</td>\n",
       "            </tr>\n",
       "            <tr>\n",
       "                                <td id=\"T_f93f1ac6_e99a_11e9_9ee3_907841441faarow5_col0\" class=\"data row5 col0\" >Standard Error</td>\n",
       "                        <td id=\"T_f93f1ac6_e99a_11e9_9ee3_907841441faarow5_col1\" class=\"data row5 col1\" >1.03345</td>\n",
       "            </tr>\n",
       "    </tbody></table>"
      ],
      "text/plain": [
       "<pandas.io.formats.style.Styler at 0x1ff8fc47288>"
      ]
     },
     "execution_count": 25,
     "metadata": {},
     "output_type": "execute_result"
    }
   ],
   "source": [
    "import numpy as np\n",
    "import pandas as pd\n",
    "import statistics\n",
    "%matplotlib inline\n",
    "\n",
    "def agg(self):\n",
    "    agg = pd.DataFrame()\n",
    "    mean = np.mean(self.age)\n",
    "    median = np.median(self.age)\n",
    "    ##(values, counts) = np.unique(self.age, return_counts=True)\n",
    "    #ind = np.argmax(counts)\n",
    "    #values[ind]\n",
    "    #print(values[ind], values, counts)\n",
    "    try:\n",
    "        mode = statistics.mode(self.age)\n",
    "    except:\n",
    "        mode = 'NaN'\n",
    "    var = self.age.var()\n",
    "    sd = np.std(self.age, ddof=1)\n",
    "    se = np.std(self.age ,ddof=1) / np.sqrt(len(self.age))\n",
    "    agg[''] = ['Mean', 'Median', 'Mode', 'Variance', 'Standard Deviation', 'Standard Error']\n",
    "    agg['Values'] = [mean, median, mode, var, sd, se]\n",
    "    return agg.style.hide_index()\n",
    "\n",
    "data = pd.DataFrame()\n",
    "data['name'] = ['Greg', 'Marcia', 'Peter', 'Jan', 'Bobby', 'Cindy', 'Oliver']\n",
    "data['age'] = [14, 12, 11, 10, 8, 6, 8]\n",
    "data.set_index('name', inplace=True)\n",
    "agg(data)"
   ]
  },
  {
   "cell_type": "markdown",
   "metadata": {},
   "source": [
    "I would select median as the estimate, most people do not associate an age by decimal.  It is always represented as a whole number. For the estimate of variance I would use the actual Variance, I like the way it represents how different the ages really are."
   ]
  },
  {
   "cell_type": "code",
   "execution_count": 26,
   "metadata": {},
   "outputs": [
    {
     "data": {
      "text/html": [
       "<style  type=\"text/css\" >\n",
       "</style><table id=\"T_fb14ed1e_e99a_11e9_9fe8_907841441faa\" ><thead>    <tr>        <th class=\"col_heading level0 col0\" ></th>        <th class=\"col_heading level0 col1\" >Values</th>    </tr></thead><tbody>\n",
       "                <tr>\n",
       "                                <td id=\"T_fb14ed1e_e99a_11e9_9fe8_907841441faarow0_col0\" class=\"data row0 col0\" >Mean</td>\n",
       "                        <td id=\"T_fb14ed1e_e99a_11e9_9fe8_907841441faarow0_col1\" class=\"data row0 col1\" >10</td>\n",
       "            </tr>\n",
       "            <tr>\n",
       "                                <td id=\"T_fb14ed1e_e99a_11e9_9fe8_907841441faarow1_col0\" class=\"data row1 col0\" >Median</td>\n",
       "                        <td id=\"T_fb14ed1e_e99a_11e9_9fe8_907841441faarow1_col1\" class=\"data row1 col1\" >10</td>\n",
       "            </tr>\n",
       "            <tr>\n",
       "                                <td id=\"T_fb14ed1e_e99a_11e9_9fe8_907841441faarow2_col0\" class=\"data row2 col0\" >Mode</td>\n",
       "                        <td id=\"T_fb14ed1e_e99a_11e9_9fe8_907841441faarow2_col1\" class=\"data row2 col1\" >8</td>\n",
       "            </tr>\n",
       "            <tr>\n",
       "                                <td id=\"T_fb14ed1e_e99a_11e9_9fe8_907841441faarow3_col0\" class=\"data row3 col0\" >Variance</td>\n",
       "                        <td id=\"T_fb14ed1e_e99a_11e9_9fe8_907841441faarow3_col1\" class=\"data row3 col1\" >6.33333</td>\n",
       "            </tr>\n",
       "            <tr>\n",
       "                                <td id=\"T_fb14ed1e_e99a_11e9_9fe8_907841441faarow4_col0\" class=\"data row4 col0\" >Standard Deviation</td>\n",
       "                        <td id=\"T_fb14ed1e_e99a_11e9_9fe8_907841441faarow4_col1\" class=\"data row4 col1\" >2.51661</td>\n",
       "            </tr>\n",
       "            <tr>\n",
       "                                <td id=\"T_fb14ed1e_e99a_11e9_9fe8_907841441faarow5_col0\" class=\"data row5 col0\" >Standard Error</td>\n",
       "                        <td id=\"T_fb14ed1e_e99a_11e9_9fe8_907841441faarow5_col1\" class=\"data row5 col1\" >0.95119</td>\n",
       "            </tr>\n",
       "    </tbody></table>"
      ],
      "text/plain": [
       "<pandas.io.formats.style.Styler at 0x1ff8fe54148>"
      ]
     },
     "execution_count": 26,
     "metadata": {},
     "output_type": "execute_result"
    }
   ],
   "source": [
    "data.at['Cindy'] = data.loc['Cindy'] + 1\n",
    "agg(data)"
   ]
  },
  {
   "cell_type": "markdown",
   "metadata": {},
   "source": [
    "The mean, variance, standard deviation, and standard error all changed.  Median and mode are still the same."
   ]
  },
  {
   "cell_type": "code",
   "execution_count": 27,
   "metadata": {},
   "outputs": [],
   "source": [
    "data = data.drop('Oliver', axis=0)\n",
    "data.loc['Jessica'] = [1]"
   ]
  },
  {
   "cell_type": "code",
   "execution_count": 28,
   "metadata": {},
   "outputs": [
    {
     "name": "stdout",
     "output_type": "stream",
     "text": [
      "         age\n",
      "name        \n",
      "Greg      14\n",
      "Marcia    12\n",
      "Peter     11\n",
      "Jan       10\n",
      "Bobby      8\n",
      "Cindy      7\n",
      "Jessica    1\n"
     ]
    },
    {
     "data": {
      "text/html": [
       "<style  type=\"text/css\" >\n",
       "</style><table id=\"T_feafcede_e99a_11e9_a81e_907841441faa\" ><thead>    <tr>        <th class=\"col_heading level0 col0\" ></th>        <th class=\"col_heading level0 col1\" >Values</th>    </tr></thead><tbody>\n",
       "                <tr>\n",
       "                                <td id=\"T_feafcede_e99a_11e9_a81e_907841441faarow0_col0\" class=\"data row0 col0\" >Mean</td>\n",
       "                        <td id=\"T_feafcede_e99a_11e9_a81e_907841441faarow0_col1\" class=\"data row0 col1\" >9</td>\n",
       "            </tr>\n",
       "            <tr>\n",
       "                                <td id=\"T_feafcede_e99a_11e9_a81e_907841441faarow1_col0\" class=\"data row1 col0\" >Median</td>\n",
       "                        <td id=\"T_feafcede_e99a_11e9_a81e_907841441faarow1_col1\" class=\"data row1 col1\" >10</td>\n",
       "            </tr>\n",
       "            <tr>\n",
       "                                <td id=\"T_feafcede_e99a_11e9_a81e_907841441faarow2_col0\" class=\"data row2 col0\" >Mode</td>\n",
       "                        <td id=\"T_feafcede_e99a_11e9_a81e_907841441faarow2_col1\" class=\"data row2 col1\" >NaN</td>\n",
       "            </tr>\n",
       "            <tr>\n",
       "                                <td id=\"T_feafcede_e99a_11e9_a81e_907841441faarow3_col0\" class=\"data row3 col0\" >Variance</td>\n",
       "                        <td id=\"T_feafcede_e99a_11e9_a81e_907841441faarow3_col1\" class=\"data row3 col1\" >18</td>\n",
       "            </tr>\n",
       "            <tr>\n",
       "                                <td id=\"T_feafcede_e99a_11e9_a81e_907841441faarow4_col0\" class=\"data row4 col0\" >Standard Deviation</td>\n",
       "                        <td id=\"T_feafcede_e99a_11e9_a81e_907841441faarow4_col1\" class=\"data row4 col1\" >4.24264</td>\n",
       "            </tr>\n",
       "            <tr>\n",
       "                                <td id=\"T_feafcede_e99a_11e9_a81e_907841441faarow5_col0\" class=\"data row5 col0\" >Standard Error</td>\n",
       "                        <td id=\"T_feafcede_e99a_11e9_a81e_907841441faarow5_col1\" class=\"data row5 col1\" >1.60357</td>\n",
       "            </tr>\n",
       "    </tbody></table>"
      ],
      "text/plain": [
       "<pandas.io.formats.style.Styler at 0x1ff8fe4d988>"
      ]
     },
     "execution_count": 28,
     "metadata": {},
     "output_type": "execute_result"
    }
   ],
   "source": [
    "print(data)\n",
    "agg(data)"
   ]
  },
  {
   "cell_type": "markdown",
   "metadata": {},
   "source": [
    "I would not change my selection, they are still good representations of the age differences."
   ]
  },
  {
   "cell_type": "markdown",
   "metadata": {},
   "source": [
    "There would be around 15% to 20% of adult Americans who where fans of the shows."
   ]
  }
 ],
 "metadata": {
  "kernelspec": {
   "display_name": "Python 3",
   "language": "python",
   "name": "python3"
  },
  "language_info": {
   "codemirror_mode": {
    "name": "ipython",
    "version": 3
   },
   "file_extension": ".py",
   "mimetype": "text/x-python",
   "name": "python",
   "nbconvert_exporter": "python",
   "pygments_lexer": "ipython3",
   "version": "3.7.4"
  }
 },
 "nbformat": 4,
 "nbformat_minor": 4
}
