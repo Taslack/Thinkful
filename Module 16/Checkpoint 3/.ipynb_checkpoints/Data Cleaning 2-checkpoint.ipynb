{
 "cells": [
  {
   "cell_type": "code",
   "execution_count": 95,
   "metadata": {},
   "outputs": [],
   "source": [
    "import pandas as pd\n",
    "import matplotlib.pyplot as plt\n",
    "from sqlalchemy import create_engine"
   ]
  },
  {
   "cell_type": "code",
   "execution_count": 96,
   "metadata": {},
   "outputs": [],
   "source": [
    "postgres_user = 'dsbc_student'\n",
    "postgres_pw = '7*.8G9QH21'\n",
    "postgres_host = '142.93.121.174'\n",
    "postgres_port = '5432'\n",
    "postgres_db = 'useducation'\n",
    "\n",
    "engine = create_engine('postgresql://{}:{}@{}:{}/{}'.format(\n",
    "    postgres_user, postgres_pw, postgres_host, postgres_port, postgres_db))\n",
    "\n",
    "df = pd.read_sql_query('select * from useducation',con=engine)\n",
    "engine.dispose()"
   ]
  },
  {
   "cell_type": "markdown",
   "metadata": {},
   "source": [
    "1. Determine all the variable types and find the fraction of the missing values for each variable."
   ]
  },
  {
   "cell_type": "code",
   "execution_count": 97,
   "metadata": {},
   "outputs": [
    {
     "name": "stdout",
     "output_type": "stream",
     "text": [
      "<class 'pandas.core.frame.DataFrame'>\n",
      "RangeIndex: 1492 entries, 0 to 1491\n",
      "Data columns (total 25 columns):\n",
      "PRIMARY_KEY                     1492 non-null object\n",
      "STATE                           1492 non-null object\n",
      "YEAR                            1492 non-null int64\n",
      "ENROLL                          1229 non-null float64\n",
      "TOTAL_REVENUE                   1280 non-null float64\n",
      "FEDERAL_REVENUE                 1280 non-null float64\n",
      "STATE_REVENUE                   1280 non-null float64\n",
      "LOCAL_REVENUE                   1280 non-null float64\n",
      "TOTAL_EXPENDITURE               1280 non-null float64\n",
      "INSTRUCTION_EXPENDITURE         1280 non-null float64\n",
      "SUPPORT_SERVICES_EXPENDITURE    1280 non-null float64\n",
      "OTHER_EXPENDITURE               1229 non-null float64\n",
      "CAPITAL_OUTLAY_EXPENDITURE      1280 non-null float64\n",
      "GRADES_PK_G                     1319 non-null float64\n",
      "GRADES_KG_G                     1360 non-null float64\n",
      "GRADES_4_G                      1361 non-null float64\n",
      "GRADES_8_G                      1361 non-null float64\n",
      "GRADES_12_G                     1361 non-null float64\n",
      "GRADES_1_8_G                    1361 non-null float64\n",
      "GRADES_9_12_G                   1361 non-null float64\n",
      "GRADES_ALL_G                    1319 non-null float64\n",
      "AVG_MATH_4_SCORE                536 non-null float64\n",
      "AVG_MATH_8_SCORE                532 non-null float64\n",
      "AVG_READING_4_SCORE             533 non-null float64\n",
      "AVG_READING_8_SCORE             498 non-null float64\n",
      "dtypes: float64(22), int64(1), object(2)\n",
      "memory usage: 291.5+ KB\n"
     ]
    }
   ],
   "source": [
    "df.info()"
   ]
  },
  {
   "cell_type": "code",
   "execution_count": 98,
   "metadata": {},
   "outputs": [
    {
     "data": {
      "text/plain": [
       "PRIMARY_KEY                     0.000000\n",
       "STATE                           0.000000\n",
       "YEAR                            0.000000\n",
       "ENROLL                          0.176273\n",
       "TOTAL_REVENUE                   0.142091\n",
       "FEDERAL_REVENUE                 0.142091\n",
       "STATE_REVENUE                   0.142091\n",
       "LOCAL_REVENUE                   0.142091\n",
       "TOTAL_EXPENDITURE               0.142091\n",
       "INSTRUCTION_EXPENDITURE         0.142091\n",
       "SUPPORT_SERVICES_EXPENDITURE    0.142091\n",
       "OTHER_EXPENDITURE               0.176273\n",
       "CAPITAL_OUTLAY_EXPENDITURE      0.142091\n",
       "GRADES_PK_G                     0.115952\n",
       "GRADES_KG_G                     0.088472\n",
       "GRADES_4_G                      0.087802\n",
       "GRADES_8_G                      0.087802\n",
       "GRADES_12_G                     0.087802\n",
       "GRADES_1_8_G                    0.087802\n",
       "GRADES_9_12_G                   0.087802\n",
       "GRADES_ALL_G                    0.115952\n",
       "AVG_MATH_4_SCORE                0.640751\n",
       "AVG_MATH_8_SCORE                0.643432\n",
       "AVG_READING_4_SCORE             0.642761\n",
       "AVG_READING_8_SCORE             0.666220\n",
       "dtype: float64"
      ]
     },
     "execution_count": 98,
     "metadata": {},
     "output_type": "execute_result"
    }
   ],
   "source": [
    "df.isnull().sum()/df.isnull().count()"
   ]
  },
  {
   "cell_type": "markdown",
   "metadata": {},
   "source": [
    "2. Notice that the data has a time dimension (year). For this assignment, forget about time and treat all the observations as if they're from the same year. Choose a strategy to deal with the missing values for each variables. For which variables would filling in the missing values with some value make sense? For which might tossing out the records entirely make sense?"
   ]
  },
  {
   "cell_type": "code",
   "execution_count": 99,
   "metadata": {},
   "outputs": [],
   "source": [
    "filter_list = [\"ENROLL\", \"TOTAL_REVENUE\", \"FEDERAL_REVENUE\", \n",
    "             \"STATE_REVENUE\", \"LOCAL_REVENUE\", \"TOTAL_EXPENDITURE\", \n",
    "             \"INSTRUCTION_EXPENDITURE\", \"SUPPORT_SERVICES_EXPENDITURE\",\n",
    "             \"OTHER_EXPENDITURE\", \"CAPITAL_OUTLAY_EXPENDITURE\", \"GRADES_PK_G\", \n",
    "             \"GRADES_KG_G\", \"GRADES_4_G\", \"GRADES_8_G\", \"GRADES_12_G\", \"GRADES_1_8_G\", \n",
    "             \"GRADES_9_12_G\", \"GRADES_ALL_G\"]\n",
    "df2 = df.copy()\n",
    "for col in filter_list:\n",
    "    df2.loc[:, col] = df2.loc[:, col].fillna(df2.loc[:, col].mean())"
   ]
  },
  {
   "cell_type": "code",
   "execution_count": 100,
   "metadata": {},
   "outputs": [
    {
     "data": {
      "text/plain": [
       "False"
      ]
     },
     "execution_count": 100,
     "metadata": {},
     "output_type": "execute_result"
    }
   ],
   "source": [
    "df2.ENROLL.isnull().values.any()"
   ]
  },
  {
   "cell_type": "markdown",
   "metadata": {},
   "source": [
    "3. Now, take into account the time factor. Replicate your second answer but this time fill in the missing values by using a statistic that is calculated within the year of the observation. For example, if you want to fill a missing value for a variable with the mean of that variable, calculate the mean by using *only* the observations for that specific year."
   ]
  },
  {
   "cell_type": "code",
   "execution_count": 101,
   "metadata": {},
   "outputs": [],
   "source": [
    "df3 = df.copy()\n",
    "years = df3['YEAR'].unique()\n",
    "for col in filter_list:\n",
    "    for y in years:\n",
    "        df3.loc[df3['YEAR'] == y, col] = df3.loc[df3['YEAR'] == y, col].fillna(df3[df3['YEAR'] == y][col].mean())\n"
   ]
  },
  {
   "cell_type": "markdown",
   "metadata": {},
   "source": [
    "4. This time, fill in the missing values using interpolation (extrapolation)."
   ]
  },
  {
   "cell_type": "code",
   "execution_count": 102,
   "metadata": {},
   "outputs": [],
   "source": [
    "df4 = df.copy()\n",
    "for col in filter_list:\n",
    "    df4.loc[:, col] = df4.loc[:, col].interpolate()"
   ]
  },
  {
   "cell_type": "markdown",
   "metadata": {},
   "source": [
    "5. Compare your results for the 2nd, 3rd, and 4th questions. Do you find any meaningful differences?"
   ]
  },
  {
   "cell_type": "code",
   "execution_count": 103,
   "metadata": {},
   "outputs": [
    {
     "name": "stdout",
     "output_type": "stream",
     "text": [
      "Statistics for columns: ENROLL\n",
      "             ENROLL        ENROLL        ENROLL        ENROLL\n",
      "count  1.229000e+03  1.492000e+03  1.385000e+03  1.456000e+03\n",
      "mean   9.159308e+05  9.159308e+05  9.161654e+05  1.005984e+06\n",
      "std    1.065280e+06  9.667725e+05  1.003532e+06  1.009158e+06\n",
      "min    4.386600e+04  4.386600e+04  4.386600e+04  4.386600e+04\n",
      "25%    2.583140e+05  3.150940e+05  2.867590e+05  2.973995e+05\n",
      "50%    6.483130e+05  8.204140e+05  7.374010e+05  7.540845e+05\n",
      "75%    1.014528e+06  9.211780e+05  9.624880e+05  1.595024e+06\n",
      "max    6.307022e+06  6.307022e+06  6.307022e+06  6.307022e+06\n",
      "Statistics for columns: TOTAL_REVENUE\n",
      "       TOTAL_REVENUE  TOTAL_REVENUE  TOTAL_REVENUE  TOTAL_REVENUE\n",
      "count   1.280000e+03   1.492000e+03   1.441000e+03   1.492000e+03\n",
      "mean    9.092082e+06   9.092082e+06   9.084108e+06   1.111164e+07\n",
      "std     1.174519e+07   1.087818e+07   1.110204e+07   1.200155e+07\n",
      "min     4.656500e+05   4.656500e+05   4.656500e+05   4.656500e+05\n",
      "25%     2.186305e+06   2.546261e+06   2.425600e+06   2.546261e+06\n",
      "50%     5.079546e+06   6.359310e+06   5.778507e+06   6.351760e+06\n",
      "75%     1.085985e+07   9.276958e+06   1.116863e+07   1.803650e+07\n",
      "max     8.921726e+07   8.921726e+07   8.921726e+07   8.921726e+07\n",
      "Statistics for columns: FEDERAL_REVENUE\n",
      "       FEDERAL_REVENUE  FEDERAL_REVENUE  FEDERAL_REVENUE  FEDERAL_REVENUE\n",
      "count     1.280000e+03     1.492000e+03     1.441000e+03     1.492000e+03\n",
      "mean      7.663723e+05     7.663723e+05     7.662749e+05     8.922691e+05\n",
      "std       1.145242e+06     1.060702e+06     1.085057e+06     1.106788e+06\n",
      "min       3.102000e+04     3.102000e+04     3.102000e+04     3.102000e+04\n",
      "25%       1.893540e+05     2.170200e+05     2.068530e+05     2.170200e+05\n",
      "50%       4.033765e+05     5.167410e+05     4.461800e+05     5.165190e+05\n",
      "75%       8.289660e+05     7.663723e+05     8.956420e+05     1.411794e+06\n",
      "max       9.990221e+06     9.990221e+06     9.990221e+06     9.990221e+06\n",
      "Statistics for columns: STATE_REVENUE\n",
      "       STATE_REVENUE  STATE_REVENUE  STATE_REVENUE  STATE_REVENUE\n",
      "count   1.280000e+03   1.492000e+03   1.441000e+03   1.492000e+03\n",
      "mean    4.216553e+06   4.216553e+06   4.213597e+06   4.913351e+06\n",
      "std     5.543072e+06   5.133895e+06   5.237195e+06   5.423675e+06\n",
      "min     0.000000e+00   0.000000e+00   0.000000e+00   0.000000e+00\n",
      "25%     1.153097e+06   1.356434e+06   1.319582e+06   1.356434e+06\n",
      "50%     2.537074e+06   3.127639e+06   2.857497e+06   3.119414e+06\n",
      "75%     5.080939e+06   4.269811e+06   5.187230e+06   8.020633e+06\n",
      "max     5.090457e+07   5.090457e+07   5.090457e+07   5.090457e+07\n",
      "Statistics for columns: LOCAL_REVENUE\n",
      "       LOCAL_REVENUE  LOCAL_REVENUE  LOCAL_REVENUE  LOCAL_REVENUE\n",
      "count   1.280000e+03   1.492000e+03   1.441000e+03   1.492000e+03\n",
      "mean    4.109157e+06   4.109157e+06   4.104236e+06   5.306024e+06\n",
      "std     5.482971e+06   5.078230e+06   5.181475e+06   5.900909e+06\n",
      "min     2.209300e+04   2.209300e+04   2.209300e+04   2.209300e+04\n",
      "25%     7.158345e+05   9.447962e+05   8.747060e+05   9.447962e+05\n",
      "50%     2.055780e+06   2.697257e+06   2.398344e+06   2.650904e+06\n",
      "75%     4.768680e+06   4.109157e+06   4.995971e+06   8.584803e+06\n",
      "max     3.610526e+07   3.610526e+07   3.610526e+07   3.610526e+07\n",
      "Statistics for columns: TOTAL_EXPENDITURE\n",
      "       TOTAL_EXPENDITURE  TOTAL_EXPENDITURE  TOTAL_EXPENDITURE  \\\n",
      "count       1.280000e+03       1.492000e+03       1.441000e+03   \n",
      "mean        9.196681e+06       9.196681e+06       9.190557e+06   \n",
      "std         1.197813e+07       1.109393e+07       1.132084e+07   \n",
      "min         4.816650e+05       4.816650e+05       4.816650e+05   \n",
      "25%         2.165404e+06       2.523968e+06       2.427316e+06   \n",
      "50%         5.234506e+06       6.520224e+06       5.858385e+06   \n",
      "75%         1.074519e+07       9.434922e+06       1.116970e+07   \n",
      "max         8.532013e+07       8.532013e+07       8.532013e+07   \n",
      "\n",
      "       TOTAL_EXPENDITURE  \n",
      "count       1.492000e+03  \n",
      "mean        1.114374e+07  \n",
      "std         1.212433e+07  \n",
      "min         4.816650e+05  \n",
      "25%         2.523968e+06  \n",
      "50%         6.499891e+06  \n",
      "75%         1.801704e+07  \n",
      "max         8.532013e+07  \n",
      "Statistics for columns: INSTRUCTION_EXPENDITURE\n",
      "       INSTRUCTION_EXPENDITURE  INSTRUCTION_EXPENDITURE  \\\n",
      "count             1.280000e+03             1.492000e+03   \n",
      "mean              4.762966e+06             4.762966e+06   \n",
      "std               6.293004e+06             5.828468e+06   \n",
      "min               2.655490e+05             2.655490e+05   \n",
      "25%               1.168032e+06             1.343611e+06   \n",
      "50%               2.657452e+06             3.358142e+06   \n",
      "75%               5.568028e+06             4.938820e+06   \n",
      "max               4.396452e+07             4.396452e+07   \n",
      "\n",
      "       INSTRUCTION_EXPENDITURE  INSTRUCTION_EXPENDITURE  \n",
      "count             1.441000e+03             1.492000e+03  \n",
      "mean              4.758243e+06             5.792260e+06  \n",
      "std               5.947042e+06             6.376549e+06  \n",
      "min               2.655490e+05             2.655490e+05  \n",
      "25%               1.306105e+06             1.343611e+06  \n",
      "50%               3.033016e+06             3.318778e+06  \n",
      "75%               5.672620e+06             9.130766e+06  \n",
      "max               4.396452e+07             4.396452e+07  \n",
      "Statistics for columns: SUPPORT_SERVICES_EXPENDITURE\n",
      "       SUPPORT_SERVICES_EXPENDITURE  SUPPORT_SERVICES_EXPENDITURE  \\\n",
      "count                  1.280000e+03                  1.492000e+03   \n",
      "mean                   2.680331e+06                  2.680331e+06   \n",
      "std                    3.353349e+06                  3.105812e+06   \n",
      "min                    1.399630e+05                  1.399630e+05   \n",
      "25%                    6.357900e+05                  7.673688e+05   \n",
      "50%                    1.525406e+06                  1.913844e+06   \n",
      "75%                    3.229651e+06                  2.795888e+06   \n",
      "max                    2.605802e+07                  2.605802e+07   \n",
      "\n",
      "       SUPPORT_SERVICES_EXPENDITURE  SUPPORT_SERVICES_EXPENDITURE  \n",
      "count                  1.441000e+03                  1.492000e+03  \n",
      "mean                   2.677770e+06                  3.324275e+06  \n",
      "std                    3.170760e+06                  3.500830e+06  \n",
      "min                    1.399630e+05                  1.399630e+05  \n",
      "25%                    7.350360e+05                  7.673688e+05  \n",
      "50%                    1.720824e+06                  1.910412e+06  \n",
      "75%                    3.333043e+06                  5.435244e+06  \n",
      "max                    2.605802e+07                  2.605802e+07  \n",
      "Statistics for columns: OTHER_EXPENDITURE\n",
      "       OTHER_EXPENDITURE  OTHER_EXPENDITURE  OTHER_EXPENDITURE  \\\n",
      "count       1.229000e+03       1.492000e+03       1.385000e+03   \n",
      "mean        4.292046e+05       4.292046e+05       4.286507e+05   \n",
      "std         5.340693e+05       4.846832e+05       5.041013e+05   \n",
      "min         1.154100e+04       1.154100e+04       1.154100e+04   \n",
      "25%         1.028310e+05       1.354282e+05       1.199340e+05   \n",
      "50%         2.715960e+05       3.672335e+05       3.070220e+05   \n",
      "75%         5.186000e+05       4.568915e+05       5.223475e+05   \n",
      "max         3.995951e+06       3.995951e+06       3.995951e+06   \n",
      "\n",
      "       OTHER_EXPENDITURE  \n",
      "count       1.456000e+03  \n",
      "mean        5.004288e+05  \n",
      "std         5.253843e+05  \n",
      "min         1.154100e+04  \n",
      "25%         1.279618e+05  \n",
      "50%         3.415810e+05  \n",
      "75%         8.490842e+05  \n",
      "max         3.995951e+06  \n",
      "Statistics for columns: CAPITAL_OUTLAY_EXPENDITURE\n",
      "       CAPITAL_OUTLAY_EXPENDITURE  CAPITAL_OUTLAY_EXPENDITURE  \\\n",
      "count                1.280000e+03                1.492000e+03   \n",
      "mean                 9.027693e+05                9.027693e+05   \n",
      "std                  1.327562e+06                1.229564e+06   \n",
      "min                  1.270800e+04                1.270800e+04   \n",
      "25%                  1.815645e+05                2.163398e+05   \n",
      "50%                  5.102595e+05                6.482175e+05   \n",
      "75%                  9.668515e+05                9.027693e+05   \n",
      "max                  1.022366e+07                1.022366e+07   \n",
      "\n",
      "       CAPITAL_OUTLAY_EXPENDITURE  CAPITAL_OUTLAY_EXPENDITURE  \n",
      "count                1.441000e+03                1.492000e+03  \n",
      "mean                 9.044417e+05                1.033524e+06  \n",
      "std                  1.254176e+06                1.272901e+06  \n",
      "min                  1.270800e+04                1.270800e+04  \n",
      "25%                  2.062410e+05                2.163398e+05  \n",
      "50%                  5.809340e+05                6.436235e+05  \n",
      "75%                  1.024876e+06                1.717212e+06  \n",
      "max                  1.022366e+07                1.022366e+07  \n",
      "Statistics for columns: GRADES_PK_G\n",
      "         GRADES_PK_G    GRADES_PK_G    GRADES_PK_G    GRADES_PK_G\n",
      "count    1319.000000    1492.000000    1390.000000    1492.000000\n",
      "mean    17601.614102   17601.614102   17672.581838   15926.059316\n",
      "std     30016.166447   28221.111094   29263.483252   28669.479212\n",
      "min         0.000000       0.000000       0.000000       0.000000\n",
      "25%      2021.000000    2449.000000    2183.250000    1544.000000\n",
      "50%      8106.000000   10505.000000    9066.500000    5910.500000\n",
      "75%     22295.000000   19149.250000   22788.750000   19561.000000\n",
      "max    250911.000000  250911.000000  250911.000000  250911.000000\n",
      "Statistics for columns: GRADES_KG_G\n",
      "         GRADES_KG_G    GRADES_KG_G    GRADES_KG_G    GRADES_KG_G\n",
      "count    1360.000000    1492.000000    1390.000000    1492.000000\n",
      "mean    63746.761029   63746.761029   63810.167724   59021.465818\n",
      "std     80205.138143   76572.547833   79336.993597   78271.025323\n",
      "min       544.000000     544.000000     544.000000     544.000000\n",
      "25%     11745.000000   14016.000000   11928.500000    9926.750000\n",
      "50%     41597.500000   48897.000000   42968.000000   38507.000000\n",
      "75%     73865.250000   70372.750000   72972.250000   70748.750000\n",
      "max    530531.000000  530531.000000  530531.000000  530531.000000\n",
      "Statistics for columns: GRADES_4_G\n",
      "          GRADES_4_G     GRADES_4_G     GRADES_4_G     GRADES_4_G\n",
      "count    1361.000000    1492.000000    1390.000000    1492.000000\n",
      "mean    64538.927259   64538.927259   64590.152441   59797.646113\n",
      "std     80293.387625   76684.998585   79451.944548   78406.899202\n",
      "min       633.000000     633.000000     633.000000     633.000000\n",
      "25%     13739.000000   15195.500000   14190.500000   10117.250000\n",
      "50%     43272.000000   49884.500000   44909.500000   38280.500000\n",
      "75%     75481.000000   71814.250000   75149.750000   72310.250000\n",
      "max    493415.000000  493415.000000  493415.000000  493415.000000\n",
      "Statistics for columns: GRADES_8_G\n",
      "          GRADES_8_G     GRADES_8_G     GRADES_8_G     GRADES_8_G\n",
      "count    1361.000000    1492.000000    1390.000000    1492.000000\n",
      "mean    64271.057311   64271.057311   64331.744106   59511.380027\n",
      "std     78910.545776   75364.301721   78083.976028   77123.573668\n",
      "min       437.000000     437.000000     437.000000     437.000000\n",
      "25%     13342.000000   15682.750000   13698.250000   10252.000000\n",
      "50%     43339.000000   49571.000000   44756.500000   38114.500000\n",
      "75%     76566.000000   72131.000000   75016.250000   72598.250000\n",
      "max    500143.000000  500143.000000  500143.000000  500143.000000\n",
      "Statistics for columns: GRADES_12_G\n",
      "        GRADES_12_G    GRADES_12_G    GRADES_12_G    GRADES_12_G\n",
      "count    1361.00000    1492.000000    1390.000000    1492.000000\n",
      "mean    54268.92432   54268.924320   54418.075582   50207.239276\n",
      "std     67889.27623   64838.328605   67187.337112   66309.867155\n",
      "min       311.00000     311.000000     311.000000     311.000000\n",
      "25%     10919.00000   13437.000000   11161.750000    8951.000000\n",
      "50%     36735.00000   39566.000000   37541.500000   33279.000000\n",
      "75%     67460.00000   64616.250000   67026.000000   64920.500000\n",
      "max    498403.00000  498403.000000  498403.000000  498403.000000\n",
      "Statistics for columns: GRADES_1_8_G\n",
      "       GRADES_1_8_G  GRADES_1_8_G  GRADES_1_8_G  GRADES_1_8_G\n",
      "count  1.361000e+03  1.492000e+03  1.390000e+03  1.492000e+03\n",
      "mean   5.192140e+05  5.192140e+05  5.196200e+05  4.810102e+05\n",
      "std    6.436384e+05  6.147133e+05  6.368932e+05  6.286622e+05\n",
      "min    4.878000e+03  4.878000e+03  4.878000e+03  4.878000e+03\n",
      "25%    1.106260e+05  1.211522e+05  1.129712e+05  8.127325e+04\n",
      "50%    3.457750e+05  4.015865e+05  3.611705e+05  3.097340e+05\n",
      "75%    6.119050e+05  5.749118e+05  6.052242e+05  5.783400e+05\n",
      "max    3.929869e+06  3.929869e+06  3.929869e+06  3.929869e+06\n",
      "Statistics for columns: GRADES_9_12_G\n",
      "       GRADES_9_12_G  GRADES_9_12_G  GRADES_9_12_G  GRADES_9_12_G\n",
      "count   1.361000e+03   1.492000e+03   1.390000e+03   1.492000e+03\n",
      "mean    2.470714e+05   2.470714e+05   2.474932e+05   2.286678e+05\n",
      "std     3.077056e+05   2.938773e+05   3.044943e+05   3.005815e+05\n",
      "min     1.808000e+03   1.808000e+03   1.808000e+03   1.808000e+03\n",
      "25%     5.147100e+04   5.919750e+04   5.270300e+04   3.950675e+04\n",
      "50%     1.642600e+05   1.817010e+05   1.706525e+05   1.472355e+05\n",
      "75%     2.905020e+05   2.825390e+05   2.888522e+05   2.843505e+05\n",
      "max     2.013687e+06   2.013687e+06   2.013687e+06   2.013687e+06\n",
      "Statistics for columns: GRADES_ALL_G\n",
      "       GRADES_ALL_G  GRADES_ALL_G  GRADES_ALL_G  GRADES_ALL_G\n",
      "count  1.319000e+03  1.492000e+03  1.390000e+03  1.492000e+03\n",
      "mean   8.024415e+05  8.024415e+05  8.029178e+05  7.478782e+05\n",
      "std    9.707031e+05  9.126522e+05  9.456162e+05  9.291585e+05\n",
      "min    7.254000e+03  7.254000e+03  7.254000e+03  7.254000e+03\n",
      "25%    1.810650e+05  2.293578e+05  1.939785e+05  1.718665e+05\n",
      "50%    5.503420e+05  6.473260e+05  5.983920e+05  4.591248e+05\n",
      "75%    9.282755e+05  8.724220e+05  9.045562e+05  8.860948e+05\n",
      "max    5.944746e+06  5.944746e+06  5.944746e+06  5.944746e+06\n"
     ]
    }
   ],
   "source": [
    "for col in filter_list:\n",
    "    print(\"Statistics for columns: {}\".format(col))\n",
    "    print(pd.concat([df[col], df2[col], df3[col], df4[col]], axis=1).describe())"
   ]
  },
  {
   "cell_type": "code",
   "execution_count": null,
   "metadata": {},
   "outputs": [],
   "source": []
  }
 ],
 "metadata": {
  "kernelspec": {
   "display_name": "Python 3",
   "language": "python",
   "name": "python3"
  },
  "language_info": {
   "codemirror_mode": {
    "name": "ipython",
    "version": 3
   },
   "file_extension": ".py",
   "mimetype": "text/x-python",
   "name": "python",
   "nbconvert_exporter": "python",
   "pygments_lexer": "ipython3",
   "version": "3.7.6"
  }
 },
 "nbformat": 4,
 "nbformat_minor": 4
}
