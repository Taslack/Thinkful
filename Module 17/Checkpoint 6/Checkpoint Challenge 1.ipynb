{
 "cells": [
  {
   "cell_type": "code",
   "execution_count": 84,
   "metadata": {},
   "outputs": [],
   "source": [
    "import numpy as np\n",
    "import pandas as pd\n",
    "import scipy\n",
    "import sklearn\n",
    "import matplotlib.pyplot as plt\n",
    "import seaborn as sns\n",
    "import re"
   ]
  },
  {
   "cell_type": "code",
   "execution_count": 85,
   "metadata": {},
   "outputs": [],
   "source": [
    "# Importing the data\n",
    "\n",
    "df = pd.read_csv('amazon_cells_labelled.txt', sep='\\t', header=None)\n",
    "df.columns = ['Sentence', 'Score']"
   ]
  },
  {
   "cell_type": "markdown",
   "metadata": {},
   "source": [
    "Create a list of words that are in the negative and positive comments."
   ]
  },
  {
   "cell_type": "code",
   "execution_count": 86,
   "metadata": {},
   "outputs": [],
   "source": [
    "negative_words = pd.DataFrame([])\n",
    "positive_words = pd.DataFrame([])\n",
    "lower_no_punc = pd.DataFrame([])\n",
    "\n",
    "for index in df.index:\n",
    "    #print(df.iloc[index]['Score'])\n",
    "    if df.iloc[index]['Score'] == 0:\n",
    "        s = df.iloc[index]['Sentence']\n",
    "        out = re.sub(r'[^\\w\\d\\s]+', '', s)\n",
    "        negative_words = negative_words.append(out.lower().split())\n",
    "\n",
    "    if df.iloc[index]['Score'] == 1:\n",
    "        s = df.iloc[index]['Sentence']\n",
    "        out = re.sub(r'[^\\w\\d\\s]+', '', s)\n",
    "        positive_words = positive_words.append(out.lower().split())\n",
    "        #lower_no_punc = lower_no_punc.append([out.lower()])\n",
    "    lower_no_punc = lower_no_punc.append([out.lower()])\n",
    "\n",
    "lower_no_punc = lower_no_punc.reset_index(drop=True)\n",
    "lower_no_punc.columns = ['Sentence']\n",
    "negative_words = pd.DataFrame(negative_words[0].unique())\n",
    "positive_words = pd.DataFrame(positive_words[0].unique())"
   ]
  },
  {
   "cell_type": "markdown",
   "metadata": {},
   "source": [
    "Dropping out the words that are in both positive and negative lists."
   ]
  },
  {
   "cell_type": "code",
   "execution_count": 98,
   "metadata": {},
   "outputs": [
    {
     "name": "stdout",
     "output_type": "stream",
     "text": [
      "['value', 'jawbone', 'owneryou', 'he', 'extended', 'kindle', 'fire', 'loved', 'run', 'pc', 'combination', 'owned', '7', 'mobile', 'ideal', 'whose', 'sensitive', 'ac', 'juicehighy', 'recommended', '680', '2mp', 'pics', 'nice', 'priced', 'features', 'seems', 'bulky', 'usable', 'keyboard', 'pda', 'realworld', 'useful', 'machine', 'instead', 'neat', 'gadget', 'sturdy', 'love', 'reasonable', 'ie', 'stream', 'submerged', '15', 'complaints', 'faceplates', 'elegant', 'glasses', 'ipods', 'situations1', 'docking', 'station', 'beautiful', 'handy', 'everyday', 'packaged', 'intended', 'loves', 'boy', 'cheaper', 'loads', 'order', 'bluetooths', 'listener', 'integrated', 'seamlessly', 'definitely', 'free', 'prosgood', 'styles', '350', 'jabra350', 'ask', 'slim', 'display', 'geeky', 'sex', 'toast', 'rocks', 'oozes', 'embedded', 'sleek', 'stylish', 'leather', 'fast', 'compromise', 'qwerty', 'basic', 'winner', 'setup', 'simpler', 'comfortably', 'iam', 'pleased', 'done', 'realize', 'accompanied', 'brilliant', 'nicely', 'damage', 'definitly', 'peachykeen', 'recognition', 'tremendous', 'reccomendation', 'relative', 'glad', 'linking', '8530', 'blackberry', 'curve', 'sounds', 'funny', 'seemed', 'sketchy', 'wellwell', 'messages', 'web', 'browsing', 'significantly', 'faster', 'build', 'unlike', 's', 'fantastic', 'perfectly', 'colors', 'superb', 'charm', 'sharp', 'graphics', 'igo', 'tips', 'file', 'browser', 'offers', 'options', 'needshandsfree', 'bluetoothmotorola', 'hs850', 'whether', 'functionality', 'awesome', 'incredible', 'toneoverall', 'lately', 'weight', 'hardly', 'youll', 'prettier', 'incredibly', 'investment', 'electronics', 'available', 'fm', 'transmitters', 'h500', 'mega', 'pixel', 'reasonably', 'good7', 'transmit', 'range', 'roam', 'living', 'receptionsound', 'infatuated', 'certainly', 'usually', 'headbands', 'mess', 'hair', 'favorite', 'purchases', 'market', 'authentic', 'shine', 'comfort', 'excited', 'cute', 'penny', 'wallet', 'type', 'aspect', 'glove', 'secure', 'durable', 'o', 'gosh', 'attractive', 'appears', 'factor', 'stereo', 'flawlessly', 'gave', 'reversible', 'rotating', 'our', 'whole', 'family', 'seller', 'adorable', 'installed', 'overnite', 'thru', 'handset', 'cat', 'attacked', 'protective', 'strip', 'destroying', 'wise', 'someone', 'shouldve', 'invented', 'sooner', 'trythe', 'engineered', 'clever', 'alarm', 'clock', 'removing', 'compliments', 'state', 'allow', 'usage', 'driving', 'dialing', 'ipod', 'concrete', 'knock', 'wood', 'transformed', 'organizational', 'capability', 'according', 'called', 'applifies', 'transmission', 's11', 'finished', 'happier', 'protects', 'skype', 'self', 'portraits', 'outside', 'exterior', 'handsfree', 'gadgets', 'magical', 'help', 'shipped', 'promptly', 'exactly', 'satisfied', 'encourage', 'youd', 'effective', 'prompt', 'excelent', 'era', '2000', 'iriver', 'spinn', 'overall', 'psyched', 'appointments', 'sanyo', 'survived', 'dozens', 'blacktop', 'earphones', 'finds', 'enter', 'modest', 'cellular', 'awsome', 'restored', 'jx10', 'searched', 'key', 'pad', 'lit', 'portable', 'colleague', 'receptiona', 'expensive', 'timely', 'shipment', 'solid', 'surefire', 'gx2', 'delivery', 'longwearing', 'conditions', 'worthwhile', 'usefulness', 'overnight', 'batteries', 'regret', 'hybrid', 'palmtopcameracellphone', 'excels', 'roles', 'bt250v', 'liked', 'described', 'bose', 'noise', 'cancelling', 'amazing', 'nyc', 'commuter', 'greatno', 'frog', 'eye', 'amazed', 'aluminum', 'vx', 'wellit', 'protected', 'handheld', 'tools', 'sturdiness', 'orders', 'source', 'waterproof', 'thanks', 'sliding', 'edge', 'pants', 'pockets', 'shield', 'incrediable', 'trunk', 'carried', 'hitch', 'practical', 'ample', 'eargels', 'channel', 'directly', 'increase', 'shifting', 'bubbling', 'peeling', 'scratch', 'nothingi', 'droid', 'earset', 'outgoing', 'total', 'package', 'understanding', 'patient', 'friends', 'enjoy', 'virgin', 'fixes', 'accessing', 'downloading', 'performing', 'functions', 'adapters', 'plays', 'louder', 'holding', 'linked', 'effort', 'research', 'development', 'division', 'knows', 'theyre', 'doing', 'walkman', 'clipping', 'deffinitely', 'cents', 'upandcoming', 'behing', '5020', 'comfortible', '24', 'pain', 'quick', 'arrival', 'fraction', 'paired', '700w', 'transceiver', 'beats', 'fingers', 'cases', 'normally', 'apart', 'haul', 'phonesmp3', 'players', 'posted', 'detailed', 'comments', 'grey', 'existing', 'cds', 'surprised', 'reviews', 'fabulous', 'bitpim', 'program', 'internetto', 'transfer', 'phonethe', 'windresistant', 'overly', 'replaceeasy', 'loop', 'tiny', 'download', 'address', 'rebootsoverall', 'rate', 'flipphones', 'welldesigned', 'smoothly', 'detachable', '325', 'cellphone', 'wornout', 'ringer', 'choices', 'upbeat', 'crisp', 'smallest', 'stays', 'video', 'clips', 'occupied', 'distracting', 'hour', 'entire', 'beat', 'shots', 'sos', 'signals', 'connect', 'miniusb', 'open', 'allowing', 'outperform', 'china', 'v325i', 'r', 'quit', '18', 'via', 'slide', 'grip', 'prevents', 'slipping', 'hand', 'span', 'exclaim', 'whoa', 'tv', 'corded', 'freedom', 'passed', 'mark', 'shows', 'signs', '100', 'functional', 'soft', 'tight', 'cut', 'shape', 'copier', 'anywhere', 'sold', 'provides', 'classy', 'krussel', 'tracfonewebsite', 'toactivate', 'good4', 'whatever', 'blueant', 'supertooth', 'metro', 'pcs', 'schr450', 'slider', 'premium', 'plugs', 'plenty', 'capacity', 'confortable', 'somewhat', 'periods', 'ant', 'hey', 'pleasantly', 'suprised', 'cost', 'convenient', 'ride', 'smoother', 'carries', 'highest', 'antiglare', 'generally', 'inconspicuous', 'boot', 'entertainment', 'communication', 'managementoh', 'activesync', '42', 'optimal', 'synchronization', 'coupon', 'perfect', 'ps3', 'five', 'cheapy', 'lots', 'yes', 'shiny', 'thumbs', 'exceeds', 'sight', 'chargelife', 'ordering', 'effects', 'palms', 'autoanswer', 'read', 'havent', 'laptop', 'ir', 'yearsgreat', 'cancellation', 'see', 'travled', 'swivel', 'sister', 'dualpurpose', 'keeping', 'inside', 'loudglad', 'maintains', 'flawless', 'devices', 'cutouts', 'landline', 'flaws', 'exceptional', 'owning', 'official', 'oem', 'loudest', 'setting', 'competitors', 'show', 'saved', 'alot', 'leopard', 'print', 'wonderfully', 'wild', 'carry', 'fulfills', 'requirements', 'fact', 'rests', 'lightly', 'against', 'websites', 'rating', 'cables', 'controls', 'accessable', 'mine', 'christmas', 'rest', 'otherwise', 'joy', 'satisifed', '2005', 's710a', 'wow', 'specs', 'armband', 'allot', 'clearer', 'ericson', 'z500a', 'motor', 'control', 'center', 'voltage', 'humming', 'equipment', 'styling', 'seen', 'sweetest', 'securely', 'hook', 'directed', 'canal']\n"
     ]
    }
   ],
   "source": [
    "# Compare word lists to each other and remove matching.\n",
    "# print(negative_words, positive_words)\n",
    "\n",
    "neg_match = negative_words[0].isin(positive_words[0])\n",
    "pos_match = positive_words[0].isin(negative_words[0])\n",
    "\n",
    "for index in neg_match.index:\n",
    "    if neg_match.iloc[index] == True:\n",
    "        negative_words.drop(index, inplace=True)\n",
    "\n",
    "for index in pos_match.index:\n",
    "    if pos_match.iloc[index] == True:\n",
    "        positive_words.drop(index, inplace=True)\n",
    "        \n",
    "negative_words = negative_words.reset_index(drop=True)\n",
    "positive_words = positive_words.reset_index(drop=True)\n",
    "print(positive_words[0].tolist())"
   ]
  },
  {
   "cell_type": "markdown",
   "metadata": {},
   "source": [
    "Outputting "
   ]
  },
  {
   "cell_type": "code",
   "execution_count": 90,
   "metadata": {},
   "outputs": [
    {
     "data": {
      "text/html": [
       "<div>\n",
       "<style scoped>\n",
       "    .dataframe tbody tr th:only-of-type {\n",
       "        vertical-align: middle;\n",
       "    }\n",
       "\n",
       "    .dataframe tbody tr th {\n",
       "        vertical-align: top;\n",
       "    }\n",
       "\n",
       "    .dataframe thead th {\n",
       "        text-align: right;\n",
       "    }\n",
       "</style>\n",
       "<table border=\"1\" class=\"dataframe\">\n",
       "  <thead>\n",
       "    <tr style=\"text-align: right;\">\n",
       "      <th></th>\n",
       "      <th>Sentence</th>\n",
       "      <th>Score</th>\n",
       "      <th>Neg</th>\n",
       "      <th>Pos</th>\n",
       "    </tr>\n",
       "  </thead>\n",
       "  <tbody>\n",
       "    <tr>\n",
       "      <th>0</th>\n",
       "      <td>So there is no way for me to plug it in here i...</td>\n",
       "      <td>0</td>\n",
       "      <td>True</td>\n",
       "      <td>True</td>\n",
       "    </tr>\n",
       "    <tr>\n",
       "      <th>1</th>\n",
       "      <td>Good case, Excellent value.</td>\n",
       "      <td>1</td>\n",
       "      <td>False</td>\n",
       "      <td>True</td>\n",
       "    </tr>\n",
       "    <tr>\n",
       "      <th>2</th>\n",
       "      <td>Great for the jawbone.</td>\n",
       "      <td>1</td>\n",
       "      <td>False</td>\n",
       "      <td>True</td>\n",
       "    </tr>\n",
       "    <tr>\n",
       "      <th>3</th>\n",
       "      <td>Tied to charger for conversations lasting more...</td>\n",
       "      <td>0</td>\n",
       "      <td>True</td>\n",
       "      <td>True</td>\n",
       "    </tr>\n",
       "    <tr>\n",
       "      <th>4</th>\n",
       "      <td>The mic is great.</td>\n",
       "      <td>1</td>\n",
       "      <td>False</td>\n",
       "      <td>True</td>\n",
       "    </tr>\n",
       "    <tr>\n",
       "      <th>...</th>\n",
       "      <td>...</td>\n",
       "      <td>...</td>\n",
       "      <td>...</td>\n",
       "      <td>...</td>\n",
       "    </tr>\n",
       "    <tr>\n",
       "      <th>995</th>\n",
       "      <td>The screen does get smudged easily because it ...</td>\n",
       "      <td>0</td>\n",
       "      <td>True</td>\n",
       "      <td>True</td>\n",
       "    </tr>\n",
       "    <tr>\n",
       "      <th>996</th>\n",
       "      <td>What a piece of junk.. I lose more calls on th...</td>\n",
       "      <td>0</td>\n",
       "      <td>True</td>\n",
       "      <td>True</td>\n",
       "    </tr>\n",
       "    <tr>\n",
       "      <th>997</th>\n",
       "      <td>Item Does Not Match Picture.</td>\n",
       "      <td>0</td>\n",
       "      <td>True</td>\n",
       "      <td>True</td>\n",
       "    </tr>\n",
       "    <tr>\n",
       "      <th>998</th>\n",
       "      <td>The only thing that disappoint me is the infra...</td>\n",
       "      <td>0</td>\n",
       "      <td>True</td>\n",
       "      <td>True</td>\n",
       "    </tr>\n",
       "    <tr>\n",
       "      <th>999</th>\n",
       "      <td>You can not answer calls with the unit, never ...</td>\n",
       "      <td>0</td>\n",
       "      <td>True</td>\n",
       "      <td>True</td>\n",
       "    </tr>\n",
       "  </tbody>\n",
       "</table>\n",
       "<p>1000 rows × 4 columns</p>\n",
       "</div>"
      ],
      "text/plain": [
       "                                              Sentence  Score    Neg   Pos\n",
       "0    So there is no way for me to plug it in here i...      0   True  True\n",
       "1                          Good case, Excellent value.      1  False  True\n",
       "2                               Great for the jawbone.      1  False  True\n",
       "3    Tied to charger for conversations lasting more...      0   True  True\n",
       "4                                    The mic is great.      1  False  True\n",
       "..                                                 ...    ...    ...   ...\n",
       "995  The screen does get smudged easily because it ...      0   True  True\n",
       "996  What a piece of junk.. I lose more calls on th...      0   True  True\n",
       "997                       Item Does Not Match Picture.      0   True  True\n",
       "998  The only thing that disappoint me is the infra...      0   True  True\n",
       "999  You can not answer calls with the unit, never ...      0   True  True\n",
       "\n",
       "[1000 rows x 4 columns]"
      ]
     },
     "execution_count": 90,
     "metadata": {},
     "output_type": "execute_result"
    }
   ],
   "source": [
    "for index in lower_no_punc.index:\n",
    "    if any(neg in lower_no_punc.loc[index]['Sentence'] for neg in negative_words[0]):\n",
    "        df.loc[index, 'Neg'] = True\n",
    "    elif any(pos in lower_no_punc.loc[index]['Sentence'] for pos in positive_words[0]):\n",
    "            df.loc[index, 'Pos'] = True\n",
    "df.fillna(False)"
   ]
  },
  {
   "cell_type": "code",
   "execution_count": null,
   "metadata": {},
   "outputs": [],
   "source": []
  },
  {
   "cell_type": "code",
   "execution_count": null,
   "metadata": {},
   "outputs": [],
   "source": []
  }
 ],
 "metadata": {
  "kernelspec": {
   "display_name": "Python 3",
   "language": "python",
   "name": "python3"
  },
  "language_info": {
   "codemirror_mode": {
    "name": "ipython",
    "version": 3
   },
   "file_extension": ".py",
   "mimetype": "text/x-python",
   "name": "python",
   "nbconvert_exporter": "python",
   "pygments_lexer": "ipython3",
   "version": "3.8.1"
  }
 },
 "nbformat": 4,
 "nbformat_minor": 4
}
