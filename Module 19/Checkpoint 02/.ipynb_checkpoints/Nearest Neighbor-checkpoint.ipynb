{
 "cells": [
  {
   "cell_type": "code",
   "execution_count": 53,
   "metadata": {},
   "outputs": [],
   "source": [
    "import math\n",
    "def euclid_dist(x, w):\n",
    "\tdistance = 0.0\n",
    "\tfor i in range(len(x)-1):\n",
    "\t\tdistance += (x[i] - w[i])**2\n",
    "\treturn math.sqrt(distance)"
   ]
  },
  {
   "cell_type": "code",
   "execution_count": 54,
   "metadata": {},
   "outputs": [],
   "source": [
    "def neighbor(x, w, n_neighbors=1):\n",
    "\tdistances = list()\n",
    "\tfor d in x:\n",
    "\t\tdist = euclid_dist(w, d)\n",
    "\t\tdistances.append((d, dist))\n",
    "\tdistances.sort(key=lambda tup: tup[1])\n",
    "\tneighbor = list()\n",
    "\tfor i in range(n_neighbors):\n",
    "\t\tneighbor.append(distances[i][0])\n",
    "\treturn neighbor"
   ]
  },
  {
   "cell_type": "code",
   "execution_count": null,
   "metadata": {},
   "outputs": [],
   "source": []
  }
 ],
 "metadata": {
  "kernelspec": {
   "display_name": "Python 3",
   "language": "python",
   "name": "python3"
  },
  "language_info": {
   "codemirror_mode": {
    "name": "ipython",
    "version": 3
   },
   "file_extension": ".py",
   "mimetype": "text/x-python",
   "name": "python",
   "nbconvert_exporter": "python",
   "pygments_lexer": "ipython3",
   "version": "3.8.2"
  }
 },
 "nbformat": 4,
 "nbformat_minor": 4
}
