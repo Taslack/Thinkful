{
 "cells": [
  {
   "cell_type": "code",
   "execution_count": 2,
   "metadata": {},
   "outputs": [],
   "source": [
    "import pandas as pd"
   ]
  },
  {
   "cell_type": "code",
   "execution_count": 5,
   "metadata": {},
   "outputs": [
    {
     "name": "stdout",
     "output_type": "stream",
     "text": [
      "                            PMID/PMCID                      Publisher  \\\n",
      "0                                  NaN                            CUP   \n",
      "1                           PMC3679557                            ACS   \n",
      "2                23043264  PMC3506128                             ACS   \n",
      "3                  23438330 PMC3646402                            ACS   \n",
      "4                 23438216 PMC3601604                             ACS   \n",
      "...                                ...                            ...   \n",
      "2122                           2901593          Wolters Kluwer Health   \n",
      "2123                           3748854         Wolters Kluwer Health    \n",
      "2124                           3785148         Wolters Kluwer Health    \n",
      "2125          PMCID:\\n    PMC3647051\\n  Wolters Kluwer N.V./Lippinott   \n",
      "2126  PMID: 23846567  (Epub July 2013)                Wolters Kluwers   \n",
      "\n",
      "                                        Journal title  \\\n",
      "0                              Psychological Medicine   \n",
      "1                                   Biomacromolecules   \n",
      "2                                          J Med Chem   \n",
      "3                                          J Med Chem   \n",
      "4                                          J Org Chem   \n",
      "...                                               ...   \n",
      "2122                             Circulation Research   \n",
      "2123                                             AIDS   \n",
      "2124                             Pediatr Infect Dis J   \n",
      "2125                                             AIDS   \n",
      "2126  Journal of Acquired Immune Deficiency Syndromes   \n",
      "\n",
      "                                          Article title  \\\n",
      "0     Reduced parahippocampal cortical thickness in ...   \n",
      "1     Structural characterization of a Model Gram-ne...   \n",
      "2     Fumaroylamino-4,5-epoxymorphinans and related ...   \n",
      "3     Orvinols with mixed kappa/mu opioid receptor a...   \n",
      "4     Regioselective opening of myo-inositol orthoes...   \n",
      "...                                                 ...   \n",
      "2122  Mechanistic Links Between Na+ Channel (SCN5A) ...   \n",
      "2123  Evaluation of an empiric risk screening score ...   \n",
      "2124  Topical umbilical cord care for prevention of ...   \n",
      "2125  Grassroots Community Organisations' Contributi...   \n",
      "2126  A novel community health worker tool outperfor...   \n",
      "\n",
      "     COST (£) charged to Wellcome (inc VAT when charged)  \n",
      "0                                                 £0.00   \n",
      "1                                              £2381.04   \n",
      "2                                               £642.56   \n",
      "3                                               £669.64   \n",
      "4                                               £685.88   \n",
      "...                                                 ...   \n",
      "2122                                           £1334.15   \n",
      "2123                                           £1834.77   \n",
      "2124                                           £1834.77   \n",
      "2125                                           £2374.52   \n",
      "2126                                           £2034.75   \n",
      "\n",
      "[2127 rows x 5 columns]\n"
     ]
    }
   ],
   "source": [
    "df = pd.read_csv('WELLCOME_APCspend2013_forThinkful.csv', encoding='mbcs')\n",
    "print(df)"
   ]
  },
  {
   "cell_type": "code",
   "execution_count": null,
   "metadata": {},
   "outputs": [],
   "source": []
  }
 ],
 "metadata": {
  "kernelspec": {
   "display_name": "Python 3",
   "language": "python",
   "name": "python3"
  },
  "language_info": {
   "codemirror_mode": {
    "name": "ipython",
    "version": 3
   },
   "file_extension": ".py",
   "mimetype": "text/x-python",
   "name": "python",
   "nbconvert_exporter": "python",
   "pygments_lexer": "ipython3",
   "version": "3.7.4"
  }
 },
 "nbformat": 4,
 "nbformat_minor": 4
}
