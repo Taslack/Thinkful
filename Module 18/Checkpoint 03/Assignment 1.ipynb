{
 "cells": [
  {
   "cell_type": "code",
   "execution_count": 3,
   "metadata": {},
   "outputs": [],
   "source": [
    "import numpy as np\n",
    "import pandas as pd\n",
    "import matplotlib.pyplot as plt\n",
    "import statsmodels.api as sm\n",
    "import statsmodels.formula.api as smf\n",
    "\n",
    "from sqlalchemy import create_engine\n",
    "from sklearn import linear_model\n",
    "from scipy.stats import bartlett\n",
    "from scipy.stats import levene\n",
    "from statsmodels.tsa.stattools import acf\n",
    "from scipy.stats import jarque_bera\n",
    "from scipy.stats import normaltest"
   ]
  },
  {
   "cell_type": "code",
   "execution_count": 4,
   "metadata": {},
   "outputs": [],
   "source": [
    "postgres_user = 'dsbc_student'\n",
    "postgres_pw = '7*.8G9QH21'\n",
    "postgres_host = '142.93.121.174'\n",
    "postgres_port = '5432'\n",
    "postgres_db = 'weatherinszeged'\n",
    "\n",
    "engine = create_engine('postgresql://{}:{}@{}:{}/{}'.format(\n",
    "    postgres_user, postgres_pw, postgres_host, postgres_port, postgres_db))\n",
    "df = pd.read_sql_query('select * from weatherinszeged',con=engine)\n",
    "\n",
    "# closing the connection to db\n",
    "engine.dispose()"
   ]
  },
  {
   "cell_type": "code",
   "execution_count": 5,
   "metadata": {},
   "outputs": [
    {
     "data": {
      "text/html": [
       "<div>\n",
       "<style scoped>\n",
       "    .dataframe tbody tr th:only-of-type {\n",
       "        vertical-align: middle;\n",
       "    }\n",
       "\n",
       "    .dataframe tbody tr th {\n",
       "        vertical-align: top;\n",
       "    }\n",
       "\n",
       "    .dataframe thead th {\n",
       "        text-align: right;\n",
       "    }\n",
       "</style>\n",
       "<table border=\"1\" class=\"dataframe\">\n",
       "  <thead>\n",
       "    <tr style=\"text-align: right;\">\n",
       "      <th></th>\n",
       "      <th>date</th>\n",
       "      <th>summary</th>\n",
       "      <th>preciptype</th>\n",
       "      <th>temperature</th>\n",
       "      <th>apparenttemperature</th>\n",
       "      <th>humidity</th>\n",
       "      <th>windspeed</th>\n",
       "      <th>windbearing</th>\n",
       "      <th>visibility</th>\n",
       "      <th>loudcover</th>\n",
       "      <th>pressure</th>\n",
       "      <th>dailysummary</th>\n",
       "    </tr>\n",
       "  </thead>\n",
       "  <tbody>\n",
       "    <tr>\n",
       "      <th>0</th>\n",
       "      <td>2006-03-31 22:00:00+00:00</td>\n",
       "      <td>Partly Cloudy</td>\n",
       "      <td>rain</td>\n",
       "      <td>9.472222</td>\n",
       "      <td>7.388889</td>\n",
       "      <td>0.89</td>\n",
       "      <td>14.1197</td>\n",
       "      <td>251.0</td>\n",
       "      <td>15.8263</td>\n",
       "      <td>0.0</td>\n",
       "      <td>1015.13</td>\n",
       "      <td>Partly cloudy throughout the day.</td>\n",
       "    </tr>\n",
       "    <tr>\n",
       "      <th>1</th>\n",
       "      <td>2006-03-31 23:00:00+00:00</td>\n",
       "      <td>Partly Cloudy</td>\n",
       "      <td>rain</td>\n",
       "      <td>9.355556</td>\n",
       "      <td>7.227778</td>\n",
       "      <td>0.86</td>\n",
       "      <td>14.2646</td>\n",
       "      <td>259.0</td>\n",
       "      <td>15.8263</td>\n",
       "      <td>0.0</td>\n",
       "      <td>1015.63</td>\n",
       "      <td>Partly cloudy throughout the day.</td>\n",
       "    </tr>\n",
       "    <tr>\n",
       "      <th>2</th>\n",
       "      <td>2006-04-01 00:00:00+00:00</td>\n",
       "      <td>Mostly Cloudy</td>\n",
       "      <td>rain</td>\n",
       "      <td>9.377778</td>\n",
       "      <td>9.377778</td>\n",
       "      <td>0.89</td>\n",
       "      <td>3.9284</td>\n",
       "      <td>204.0</td>\n",
       "      <td>14.9569</td>\n",
       "      <td>0.0</td>\n",
       "      <td>1015.94</td>\n",
       "      <td>Partly cloudy throughout the day.</td>\n",
       "    </tr>\n",
       "    <tr>\n",
       "      <th>3</th>\n",
       "      <td>2006-04-01 01:00:00+00:00</td>\n",
       "      <td>Partly Cloudy</td>\n",
       "      <td>rain</td>\n",
       "      <td>8.288889</td>\n",
       "      <td>5.944444</td>\n",
       "      <td>0.83</td>\n",
       "      <td>14.1036</td>\n",
       "      <td>269.0</td>\n",
       "      <td>15.8263</td>\n",
       "      <td>0.0</td>\n",
       "      <td>1016.41</td>\n",
       "      <td>Partly cloudy throughout the day.</td>\n",
       "    </tr>\n",
       "    <tr>\n",
       "      <th>4</th>\n",
       "      <td>2006-04-01 02:00:00+00:00</td>\n",
       "      <td>Mostly Cloudy</td>\n",
       "      <td>rain</td>\n",
       "      <td>8.755556</td>\n",
       "      <td>6.977778</td>\n",
       "      <td>0.83</td>\n",
       "      <td>11.0446</td>\n",
       "      <td>259.0</td>\n",
       "      <td>15.8263</td>\n",
       "      <td>0.0</td>\n",
       "      <td>1016.51</td>\n",
       "      <td>Partly cloudy throughout the day.</td>\n",
       "    </tr>\n",
       "    <tr>\n",
       "      <th>5</th>\n",
       "      <td>2006-04-01 03:00:00+00:00</td>\n",
       "      <td>Partly Cloudy</td>\n",
       "      <td>rain</td>\n",
       "      <td>9.222222</td>\n",
       "      <td>7.111111</td>\n",
       "      <td>0.85</td>\n",
       "      <td>13.9587</td>\n",
       "      <td>258.0</td>\n",
       "      <td>14.9569</td>\n",
       "      <td>0.0</td>\n",
       "      <td>1016.66</td>\n",
       "      <td>Partly cloudy throughout the day.</td>\n",
       "    </tr>\n",
       "    <tr>\n",
       "      <th>6</th>\n",
       "      <td>2006-04-01 04:00:00+00:00</td>\n",
       "      <td>Partly Cloudy</td>\n",
       "      <td>rain</td>\n",
       "      <td>7.733333</td>\n",
       "      <td>5.522222</td>\n",
       "      <td>0.95</td>\n",
       "      <td>12.3648</td>\n",
       "      <td>259.0</td>\n",
       "      <td>9.9820</td>\n",
       "      <td>0.0</td>\n",
       "      <td>1016.72</td>\n",
       "      <td>Partly cloudy throughout the day.</td>\n",
       "    </tr>\n",
       "    <tr>\n",
       "      <th>7</th>\n",
       "      <td>2006-04-01 05:00:00+00:00</td>\n",
       "      <td>Partly Cloudy</td>\n",
       "      <td>rain</td>\n",
       "      <td>8.772222</td>\n",
       "      <td>6.527778</td>\n",
       "      <td>0.89</td>\n",
       "      <td>14.1519</td>\n",
       "      <td>260.0</td>\n",
       "      <td>9.9820</td>\n",
       "      <td>0.0</td>\n",
       "      <td>1016.84</td>\n",
       "      <td>Partly cloudy throughout the day.</td>\n",
       "    </tr>\n",
       "    <tr>\n",
       "      <th>8</th>\n",
       "      <td>2006-04-01 06:00:00+00:00</td>\n",
       "      <td>Partly Cloudy</td>\n",
       "      <td>rain</td>\n",
       "      <td>10.822222</td>\n",
       "      <td>10.822222</td>\n",
       "      <td>0.82</td>\n",
       "      <td>11.3183</td>\n",
       "      <td>259.0</td>\n",
       "      <td>9.9820</td>\n",
       "      <td>0.0</td>\n",
       "      <td>1017.37</td>\n",
       "      <td>Partly cloudy throughout the day.</td>\n",
       "    </tr>\n",
       "    <tr>\n",
       "      <th>9</th>\n",
       "      <td>2006-04-01 07:00:00+00:00</td>\n",
       "      <td>Partly Cloudy</td>\n",
       "      <td>rain</td>\n",
       "      <td>13.772222</td>\n",
       "      <td>13.772222</td>\n",
       "      <td>0.72</td>\n",
       "      <td>12.5258</td>\n",
       "      <td>279.0</td>\n",
       "      <td>9.9820</td>\n",
       "      <td>0.0</td>\n",
       "      <td>1017.22</td>\n",
       "      <td>Partly cloudy throughout the day.</td>\n",
       "    </tr>\n",
       "  </tbody>\n",
       "</table>\n",
       "</div>"
      ],
      "text/plain": [
       "                       date        summary preciptype  temperature  \\\n",
       "0 2006-03-31 22:00:00+00:00  Partly Cloudy       rain     9.472222   \n",
       "1 2006-03-31 23:00:00+00:00  Partly Cloudy       rain     9.355556   \n",
       "2 2006-04-01 00:00:00+00:00  Mostly Cloudy       rain     9.377778   \n",
       "3 2006-04-01 01:00:00+00:00  Partly Cloudy       rain     8.288889   \n",
       "4 2006-04-01 02:00:00+00:00  Mostly Cloudy       rain     8.755556   \n",
       "5 2006-04-01 03:00:00+00:00  Partly Cloudy       rain     9.222222   \n",
       "6 2006-04-01 04:00:00+00:00  Partly Cloudy       rain     7.733333   \n",
       "7 2006-04-01 05:00:00+00:00  Partly Cloudy       rain     8.772222   \n",
       "8 2006-04-01 06:00:00+00:00  Partly Cloudy       rain    10.822222   \n",
       "9 2006-04-01 07:00:00+00:00  Partly Cloudy       rain    13.772222   \n",
       "\n",
       "   apparenttemperature  humidity  windspeed  windbearing  visibility  \\\n",
       "0             7.388889      0.89    14.1197        251.0     15.8263   \n",
       "1             7.227778      0.86    14.2646        259.0     15.8263   \n",
       "2             9.377778      0.89     3.9284        204.0     14.9569   \n",
       "3             5.944444      0.83    14.1036        269.0     15.8263   \n",
       "4             6.977778      0.83    11.0446        259.0     15.8263   \n",
       "5             7.111111      0.85    13.9587        258.0     14.9569   \n",
       "6             5.522222      0.95    12.3648        259.0      9.9820   \n",
       "7             6.527778      0.89    14.1519        260.0      9.9820   \n",
       "8            10.822222      0.82    11.3183        259.0      9.9820   \n",
       "9            13.772222      0.72    12.5258        279.0      9.9820   \n",
       "\n",
       "   loudcover  pressure                       dailysummary  \n",
       "0        0.0   1015.13  Partly cloudy throughout the day.  \n",
       "1        0.0   1015.63  Partly cloudy throughout the day.  \n",
       "2        0.0   1015.94  Partly cloudy throughout the day.  \n",
       "3        0.0   1016.41  Partly cloudy throughout the day.  \n",
       "4        0.0   1016.51  Partly cloudy throughout the day.  \n",
       "5        0.0   1016.66  Partly cloudy throughout the day.  \n",
       "6        0.0   1016.72  Partly cloudy throughout the day.  \n",
       "7        0.0   1016.84  Partly cloudy throughout the day.  \n",
       "8        0.0   1017.37  Partly cloudy throughout the day.  \n",
       "9        0.0   1017.22  Partly cloudy throughout the day.  "
      ]
     },
     "execution_count": 5,
     "metadata": {},
     "output_type": "execute_result"
    }
   ],
   "source": [
    "df.head(10)"
   ]
  },
  {
   "cell_type": "code",
   "execution_count": 6,
   "metadata": {},
   "outputs": [
    {
     "name": "stdout",
     "output_type": "stream",
     "text": [
      "<class 'pandas.core.frame.DataFrame'>\n",
      "RangeIndex: 96453 entries, 0 to 96452\n",
      "Data columns (total 12 columns):\n",
      " #   Column               Non-Null Count  Dtype              \n",
      "---  ------               --------------  -----              \n",
      " 0   date                 96453 non-null  datetime64[ns, UTC]\n",
      " 1   summary              96453 non-null  object             \n",
      " 2   preciptype           96453 non-null  object             \n",
      " 3   temperature          96453 non-null  float64            \n",
      " 4   apparenttemperature  96453 non-null  float64            \n",
      " 5   humidity             96453 non-null  float64            \n",
      " 6   windspeed            96453 non-null  float64            \n",
      " 7   windbearing          96453 non-null  float64            \n",
      " 8   visibility           96453 non-null  float64            \n",
      " 9   loudcover            96453 non-null  float64            \n",
      " 10  pressure             96453 non-null  float64            \n",
      " 11  dailysummary         96453 non-null  object             \n",
      "dtypes: datetime64[ns, UTC](1), float64(8), object(3)\n",
      "memory usage: 8.8+ MB\n"
     ]
    }
   ],
   "source": [
    "df.info()"
   ]
  },
  {
   "cell_type": "code",
   "execution_count": 7,
   "metadata": {},
   "outputs": [
    {
     "data": {
      "text/html": [
       "<div>\n",
       "<style scoped>\n",
       "    .dataframe tbody tr th:only-of-type {\n",
       "        vertical-align: middle;\n",
       "    }\n",
       "\n",
       "    .dataframe tbody tr th {\n",
       "        vertical-align: top;\n",
       "    }\n",
       "\n",
       "    .dataframe thead th {\n",
       "        text-align: right;\n",
       "    }\n",
       "</style>\n",
       "<table border=\"1\" class=\"dataframe\">\n",
       "  <thead>\n",
       "    <tr style=\"text-align: right;\">\n",
       "      <th></th>\n",
       "      <th>temperature</th>\n",
       "      <th>apparenttemperature</th>\n",
       "      <th>humidity</th>\n",
       "      <th>windspeed</th>\n",
       "      <th>windbearing</th>\n",
       "      <th>visibility</th>\n",
       "      <th>loudcover</th>\n",
       "      <th>pressure</th>\n",
       "    </tr>\n",
       "  </thead>\n",
       "  <tbody>\n",
       "    <tr>\n",
       "      <th>count</th>\n",
       "      <td>96453.000000</td>\n",
       "      <td>96453.000000</td>\n",
       "      <td>96453.000000</td>\n",
       "      <td>96453.000000</td>\n",
       "      <td>96453.000000</td>\n",
       "      <td>96453.000000</td>\n",
       "      <td>96453.0</td>\n",
       "      <td>96453.000000</td>\n",
       "    </tr>\n",
       "    <tr>\n",
       "      <th>mean</th>\n",
       "      <td>11.932678</td>\n",
       "      <td>10.855029</td>\n",
       "      <td>0.734899</td>\n",
       "      <td>10.810640</td>\n",
       "      <td>187.509232</td>\n",
       "      <td>10.347325</td>\n",
       "      <td>0.0</td>\n",
       "      <td>1003.235956</td>\n",
       "    </tr>\n",
       "    <tr>\n",
       "      <th>std</th>\n",
       "      <td>9.551546</td>\n",
       "      <td>10.696847</td>\n",
       "      <td>0.195473</td>\n",
       "      <td>6.913571</td>\n",
       "      <td>107.383428</td>\n",
       "      <td>4.192123</td>\n",
       "      <td>0.0</td>\n",
       "      <td>116.969906</td>\n",
       "    </tr>\n",
       "    <tr>\n",
       "      <th>min</th>\n",
       "      <td>-21.822222</td>\n",
       "      <td>-27.716667</td>\n",
       "      <td>0.000000</td>\n",
       "      <td>0.000000</td>\n",
       "      <td>0.000000</td>\n",
       "      <td>0.000000</td>\n",
       "      <td>0.0</td>\n",
       "      <td>0.000000</td>\n",
       "    </tr>\n",
       "    <tr>\n",
       "      <th>25%</th>\n",
       "      <td>4.688889</td>\n",
       "      <td>2.311111</td>\n",
       "      <td>0.600000</td>\n",
       "      <td>5.828200</td>\n",
       "      <td>116.000000</td>\n",
       "      <td>8.339800</td>\n",
       "      <td>0.0</td>\n",
       "      <td>1011.900000</td>\n",
       "    </tr>\n",
       "    <tr>\n",
       "      <th>50%</th>\n",
       "      <td>12.000000</td>\n",
       "      <td>12.000000</td>\n",
       "      <td>0.780000</td>\n",
       "      <td>9.965900</td>\n",
       "      <td>180.000000</td>\n",
       "      <td>10.046400</td>\n",
       "      <td>0.0</td>\n",
       "      <td>1016.450000</td>\n",
       "    </tr>\n",
       "    <tr>\n",
       "      <th>75%</th>\n",
       "      <td>18.838889</td>\n",
       "      <td>18.838889</td>\n",
       "      <td>0.890000</td>\n",
       "      <td>14.135800</td>\n",
       "      <td>290.000000</td>\n",
       "      <td>14.812000</td>\n",
       "      <td>0.0</td>\n",
       "      <td>1021.090000</td>\n",
       "    </tr>\n",
       "    <tr>\n",
       "      <th>max</th>\n",
       "      <td>39.905556</td>\n",
       "      <td>39.344444</td>\n",
       "      <td>1.000000</td>\n",
       "      <td>63.852600</td>\n",
       "      <td>359.000000</td>\n",
       "      <td>16.100000</td>\n",
       "      <td>0.0</td>\n",
       "      <td>1046.380000</td>\n",
       "    </tr>\n",
       "  </tbody>\n",
       "</table>\n",
       "</div>"
      ],
      "text/plain": [
       "        temperature  apparenttemperature      humidity     windspeed  \\\n",
       "count  96453.000000         96453.000000  96453.000000  96453.000000   \n",
       "mean      11.932678            10.855029      0.734899     10.810640   \n",
       "std        9.551546            10.696847      0.195473      6.913571   \n",
       "min      -21.822222           -27.716667      0.000000      0.000000   \n",
       "25%        4.688889             2.311111      0.600000      5.828200   \n",
       "50%       12.000000            12.000000      0.780000      9.965900   \n",
       "75%       18.838889            18.838889      0.890000     14.135800   \n",
       "max       39.905556            39.344444      1.000000     63.852600   \n",
       "\n",
       "        windbearing    visibility  loudcover      pressure  \n",
       "count  96453.000000  96453.000000    96453.0  96453.000000  \n",
       "mean     187.509232     10.347325        0.0   1003.235956  \n",
       "std      107.383428      4.192123        0.0    116.969906  \n",
       "min        0.000000      0.000000        0.0      0.000000  \n",
       "25%      116.000000      8.339800        0.0   1011.900000  \n",
       "50%      180.000000     10.046400        0.0   1016.450000  \n",
       "75%      290.000000     14.812000        0.0   1021.090000  \n",
       "max      359.000000     16.100000        0.0   1046.380000  "
      ]
     },
     "execution_count": 7,
     "metadata": {},
     "output_type": "execute_result"
    }
   ],
   "source": [
    "df.describe()"
   ]
  },
  {
   "cell_type": "markdown",
   "metadata": {},
   "source": [
    "# Regression Model"
   ]
  },
  {
   "cell_type": "code",
   "execution_count": 8,
   "metadata": {},
   "outputs": [
    {
     "data": {
      "text/html": [
       "<table class=\"simpletable\">\n",
       "<caption>OLS Regression Results</caption>\n",
       "<tr>\n",
       "  <th>Dep. Variable:</th>       <td>temperature</td>   <th>  R-squared:         </th>  <td>   0.421</td>  \n",
       "</tr>\n",
       "<tr>\n",
       "  <th>Model:</th>                   <td>OLS</td>       <th>  Adj. R-squared:    </th>  <td>   0.421</td>  \n",
       "</tr>\n",
       "<tr>\n",
       "  <th>Method:</th>             <td>Least Squares</td>  <th>  F-statistic:       </th>  <td>1.750e+04</td> \n",
       "</tr>\n",
       "<tr>\n",
       "  <th>Date:</th>             <td>Thu, 19 Mar 2020</td> <th>  Prob (F-statistic):</th>   <td>  0.00</td>   \n",
       "</tr>\n",
       "<tr>\n",
       "  <th>Time:</th>                 <td>17:39:10</td>     <th>  Log-Likelihood:    </th> <td>-3.2821e+05</td>\n",
       "</tr>\n",
       "<tr>\n",
       "  <th>No. Observations:</th>      <td> 96453</td>      <th>  AIC:               </th>  <td>6.564e+05</td> \n",
       "</tr>\n",
       "<tr>\n",
       "  <th>Df Residuals:</th>          <td> 96448</td>      <th>  BIC:               </th>  <td>6.565e+05</td> \n",
       "</tr>\n",
       "<tr>\n",
       "  <th>Df Model:</th>              <td>     4</td>      <th>                     </th>      <td> </td>     \n",
       "</tr>\n",
       "<tr>\n",
       "  <th>Covariance Type:</th>      <td>nonrobust</td>    <th>                     </th>      <td> </td>     \n",
       "</tr>\n",
       "</table>\n",
       "<table class=\"simpletable\">\n",
       "<tr>\n",
       "       <td></td>          <th>coef</th>     <th>std err</th>      <th>t</th>      <th>P>|t|</th>  <th>[0.025</th>    <th>0.975]</th>  \n",
       "</tr>\n",
       "<tr>\n",
       "  <th>const</th>       <td>   37.9264</td> <td>    0.233</td> <td>  162.709</td> <td> 0.000</td> <td>   37.470</td> <td>   38.383</td>\n",
       "</tr>\n",
       "<tr>\n",
       "  <th>humidity</th>    <td>  -32.4962</td> <td>    0.123</td> <td> -264.288</td> <td> 0.000</td> <td>  -32.737</td> <td>  -32.255</td>\n",
       "</tr>\n",
       "<tr>\n",
       "  <th>windspeed</th>   <td>   -0.2014</td> <td>    0.003</td> <td>  -57.557</td> <td> 0.000</td> <td>   -0.208</td> <td>   -0.195</td>\n",
       "</tr>\n",
       "<tr>\n",
       "  <th>windbearing</th> <td>    0.0040</td> <td>    0.000</td> <td>   18.463</td> <td> 0.000</td> <td>    0.004</td> <td>    0.004</td>\n",
       "</tr>\n",
       "<tr>\n",
       "  <th>pressure</th>    <td>   -0.0007</td> <td>    0.000</td> <td>   -3.452</td> <td> 0.001</td> <td>   -0.001</td> <td>   -0.000</td>\n",
       "</tr>\n",
       "</table>\n",
       "<table class=\"simpletable\">\n",
       "<tr>\n",
       "  <th>Omnibus:</th>       <td>3375.432</td> <th>  Durbin-Watson:     </th> <td>   0.059</td>\n",
       "</tr>\n",
       "<tr>\n",
       "  <th>Prob(Omnibus):</th>  <td> 0.000</td>  <th>  Jarque-Bera (JB):  </th> <td>3793.297</td>\n",
       "</tr>\n",
       "<tr>\n",
       "  <th>Skew:</th>           <td>-0.455</td>  <th>  Prob(JB):          </th> <td>    0.00</td>\n",
       "</tr>\n",
       "<tr>\n",
       "  <th>Kurtosis:</th>       <td> 3.339</td>  <th>  Cond. No.          </th> <td>1.06e+04</td>\n",
       "</tr>\n",
       "</table><br/><br/>Warnings:<br/>[1] Standard Errors assume that the covariance matrix of the errors is correctly specified.<br/>[2] The condition number is large, 1.06e+04. This might indicate that there are<br/>strong multicollinearity or other numerical problems."
      ],
      "text/plain": [
       "<class 'statsmodels.iolib.summary.Summary'>\n",
       "\"\"\"\n",
       "                            OLS Regression Results                            \n",
       "==============================================================================\n",
       "Dep. Variable:            temperature   R-squared:                       0.421\n",
       "Model:                            OLS   Adj. R-squared:                  0.421\n",
       "Method:                 Least Squares   F-statistic:                 1.750e+04\n",
       "Date:                Thu, 19 Mar 2020   Prob (F-statistic):               0.00\n",
       "Time:                        17:39:10   Log-Likelihood:            -3.2821e+05\n",
       "No. Observations:               96453   AIC:                         6.564e+05\n",
       "Df Residuals:                   96448   BIC:                         6.565e+05\n",
       "Df Model:                           4                                         \n",
       "Covariance Type:            nonrobust                                         \n",
       "===============================================================================\n",
       "                  coef    std err          t      P>|t|      [0.025      0.975]\n",
       "-------------------------------------------------------------------------------\n",
       "const          37.9264      0.233    162.709      0.000      37.470      38.383\n",
       "humidity      -32.4962      0.123   -264.288      0.000     -32.737     -32.255\n",
       "windspeed      -0.2014      0.003    -57.557      0.000      -0.208      -0.195\n",
       "windbearing     0.0040      0.000     18.463      0.000       0.004       0.004\n",
       "pressure       -0.0007      0.000     -3.452      0.001      -0.001      -0.000\n",
       "==============================================================================\n",
       "Omnibus:                     3375.432   Durbin-Watson:                   0.059\n",
       "Prob(Omnibus):                  0.000   Jarque-Bera (JB):             3793.297\n",
       "Skew:                          -0.455   Prob(JB):                         0.00\n",
       "Kurtosis:                       3.339   Cond. No.                     1.06e+04\n",
       "==============================================================================\n",
       "\n",
       "Warnings:\n",
       "[1] Standard Errors assume that the covariance matrix of the errors is correctly specified.\n",
       "[2] The condition number is large, 1.06e+04. This might indicate that there are\n",
       "strong multicollinearity or other numerical problems.\n",
       "\"\"\""
      ]
     },
     "execution_count": 8,
     "metadata": {},
     "output_type": "execute_result"
    }
   ],
   "source": [
    "model = sm.OLS(df['temperature'], sm.add_constant(df[['humidity', 'windspeed', 'windbearing', 'pressure']])).fit()\n",
    "model.summary()"
   ]
  },
  {
   "cell_type": "markdown",
   "metadata": {},
   "source": [
    "### OLS"
   ]
  },
  {
   "cell_type": "code",
   "execution_count": 9,
   "metadata": {},
   "outputs": [
    {
     "name": "stdout",
     "output_type": "stream",
     "text": [
      "\n",
      "Coefficients: [-3.24962454e+01 -2.01413742e-01  4.04836936e-03 -6.91759209e-04]\n",
      "Intercept: 37.92643818528529\n"
     ]
    }
   ],
   "source": [
    "lrm = linear_model.LinearRegression()\n",
    "lrm.fit(df[['humidity', 'windspeed', 'windbearing', 'pressure']], df['temperature'])\n",
    "print('\\nCoefficients: {}\\nIntercept: {}'.format(lrm.coef_, lrm.intercept_))"
   ]
  },
  {
   "cell_type": "markdown",
   "metadata": {},
   "source": [
    "### Linearity"
   ]
  },
  {
   "cell_type": "code",
   "execution_count": 10,
   "metadata": {},
   "outputs": [
    {
     "data": {
      "image/png": "[encoded data removed]",
      "text/plain": [
       "<Figure size 432x288 with 1 Axes>"
      ]
     },
     "metadata": {
      "needs_background": "light"
     },
     "output_type": "display_data"
    }
   ],
   "source": [
    "predictions = lrm.predict(df[['humidity', 'windspeed', 'windbearing', 'pressure']])\n",
    "\n",
    "plt.scatter(df['date'], predictions, color='DarkGreen')\n",
    "plt.plot(df['date'], df['temperature'])\n",
    "plt.xlabel('Date')\n",
    "plt.ylabel('Temperature')\n",
    "plt.show()"
   ]
  },
  {
   "cell_type": "markdown",
   "metadata": {},
   "source": [
    "### Error"
   ]
  },
  {
   "cell_type": "code",
   "execution_count": 11,
   "metadata": {},
   "outputs": [
    {
     "name": "stdout",
     "output_type": "stream",
     "text": [
      "Mean of errors is: -9.806584448838764e-16\n"
     ]
    }
   ],
   "source": [
    "errors = df['temperature'] - predictions\n",
    "print('Mean of errors is: {}'.format(np.mean(errors)))"
   ]
  },
  {
   "cell_type": "markdown",
   "metadata": {},
   "source": [
    "### Homoscedasticity"
   ]
  },
  {
   "cell_type": "code",
   "execution_count": 12,
   "metadata": {},
   "outputs": [
    {
     "data": {
      "image/png": "[encoded data removed]",
      "text/plain": [
       "<Figure size 432x288 with 1 Axes>"
      ]
     },
     "metadata": {
      "needs_background": "light"
     },
     "output_type": "display_data"
    }
   ],
   "source": [
    "plt.scatter(predictions, errors)\n",
    "plt.xlabel('Predicted')\n",
    "plt.ylabel('Residual')\n",
    "plt.axhline(y=0)\n",
    "plt.title('Residual vs. Predicted')\n",
    "plt.show()"
   ]
  },
  {
   "cell_type": "code",
   "execution_count": 13,
   "metadata": {},
   "outputs": [
    {
     "name": "stdout",
     "output_type": "stream",
     "text": [
      "Bartlett test statistic value is 2464.84 and p value is 0\n",
      "Levene test statistic value is 2321.24 and p value is 0\n"
     ]
    }
   ],
   "source": [
    "bart_stats = bartlett(predictions, errors)\n",
    "lev_stats = levene(predictions, errors)\n",
    "\n",
    "print('Bartlett test statistic value is {0:3g} and p value is {1:.3g}'.format(bart_stats[0], bart_stats[1]))\n",
    "print('Levene test statistic value is {0:3g} and p value is {1:.3g}'.format(lev_stats[0], lev_stats[1]))"
   ]
  },
  {
   "cell_type": "markdown",
   "metadata": {},
   "source": [
    "### Multicollinearity"
   ]
  },
  {
   "cell_type": "markdown",
   "metadata": {},
   "source": [
    "The data is multicollinear."
   ]
  },
  {
   "cell_type": "markdown",
   "metadata": {},
   "source": [
    "### Uncorrelated Error"
   ]
  },
  {
   "cell_type": "code",
   "execution_count": 14,
   "metadata": {},
   "outputs": [
    {
     "data": {
      "image/png": "[encoded data removed]",
      "text/plain": [
       "<Figure size 432x288 with 1 Axes>"
      ]
     },
     "metadata": {
      "needs_background": "light"
     },
     "output_type": "display_data"
    }
   ],
   "source": [
    "plt.plot(errors)\n",
    "plt.show()"
   ]
  },
  {
   "cell_type": "code",
   "execution_count": 15,
   "metadata": {},
   "outputs": [
    {
     "name": "stderr",
     "output_type": "stream",
     "text": [
      "c:\\program files\\python38\\lib\\site-packages\\statsmodels\\tsa\\stattools.py:568: FutureWarning: fft=True will become the default in a future version of statsmodels. To suppress this warning, explicitly set fft=False.\n",
      "  warnings.warn(\n"
     ]
    },
    {
     "data": {
      "image/png": "[encoded data removed]",
      "text/plain": [
       "<Figure size 432x288 with 1 Axes>"
      ]
     },
     "metadata": {
      "needs_background": "light"
     },
     "output_type": "display_data"
    }
   ],
   "source": [
    "acf_data = acf(errors)\n",
    "\n",
    "plt.plot(acf_data[1:])\n",
    "plt.show()"
   ]
  },
  {
   "cell_type": "markdown",
   "metadata": {},
   "source": [
    "The autocorrelation between errors is very low, between -0.06 and 0.06."
   ]
  },
  {
   "cell_type": "markdown",
   "metadata": {},
   "source": [
    "### Correlated Errors"
   ]
  },
  {
   "cell_type": "markdown",
   "metadata": {},
   "source": [
    "The coefficient of errors are not normally distributed.  The explanatory variables and errors are not independent.  More advanced techniques need to be applied in order for this model to reflect anything significant."
   ]
  },
  {
   "cell_type": "markdown",
   "metadata": {},
   "source": [
    "### Normality of Errors"
   ]
  },
  {
   "cell_type": "code",
   "execution_count": 16,
   "metadata": {},
   "outputs": [
    {
     "name": "stdout",
     "output_type": "stream",
     "text": [
      "Jarque-Bera test statistics is 3793.2967352523397 and p value is 0.0\n",
      "Normality test statistics is 3375.4323076995693 and p value is 0.0\n"
     ]
    }
   ],
   "source": [
    "jb_stats = jarque_bera(errors)\n",
    "norm_stats = normaltest(errors)\n",
    "\n",
    "print(\"Jarque-Bera test statistics is {0} and p value is {1}\".format(jb_stats[0], jb_stats[1]))\n",
    "print(\"Normality test statistics is {0} and p value is {1}\".format(norm_stats[0], norm_stats[1]))"
   ]
  },
  {
   "cell_type": "markdown",
   "metadata": {},
   "source": [
    "This errors are normaly distributed and the null hypothesis can be rejected."
   ]
  }
 ],
 "metadata": {
  "kernelspec": {
   "display_name": "Python 3",
   "language": "python",
   "name": "python3"
  },
  "language_info": {
   "codemirror_mode": {
    "name": "ipython",
    "version": 3
   },
   "file_extension": ".py",
   "mimetype": "text/x-python",
   "name": "python",
   "nbconvert_exporter": "python",
   "pygments_lexer": "ipython3",
   "version": "3.8.2"
  }
 },
 "nbformat": 4,
 "nbformat_minor": 4
}
