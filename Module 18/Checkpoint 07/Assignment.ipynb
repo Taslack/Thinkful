{
 "cells": [
  {
   "cell_type": "markdown",
   "metadata": {},
   "source": [
    "Taking the best model from the previous checkpoint."
   ]
  },
  {
   "cell_type": "code",
   "execution_count": 2,
   "metadata": {},
   "outputs": [],
   "source": [
    "import numpy as np\n",
    "import pandas as pd\n",
    "import matplotlib.pyplot as plt\n",
    "import statsmodels.api as sm\n",
    "\n",
    "from sqlalchemy import create_engine\n",
    "from sklearn.model_selection import train_test_split\n",
    "from sklearn.metrics import mean_absolute_error\n",
    "from statsmodels.tools.eval_measures import mse, rmse\n",
    "from sklearn.linear_model import LinearRegression, LassoCV, RidgeCV, ElasticNetCV\n",
    "\n",
    "import warnings\n",
    "warnings.filterwarnings('ignore')"
   ]
  },
  {
   "cell_type": "code",
   "execution_count": 3,
   "metadata": {},
   "outputs": [],
   "source": [
    "postgres_user = 'dsbc_student'\n",
    "postgres_pw = '7*.8G9QH21'\n",
    "postgres_host = '142.93.121.174'\n",
    "postgres_port = '5432'\n",
    "postgres_db = 'houseprices'\n",
    "\n",
    "engine = create_engine('postgresql://{}:{}@{}:{}/{}'.format(\n",
    "    postgres_user, postgres_pw, postgres_host, postgres_port, postgres_db))\n",
    "df = pd.read_sql_query('select * from houseprices',con=engine)\n",
    "\n",
    "# no need for an open connection, as we're only doing a single query\n",
    "engine.dispose()"
   ]
  },
  {
   "cell_type": "code",
   "execution_count": 4,
   "metadata": {},
   "outputs": [],
   "source": [
    "df = pd.concat([df,pd.get_dummies(df.mszoning, prefix=\"mszoning\", drop_first=True)], axis=1)\n",
    "df = pd.concat([df,pd.get_dummies(df.street, prefix=\"street\", drop_first=True)], axis=1)\n",
    "dummy_col_names = list(pd.get_dummies(df.mszoning, prefix=\"mszoning\", drop_first=True).columns)\n",
    "dummy_col_names = dummy_col_names + list(pd.get_dummies(df.street, prefix=\"street\", drop_first=True).columns)"
   ]
  },
  {
   "cell_type": "code",
   "execution_count": 11,
   "metadata": {},
   "outputs": [],
   "source": [
    "df['totalsf'] = df['totalbsmtsf'] + df['firstflrsf'] + df['secondflrsf']\n",
    "\n",
    "df['int_over_sf'] = df['totalsf'] * df['overallqual']\n",
    "\n",
    "# Y is the target variable\n",
    "Y = np.log1p(df['saleprice'])\n",
    "# X is the feature set\n",
    "X = df[['overallqual', 'grlivarea', 'garagecars', 'garagearea', 'totalsf', 'int_over_sf'] + dummy_col_names]\n",
    "\n",
    "X = sm.add_constant(X)\n",
    "\n",
    "X_train, X_test, y_train, y_test = train_test_split(X, Y, test_size = 0.2, random_state = 465)"
   ]
  },
  {
   "cell_type": "code",
   "execution_count": 12,
   "metadata": {},
   "outputs": [
    {
     "name": "stdout",
     "output_type": "stream",
     "text": [
      "R-squared of the model in training set is: 0.8321322553132751\n",
      "-----Test set statistics-----\n",
      "R-squared of the model in test set is: 0.824930233091685\n",
      "Mean absolute error of the prediction is: 0.12570372872861377\n",
      "Mean squared error of the prediction is: 0.02919212187135\n",
      "Root mean squared error of the prediction is: 0.1708570217209407\n",
      "Mean absolute percentage error of the prediction is: 1.0503577667823585\n"
     ]
    }
   ],
   "source": [
    "lrm = LinearRegression()\n",
    "\n",
    "lrm.fit(X_train, y_train)\n",
    "\n",
    "# Predictions\n",
    "y_preds_train = lrm.predict(X_train)\n",
    "y_preds_test = lrm.predict(X_test)\n",
    "\n",
    "print('R-squared of the model in training set is: {}'.format(lrm.score(X_train, y_train)))\n",
    "print('-----Test set statistics-----')\n",
    "print('R-squared of the model in test set is: {}'.format(lrm.score(X_test, y_test)))\n",
    "print('Mean absolute error of the prediction is: {}'.format(mean_absolute_error(y_test, y_preds_test)))\n",
    "print('Mean squared error of the prediction is: {}'.format(mse(y_test, y_preds_test)))\n",
    "print('Root mean squared error of the prediction is: {}'.format(rmse(y_test, y_preds_test)))\n",
    "print('Mean absolute percentage error of the prediction is: {}'.format(np.mean(np.abs((y_test - y_preds_test) / y_test)) * 100))"
   ]
  },
  {
   "cell_type": "code",
   "execution_count": 7,
   "metadata": {},
   "outputs": [
    {
     "name": "stdout",
     "output_type": "stream",
     "text": [
      "Best alpha value is: 0.0001\n",
      "R-squared of the model in training set is: 0.8319394287042422\n",
      "-----Test set statistics-----\n",
      "R-squared of the model in test set is: 0.8226434437869413\n",
      "Mean absolute error of the prediction is: 0.12624310826908405\n",
      "Mean squared error of the prediction is: 0.02957343403767703\n",
      "Root mean squared error of the prediction is: 0.17196928225028163\n",
      "Mean absolute percentage error of the prediction is: 1.0552354946577738\n"
     ]
    }
   ],
   "source": [
    "alphas = [np.power(10.0,p) for p in np.arange(-10,40,1)]\n",
    "lasso_cv = LassoCV(alphas=alphas, cv=5)\n",
    "\n",
    "lasso_cv.fit(X_train, y_train)\n",
    "\n",
    "# Predictions\n",
    "y_preds_train = lasso_cv.predict(X_train)\n",
    "y_preds_test = lasso_cv.predict(X_test)\n",
    "\n",
    "print('Best alpha value is: {}'.format(lasso_cv.alpha_))\n",
    "print('R-squared of the model in training set is: {}'.format(lasso_cv.score(X_train, y_train)))\n",
    "print('-----Test set statistics-----')\n",
    "print('R-squared of the model in test set is: {}'.format(lasso_cv.score(X_test, y_test)))\n",
    "print('Mean absolute error of the prediction is: {}'.format(mean_absolute_error(y_test, y_preds_test)))\n",
    "print('Mean squared error of the prediction is: {}'.format(mse(y_test, y_preds_test)))\n",
    "print('Root mean squared error of the prediction is: {}'.format(rmse(y_test, y_preds_test)))\n",
    "print('Mean absolute percentage error of the prediction is: {}'.format(np.mean(np.abs((y_test - y_preds_test) / y_test)) * 100))"
   ]
  },
  {
   "cell_type": "code",
   "execution_count": 8,
   "metadata": {},
   "outputs": [
    {
     "name": "stdout",
     "output_type": "stream",
     "text": [
      "Best alpha value is: 1.0\n",
      "R-squared of the model in training set is: 0.8316364867222636\n",
      "-----Test set statistics-----\n",
      "R-squared of the model in test set is: 0.8203050076234277\n",
      "Mean absolute error of the prediction is: 0.12673637339741065\n",
      "Mean squared error of the prediction is: 0.029963358092979\n",
      "Root mean squared error of the prediction is: 0.1730992723640946\n",
      "Mean absolute percentage error of the prediction is: 1.059694123031067\n"
     ]
    }
   ],
   "source": [
    "ridge_cv = RidgeCV(alphas=alphas, cv=5)\n",
    "\n",
    "ridge_cv.fit(X_train, y_train)\n",
    "\n",
    "# Predictions\n",
    "y_preds_train = ridge_cv.predict(X_train)\n",
    "y_preds_test = ridge_cv.predict(X_test)\n",
    "\n",
    "print('Best alpha value is: {}'.format(ridge_cv.alpha_))\n",
    "print('R-squared of the model in training set is: {}'.format(ridge_cv.score(X_train, y_train)))\n",
    "print('-----Test set statistics-----')\n",
    "print('R-squared of the model in test set is: {}'.format(ridge_cv.score(X_test, y_test)))\n",
    "print('Mean absolute error of the prediction is: {}'.format(mean_absolute_error(y_test, y_preds_test)))\n",
    "print('Mean squared error of the prediction is: {}'.format(mse(y_test, y_preds_test)))\n",
    "print('Root mean squared error of the prediction is: {}'.format(rmse(y_test, y_preds_test)))\n",
    "print('Mean absolute percentage error of the prediction is: {}'.format(np.mean(np.abs((y_test - y_preds_test) / y_test)) * 100))"
   ]
  },
  {
   "cell_type": "code",
   "execution_count": 10,
   "metadata": {},
   "outputs": [
    {
     "name": "stdout",
     "output_type": "stream",
     "text": [
      "Best alpha value is: 0.001\n",
      "R-squared of the model in training set is: 0.8299654806803801\n",
      "-----Test set statistics-----\n",
      "R-squared of the model in test set is: 0.8149185869526185\n",
      "Mean absolute error of the prediction is: 0.12770726087011364\n",
      "Mean squared error of the prediction is: 0.03086152030253383\n",
      "Root mean squared error of the prediction is: 0.1756744725409296\n",
      "Mean absolute percentage error of the prediction is: 1.068544489730312\n"
     ]
    }
   ],
   "source": [
    "elasticnet_cv = ElasticNetCV(alphas=alphas, cv=5)\n",
    "\n",
    "elasticnet_cv.fit(X_train, y_train)\n",
    "\n",
    "# Predictions\n",
    "y_preds_train = elasticnet_cv.predict(X_train)\n",
    "y_preds_test = elasticnet_cv.predict(X_test)\n",
    "\n",
    "print('Best alpha value is: {}'.format(elasticnet_cv.alpha_))\n",
    "print('R-squared of the model in training set is: {}'.format(elasticnet_cv.score(X_train, y_train)))\n",
    "print('-----Test set statistics-----')\n",
    "print('R-squared of the model in test set is: {}'.format(elasticnet_cv.score(X_test, y_test)))\n",
    "print('Mean absolute error of the prediction is: {}'.format(mean_absolute_error(y_test, y_preds_test)))\n",
    "print('Mean squared error of the prediction is: {}'.format(mse(y_test, y_preds_test)))\n",
    "print('Root mean squared error of the prediction is: {}'.format(rmse(y_test, y_preds_test)))\n",
    "print('Mean absolute percentage error of the prediction is: {}'.format(np.mean(np.abs((y_test - y_preds_test) / y_test)) * 100))"
   ]
  },
  {
   "cell_type": "markdown",
   "metadata": {},
   "source": [
    "OLS looks to be the best model according to the results of the tests run."
   ]
  },
  {
   "cell_type": "code",
   "execution_count": null,
   "metadata": {},
   "outputs": [],
   "source": []
  }
 ],
 "metadata": {
  "kernelspec": {
   "display_name": "Python 3",
   "language": "python",
   "name": "python3"
  },
  "language_info": {
   "codemirror_mode": {
    "name": "ipython",
    "version": 3
   },
   "file_extension": ".py",
   "mimetype": "text/x-python",
   "name": "python",
   "nbconvert_exporter": "python",
   "pygments_lexer": "ipython3",
   "version": "3.8.2"
  }
 },
 "nbformat": 4,
 "nbformat_minor": 4
}
